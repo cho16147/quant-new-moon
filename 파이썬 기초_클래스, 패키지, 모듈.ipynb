{
 "cells": [
  {
   "cell_type": "raw",
   "id": "61e39478-bf24-4b67-ace3-a8c6ef7775b3",
   "metadata": {},
   "source": [
    "클래스는 이해하기 어렵다. 클래스를 안쓰고도 프로그램 개발 가능하며, 이 개념이 아예 없는 언어도 있음(C).\n",
    "다만 클래스를 활용하면 규모가 큰 프로그램을 효율적으로 구현하는데 도움이 됨. \n",
    "특히 데이터 분석에 필요한 패키지(넘파이, 판다스 등)은 클래스를 사용한다.\n",
    "\n",
    "클래스는 객체를 만드는 틀이며, 클래스라는 틀로 만든 객체를 인스턴스라고 한다."
   ]
  },
  {
   "cell_type": "code",
   "execution_count": 3,
   "id": "2a65dc68-ba17-46f2-a3db-96f5b36cb679",
   "metadata": {},
   "outputs": [
    {
     "name": "stdout",
     "output_type": "stream",
     "text": [
      "<class '__main__.Ourclass'>\n",
      "<class '__main__.Ourclass'>\n"
     ]
    }
   ],
   "source": [
    "class Ourclass:\n",
    "    pass\n",
    "a = Ourclass()\n",
    "b = Ourclass()\n",
    "print(type(a))\n",
    "print(type(b))  # 클래스가 만들어내는 인스턴스는 모두 그 클래스의 자료형이 된다."
   ]
  },
  {
   "cell_type": "code",
   "execution_count": 4,
   "id": "2e066d49-f65b-4d12-9d82-773f8f5f5363",
   "metadata": {},
   "outputs": [
    {
     "name": "stdout",
     "output_type": "stream",
     "text": [
      "<class 'pandas.core.frame.DataFrame'>\n",
      "<class 'int'>\n"
     ]
    }
   ],
   "source": [
    "import pandas as pd\n",
    "df = pd.DataFrame() # DataFrame이라는 클래스를 이용해서 생성한 인스턴스를 df라는 변수에 저장함.\n",
    "x=1\n",
    "\n",
    "print(type(df))\n",
    "print(type(x))"
   ]
  },
  {
   "cell_type": "code",
   "execution_count": 6,
   "id": "bf94f6e4-a334-47ae-9cea-edc3350836d1",
   "metadata": {},
   "outputs": [
    {
     "name": "stdout",
     "output_type": "stream",
     "text": [
      "삼성전자 코스피\n"
     ]
    }
   ],
   "source": [
    "class Stock: # 클래스 선언\n",
    "    def __init__(self, name, market = \"코스피\"): # 객체의 특성, 즉 속성(attribute)를 만드는 생성자가 __init__함수이다. 단 클래스 내부의 함수를 메서드라 함.\n",
    "        self.name = name # 속성 정의 1\n",
    "        self.market = market # 속성 정의 2, 입력값 없으면 기본값 코스피 입력됨.\n",
    "# self는 클래스에서 생성하는 인스턴스 자기 자신을 가리킴.\n",
    "\n",
    "samsung = Stock(\"삼성전자\", \"코스피\") # 객체 생성\n",
    "print(samsung.name, samsung.market)"
   ]
  },
  {
   "cell_type": "code",
   "execution_count": 8,
   "id": "f75e209e-16f6-422f-8b15-8abd728d5028",
   "metadata": {},
   "outputs": [
    {
     "name": "stdout",
     "output_type": "stream",
     "text": [
      "None\n",
      "15\n",
      "15\n",
      "10\n"
     ]
    }
   ],
   "source": [
    "class Calculator: # add_ver1과 add_ver2라는 메서드를 갖는 Calculator라는 클래스 정의. 메서드란 클래스 내부에서 정의된 함수.\n",
    "    def __init__(self, value): # 객체가 생성될 때 자동으로 실행되는 함수(생성자).\n",
    "        self.value = value\n",
    "    def add_ver1(self, input_value): # 메서드 정의 1\n",
    "        self.value += input_value\n",
    "    def add_ver2(self, input_value): # 메서드 정의 2 \n",
    "        return self.value + input_value\n",
    "\n",
    "a= Calculator(10)\n",
    "b= Calculator(10)\n",
    "print(a.add_ver1(5)) # ver1 메서드는 return이 없으므로 None이 반환됨.\n",
    "print(b.add_ver2(5)) # ver2 메서드는 10+5를 반환한다.\n",
    "print(a.value) # ver1 메서드는 속성을 업데이트한다.\n",
    "print(b.value) # ver2 메서드는 속성 업데이트 없이 합을 반환하고 끝."
   ]
  },
  {
   "cell_type": "raw",
   "id": "5780f897-ff6a-4fc1-a914-b37a2f6cff46",
   "metadata": {},
   "source": [
    "모듈은 클래스와 함수의 집합인 파이썬 파일이다.\n",
    "패키지는 여러 모듈의 집합이다."
   ]
  },
  {
   "cell_type": "code",
   "execution_count": 10,
   "id": "cbcea863-6cc4-4a8c-ac85-10801901421a",
   "metadata": {},
   "outputs": [
    {
     "name": "stdout",
     "output_type": "stream",
     "text": [
      "2.0\n"
     ]
    }
   ],
   "source": [
    "import math # math 불러오기\n",
    "print(math.sqrt(4)) # math 내 squrt 함수 사용"
   ]
  },
  {
   "cell_type": "code",
   "execution_count": 11,
   "id": "67003b0e-af3d-408b-96d0-b5bdb61d55ae",
   "metadata": {},
   "outputs": [
    {
     "name": "stdout",
     "output_type": "stream",
     "text": [
      "2.0\n"
     ]
    }
   ],
   "source": [
    "import math as M\n",
    "print(M.sqrt(4))"
   ]
  },
  {
   "cell_type": "code",
   "execution_count": 16,
   "id": "b0637be8-8ffc-477e-9609-b9a002601e4f",
   "metadata": {},
   "outputs": [
    {
     "name": "stdout",
     "output_type": "stream",
     "text": [
      "2.0\n",
      "0.0\n"
     ]
    }
   ],
   "source": [
    "from math import sqrt, sin\n",
    "print(sqrt(4))\n",
    "print(sin(0))"
   ]
  },
  {
   "cell_type": "code",
   "execution_count": 17,
   "id": "490d4d70-c7af-4ffd-a210-b44b9487962c",
   "metadata": {},
   "outputs": [
    {
     "data": {
      "text/plain": [
       "<function scipy.spatial.distance.cdist(XA, XB, metric='euclidean', *, out=None, **kwargs)>"
      ]
     },
     "execution_count": 17,
     "metadata": {},
     "output_type": "execute_result"
    }
   ],
   "source": [
    "from scipy.spatial.distance import cdist\n",
    "cdist"
   ]
  },
  {
   "cell_type": "code",
   "execution_count": 18,
   "id": "4b654df9-0b0d-43dc-b72f-449172c80255",
   "metadata": {},
   "outputs": [
    {
     "data": {
      "text/plain": [
       "<function scipy.spatial.distance.cdist(XA, XB, metric='euclidean', *, out=None, **kwargs)>"
      ]
     },
     "execution_count": 18,
     "metadata": {},
     "output_type": "execute_result"
    }
   ],
   "source": [
    "from scipy import spatial\n",
    "spatial.distance.cdist"
   ]
  },
  {
   "cell_type": "raw",
   "id": "1f25131e-66a0-4095-8b27-4b038fd0503a",
   "metadata": {},
   "source": [
    "예외 처리. \n",
    "상황에 따라 프로그램을 중단하지 않고, 다음 코드가 실행되거나 오류가 발생한 부분을 재실행하는게 더 나을 수 있다.\n",
    "만약 프로그램을 중단해버리면 데이터 수집을 처음부터 해야 하는 경우."
   ]
  },
  {
   "cell_type": "code",
   "execution_count": 20,
   "id": "42a4cbf8-f1a8-4dfb-8e0c-de7d71859b14",
   "metadata": {},
   "outputs": [
    {
     "name": "stdout",
     "output_type": "stream",
     "text": [
      "0으로 나눌 수 없습니다.\n"
     ]
    }
   ],
   "source": [
    "try:\n",
    "    a= 5/0\n",
    "    print(a)\n",
    "except:\n",
    "    print(\"0으로 나눌 수 없습니다.\")\n"
   ]
  },
  {
   "cell_type": "code",
   "execution_count": null,
   "id": "90fa4673-f2f6-4f58-b264-c7d267a28f82",
   "metadata": {},
   "outputs": [],
   "source": []
  }
 ],
 "metadata": {
  "kernelspec": {
   "display_name": "Python 3 (ipykernel)",
   "language": "python",
   "name": "python3"
  },
  "language_info": {
   "codemirror_mode": {
    "name": "ipython",
    "version": 3
   },
   "file_extension": ".py",
   "mimetype": "text/x-python",
   "name": "python",
   "nbconvert_exporter": "python",
   "pygments_lexer": "ipython3",
   "version": "3.12.7"
  }
 },
 "nbformat": 4,
 "nbformat_minor": 5
}
