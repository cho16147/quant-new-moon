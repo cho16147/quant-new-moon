{
 "cells": [
  {
   "cell_type": "markdown",
   "id": "805ea7ef-9da3-4f67-b628-12af92925246",
   "metadata": {},
   "source": [
    "리퀘스트 모듈은 웹 페이지 소스를 불러오는데 사용한다.<br>\n",
    "뷰티풀수프 모듈은 페이지 소스를 파싱하는데 사용한다.<br>\n",
    "HTML 같은 지저분하고 복잡한 문서 구조를 깔끔하게 걸러서 먹을 수 있는 수프처럼 정제하겠다는 의미. \"HTML을 잘 우려낸 멋진 수프.\""
   ]
  },
  {
   "cell_type": "code",
   "execution_count": 17,
   "id": "b5e7ce79-321c-439d-80fe-8bbb21c94bba",
   "metadata": {},
   "outputs": [
    {
     "name": "stdout",
     "output_type": "stream",
     "text": [
      "<class 'requests.models.Response'>\n",
      "200\n"
     ]
    }
   ],
   "source": [
    "# 리퀘스트 모듈은 웹 페이지 소스를 불러오는데 쓰이며, 관련 함수는 get 포함 7가지 정도이다.\n",
    "# User-Agnet는 웹 브라우저나 프로그램이 웹 서버에 요청을 보낼 때, 접속 환경을 알려주는 문자열이다.\n",
    "\n",
    "import requests\n",
    "url = \"https://www.hankyung.com/economy/macro\"\n",
    "agent = \"Mozilla/5.0 (Windows NT 10.0; Win64; x64) AppleWebKit/537.36 (KHTML, like Gecko) Chrome/134.0.0.0 Safari/537.36\"\n",
    "response = requests.get(url = url, headers = {\"User-Agent\": agent}) \n",
    "# 지정한 url로 HTTP GET 요청을 보내면서 User-Agent도 같이 전달.\n",
    "# requests.get()은 HTTP 요청을 보내고, 그 결과로 Response라는 클래스의 인스턴스(객체)를 반환한다.\n",
    "print(type(response))\n",
    "print(response.status_code)"
   ]
  },
  {
   "cell_type": "markdown",
   "id": "98caa21c-6aa7-441f-9eb7-c838367d8926",
   "metadata": {},
   "source": [
    "response = requests.get(url = url, headers = {\"User_Agent\": agent})<br> \n",
    "Response는 requests.models.Response 클래스에서 만들어낸 객체이고, 나는 이 객체를 response라는 변수에 저장한다.<br> .text나 .contet는 이 객체가 제공하는 속성이다.<br><br>\n",
    "\n",
    "**OOP(Object Oriented Programming)** <br>\n",
    "클래스(Class): 설계도. ('자동차'를 만드는 설계도.)<br>\n",
    "객체(Object): 클래스에서 찍어낸 실문 제품. (설계도를 기반으로 만들어진 실제 자동차.)<br>\n",
    "속성(Attribute, Property): 객체가 가진 데이터. 괄호를 안붙이면 대부분 속성이다. (자동차의 색상, 연료량 등.)<br>\n",
    "메서드(Method): 객체가 할 수 있는 행동. 즉, 함수처럼 동작하는 것. 괄호를 붙이면 대부분 메서드다. (자동차의 주행, 정지 등)"
   ]
  },
  {
   "cell_type": "code",
   "execution_count": 18,
   "id": "54df7391-a4f0-4fdf-950c-d19b229675c7",
   "metadata": {},
   "outputs": [
    {
     "name": "stdout",
     "output_type": "stream",
     "text": [
      "<!DOCTYPE html>\n",
      "<html lang=\"ko\">\n",
      "<head>\n",
      "<title>거시경제 뉴스 | 한국경제</title>\n",
      "<link rel=\"alternate\" type=\"application/rss+xml\" href=\"https://www.hankyung.com/feed/\" />\n",
      "<link rel=\"alternate\" type=\"application/\n",
      "========================================================================================================================================================================================================\n",
      "b'<!DOCTYPE html>\\n<html lang=\"ko\">\\n<head>\\n<title>\\xea\\xb1\\xb0\\xec\\x8b\\x9c\\xea\\xb2\\xbd\\xec\\xa0\\x9c \\xeb\\x89\\xb4\\xec\\x8a\\xa4 | \\xed\\x95\\x9c\\xea\\xb5\\xad\\xea\\xb2\\xbd\\xec\\xa0\\x9c</title>\\n<link rel=\"alternate\" type=\"application/rss+xml\" href=\"https://www.hankyung.com/feed/\" />\\n<link rel=\"alternate'\n"
     ]
    }
   ],
   "source": [
    "res_text = response.text # 이스케이프코드가 인식된다. <class \"str\">\n",
    "res_content = response.content # 이스케이프코드가 인식되지 않는다. <class \"bytes\">\n",
    "print(res_text[:200])\n",
    "print('=' * 200)\n",
    "print(res_content[:200])"
   ]
  },
  {
   "cell_type": "code",
   "execution_count": 19,
   "id": "08160098-7ecb-4ab0-bb43-9b35105d84c0",
   "metadata": {},
   "outputs": [
    {
     "name": "stdout",
     "output_type": "stream",
     "text": [
      "<class 'bs4.BeautifulSoup'>\n"
     ]
    }
   ],
   "source": [
    "# 뷰티풀수프는 웹 페이지 소스를 나타내는 문자열을 태그 간 관계와 태그의 속성 정보를 반영한 새로운 객체로 반환한다\n",
    "from bs4 import BeautifulSoup as BS\n",
    "parsed_res_text = BS(res_text)\n",
    "print(type(parsed_res_text))"
   ]
  },
  {
   "cell_type": "code",
   "execution_count": 39,
   "id": "1f58b4b3-5a8f-4a2a-9110-df16daba09e2",
   "metadata": {},
   "outputs": [
    {
     "name": "stdout",
     "output_type": "stream",
     "text": [
      "<ul class=\"nav__list\">\n",
      "<li>\n",
      "<a href=\"https://www.hankyung.com/travel\">한경트래블</a>\n",
      "</li>\n",
      "<li>\n",
      "<a href=\"https://www.hankyung.com/newsletter\">뉴스레터</a>\n",
      "</li>\n",
      "<li>\n",
      "<a href=\"https://www.hankyung.com/special-reports\">스페셜 리포트</a>\n",
      "</li>\n",
      "<li>\n",
      "<a href=\"https://www.hankyung.com/thepen/moneyist\">The Moneyist</a>\n",
      "</li>\n",
      "<li>\n",
      "<a href=\"https://www.hankyung.com/thepen/lifeist\">The Lifeist</a>\n",
      "</li>\n",
      "<li>\n",
      "<a href=\"https://www.hankyung.com/video\">한경동영상</a>\n",
      "</li>\n",
      "<li>\n",
      "<a href=\"https://www.hankyung.com/journalist-series\">기자 코너</a>\n",
      "</li>\n",
      "<li>\n",
      "<a href=\"https://www.hankyung.com/poll\">POLL</a>\n",
      "</li>\n",
      "<li>\n",
      "<a href=\"https://www.hankyung.com/ranking\">랭킹뉴스</a>\n",
      "</li>\n",
      "<li>\n",
      "<a href=\"https://www.hankyung.com/people\">인사·부고</a>\n",
      "</li>\n",
      "<li>\n",
      "<a href=\"https://www.hankyung.com/press-release\">보도자료</a>\n",
      "</li>\n",
      "<li>\n",
      "<a href=\"https://datacenter.hankyung.com\">데이터센터</a>\n",
      "</li>\n",
      "<li>\n",
      "<a href=\"https://dic.hankyung.com/\">한경용어사전</a>\n",
      "</li>\n",
      "<li>\n",
      "<a href=\"https://event.hankyung.com\">한경행사</a>\n",
      "</li>\n",
      "</ul>\n"
     ]
    }
   ],
   "source": [
    "# 세 번째 위치의 ul 태그 찾기\n",
    "print(parsed_res_text.find_all(\"ul\")[3])"
   ]
  },
  {
   "cell_type": "code",
   "execution_count": 46,
   "id": "19d74bdb-173e-4236-a774-c7c82febb6fd",
   "metadata": {},
   "outputs": [
    {
     "name": "stdout",
     "output_type": "stream",
     "text": [
      "<h2 class=\"news-tit\">\n",
      "<a data-pm=\"N\" href=\"https://www.hankyung.com/article/2025031809167\">\"없어서 못 산다더니\"…골드바 품귀에도 '1조원' 몰린 곳</a>\n",
      "</h2>\n",
      "<h2 class=\"news-tit\">\n",
      "<a data-pm=\"N\" href=\"https://www.hankyung.com/article/2025031797211\">전남 구제역 확산 조짐…소고기값 다시 오르나</a>\n",
      "</h2>\n"
     ]
    }
   ],
   "source": [
    "# class 속성이 news-tit인 첫 번째 h2 태그 찾기\n",
    "print(parsed_res_text.find(\"h2\", attrs = {\"class\":\"news-tit\"}))\n",
    "# class 속성이 news-tit인 4 번째 h2 태그 찾기\n",
    "print(parsed_res_text.find_all(\"h2\", attrs={\"class\": \"news-tit\"})[3])"
   ]
  },
  {
   "cell_type": "code",
   "execution_count": 57,
   "id": "2ae89c97-32d9-40e5-8b2f-19b653fa2dd4",
   "metadata": {},
   "outputs": [
    {
     "name": "stdout",
     "output_type": "stream",
     "text": [
      "[<a class=\"nav-link\" href=\"https://www.hankyung.com/koreamarket\">한경코리아마켓</a>]\n"
     ]
    }
   ],
   "source": [
    "# 내용이 \"한경코리아마켓\"인 모든 a 태그 찾기\n",
    "print(parsed_res_text.find_all(\"a\", string=\"한경코리아마켓\"))"
   ]
  },
  {
   "cell_type": "code",
   "execution_count": 85,
   "id": "c8a542c6-899e-475d-b7cb-6ef4fa8015db",
   "metadata": {},
   "outputs": [
    {
     "name": "stdout",
     "output_type": "stream",
     "text": [
      "<class 'bs4.element.Tag'>\n",
      "<h2 class=\"news-tit\">\n",
      "<a data-pm=\"N\" href=\"https://www.hankyung.com/article/2025031809167\">\"없어서 못 산다더니\"…골드바 품귀에도 '1조원' 몰린 곳</a>\n",
      "</h2>\n",
      "<a data-pm=\"N\" href=\"https://www.hankyung.com/article/2025031809167\">\"없어서 못 산다더니\"…골드바 품귀에도 '1조원' 몰린 곳</a>\n"
     ]
    }
   ],
   "source": [
    "# 한경 매크로 페이지에서 class가 \"news-tit\"인 h2 태그 가져오기                                             \n",
    "h2_tag = parsed_res_text.find(\"h2\", attrs={\"class\": \"news-tit\"})\n",
    "print(type(h2_tag))\n",
    "\n",
    "print(h2_tag)\n",
    "print(h2_tag.a)\n",
    "# h2_tag만 출력하면 <h2> 태그 전체가 나오고, h2_tag.a를 하면 h2 태그 안에 있는 첫 번째 <a> 태그만 가져온다."
   ]
  },
  {
   "cell_type": "code",
   "execution_count": 76,
   "id": "6d3b2ccd-f874-44e5-ac51-1ca8f578ce8e",
   "metadata": {},
   "outputs": [
    {
     "name": "stdout",
     "output_type": "stream",
     "text": [
      "<a data-pm=\"N\" href=\"https://www.hankyung.com/article/2025031809167\">\"없어서 못 산다더니\"…골드바 품귀에도 '1조원' 몰린 곳</a>\n",
      "\"없어서 못 산다더니\"…골드바 품귀에도 '1조원' 몰린 곳\n"
     ]
    }
   ],
   "source": [
    "# h2 안의 a 태그를 다시 한 번 find로 가져오기\n",
    "news_title = h2_tag.find(\"a\")\n",
    "print(news_title)\n",
    "print(news_title.get_text(strip=True))  # 텍스트만 출력, strip은 문자열 앞뒤 공백 정리해준다."
   ]
  },
  {
   "cell_type": "code",
   "execution_count": 73,
   "id": "e5f7e444-c047-487b-b82b-a0c00a646458",
   "metadata": {},
   "outputs": [
    {
     "name": "stdout",
     "output_type": "stream",
     "text": [
      "https://www.hankyung.com/article/2025031809167\n"
     ]
    }
   ],
   "source": [
    "print(news_title[\"href\"])"
   ]
  },
  {
   "cell_type": "code",
   "execution_count": 98,
   "id": "c49041f8-a01c-41d3-88fb-3ca8c3c939aa",
   "metadata": {},
   "outputs": [
    {
     "data": {
      "text/html": [
       "<div>\n",
       "<style scoped>\n",
       "    .dataframe tbody tr th:only-of-type {\n",
       "        vertical-align: middle;\n",
       "    }\n",
       "\n",
       "    .dataframe tbody tr th {\n",
       "        vertical-align: top;\n",
       "    }\n",
       "\n",
       "    .dataframe thead th {\n",
       "        text-align: right;\n",
       "    }\n",
       "</style>\n",
       "<table border=\"1\" class=\"dataframe\">\n",
       "  <thead>\n",
       "    <tr style=\"text-align: right;\">\n",
       "      <th></th>\n",
       "      <th>뉴스제목</th>\n",
       "      <th>날짜</th>\n",
       "      <th>링크</th>\n",
       "    </tr>\n",
       "  </thead>\n",
       "  <tbody>\n",
       "    <tr>\n",
       "      <th>0</th>\n",
       "      <td>\"없어서 못 산다더니\"…골드바 품귀에도 '1조원' 몰린 곳</td>\n",
       "      <td>2025.03.18 10:14</td>\n",
       "      <td>https://www.hankyung.com/article/2025031809167</td>\n",
       "    </tr>\n",
       "    <tr>\n",
       "      <th>1</th>\n",
       "      <td>韓 성장률 하향폭, 멕시코·加 다음으로 컸다</td>\n",
       "      <td>2025.03.17 19:55</td>\n",
       "      <td>https://www.hankyung.com/article/2025031799651</td>\n",
       "    </tr>\n",
       "    <tr>\n",
       "      <th>2</th>\n",
       "      <td>커지는 'R의 공포'…OECD, 韓 성장률 2.1→1.5%로 하향</td>\n",
       "      <td>2025.03.17 19:00</td>\n",
       "      <td>https://www.hankyung.com/article/202503179250i</td>\n",
       "    </tr>\n",
       "    <tr>\n",
       "      <th>3</th>\n",
       "      <td>전남 구제역 확산 조짐…소고기값 다시 오르나</td>\n",
       "      <td>2025.03.17 17:44</td>\n",
       "      <td>https://www.hankyung.com/article/2025031797211</td>\n",
       "    </tr>\n",
       "    <tr>\n",
       "      <th>4</th>\n",
       "      <td>韓기업 주주환원 '세계 최하위'</td>\n",
       "      <td>2025.03.17 17:42</td>\n",
       "      <td>https://www.hankyung.com/article/2025031797201</td>\n",
       "    </tr>\n",
       "    <tr>\n",
       "      <th>5</th>\n",
       "      <td>김이동 \"올 M&amp;A 시장에선 'S·E·D·E·N' 관련 산업을 주목해야\"</td>\n",
       "      <td>2025.03.17 15:52</td>\n",
       "      <td>https://www.hankyung.com/article/2025031779281</td>\n",
       "    </tr>\n",
       "    <tr>\n",
       "      <th>6</th>\n",
       "      <td>매출 500억 공장 설비 엔지니어링 기업 매물로</td>\n",
       "      <td>2025.03.17 15:51</td>\n",
       "      <td>https://www.hankyung.com/article/2025031779301</td>\n",
       "    </tr>\n",
       "    <tr>\n",
       "      <th>7</th>\n",
       "      <td>못 하나 없이 나무로 엮었다…'그랜드 링' 위 걸으며 전시관 한눈에</td>\n",
       "      <td>2025.03.16 17:43</td>\n",
       "      <td>https://www.hankyung.com/article/2025031671391</td>\n",
       "    </tr>\n",
       "    <tr>\n",
       "      <th>8</th>\n",
       "      <td>엑스포 초반 방문땐 티켓 '반값'</td>\n",
       "      <td>2025.03.16 17:38</td>\n",
       "      <td>https://www.hankyung.com/article/2025031671371</td>\n",
       "    </tr>\n",
       "    <tr>\n",
       "      <th>9</th>\n",
       "      <td>한국관, 미래·친환경·K팝 테마…미디어 파사드로 시선 사로잡아</td>\n",
       "      <td>2025.03.16 17:37</td>\n",
       "      <td>https://www.hankyung.com/article/2025031671351</td>\n",
       "    </tr>\n",
       "  </tbody>\n",
       "</table>\n",
       "</div>"
      ],
      "text/plain": [
       "                                       뉴스제목                날짜  \\\n",
       "0          \"없어서 못 산다더니\"…골드바 품귀에도 '1조원' 몰린 곳  2025.03.18 10:14   \n",
       "1                  韓 성장률 하향폭, 멕시코·加 다음으로 컸다  2025.03.17 19:55   \n",
       "2      커지는 'R의 공포'…OECD, 韓 성장률 2.1→1.5%로 하향  2025.03.17 19:00   \n",
       "3                  전남 구제역 확산 조짐…소고기값 다시 오르나  2025.03.17 17:44   \n",
       "4                         韓기업 주주환원 '세계 최하위'  2025.03.17 17:42   \n",
       "5  김이동 \"올 M&A 시장에선 'S·E·D·E·N' 관련 산업을 주목해야\"  2025.03.17 15:52   \n",
       "6                매출 500억 공장 설비 엔지니어링 기업 매물로  2025.03.17 15:51   \n",
       "7     못 하나 없이 나무로 엮었다…'그랜드 링' 위 걸으며 전시관 한눈에  2025.03.16 17:43   \n",
       "8                        엑스포 초반 방문땐 티켓 '반값'  2025.03.16 17:38   \n",
       "9        한국관, 미래·친환경·K팝 테마…미디어 파사드로 시선 사로잡아  2025.03.16 17:37   \n",
       "\n",
       "                                               링크  \n",
       "0  https://www.hankyung.com/article/2025031809167  \n",
       "1  https://www.hankyung.com/article/2025031799651  \n",
       "2  https://www.hankyung.com/article/202503179250i  \n",
       "3  https://www.hankyung.com/article/2025031797211  \n",
       "4  https://www.hankyung.com/article/2025031797201  \n",
       "5  https://www.hankyung.com/article/2025031779281  \n",
       "6  https://www.hankyung.com/article/2025031779301  \n",
       "7  https://www.hankyung.com/article/2025031671391  \n",
       "8  https://www.hankyung.com/article/2025031671371  \n",
       "9  https://www.hankyung.com/article/2025031671351  "
      ]
     },
     "metadata": {},
     "output_type": "display_data"
    }
   ],
   "source": [
    "import pandas as pd\n",
    "\n",
    "news_title_list = []\n",
    "news_date_list = []\n",
    "news_link_list = []\n",
    "container = parsed_res_text.find_all(\"div\", attrs={\"class\":\"text-cont\"})\n",
    "\n",
    "for ct in container:\n",
    "    news_title_tag = ct.find(\"h2\", attrs={\"class\": \"news-tit\"})\n",
    "    news_date_tag = ct.find(\"p\", attrs = {\"class\":\"txt-date\"})\n",
    "\n",
    "    news_title = news_title_tag.text.strip()\n",
    "    news_date = news_date_tag.text\n",
    "    news_link = ct.find(\"a\")[\"href\"]\n",
    "\n",
    "    news_title_list.append(news_title)\n",
    "    news_date_list.append(news_date)\n",
    "    news_link_list.append(news_link)\n",
    "\n",
    "data = pd.DataFrame({\"뉴스제목\":news_title_list,\n",
    "                     \"날짜\":news_date_list,\n",
    "                     \"링크\":news_link_list})\n",
    "display(data.head(10))"
   ]
  }
 ],
 "metadata": {
  "kernelspec": {
   "display_name": "Python 3 (ipykernel)",
   "language": "python",
   "name": "python3"
  },
  "language_info": {
   "codemirror_mode": {
    "name": "ipython",
    "version": 3
   },
   "file_extension": ".py",
   "mimetype": "text/x-python",
   "name": "python",
   "nbconvert_exporter": "python",
   "pygments_lexer": "ipython3",
   "version": "3.12.3"
  }
 },
 "nbformat": 4,
 "nbformat_minor": 5
}
