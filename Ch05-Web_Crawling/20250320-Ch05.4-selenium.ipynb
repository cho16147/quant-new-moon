{
 "cells": [
  {
   "cell_type": "markdown",
   "id": "172b92d7-37ea-47d1-8056-ba3289b56ff5",
   "metadata": {},
   "source": [
    "셀레니움을 사용하면 로그인이 필요하거나 동적 웹페이지로 구성된 웹사이트 등<br>\n",
    "리퀘스트 모듈만으로는 크롤링하기 어려운 웹 사이트를 크롤링할 수 있다.<br>\n",
    "pip install selenium"
   ]
  },
  {
   "cell_type": "code",
   "execution_count": 1,
   "id": "1896b39c-1af0-45f0-8ed9-9bd24b6ab829",
   "metadata": {},
   "outputs": [],
   "source": [
    "import selenium\n",
    "import os\n",
    "from selenium import webdriver\n",
    "from selenium.webdriver.chrome.service import Service\n",
    "\n",
    "base_dir = os.path.dirname(os.getcwd())\n",
    "file_path = os.path.join(base_dir, \"chromedriver.exe\")\n",
    "service = Service(file_path)\n",
    "driver = webdriver.Chrome(service=service)\n",
    "\n",
    "# Selenium 4.x 부터는 Driverervice 클래스를 명시적으로 적어줘야 함.\n",
    "# Service(file_path)를 통해 크롬 드라이브를 실행하는 서비스 객체를 만들고, \n",
    "# webdriver.Chrome(service=service) 형태로 넘겨준다. "
   ]
  },
  {
   "cell_type": "code",
   "execution_count": 2,
   "id": "f4712e10-0158-4918-aa26-4f9877060e7b",
   "metadata": {},
   "outputs": [],
   "source": [
    "# 셀레니움으로 실행한 크롬이 네이버뉴스로 이동함.\n",
    "url = \"https://news.naver.com/section/101\"\n",
    "driver.get(url)\n",
    "driver.implicitly_wait(5) # 페이지가 로드될 때까지 드라이버를 최대 5초동안 멈춤."
   ]
  },
  {
   "cell_type": "code",
   "execution_count": 3,
   "id": "78308adc-6d7e-43c1-ba43-e8bf9dec1bf8",
   "metadata": {},
   "outputs": [
    {
     "name": "stdout",
     "output_type": "stream",
     "text": [
      "[<selenium.webdriver.remote.webelement.WebElement (session=\"c5af8e42792a62f681dc4f76cb05d30c\", element=\"f.2406D94A5073AFC3F64CCB56A3F45506.d.AC864BFBC4AC2854812EC4537CEC82B0.e.80\")>, <selenium.webdriver.remote.webelement.WebElement (session=\"c5af8e42792a62f681dc4f76cb05d30c\", element=\"f.2406D94A5073AFC3F64CCB56A3F45506.d.AC864BFBC4AC2854812EC4537CEC82B0.e.81\")>, <selenium.webdriver.remote.webelement.WebElement (session=\"c5af8e42792a62f681dc4f76cb05d30c\", element=\"f.2406D94A5073AFC3F64CCB56A3F45506.d.AC864BFBC4AC2854812EC4537CEC82B0.e.82\")>, <selenium.webdriver.remote.webelement.WebElement (session=\"c5af8e42792a62f681dc4f76cb05d30c\", element=\"f.2406D94A5073AFC3F64CCB56A3F45506.d.AC864BFBC4AC2854812EC4537CEC82B0.e.83\")>, <selenium.webdriver.remote.webelement.WebElement (session=\"c5af8e42792a62f681dc4f76cb05d30c\", element=\"f.2406D94A5073AFC3F64CCB56A3F45506.d.AC864BFBC4AC2854812EC4537CEC82B0.e.84\")>, <selenium.webdriver.remote.webelement.WebElement (session=\"c5af8e42792a62f681dc4f76cb05d30c\", element=\"f.2406D94A5073AFC3F64CCB56A3F45506.d.AC864BFBC4AC2854812EC4537CEC82B0.e.85\")>, <selenium.webdriver.remote.webelement.WebElement (session=\"c5af8e42792a62f681dc4f76cb05d30c\", element=\"f.2406D94A5073AFC3F64CCB56A3F45506.d.AC864BFBC4AC2854812EC4537CEC82B0.e.86\")>, <selenium.webdriver.remote.webelement.WebElement (session=\"c5af8e42792a62f681dc4f76cb05d30c\", element=\"f.2406D94A5073AFC3F64CCB56A3F45506.d.AC864BFBC4AC2854812EC4537CEC82B0.e.87\")>, <selenium.webdriver.remote.webelement.WebElement (session=\"c5af8e42792a62f681dc4f76cb05d30c\", element=\"f.2406D94A5073AFC3F64CCB56A3F45506.d.AC864BFBC4AC2854812EC4537CEC82B0.e.88\")>, <selenium.webdriver.remote.webelement.WebElement (session=\"c5af8e42792a62f681dc4f76cb05d30c\", element=\"f.2406D94A5073AFC3F64CCB56A3F45506.d.AC864BFBC4AC2854812EC4537CEC82B0.e.89\")>, <selenium.webdriver.remote.webelement.WebElement (session=\"c5af8e42792a62f681dc4f76cb05d30c\", element=\"f.2406D94A5073AFC3F64CCB56A3F45506.d.AC864BFBC4AC2854812EC4537CEC82B0.e.90\")>, <selenium.webdriver.remote.webelement.WebElement (session=\"c5af8e42792a62f681dc4f76cb05d30c\", element=\"f.2406D94A5073AFC3F64CCB56A3F45506.d.AC864BFBC4AC2854812EC4537CEC82B0.e.91\")>, <selenium.webdriver.remote.webelement.WebElement (session=\"c5af8e42792a62f681dc4f76cb05d30c\", element=\"f.2406D94A5073AFC3F64CCB56A3F45506.d.AC864BFBC4AC2854812EC4537CEC82B0.e.92\")>, <selenium.webdriver.remote.webelement.WebElement (session=\"c5af8e42792a62f681dc4f76cb05d30c\", element=\"f.2406D94A5073AFC3F64CCB56A3F45506.d.AC864BFBC4AC2854812EC4537CEC82B0.e.93\")>, <selenium.webdriver.remote.webelement.WebElement (session=\"c5af8e42792a62f681dc4f76cb05d30c\", element=\"f.2406D94A5073AFC3F64CCB56A3F45506.d.AC864BFBC4AC2854812EC4537CEC82B0.e.94\")>, <selenium.webdriver.remote.webelement.WebElement (session=\"c5af8e42792a62f681dc4f76cb05d30c\", element=\"f.2406D94A5073AFC3F64CCB56A3F45506.d.AC864BFBC4AC2854812EC4537CEC82B0.e.95\")>, <selenium.webdriver.remote.webelement.WebElement (session=\"c5af8e42792a62f681dc4f76cb05d30c\", element=\"f.2406D94A5073AFC3F64CCB56A3F45506.d.AC864BFBC4AC2854812EC4537CEC82B0.e.96\")>, <selenium.webdriver.remote.webelement.WebElement (session=\"c5af8e42792a62f681dc4f76cb05d30c\", element=\"f.2406D94A5073AFC3F64CCB56A3F45506.d.AC864BFBC4AC2854812EC4537CEC82B0.e.97\")>, <selenium.webdriver.remote.webelement.WebElement (session=\"c5af8e42792a62f681dc4f76cb05d30c\", element=\"f.2406D94A5073AFC3F64CCB56A3F45506.d.AC864BFBC4AC2854812EC4537CEC82B0.e.98\")>, <selenium.webdriver.remote.webelement.WebElement (session=\"c5af8e42792a62f681dc4f76cb05d30c\", element=\"f.2406D94A5073AFC3F64CCB56A3F45506.d.AC864BFBC4AC2854812EC4537CEC82B0.e.99\")>, <selenium.webdriver.remote.webelement.WebElement (session=\"c5af8e42792a62f681dc4f76cb05d30c\", element=\"f.2406D94A5073AFC3F64CCB56A3F45506.d.AC864BFBC4AC2854812EC4537CEC82B0.e.100\")>, <selenium.webdriver.remote.webelement.WebElement (session=\"c5af8e42792a62f681dc4f76cb05d30c\", element=\"f.2406D94A5073AFC3F64CCB56A3F45506.d.AC864BFBC4AC2854812EC4537CEC82B0.e.101\")>, <selenium.webdriver.remote.webelement.WebElement (session=\"c5af8e42792a62f681dc4f76cb05d30c\", element=\"f.2406D94A5073AFC3F64CCB56A3F45506.d.AC864BFBC4AC2854812EC4537CEC82B0.e.102\")>, <selenium.webdriver.remote.webelement.WebElement (session=\"c5af8e42792a62f681dc4f76cb05d30c\", element=\"f.2406D94A5073AFC3F64CCB56A3F45506.d.AC864BFBC4AC2854812EC4537CEC82B0.e.103\")>, <selenium.webdriver.remote.webelement.WebElement (session=\"c5af8e42792a62f681dc4f76cb05d30c\", element=\"f.2406D94A5073AFC3F64CCB56A3F45506.d.AC864BFBC4AC2854812EC4537CEC82B0.e.104\")>, <selenium.webdriver.remote.webelement.WebElement (session=\"c5af8e42792a62f681dc4f76cb05d30c\", element=\"f.2406D94A5073AFC3F64CCB56A3F45506.d.AC864BFBC4AC2854812EC4537CEC82B0.e.105\")>, <selenium.webdriver.remote.webelement.WebElement (session=\"c5af8e42792a62f681dc4f76cb05d30c\", element=\"f.2406D94A5073AFC3F64CCB56A3F45506.d.AC864BFBC4AC2854812EC4537CEC82B0.e.106\")>, <selenium.webdriver.remote.webelement.WebElement (session=\"c5af8e42792a62f681dc4f76cb05d30c\", element=\"f.2406D94A5073AFC3F64CCB56A3F45506.d.AC864BFBC4AC2854812EC4537CEC82B0.e.107\")>, <selenium.webdriver.remote.webelement.WebElement (session=\"c5af8e42792a62f681dc4f76cb05d30c\", element=\"f.2406D94A5073AFC3F64CCB56A3F45506.d.AC864BFBC4AC2854812EC4537CEC82B0.e.108\")>, <selenium.webdriver.remote.webelement.WebElement (session=\"c5af8e42792a62f681dc4f76cb05d30c\", element=\"f.2406D94A5073AFC3F64CCB56A3F45506.d.AC864BFBC4AC2854812EC4537CEC82B0.e.109\")>, <selenium.webdriver.remote.webelement.WebElement (session=\"c5af8e42792a62f681dc4f76cb05d30c\", element=\"f.2406D94A5073AFC3F64CCB56A3F45506.d.AC864BFBC4AC2854812EC4537CEC82B0.e.110\")>, <selenium.webdriver.remote.webelement.WebElement (session=\"c5af8e42792a62f681dc4f76cb05d30c\", element=\"f.2406D94A5073AFC3F64CCB56A3F45506.d.AC864BFBC4AC2854812EC4537CEC82B0.e.111\")>, <selenium.webdriver.remote.webelement.WebElement (session=\"c5af8e42792a62f681dc4f76cb05d30c\", element=\"f.2406D94A5073AFC3F64CCB56A3F45506.d.AC864BFBC4AC2854812EC4537CEC82B0.e.112\")>, <selenium.webdriver.remote.webelement.WebElement (session=\"c5af8e42792a62f681dc4f76cb05d30c\", element=\"f.2406D94A5073AFC3F64CCB56A3F45506.d.AC864BFBC4AC2854812EC4537CEC82B0.e.113\")>, <selenium.webdriver.remote.webelement.WebElement (session=\"c5af8e42792a62f681dc4f76cb05d30c\", element=\"f.2406D94A5073AFC3F64CCB56A3F45506.d.AC864BFBC4AC2854812EC4537CEC82B0.e.114\")>, <selenium.webdriver.remote.webelement.WebElement (session=\"c5af8e42792a62f681dc4f76cb05d30c\", element=\"f.2406D94A5073AFC3F64CCB56A3F45506.d.AC864BFBC4AC2854812EC4537CEC82B0.e.115\")>, <selenium.webdriver.remote.webelement.WebElement (session=\"c5af8e42792a62f681dc4f76cb05d30c\", element=\"f.2406D94A5073AFC3F64CCB56A3F45506.d.AC864BFBC4AC2854812EC4537CEC82B0.e.116\")>, <selenium.webdriver.remote.webelement.WebElement (session=\"c5af8e42792a62f681dc4f76cb05d30c\", element=\"f.2406D94A5073AFC3F64CCB56A3F45506.d.AC864BFBC4AC2854812EC4537CEC82B0.e.117\")>, <selenium.webdriver.remote.webelement.WebElement (session=\"c5af8e42792a62f681dc4f76cb05d30c\", element=\"f.2406D94A5073AFC3F64CCB56A3F45506.d.AC864BFBC4AC2854812EC4537CEC82B0.e.118\")>, <selenium.webdriver.remote.webelement.WebElement (session=\"c5af8e42792a62f681dc4f76cb05d30c\", element=\"f.2406D94A5073AFC3F64CCB56A3F45506.d.AC864BFBC4AC2854812EC4537CEC82B0.e.119\")>, <selenium.webdriver.remote.webelement.WebElement (session=\"c5af8e42792a62f681dc4f76cb05d30c\", element=\"f.2406D94A5073AFC3F64CCB56A3F45506.d.AC864BFBC4AC2854812EC4537CEC82B0.e.120\")>, <selenium.webdriver.remote.webelement.WebElement (session=\"c5af8e42792a62f681dc4f76cb05d30c\", element=\"f.2406D94A5073AFC3F64CCB56A3F45506.d.AC864BFBC4AC2854812EC4537CEC82B0.e.121\")>, <selenium.webdriver.remote.webelement.WebElement (session=\"c5af8e42792a62f681dc4f76cb05d30c\", element=\"f.2406D94A5073AFC3F64CCB56A3F45506.d.AC864BFBC4AC2854812EC4537CEC82B0.e.122\")>, <selenium.webdriver.remote.webelement.WebElement (session=\"c5af8e42792a62f681dc4f76cb05d30c\", element=\"f.2406D94A5073AFC3F64CCB56A3F45506.d.AC864BFBC4AC2854812EC4537CEC82B0.e.123\")>, <selenium.webdriver.remote.webelement.WebElement (session=\"c5af8e42792a62f681dc4f76cb05d30c\", element=\"f.2406D94A5073AFC3F64CCB56A3F45506.d.AC864BFBC4AC2854812EC4537CEC82B0.e.124\")>, <selenium.webdriver.remote.webelement.WebElement (session=\"c5af8e42792a62f681dc4f76cb05d30c\", element=\"f.2406D94A5073AFC3F64CCB56A3F45506.d.AC864BFBC4AC2854812EC4537CEC82B0.e.125\")>]\n"
     ]
    }
   ],
   "source": [
    "# element: 웹 브라우저 상에서 보이는 글, 검색창, 사진 등 모든 요소\n",
    "from selenium.webdriver.common.by import By\n",
    "elements = driver.find_elements(By.CLASS_NAME, \"sa_text_strong\")\n",
    "print(elements)"
   ]
  },
  {
   "cell_type": "code",
   "execution_count": 4,
   "id": "a4785476-a46c-4211-87f1-acc67932ee63",
   "metadata": {},
   "outputs": [
    {
     "name": "stdout",
     "output_type": "stream",
     "text": [
      "[<selenium.webdriver.remote.webelement.WebElement (session=\"c5af8e42792a62f681dc4f76cb05d30c\", element=\"f.2406D94A5073AFC3F64CCB56A3F45506.d.AC864BFBC4AC2854812EC4537CEC82B0.e.80\")>, <selenium.webdriver.remote.webelement.WebElement (session=\"c5af8e42792a62f681dc4f76cb05d30c\", element=\"f.2406D94A5073AFC3F64CCB56A3F45506.d.AC864BFBC4AC2854812EC4537CEC82B0.e.81\")>, <selenium.webdriver.remote.webelement.WebElement (session=\"c5af8e42792a62f681dc4f76cb05d30c\", element=\"f.2406D94A5073AFC3F64CCB56A3F45506.d.AC864BFBC4AC2854812EC4537CEC82B0.e.82\")>, <selenium.webdriver.remote.webelement.WebElement (session=\"c5af8e42792a62f681dc4f76cb05d30c\", element=\"f.2406D94A5073AFC3F64CCB56A3F45506.d.AC864BFBC4AC2854812EC4537CEC82B0.e.83\")>, <selenium.webdriver.remote.webelement.WebElement (session=\"c5af8e42792a62f681dc4f76cb05d30c\", element=\"f.2406D94A5073AFC3F64CCB56A3F45506.d.AC864BFBC4AC2854812EC4537CEC82B0.e.84\")>, <selenium.webdriver.remote.webelement.WebElement (session=\"c5af8e42792a62f681dc4f76cb05d30c\", element=\"f.2406D94A5073AFC3F64CCB56A3F45506.d.AC864BFBC4AC2854812EC4537CEC82B0.e.85\")>, <selenium.webdriver.remote.webelement.WebElement (session=\"c5af8e42792a62f681dc4f76cb05d30c\", element=\"f.2406D94A5073AFC3F64CCB56A3F45506.d.AC864BFBC4AC2854812EC4537CEC82B0.e.86\")>, <selenium.webdriver.remote.webelement.WebElement (session=\"c5af8e42792a62f681dc4f76cb05d30c\", element=\"f.2406D94A5073AFC3F64CCB56A3F45506.d.AC864BFBC4AC2854812EC4537CEC82B0.e.87\")>, <selenium.webdriver.remote.webelement.WebElement (session=\"c5af8e42792a62f681dc4f76cb05d30c\", element=\"f.2406D94A5073AFC3F64CCB56A3F45506.d.AC864BFBC4AC2854812EC4537CEC82B0.e.88\")>, <selenium.webdriver.remote.webelement.WebElement (session=\"c5af8e42792a62f681dc4f76cb05d30c\", element=\"f.2406D94A5073AFC3F64CCB56A3F45506.d.AC864BFBC4AC2854812EC4537CEC82B0.e.89\")>, <selenium.webdriver.remote.webelement.WebElement (session=\"c5af8e42792a62f681dc4f76cb05d30c\", element=\"f.2406D94A5073AFC3F64CCB56A3F45506.d.AC864BFBC4AC2854812EC4537CEC82B0.e.90\")>, <selenium.webdriver.remote.webelement.WebElement (session=\"c5af8e42792a62f681dc4f76cb05d30c\", element=\"f.2406D94A5073AFC3F64CCB56A3F45506.d.AC864BFBC4AC2854812EC4537CEC82B0.e.91\")>, <selenium.webdriver.remote.webelement.WebElement (session=\"c5af8e42792a62f681dc4f76cb05d30c\", element=\"f.2406D94A5073AFC3F64CCB56A3F45506.d.AC864BFBC4AC2854812EC4537CEC82B0.e.92\")>, <selenium.webdriver.remote.webelement.WebElement (session=\"c5af8e42792a62f681dc4f76cb05d30c\", element=\"f.2406D94A5073AFC3F64CCB56A3F45506.d.AC864BFBC4AC2854812EC4537CEC82B0.e.93\")>, <selenium.webdriver.remote.webelement.WebElement (session=\"c5af8e42792a62f681dc4f76cb05d30c\", element=\"f.2406D94A5073AFC3F64CCB56A3F45506.d.AC864BFBC4AC2854812EC4537CEC82B0.e.94\")>, <selenium.webdriver.remote.webelement.WebElement (session=\"c5af8e42792a62f681dc4f76cb05d30c\", element=\"f.2406D94A5073AFC3F64CCB56A3F45506.d.AC864BFBC4AC2854812EC4537CEC82B0.e.95\")>, <selenium.webdriver.remote.webelement.WebElement (session=\"c5af8e42792a62f681dc4f76cb05d30c\", element=\"f.2406D94A5073AFC3F64CCB56A3F45506.d.AC864BFBC4AC2854812EC4537CEC82B0.e.96\")>, <selenium.webdriver.remote.webelement.WebElement (session=\"c5af8e42792a62f681dc4f76cb05d30c\", element=\"f.2406D94A5073AFC3F64CCB56A3F45506.d.AC864BFBC4AC2854812EC4537CEC82B0.e.97\")>, <selenium.webdriver.remote.webelement.WebElement (session=\"c5af8e42792a62f681dc4f76cb05d30c\", element=\"f.2406D94A5073AFC3F64CCB56A3F45506.d.AC864BFBC4AC2854812EC4537CEC82B0.e.98\")>, <selenium.webdriver.remote.webelement.WebElement (session=\"c5af8e42792a62f681dc4f76cb05d30c\", element=\"f.2406D94A5073AFC3F64CCB56A3F45506.d.AC864BFBC4AC2854812EC4537CEC82B0.e.99\")>, <selenium.webdriver.remote.webelement.WebElement (session=\"c5af8e42792a62f681dc4f76cb05d30c\", element=\"f.2406D94A5073AFC3F64CCB56A3F45506.d.AC864BFBC4AC2854812EC4537CEC82B0.e.100\")>, <selenium.webdriver.remote.webelement.WebElement (session=\"c5af8e42792a62f681dc4f76cb05d30c\", element=\"f.2406D94A5073AFC3F64CCB56A3F45506.d.AC864BFBC4AC2854812EC4537CEC82B0.e.101\")>, <selenium.webdriver.remote.webelement.WebElement (session=\"c5af8e42792a62f681dc4f76cb05d30c\", element=\"f.2406D94A5073AFC3F64CCB56A3F45506.d.AC864BFBC4AC2854812EC4537CEC82B0.e.102\")>, <selenium.webdriver.remote.webelement.WebElement (session=\"c5af8e42792a62f681dc4f76cb05d30c\", element=\"f.2406D94A5073AFC3F64CCB56A3F45506.d.AC864BFBC4AC2854812EC4537CEC82B0.e.103\")>, <selenium.webdriver.remote.webelement.WebElement (session=\"c5af8e42792a62f681dc4f76cb05d30c\", element=\"f.2406D94A5073AFC3F64CCB56A3F45506.d.AC864BFBC4AC2854812EC4537CEC82B0.e.104\")>, <selenium.webdriver.remote.webelement.WebElement (session=\"c5af8e42792a62f681dc4f76cb05d30c\", element=\"f.2406D94A5073AFC3F64CCB56A3F45506.d.AC864BFBC4AC2854812EC4537CEC82B0.e.105\")>, <selenium.webdriver.remote.webelement.WebElement (session=\"c5af8e42792a62f681dc4f76cb05d30c\", element=\"f.2406D94A5073AFC3F64CCB56A3F45506.d.AC864BFBC4AC2854812EC4537CEC82B0.e.106\")>, <selenium.webdriver.remote.webelement.WebElement (session=\"c5af8e42792a62f681dc4f76cb05d30c\", element=\"f.2406D94A5073AFC3F64CCB56A3F45506.d.AC864BFBC4AC2854812EC4537CEC82B0.e.107\")>, <selenium.webdriver.remote.webelement.WebElement (session=\"c5af8e42792a62f681dc4f76cb05d30c\", element=\"f.2406D94A5073AFC3F64CCB56A3F45506.d.AC864BFBC4AC2854812EC4537CEC82B0.e.108\")>, <selenium.webdriver.remote.webelement.WebElement (session=\"c5af8e42792a62f681dc4f76cb05d30c\", element=\"f.2406D94A5073AFC3F64CCB56A3F45506.d.AC864BFBC4AC2854812EC4537CEC82B0.e.109\")>, <selenium.webdriver.remote.webelement.WebElement (session=\"c5af8e42792a62f681dc4f76cb05d30c\", element=\"f.2406D94A5073AFC3F64CCB56A3F45506.d.AC864BFBC4AC2854812EC4537CEC82B0.e.110\")>, <selenium.webdriver.remote.webelement.WebElement (session=\"c5af8e42792a62f681dc4f76cb05d30c\", element=\"f.2406D94A5073AFC3F64CCB56A3F45506.d.AC864BFBC4AC2854812EC4537CEC82B0.e.111\")>, <selenium.webdriver.remote.webelement.WebElement (session=\"c5af8e42792a62f681dc4f76cb05d30c\", element=\"f.2406D94A5073AFC3F64CCB56A3F45506.d.AC864BFBC4AC2854812EC4537CEC82B0.e.112\")>, <selenium.webdriver.remote.webelement.WebElement (session=\"c5af8e42792a62f681dc4f76cb05d30c\", element=\"f.2406D94A5073AFC3F64CCB56A3F45506.d.AC864BFBC4AC2854812EC4537CEC82B0.e.113\")>, <selenium.webdriver.remote.webelement.WebElement (session=\"c5af8e42792a62f681dc4f76cb05d30c\", element=\"f.2406D94A5073AFC3F64CCB56A3F45506.d.AC864BFBC4AC2854812EC4537CEC82B0.e.114\")>, <selenium.webdriver.remote.webelement.WebElement (session=\"c5af8e42792a62f681dc4f76cb05d30c\", element=\"f.2406D94A5073AFC3F64CCB56A3F45506.d.AC864BFBC4AC2854812EC4537CEC82B0.e.115\")>, <selenium.webdriver.remote.webelement.WebElement (session=\"c5af8e42792a62f681dc4f76cb05d30c\", element=\"f.2406D94A5073AFC3F64CCB56A3F45506.d.AC864BFBC4AC2854812EC4537CEC82B0.e.116\")>, <selenium.webdriver.remote.webelement.WebElement (session=\"c5af8e42792a62f681dc4f76cb05d30c\", element=\"f.2406D94A5073AFC3F64CCB56A3F45506.d.AC864BFBC4AC2854812EC4537CEC82B0.e.117\")>, <selenium.webdriver.remote.webelement.WebElement (session=\"c5af8e42792a62f681dc4f76cb05d30c\", element=\"f.2406D94A5073AFC3F64CCB56A3F45506.d.AC864BFBC4AC2854812EC4537CEC82B0.e.118\")>, <selenium.webdriver.remote.webelement.WebElement (session=\"c5af8e42792a62f681dc4f76cb05d30c\", element=\"f.2406D94A5073AFC3F64CCB56A3F45506.d.AC864BFBC4AC2854812EC4537CEC82B0.e.119\")>, <selenium.webdriver.remote.webelement.WebElement (session=\"c5af8e42792a62f681dc4f76cb05d30c\", element=\"f.2406D94A5073AFC3F64CCB56A3F45506.d.AC864BFBC4AC2854812EC4537CEC82B0.e.120\")>, <selenium.webdriver.remote.webelement.WebElement (session=\"c5af8e42792a62f681dc4f76cb05d30c\", element=\"f.2406D94A5073AFC3F64CCB56A3F45506.d.AC864BFBC4AC2854812EC4537CEC82B0.e.121\")>, <selenium.webdriver.remote.webelement.WebElement (session=\"c5af8e42792a62f681dc4f76cb05d30c\", element=\"f.2406D94A5073AFC3F64CCB56A3F45506.d.AC864BFBC4AC2854812EC4537CEC82B0.e.122\")>, <selenium.webdriver.remote.webelement.WebElement (session=\"c5af8e42792a62f681dc4f76cb05d30c\", element=\"f.2406D94A5073AFC3F64CCB56A3F45506.d.AC864BFBC4AC2854812EC4537CEC82B0.e.123\")>, <selenium.webdriver.remote.webelement.WebElement (session=\"c5af8e42792a62f681dc4f76cb05d30c\", element=\"f.2406D94A5073AFC3F64CCB56A3F45506.d.AC864BFBC4AC2854812EC4537CEC82B0.e.124\")>, <selenium.webdriver.remote.webelement.WebElement (session=\"c5af8e42792a62f681dc4f76cb05d30c\", element=\"f.2406D94A5073AFC3F64CCB56A3F45506.d.AC864BFBC4AC2854812EC4537CEC82B0.e.125\")>]\n"
     ]
    }
   ],
   "source": [
    "driver.find_elements(By.ID, \"section_economy\")\n",
    "print(elements)"
   ]
  },
  {
   "cell_type": "code",
   "execution_count": 5,
   "id": "e51f0c58-8e0b-4f22-b7fe-e87d1ff9e139",
   "metadata": {},
   "outputs": [
    {
     "data": {
      "text/plain": [
       "[<selenium.webdriver.remote.webelement.WebElement (session=\"c5af8e42792a62f681dc4f76cb05d30c\", element=\"f.2406D94A5073AFC3F64CCB56A3F45506.d.AC864BFBC4AC2854812EC4537CEC82B0.e.80\")>]"
      ]
     },
     "execution_count": 5,
     "metadata": {},
     "output_type": "execute_result"
    }
   ],
   "source": [
    "# 크롬 검사 기능에서 엘리먼트의 css_selector와 xpath 복사 가능함.\n",
    "driver.find_elements(By.CSS_SELECTOR, \"#newsct > div.section_component.as_section_series._PERSIST_CONTENT> div > div.ss_body > ul > li:nth-child(1) > div.ss_text > a\")\n",
    "driver.find_elements(By.XPATH, '//*[@id=\"_SECTION_HEADLINE_LIST_7viiv\"]/li[1]/div/div/div[2]/a/strong')"
   ]
  },
  {
   "cell_type": "code",
   "execution_count": 7,
   "id": "e87af2cd-7e91-43fa-8353-ad9d6443388b",
   "metadata": {},
   "outputs": [
    {
     "name": "stdout",
     "output_type": "stream",
     "text": [
      "media_end_head_headline\n",
      "<span>OCI홀딩스, 美텍사스서 태양광셀 만든다…  2억6500만달러 투자</span>\n"
     ]
    }
   ],
   "source": [
    "article = driver.find_element(By.CLASS_NAME, \"sa_text_strong\")\n",
    "article.click()\n",
    "title = driver.find_element(By.ID, \"title_area\")\n",
    "print(title.get_attribute(\"class\"))\n",
    "print(title.get_attribute(\"innerHTML\"))"
   ]
  },
  {
   "cell_type": "code",
   "execution_count": 8,
   "id": "d4c10335-b9e2-4f57-a2bf-e71a6c5a76df",
   "metadata": {},
   "outputs": [
    {
     "name": "stdout",
     "output_type": "stream",
     "text": [
      "https://news.naver.com/section/101\n"
     ]
    }
   ],
   "source": [
    "driver.back()\n",
    "print(driver.current_url)"
   ]
  }
 ],
 "metadata": {
  "kernelspec": {
   "display_name": "Python 3 (ipykernel)",
   "language": "python",
   "name": "python3"
  },
  "language_info": {
   "codemirror_mode": {
    "name": "ipython",
    "version": 3
   },
   "file_extension": ".py",
   "mimetype": "text/x-python",
   "name": "python",
   "nbconvert_exporter": "python",
   "pygments_lexer": "ipython3",
   "version": "3.12.3"
  }
 },
 "nbformat": 4,
 "nbformat_minor": 5
}
