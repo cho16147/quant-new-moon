{
 "cells": [
  {
   "cell_type": "markdown",
   "id": "d306655f-c293-480d-9947-209a71c417d4",
   "metadata": {},
   "source": [
    "팍스넷에서 제공하는 증권사 리포트를 수집해서 저장하기.<br>\n",
    "https://www.paxnet.co.kr/robots.txt"
   ]
  },
  {
   "cell_type": "code",
   "execution_count": 1,
   "id": "38560bb1-1bdb-470e-96ff-cb9f34c67c8b",
   "metadata": {},
   "outputs": [
    {
     "name": "stdout",
     "output_type": "stream",
     "text": [
      "<li class=\"board-list-th\">\n",
      "<div>종목</div>\n",
      "<div>제목</div>\n",
      "<div class=\"right\">적정가격</div>\n",
      "<div>투자의견</div>\n",
      "<div>제공출처</div>\n",
      "<div class=\"cent\">작성일</div>\n",
      "</li>\n"
     ]
    }
   ],
   "source": [
    "import requests\n",
    "from bs4 import BeautifulSoup as BS \n",
    "\n",
    "url = \"https://www.paxnet.co.kr/stock/report/report?menuCode=2222&currentPageNo=1&reportId=0&searchKey=stock&searchValue=\"\n",
    "response = requests.get(url)\n",
    "html = response.content\n",
    "html = BS(html)\n",
    "\n",
    "div = html.find(\"div\", attrs = {\"class\":\"board-type\"})\n",
    "li_list = div.find_all(\"li\")\n",
    "print(li_list[0])"
   ]
  },
  {
   "cell_type": "code",
   "execution_count": 2,
   "id": "b45b7b90-33b3-409c-81b9-0b330b5ab290",
   "metadata": {},
   "outputs": [
    {
     "name": "stdout",
     "output_type": "stream",
     "text": [
      "<li>\n",
      "<div><strong class=\"color-cate\"><span class=\"bracket\">[</span><a href=\"http://www.paxnet.co.kr/stock/analysis/main?wlog_rpt=list_jm&amp;abbrSymbol=195870\">해성디에스</a><span class=\"bracket\">]</span></strong></div>\n",
      "<div>\n",
      "<p>\n",
      "<a href=\"javascript:selectView('147144');\"> DDR5 용 Pkg. Substrate 성공 여부가 관건</a>\n",
      "</p>\n",
      "</div>\n",
      "<div class=\"line3\">\n",
      "<span>적정가격</span>\n",
      "\t \t\t\t\t\t\t\t\t\n",
      "\t\t\t\t\t\t\t\t\t\t\n",
      "\t\t\t\t\t\t\t\t\t\t\t36,500원\n",
      "\t\t\t\t\t\t\t\t\t\t\n",
      "\t\t\t\t\t\t\t\t\t\t\n",
      "\t\t\t\t\t\t\t\t\t\n",
      "\t\t\t\t\t\t\t\t</div>\n",
      "<div class=\"line3 color-red\">\n",
      "\t\t\t\t\t\t\t\t\t매수\n",
      "\t\t\t\t\t\t\t\t</div>\n",
      "<div class=\"line3\">iM증권</div>\n",
      "<div class=\"line3\">2025.03.05</div>\n",
      "</li>\n"
     ]
    }
   ],
   "source": [
    "print(li_list[1])"
   ]
  },
  {
   "cell_type": "code",
   "execution_count": 3,
   "id": "c33a1f72-086c-4962-9ec1-2aefe016bff7",
   "metadata": {},
   "outputs": [
    {
     "name": "stdout",
     "output_type": "stream",
     "text": [
      "<li><a href=\"#\" onclick=\"linkPage(5); return false;\">5</a></li>\n"
     ]
    }
   ],
   "source": [
    "print(li_list[-1])"
   ]
  },
  {
   "cell_type": "code",
   "execution_count": 16,
   "id": "649bc9a2-41bf-477a-bc5d-9739b04abb46",
   "metadata": {},
   "outputs": [
    {
     "name": "stdout",
     "output_type": "stream",
     "text": [
      "True\n",
      "False\n",
      "False\n"
     ]
    }
   ],
   "source": [
    "check_str = '<strong class=\"color-cate\"><span class=\"bracket\">'\n",
    "# 즉, strong 태그 안에 color-cate라는 클래스를 가지고, \n",
    "# 그 안에 span 태그가 있고, span은 bracket이라는 클래스를 가진 구조이다.\n",
    "\n",
    "print(check_str in str(li_list[1]))\n",
    "print(check_str in str(li_list[0]))\n",
    "print(check_str in str(li_list[-1]))\n",
    "# li_list[1]만 필요하다."
   ]
  },
  {
   "cell_type": "code",
   "execution_count": 5,
   "id": "01b1198a-0bfc-41b9-b049-896903de9f43",
   "metadata": {},
   "outputs": [
    {
     "name": "stdout",
     "output_type": "stream",
     "text": [
      "해성디에스\n"
     ]
    }
   ],
   "source": [
    "stock = li_list[1].find_all(\"a\")[0].text\n",
    "# li_list[1]: li_list라는 리스트에서 두 번째 요소를 가져온다.\n",
    "# find_all(\"a\"): 해당 리스트 안에서 모든 <a> 태그를 찾아서 리스트로 반환한다.\n",
    "# [0]: 찾은 <a> 태그들 중에서 첫 번째 <a> 태그를 선택한다.\n",
    "# .text: 선택한 <a> 태그 안의 텍스트만 추출한다.\n",
    "print(stock)"
   ]
  },
  {
   "cell_type": "code",
   "execution_count": 6,
   "id": "1bda3efe-32c9-4df4-9e35-847b6debda87",
   "metadata": {},
   "outputs": [
    {
     "name": "stdout",
     "output_type": "stream",
     "text": [
      " DDR5 용 Pkg. Substrate 성공 여부가 관건\n"
     ]
    }
   ],
   "source": [
    "title = li_list[1].find_all(\"a\")[1].text\n",
    "print(title)"
   ]
  },
  {
   "cell_type": "code",
   "execution_count": 7,
   "id": "0e4108a1-6f10-4c5e-bdf4-b3c2bc1ad31d",
   "metadata": {},
   "outputs": [
    {
     "data": {
      "text/plain": [
       "'\\n적정가격\\r\\n\\t \\t\\t\\t\\t\\t\\t\\t\\t\\r\\n\\t\\t\\t\\t\\t\\t\\t\\t\\t\\t\\r\\n\\t\\t\\t\\t\\t\\t\\t\\t\\t\\t\\t36,500원\\r\\n\\t\\t\\t\\t\\t\\t\\t\\t\\t\\t\\r\\n\\t\\t\\t\\t\\t\\t\\t\\t\\t\\t\\r\\n\\t\\t\\t\\t\\t\\t\\t\\t\\t\\r\\n\\t\\t\\t\\t\\t\\t\\t\\t'"
      ]
     },
     "metadata": {},
     "output_type": "display_data"
    },
    {
     "data": {
      "text/plain": [
       "'적정가격 36,500원'"
      ]
     },
     "metadata": {},
     "output_type": "display_data"
    },
    {
     "data": {
      "text/plain": [
       "'36500'"
      ]
     },
     "metadata": {},
     "output_type": "display_data"
    }
   ],
   "source": [
    "price = li_list[1].find(\"div\", attrs = {\"class\":\"line3\"}).text\n",
    "display(price)\n",
    "\n",
    "price = price.replace(\"\\r\", \"\").replace(\"\\t\", \"\").replace(\"\\n\", \"\")\n",
    "display(price)\n",
    "price = price.split(\" \")[1].replace(\",\", \"\")[:-1]\n",
    "# 띄어쓰기 기준으로 나누고, 두 번째 요소를 가져온 뒤 거기서 쉼표와 마지막글자 제거.\n",
    "display(price)"
   ]
  },
  {
   "cell_type": "code",
   "execution_count": 8,
   "id": "03f04aa6-a8cd-4847-97d2-f2404359ecb6",
   "metadata": {},
   "outputs": [
    {
     "data": {
      "text/plain": [
       "'\\r\\n\\t\\t\\t\\t\\t\\t\\t\\t\\t매수\\r\\n\\t\\t\\t\\t\\t\\t\\t\\t'"
      ]
     },
     "metadata": {},
     "output_type": "display_data"
    },
    {
     "data": {
      "text/plain": [
       "'매수'"
      ]
     },
     "metadata": {},
     "output_type": "display_data"
    }
   ],
   "source": [
    "opinion = li_list[1].find_all(\"div\", attrs = {\"class\":\"line3\"})[1].text\n",
    "display(opinion)\n",
    "\n",
    "opinion = opinion.replace(\"\\r\", \"\").replace(\"\\t\", \"\").replace(\"\\n\", \"\")\n",
    "display(opinion)"
   ]
  },
  {
   "cell_type": "code",
   "execution_count": 9,
   "id": "c2dfb4ef-c672-405c-a99a-acddab4c5dc3",
   "metadata": {},
   "outputs": [
    {
     "data": {
      "text/plain": [
       "'iM증권'"
      ]
     },
     "metadata": {},
     "output_type": "display_data"
    }
   ],
   "source": [
    "trading_firm = li_list[1].find_all(\"div\", attrs = {\"class\":\"line3\"})[2].text\n",
    "display(trading_firm)"
   ]
  },
  {
   "cell_type": "code",
   "execution_count": 10,
   "id": "9e8d0095-de00-4403-a99f-d457a6fc358a",
   "metadata": {},
   "outputs": [
    {
     "data": {
      "text/plain": [
       "'2025.03.05'"
      ]
     },
     "metadata": {},
     "output_type": "display_data"
    }
   ],
   "source": [
    "date = li_list[1].find_all(\"div\", attrs = {\"class\":\"line3\"})[3].text\n",
    "display(date)"
   ]
  },
  {
   "cell_type": "code",
   "execution_count": 12,
   "id": "1c150a82-1242-496c-ae4d-1e5cc0c9d761",
   "metadata": {},
   "outputs": [
    {
     "data": {
      "text/plain": [
       "Timestamp('2025-03-05 00:00:00')"
      ]
     },
     "metadata": {},
     "output_type": "display_data"
    }
   ],
   "source": [
    "import pandas as pd\n",
    "date = pd.to_datetime(date)\n",
    "display(date)"
   ]
  },
  {
   "cell_type": "code",
   "execution_count": 13,
   "id": "e8de3bc8-f97c-41a7-b2e9-fdb312cec0e2",
   "metadata": {},
   "outputs": [
    {
     "name": "stdout",
     "output_type": "stream",
     "text": [
      "['해성디에스', ' DDR5 용 Pkg. Substrate 성공 여부가 관건', '36500', '매수', 'iM증권', Timestamp('2025-03-05 00:00:00')]\n"
     ]
    }
   ],
   "source": [
    "# 위 내용을 새로운 함수로 구현하기\n",
    "def parsing_li(li):\n",
    "    stock = li.find_all(\"a\")[0].text # 종목\n",
    "    title = li.find_all(\"a\")[1].text # 리포트 제목\n",
    "    price = li.find(\"div\", attrs = {\"class\":\"line3\"}).text # 적정가격\n",
    "    price = price.replace('\\r', '').replace('\\t', '').replace('\\n', '')\n",
    "    price = price.split(' ')[1].replace(',', '')[:-1]\n",
    "    opinion = li.find_all(\"div\", attrs = {\"class\":\"line3\"})[1].text # 의견\n",
    "    opinion = opinion.replace('\\t', '').replace('\\n', '').replace('\\r', '')\n",
    "    trading_firm = li.find_all(\"div\", attrs = {\"class\":\"line3\"})[2].text # 증권사\n",
    "    date = li.find_all(\"div\", attrs = {\"class\":\"line3\"})[3].text # 날짜\n",
    "    date = pd.to_datetime(date)\n",
    "\n",
    "    return [stock, title, price, opinion, trading_firm, date]\n",
    "\n",
    "print(parsing_li(li_list[1]))"
   ]
  },
  {
   "cell_type": "code",
   "execution_count": 14,
   "id": "a2cad654-87ce-4100-b70d-41789a92375a",
   "metadata": {},
   "outputs": [
    {
     "data": {
      "text/html": [
       "<div>\n",
       "<style scoped>\n",
       "    .dataframe tbody tr th:only-of-type {\n",
       "        vertical-align: middle;\n",
       "    }\n",
       "\n",
       "    .dataframe tbody tr th {\n",
       "        vertical-align: top;\n",
       "    }\n",
       "\n",
       "    .dataframe thead th {\n",
       "        text-align: right;\n",
       "    }\n",
       "</style>\n",
       "<table border=\"1\" class=\"dataframe\">\n",
       "  <thead>\n",
       "    <tr style=\"text-align: right;\">\n",
       "      <th></th>\n",
       "      <th>종목명</th>\n",
       "      <th>리포트제목</th>\n",
       "      <th>적정가격</th>\n",
       "      <th>의견</th>\n",
       "      <th>증권사</th>\n",
       "      <th>날짜</th>\n",
       "    </tr>\n",
       "  </thead>\n",
       "  <tbody>\n",
       "    <tr>\n",
       "      <th>0</th>\n",
       "      <td>해성디에스</td>\n",
       "      <td>DDR5 용 Pkg. Substrate 성공 여부가 관건</td>\n",
       "      <td>36500</td>\n",
       "      <td>매수</td>\n",
       "      <td>iM증권</td>\n",
       "      <td>2025-03-05</td>\n",
       "    </tr>\n",
       "    <tr>\n",
       "      <th>1</th>\n",
       "      <td>쏘카</td>\n",
       "      <td>더 이상 모른척할 수 없는 자율주행 기회</td>\n",
       "      <td>25000</td>\n",
       "      <td>매수</td>\n",
       "      <td>SK증권</td>\n",
       "      <td>2025-03-05</td>\n",
       "    </tr>\n",
       "    <tr>\n",
       "      <th>2</th>\n",
       "      <td>에이럭스</td>\n",
       "      <td>드론 고성장을 어떻게 표현할 방법이 없네</td>\n",
       "      <td>23500</td>\n",
       "      <td>매수</td>\n",
       "      <td>SK증권</td>\n",
       "      <td>2025-03-05</td>\n",
       "    </tr>\n",
       "    <tr>\n",
       "      <th>3</th>\n",
       "      <td>보로노이</td>\n",
       "      <td>보여줄 것이 많은 25년</td>\n",
       "      <td>240000</td>\n",
       "      <td>매수</td>\n",
       "      <td>유안타증권</td>\n",
       "      <td>2025-03-05</td>\n",
       "    </tr>\n",
       "    <tr>\n",
       "      <th>4</th>\n",
       "      <td>에이피알</td>\n",
       "      <td>글로벌 K-Beauty 선두주자로 도약</td>\n",
       "      <td>77000</td>\n",
       "      <td>매수</td>\n",
       "      <td>유안타증권</td>\n",
       "      <td>2025-03-05</td>\n",
       "    </tr>\n",
       "    <tr>\n",
       "      <th>5</th>\n",
       "      <td>코스맥스</td>\n",
       "      <td>코스맥스가 화장품 섹터를 살렸다</td>\n",
       "      <td>220000</td>\n",
       "      <td>매수</td>\n",
       "      <td>유안타증권</td>\n",
       "      <td>2025-03-05</td>\n",
       "    </tr>\n",
       "    <tr>\n",
       "      <th>6</th>\n",
       "      <td>SK하이닉스</td>\n",
       "      <td>당분간18~24만원의구간대에서움직일듯</td>\n",
       "      <td>200000</td>\n",
       "      <td>보유</td>\n",
       "      <td>iM증권</td>\n",
       "      <td>2025-03-05</td>\n",
       "    </tr>\n",
       "    <tr>\n",
       "      <th>7</th>\n",
       "      <td>삼성전자</td>\n",
       "      <td>주식수급과Valuation Merit는좋으나본원경쟁력회복은아직</td>\n",
       "      <td>68000</td>\n",
       "      <td>매수</td>\n",
       "      <td>iM증권</td>\n",
       "      <td>2025-03-05</td>\n",
       "    </tr>\n",
       "    <tr>\n",
       "      <th>8</th>\n",
       "      <td>원익QnC</td>\n",
       "      <td>견조한 Parts 수요 예상</td>\n",
       "      <td>-</td>\n",
       "      <td>-</td>\n",
       "      <td>한국IR협의회</td>\n",
       "      <td>2025-03-05</td>\n",
       "    </tr>\n",
       "    <tr>\n",
       "      <th>9</th>\n",
       "      <td>티앤엘</td>\n",
       "      <td>지속적인 해외 매출 성장 기대\\t</td>\n",
       "      <td>-</td>\n",
       "      <td>-</td>\n",
       "      <td>한국IR협의회</td>\n",
       "      <td>2025-03-05</td>\n",
       "    </tr>\n",
       "  </tbody>\n",
       "</table>\n",
       "</div>"
      ],
      "text/plain": [
       "      종목명                               리포트제목    적정가격  의견      증권사         날짜\n",
       "0   해성디에스     DDR5 용 Pkg. Substrate 성공 여부가 관건   36500  매수     iM증권 2025-03-05\n",
       "1      쏘카              더 이상 모른척할 수 없는 자율주행 기회   25000  매수     SK증권 2025-03-05\n",
       "2    에이럭스              드론 고성장을 어떻게 표현할 방법이 없네   23500  매수     SK증권 2025-03-05\n",
       "3    보로노이                       보여줄 것이 많은 25년  240000  매수    유안타증권 2025-03-05\n",
       "4    에이피알               글로벌 K-Beauty 선두주자로 도약   77000  매수    유안타증권 2025-03-05\n",
       "5    코스맥스                   코스맥스가 화장품 섹터를 살렸다  220000  매수    유안타증권 2025-03-05\n",
       "6  SK하이닉스                당분간18~24만원의구간대에서움직일듯  200000  보유     iM증권 2025-03-05\n",
       "7    삼성전자  주식수급과Valuation Merit는좋으나본원경쟁력회복은아직   68000  매수     iM증권 2025-03-05\n",
       "8   원익QnC                     견조한 Parts 수요 예상       -   -  한국IR협의회 2025-03-05\n",
       "9     티앤엘                  지속적인 해외 매출 성장 기대\\t       -   -  한국IR협의회 2025-03-05"
      ]
     },
     "metadata": {},
     "output_type": "display_data"
    }
   ],
   "source": [
    "data = []\n",
    "for li in li_list:\n",
    "    if check_str in str(li):\n",
    "        record = parsing_li(li)\n",
    "        data.append(record)\n",
    "\n",
    "data = pd.DataFrame(data, columns = [\"종목명\", \"리포트제목\", \"적정가격\", \"의견\", \"증권사\", \"날짜\"])\n",
    "display(data.head(10))"
   ]
  },
  {
   "cell_type": "markdown",
   "id": "001ba161-c3c1-430f-a0df-0ec3c8dae386",
   "metadata": {},
   "source": [
    "1페이지 url: https://www.paxnet.co.kr/stock/report/report?menuCode=2222&currentPageNo=1&reportId=0&searchKey=stock&searchValue=<br>\n",
    "2페이지 url: https://www.paxnet.co.kr/stock/report/report?menuCode=2222&currentPageNo=2&reportId=0&searchKey=stock&searchValue="
   ]
  },
  {
   "cell_type": "code",
   "execution_count": 23,
   "id": "95deb117-6a70-4a7b-878b-33030030aa6e",
   "metadata": {},
   "outputs": [
    {
     "data": {
      "text/html": [
       "<div>\n",
       "<style scoped>\n",
       "    .dataframe tbody tr th:only-of-type {\n",
       "        vertical-align: middle;\n",
       "    }\n",
       "\n",
       "    .dataframe tbody tr th {\n",
       "        vertical-align: top;\n",
       "    }\n",
       "\n",
       "    .dataframe thead th {\n",
       "        text-align: right;\n",
       "    }\n",
       "</style>\n",
       "<table border=\"1\" class=\"dataframe\">\n",
       "  <thead>\n",
       "    <tr style=\"text-align: right;\">\n",
       "      <th></th>\n",
       "      <th>종목명</th>\n",
       "      <th>리포트제목</th>\n",
       "      <th>적정가격</th>\n",
       "      <th>의견</th>\n",
       "      <th>증권사</th>\n",
       "      <th>날짜</th>\n",
       "    </tr>\n",
       "  </thead>\n",
       "  <tbody>\n",
       "    <tr>\n",
       "      <th>0</th>\n",
       "      <td>해성디에스</td>\n",
       "      <td>DDR5 용 Pkg. Substrate 성공 여부가 관건</td>\n",
       "      <td>36500</td>\n",
       "      <td>매수</td>\n",
       "      <td>iM증권</td>\n",
       "      <td>2025-03-05</td>\n",
       "    </tr>\n",
       "    <tr>\n",
       "      <th>1</th>\n",
       "      <td>쏘카</td>\n",
       "      <td>더 이상 모른척할 수 없는 자율주행 기회</td>\n",
       "      <td>25000</td>\n",
       "      <td>매수</td>\n",
       "      <td>SK증권</td>\n",
       "      <td>2025-03-05</td>\n",
       "    </tr>\n",
       "    <tr>\n",
       "      <th>2</th>\n",
       "      <td>에이럭스</td>\n",
       "      <td>드론 고성장을 어떻게 표현할 방법이 없네</td>\n",
       "      <td>23500</td>\n",
       "      <td>매수</td>\n",
       "      <td>SK증권</td>\n",
       "      <td>2025-03-05</td>\n",
       "    </tr>\n",
       "    <tr>\n",
       "      <th>3</th>\n",
       "      <td>보로노이</td>\n",
       "      <td>보여줄 것이 많은 25년</td>\n",
       "      <td>240000</td>\n",
       "      <td>매수</td>\n",
       "      <td>유안타증권</td>\n",
       "      <td>2025-03-05</td>\n",
       "    </tr>\n",
       "    <tr>\n",
       "      <th>4</th>\n",
       "      <td>에이피알</td>\n",
       "      <td>글로벌 K-Beauty 선두주자로 도약</td>\n",
       "      <td>77000</td>\n",
       "      <td>매수</td>\n",
       "      <td>유안타증권</td>\n",
       "      <td>2025-03-05</td>\n",
       "    </tr>\n",
       "    <tr>\n",
       "      <th>...</th>\n",
       "      <td>...</td>\n",
       "      <td>...</td>\n",
       "      <td>...</td>\n",
       "      <td>...</td>\n",
       "      <td>...</td>\n",
       "      <td>...</td>\n",
       "    </tr>\n",
       "    <tr>\n",
       "      <th>265</th>\n",
       "      <td>카카오뱅크</td>\n",
       "      <td>기업가치 제고계획 발표: 성장과 환원의 배분과제</td>\n",
       "      <td>28000</td>\n",
       "      <td>매수</td>\n",
       "      <td>LS증권</td>\n",
       "      <td>2024-11-27</td>\n",
       "    </tr>\n",
       "    <tr>\n",
       "      <th>266</th>\n",
       "      <td>원익QnC</td>\n",
       "      <td>역사적 저점 수준까지 하락한 주가</td>\n",
       "      <td>28000</td>\n",
       "      <td>매수(유지)</td>\n",
       "      <td>키움증권</td>\n",
       "      <td>2024-11-27</td>\n",
       "    </tr>\n",
       "    <tr>\n",
       "      <th>267</th>\n",
       "      <td>LS ELECTRIC</td>\n",
       "      <td>국내 초고압변압기 대규모 수주? 의미는?</td>\n",
       "      <td>240000</td>\n",
       "      <td>매수</td>\n",
       "      <td>LS증권</td>\n",
       "      <td>2024-11-26</td>\n",
       "    </tr>\n",
       "    <tr>\n",
       "      <th>268</th>\n",
       "      <td>SK가스</td>\n",
       "      <td>눈 앞에 와있는 분기점</td>\n",
       "      <td>250000</td>\n",
       "      <td>매수</td>\n",
       "      <td>메리츠증권</td>\n",
       "      <td>2024-11-26</td>\n",
       "    </tr>\n",
       "    <tr>\n",
       "      <th>269</th>\n",
       "      <td>하이비젼시스템</td>\n",
       "      <td>전화위복</td>\n",
       "      <td>-</td>\n",
       "      <td>-</td>\n",
       "      <td>메리츠증권</td>\n",
       "      <td>2024-11-26</td>\n",
       "    </tr>\n",
       "  </tbody>\n",
       "</table>\n",
       "<p>270 rows × 6 columns</p>\n",
       "</div>"
      ],
      "text/plain": [
       "             종목명                             리포트제목    적정가격      의견    증권사  \\\n",
       "0          해성디에스   DDR5 용 Pkg. Substrate 성공 여부가 관건   36500      매수   iM증권   \n",
       "1             쏘카            더 이상 모른척할 수 없는 자율주행 기회   25000      매수   SK증권   \n",
       "2           에이럭스            드론 고성장을 어떻게 표현할 방법이 없네   23500      매수   SK증권   \n",
       "3           보로노이                     보여줄 것이 많은 25년  240000      매수  유안타증권   \n",
       "4           에이피알             글로벌 K-Beauty 선두주자로 도약   77000      매수  유안타증권   \n",
       "..           ...                               ...     ...     ...    ...   \n",
       "265        카카오뱅크        기업가치 제고계획 발표: 성장과 환원의 배분과제   28000      매수   LS증권   \n",
       "266        원익QnC                역사적 저점 수준까지 하락한 주가   28000  매수(유지)   키움증권   \n",
       "267  LS ELECTRIC            국내 초고압변압기 대규모 수주? 의미는?  240000      매수   LS증권   \n",
       "268         SK가스                      눈 앞에 와있는 분기점  250000      매수  메리츠증권   \n",
       "269      하이비젼시스템                              전화위복       -       -  메리츠증권   \n",
       "\n",
       "            날짜  \n",
       "0   2025-03-05  \n",
       "1   2025-03-05  \n",
       "2   2025-03-05  \n",
       "3   2025-03-05  \n",
       "4   2025-03-05  \n",
       "..         ...  \n",
       "265 2024-11-27  \n",
       "266 2024-11-27  \n",
       "267 2024-11-26  \n",
       "268 2024-11-26  \n",
       "269 2024-11-26  \n",
       "\n",
       "[270 rows x 6 columns]"
      ]
     },
     "metadata": {},
     "output_type": "display_data"
    }
   ],
   "source": [
    "import time\n",
    "base_url = \"https://www.paxnet.co.kr/stock/report/report?menuCode=2222&currentPageNo={}&reportId=0&searchKey=stock&searchValue=\"\n",
    "data = []\n",
    "check_str = '<strong class=\"color-cate\"><span class=\"bracket\">'\n",
    "\n",
    "for page_no in range (1, 10):\n",
    "    # 웹 페이지 소스 가져오기\n",
    "    url = base_url.format(page_no)\n",
    "    while True:\n",
    "        response = requests.get(url)\n",
    "        if response.status_code == 200:\n",
    "            time.sleep(1)\n",
    "            break\n",
    "        else:\n",
    "            time.sleep(10 * 60)\n",
    "    html = response.content\n",
    "    html = BS(html)\n",
    "\n",
    "    # 웹 페이지 소스에서 필요한 부분만 가져오기\n",
    "    div = html.find(\"div\", attrs = {\"class\":\"board-type\"})\n",
    "    li_list = div.find_all(\"li\")\n",
    "    for li in li_list:\n",
    "        if check_str in str(li):\n",
    "            record = parsing_li(li)\n",
    "            data.append(record)\n",
    "\n",
    "data = pd.DataFrame(data, columns = [\"종목명\", \"리포트제목\", \"적정가격\", \"의견\", \"증권사\", \"날짜\"])\n",
    "display(data)\n",
    "data.to_csv(\"종목리포트 모음.txt\", sep = \"\\t\", encoding = \"euc-kr\", index = False)"
   ]
  }
 ],
 "metadata": {
  "kernelspec": {
   "display_name": "Python 3 (ipykernel)",
   "language": "python",
   "name": "python3"
  },
  "language_info": {
   "codemirror_mode": {
    "name": "ipython",
    "version": 3
   },
   "file_extension": ".py",
   "mimetype": "text/x-python",
   "name": "python",
   "nbconvert_exporter": "python",
   "pygments_lexer": "ipython3",
   "version": "3.12.3"
  }
 },
 "nbformat": 4,
 "nbformat_minor": 5
}
