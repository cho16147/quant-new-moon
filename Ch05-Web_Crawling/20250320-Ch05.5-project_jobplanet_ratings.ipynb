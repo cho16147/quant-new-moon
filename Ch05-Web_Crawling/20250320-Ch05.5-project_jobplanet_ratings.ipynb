{
 "cells": [
  {
   "cell_type": "markdown",
   "id": "bf197eb2-ec7b-4b18-a41a-537a2c18732c",
   "metadata": {},
   "source": [
    "잡플래닛에서 기업의 평점을 수집해 가공해보기<br>\n",
    "평가 점수와 날짜만 수집.<br>\n",
    "(기회가 된다면 XPATH, CSS_SELECTOR 둘 중 하나로 통일하기) "
   ]
  },
  {
   "cell_type": "code",
   "execution_count": 67,
   "id": "aa77a2fa-5e4e-4c1d-94c5-ce7b6fb31bcf",
   "metadata": {},
   "outputs": [],
   "source": [
    "import selenium\n",
    "import os\n",
    "from selenium import webdriver\n",
    "from selenium.webdriver.chrome.service import Service\n",
    "from selenium.webdriver.common.by import By\n",
    "\n",
    "base_dir = os.path.dirname(os.getcwd())\n",
    "file_path = os.path.join(base_dir, \"chromedriver.exe\")\n",
    "service = Service(file_path)\n",
    "driver = webdriver.Chrome(service=service)"
   ]
  },
  {
   "cell_type": "code",
   "execution_count": 68,
   "id": "ef7f8bfd-a967-491b-a703-2729010298eb",
   "metadata": {},
   "outputs": [],
   "source": [
    "corp = \"SK하이닉스\"\n",
    "url = \"https://www.jobplanet.co.kr/companies/20561/reviews/%EC%97%90%EC%8A%A4%EC%BC%80%EC%9D%B4%ED%95%98%EC%9D%B4%EB%8B%89%EC%8A%A4\"\n",
    "driver.get(url)\n",
    "driver.implicitly_wait(10) # 페이지가 전부 로딩되기까지 최대 10초 대기\n",
    "\n",
    "try:\n",
    "    driver.find_element(By.CSS_SELECTOR, \"#i8zsl\").click()  # ID로 찾기\n",
    "except:\n",
    "    pass"
   ]
  },
  {
   "cell_type": "code",
   "execution_count": 69,
   "id": "1f209876-ec55-4811-a745-7ef7e358b746",
   "metadata": {},
   "outputs": [
    {
     "name": "stdout",
     "output_type": "stream",
     "text": [
      "2025. 03\n"
     ]
    }
   ],
   "source": [
    "review_list = driver.find_elements(By.CSS_SELECTOR, \"#viewReviewsList\")\n",
    "review = review_list[0]\n",
    "score_list = review.find_element(By.CSS_SELECTOR, r\"#ReviewCardSide > div.mb-\\[32px\\] > span\")\n",
    "date = review.find_elements(By.CSS_SELECTOR, \"#review_4987244 > div:nth-child(1) > div.relative.flex.items-center.justify-between > div > span:nth-child(7)\")[0].get_attribute(\"innerHTML\")[:-3]\n",
    "print(date)"
   ]
  },
  {
   "cell_type": "code",
   "execution_count": 70,
   "id": "a90e6a30-4fc0-4266-b3c0-92713bdc9f5f",
   "metadata": {},
   "outputs": [
    {
     "data": {
      "text/plain": [
       "'5.0'"
      ]
     },
     "metadata": {},
     "output_type": "display_data"
    }
   ],
   "source": [
    "score_list = review.find_element(By.CSS_SELECTOR, \"#ReviewCardSide\")\n",
    "star_score = score_list.find_element(By.CSS_SELECTOR, r\"#ReviewCardSide > div.mb-\\[32px\\] > span\").get_attribute(\"innerHTML\")\n",
    "display(star_score)"
   ]
  },
  {
   "cell_type": "code",
   "execution_count": 75,
   "id": "20e5054f-931a-43b2-874d-12af750cc721",
   "metadata": {},
   "outputs": [
    {
     "name": "stdout",
     "output_type": "stream",
     "text": [
      "5 5 5 5 4\n"
     ]
    }
   ],
   "source": [
    "# 항목별 평점\n",
    "bl_score_list = score_list.find_elements(By.CSS_SELECTOR, \"#ReviewCardSide > div:nth-child(2) > ul\")\n",
    "# promotion_opp = len(score_list.find_element(By.XPATH, \".//p[contains(text(), '승진 기회')]/../div/ul\").find_elements(By.XPATH, '//*[@id=\"ReviewCardSide\"]/div[2]/ul/li[5]/div/ul/li[4]/span'))\n",
    "promotion_opp = len(score_list.find_elements(\n",
    "    By.XPATH,\n",
    "    \".//p[contains(text(), '승진 기회')]/../div//span[contains(@style, 'width: 100%')]\"\n",
    "))\n",
    "welfare_salary = len(score_list.find_elements(\n",
    "    By.XPATH,\n",
    "    \".//p[contains(text(), '복지/급여')]/../div//span[contains(@style, 'width: 100%')]\"\n",
    "))\n",
    "work_life_balance = len(score_list.find_elements(\n",
    "    By.XPATH,\n",
    "    \".//p[contains(text(), '워라밸')]/../div//span[contains(@style, 'width: 100%')]\"\n",
    "))\n",
    "culture = len(score_list.find_elements(\n",
    "    By.XPATH,\n",
    "    \".//p[contains(text(), '사내문화')]/../div//span[contains(@style, 'width: 100%')]\"\n",
    "))\n",
    "management = len(score_list.find_elements(\n",
    "    By.XPATH,\n",
    "    \".//p[contains(text(), '경영진')]/../div//span[contains(@style, 'width: 100%')]\"\n",
    "))\n",
    "print(promotion_opp, welfare_salary, work_life_balance, culture, management)\n",
    "other_score = [promotion_opp, welfare_salary, work_life_balance, culture, management]"
   ]
  },
  {
   "cell_type": "code",
   "execution_count": 80,
   "id": "0a572ad9-9602-4682-a868-6d7e93406412",
   "metadata": {},
   "outputs": [
    {
     "name": "stdout",
     "output_type": "stream",
     "text": [
      "['5.0', 5, 5, 5, 5, 4]\n"
     ]
    }
   ],
   "source": [
    "# 한 리뷰에서 전체 점수를 가져와서 정제하는 함수를 만들자. 위 코드들을 적절히 합친다.\n",
    "def extract_score_from_review(review): \n",
    "    # 출력 초기화\n",
    "    output = []\n",
    "    # 리뷰에서 평점과 관련된 부분만 가져오기\n",
    "    score_list = review.find_element(By.CSS_SELECTOR, \"#ReviewCardSide\")\n",
    "    # 총 평점을 가져와서 추가\n",
    "    star_score = score_list.find_element(By.CSS_SELECTOR, r\"#ReviewCardSide > div.mb-\\[32px\\] > span\").get_attribute(\"innerHTML\")\n",
    "    output.append(star_score)\n",
    "    # 항목별 평점을 가져와서 추가\n",
    "    other_score_elements = score_list.find_elements(By.CSS_SELECTOR, \"#ReviewCardSide > div:nth-child(2) > ul\")\n",
    "    for element in other_score_elements:\n",
    "        output.append(other_score)\n",
    "    return output\n",
    "    \n",
    "data = extract_score_from_review(review)\n",
    "result = [data[0]] + data[1]\n",
    "print(result)"
   ]
  },
  {
   "cell_type": "code",
   "execution_count": null,
   "id": "c977c6d6-e83a-4737-8095-1b5e2ba3b560",
   "metadata": {},
   "outputs": [],
   "source": [
    "# 전체 페이지 수는 알 수 없음. \n",
    "# 다음 페이지로 이동하는 함수를 만들자.\n",
    "import time\n",
    "def get_url(driver, url):\n",
    "    while True:\n",
    "        try:\n",
    "            driver.get(url)\n",
    "            driver.implicitly_wait(10)\n",
    "            break\n",
    "        except:\n",
    "            driver.close()\n",
    "            driver = webdriver.Chrome(service=service)\n",
    "            time.sleep(60)"
   ]
  },
  {
   "cell_type": "code",
   "execution_count": 84,
   "id": "b1c5ac80-75b8-46ff-a213-87be32d2d8f8",
   "metadata": {},
   "outputs": [],
   "source": [
    "import pandas as pd\n",
    "base_dir = os.path.dirname(os.getcwd())\n",
    "file_path = os.path.join(base_dir, \"data\", \"종목별_잡플래닛_CHO.xlsx\")\n",
    "input_data = pd.read_excel(file_path)\n",
    "data = []\n",
    "\n",
    "for company, url in input_data[['종목명', 'URL']].values:\n",
    "    # 초기 URL 들어가기\n",
    "    get_url(driver, url)\n",
    "    # 페이지 순회 시작\n",
    "    for page in range"
   ]
  }
 ],
 "metadata": {
  "kernelspec": {
   "display_name": "Python 3 (ipykernel)",
   "language": "python",
   "name": "python3"
  },
  "language_info": {
   "codemirror_mode": {
    "name": "ipython",
    "version": 3
   },
   "file_extension": ".py",
   "mimetype": "text/x-python",
   "name": "python",
   "nbconvert_exporter": "python",
   "pygments_lexer": "ipython3",
   "version": "3.12.3"
  }
 },
 "nbformat": 4,
 "nbformat_minor": 5
}
