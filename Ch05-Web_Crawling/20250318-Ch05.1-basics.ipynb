{
 "cells": [
  {
   "cell_type": "markdown",
   "id": "67e10948-ecd7-42e1-a0c9-7713e5390cce",
   "metadata": {},
   "source": [
    "**웹 크롤링은 웹 크롤러(web crawler)라는 프로그램을 이용해 웹 페이지를 구성하는 소스를 수집하고, 필요한 부분만 추출해서 저장하는 작업을 의미한다.**<br>\n",
    "엄밀하게는 소스 수집을 web crawling, 소스에서 데이터 추출하는 과정을 parsing이라 함.<br><br>\n",
    "크롤링: Requests 혹은 Selenium 모듈 사용<br>\n",
    "파싱: Beautiful Soup 혹은 Selenium 모듈 사용"
   ]
  },
  {
   "cell_type": "markdown",
   "id": "00762173-09a6-49ba-b225-546bb648541d",
   "metadata": {},
   "source": [
    "HTML 기초<br>\n",
    "<h1> h1 태그 </h1>\n",
    "<h2> h2 태그 </h2>\n",
    "<h3> h3 태그 </h3>"
   ]
  },
  {
   "cell_type": "markdown",
   "id": "afe77d78-d526-462d-834f-41b733592732",
   "metadata": {},
   "source": [
    "<h1 style=\"color:red\">빨간색 제목</h1><br>\n",
    "\n",
    "**필요한 태그를 가져오는 것은 사람의 개입 없이 자동화될 수 있어야 하며,<br>태그 안의 태그를 찾는 단계적 탐색이 필요함.** "
   ]
  },
  {
   "cell_type": "markdown",
   "id": "3c096c66-9607-40ee-a0ce-91552bc5bcff",
   "metadata": {},
   "source": [
    "\\<tag attr = \"value\"> TEXT \\</tag> <br>\n",
    "tag: 태그명 <br>\n",
    "attr: 속성명 <br>\n",
    "value: 속성값 <br>\n",
    "TEXT: 내용 <br>\n",
    "/tag: 종료 태그"
   ]
  },
  {
   "cell_type": "markdown",
   "id": "2a2fa071-b55b-4d7b-99a9-b924df14250a",
   "metadata": {},
   "source": [
    "웹 크롤링에 참고한 robots.txt: https://www.hankyung.com/robots.txt"
   ]
  }
 ],
 "metadata": {
  "kernelspec": {
   "display_name": "Python 3 (ipykernel)",
   "language": "python",
   "name": "python3"
  },
  "language_info": {
   "codemirror_mode": {
    "name": "ipython",
    "version": 3
   },
   "file_extension": ".py",
   "mimetype": "text/x-python",
   "name": "python",
   "nbconvert_exporter": "python",
   "pygments_lexer": "ipython3",
   "version": "3.12.3"
  }
 },
 "nbformat": 4,
 "nbformat_minor": 5
}
