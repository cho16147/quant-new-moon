{
 "cells": [
  {
   "cell_type": "code",
   "execution_count": 3,
   "id": "44607672-de7b-4ea7-8a79-8f24a0624cf0",
   "metadata": {},
   "outputs": [
    {
     "data": {
      "text/html": [
       "<div>\n",
       "<style scoped>\n",
       "    .dataframe tbody tr th:only-of-type {\n",
       "        vertical-align: middle;\n",
       "    }\n",
       "\n",
       "    .dataframe tbody tr th {\n",
       "        vertical-align: top;\n",
       "    }\n",
       "\n",
       "    .dataframe thead th {\n",
       "        text-align: right;\n",
       "    }\n",
       "</style>\n",
       "<table border=\"1\" class=\"dataframe\">\n",
       "  <thead>\n",
       "    <tr style=\"text-align: right;\">\n",
       "      <th></th>\n",
       "      <th>종목명</th>\n",
       "      <th>리포트제목</th>\n",
       "      <th>적정가격</th>\n",
       "      <th>의견</th>\n",
       "      <th>증권사</th>\n",
       "      <th>날짜</th>\n",
       "    </tr>\n",
       "  </thead>\n",
       "  <tbody>\n",
       "    <tr>\n",
       "      <th>0</th>\n",
       "      <td>SK하이닉스</td>\n",
       "      <td>리스크 관리가 좀더 필요한 시점</td>\n",
       "      <td>120000</td>\n",
       "      <td>매수(유지)</td>\n",
       "      <td>하이투자증권</td>\n",
       "      <td>2021-10-15</td>\n",
       "    </tr>\n",
       "    <tr>\n",
       "      <th>1</th>\n",
       "      <td>솔루엠</td>\n",
       "      <td>수주잔고가 쌓인다</td>\n",
       "      <td>28000</td>\n",
       "      <td>매수(유지)</td>\n",
       "      <td>하이투자증권</td>\n",
       "      <td>2021-10-15</td>\n",
       "    </tr>\n",
       "    <tr>\n",
       "      <th>2</th>\n",
       "      <td>유한양행</td>\n",
       "      <td>높아진 성공 가능성 할인보다 할증 요소</td>\n",
       "      <td>90000</td>\n",
       "      <td>매수(유지)</td>\n",
       "      <td>키움증권</td>\n",
       "      <td>2021-10-15</td>\n",
       "    </tr>\n",
       "    <tr>\n",
       "      <th>3</th>\n",
       "      <td>코스모신소재</td>\n",
       "      <td>증설은 곧 성장이다</td>\n",
       "      <td>-</td>\n",
       "      <td>-</td>\n",
       "      <td>키움증권</td>\n",
       "      <td>2021-10-15</td>\n",
       "    </tr>\n",
       "    <tr>\n",
       "      <th>4</th>\n",
       "      <td>넷마블</td>\n",
       "      <td>올해까지 실적으론 고평가, 내년 실적부턴 저평가</td>\n",
       "      <td>145000</td>\n",
       "      <td>매수</td>\n",
       "      <td>이베스트투자증권</td>\n",
       "      <td>2021-10-15</td>\n",
       "    </tr>\n",
       "  </tbody>\n",
       "</table>\n",
       "</div>"
      ],
      "text/plain": [
       "      종목명                       리포트제목    적정가격      의견       증권사          날짜\n",
       "0  SK하이닉스           리스크 관리가 좀더 필요한 시점  120000  매수(유지)    하이투자증권  2021-10-15\n",
       "1     솔루엠                   수주잔고가 쌓인다   28000  매수(유지)    하이투자증권  2021-10-15\n",
       "2    유한양행       높아진 성공 가능성 할인보다 할증 요소   90000  매수(유지)      키움증권  2021-10-15\n",
       "3  코스모신소재                  증설은 곧 성장이다       -       -      키움증권  2021-10-15\n",
       "4     넷마블  올해까지 실적으론 고평가, 내년 실적부턴 저평가  145000      매수  이베스트투자증권  2021-10-15"
      ]
     },
     "metadata": {},
     "output_type": "display_data"
    }
   ],
   "source": [
    "import os\n",
    "import pandas as pd\n",
    "\n",
    "base_dir = os.path.dirname(os.getcwd())  # 또는 notebook_dir = os.getcwd() 도 가능\n",
    "file_path = os.path.join(base_dir, \"data\", \"판다스\", \"주가리포트_샘플.txt\")\n",
    "\n",
    "df = pd.read_csv(file_path, sep = \"\\t\", encoding=\"euc-kr\")\n",
    "display(df.head())"
   ]
  },
  {
   "cell_type": "code",
   "execution_count": 18,
   "id": "8b82a548-9465-4c1b-8c7f-22f3dad75294",
   "metadata": {},
   "outputs": [
    {
     "data": {
      "text/plain": [
       "0        True\n",
       "1        True\n",
       "2        True\n",
       "3       False\n",
       "4        True\n",
       "        ...  \n",
       "1572     True\n",
       "1573     True\n",
       "1574     True\n",
       "1575     True\n",
       "1576    False\n",
       "Name: 의견, Length: 1577, dtype: bool"
      ]
     },
     "metadata": {},
     "output_type": "display_data"
    },
    {
     "data": {
      "text/plain": [
       "1088"
      ]
     },
     "metadata": {},
     "output_type": "display_data"
    },
    {
     "data": {
      "text/plain": [
       "68.99175649968295"
      ]
     },
     "metadata": {},
     "output_type": "display_data"
    }
   ],
   "source": [
    "display(df[\"의견\"].str.contains(\"매수\"))\n",
    "count = df[\"의견\"].str.contains(\"매수\").sum()\n",
    "ratio = df[\"의견\"].str.contains(\"매수\").mean() * 100\n",
    "\n",
    "display(count) # 매수 리포트의 개수\n",
    "display(ratio) # 매수 리포트의 비율"
   ]
  },
  {
   "cell_type": "code",
   "execution_count": 19,
   "id": "56001cc9-303a-4314-ad37-88b576707b87",
   "metadata": {},
   "outputs": [
    {
     "data": {
      "text/html": [
       "<div>\n",
       "<style scoped>\n",
       "    .dataframe tbody tr th:only-of-type {\n",
       "        vertical-align: middle;\n",
       "    }\n",
       "\n",
       "    .dataframe tbody tr th {\n",
       "        vertical-align: top;\n",
       "    }\n",
       "\n",
       "    .dataframe thead th {\n",
       "        text-align: right;\n",
       "    }\n",
       "</style>\n",
       "<table border=\"1\" class=\"dataframe\">\n",
       "  <thead>\n",
       "    <tr style=\"text-align: right;\">\n",
       "      <th></th>\n",
       "      <th>종목명</th>\n",
       "      <th>리포트제목</th>\n",
       "      <th>적정가격</th>\n",
       "      <th>의견</th>\n",
       "      <th>증권사</th>\n",
       "      <th>날짜</th>\n",
       "    </tr>\n",
       "  </thead>\n",
       "  <tbody>\n",
       "    <tr>\n",
       "      <th>0</th>\n",
       "      <td>SK하이닉스</td>\n",
       "      <td>리스크 관리가 좀더 필요한 시점</td>\n",
       "      <td>120000</td>\n",
       "      <td>매수(유지)</td>\n",
       "      <td>하이투자증권</td>\n",
       "      <td>2021-10-15</td>\n",
       "    </tr>\n",
       "    <tr>\n",
       "      <th>1</th>\n",
       "      <td>솔루엠</td>\n",
       "      <td>수주잔고가 쌓인다</td>\n",
       "      <td>28000</td>\n",
       "      <td>매수(유지)</td>\n",
       "      <td>하이투자증권</td>\n",
       "      <td>2021-10-15</td>\n",
       "    </tr>\n",
       "    <tr>\n",
       "      <th>2</th>\n",
       "      <td>유한양행</td>\n",
       "      <td>높아진 성공 가능성 할인보다 할증 요소</td>\n",
       "      <td>90000</td>\n",
       "      <td>매수(유지)</td>\n",
       "      <td>키움증권</td>\n",
       "      <td>2021-10-15</td>\n",
       "    </tr>\n",
       "    <tr>\n",
       "      <th>4</th>\n",
       "      <td>넷마블</td>\n",
       "      <td>올해까지 실적으론 고평가, 내년 실적부턴 저평가</td>\n",
       "      <td>145000</td>\n",
       "      <td>매수</td>\n",
       "      <td>이베스트투자증권</td>\n",
       "      <td>2021-10-15</td>\n",
       "    </tr>\n",
       "    <tr>\n",
       "      <th>5</th>\n",
       "      <td>현대해상</td>\n",
       "      <td>보험손익 개선이 호실적을 지속 견인</td>\n",
       "      <td>35000</td>\n",
       "      <td>매수(유지)</td>\n",
       "      <td>이베스트투자증권</td>\n",
       "      <td>2021-10-15</td>\n",
       "    </tr>\n",
       "    <tr>\n",
       "      <th>...</th>\n",
       "      <td>...</td>\n",
       "      <td>...</td>\n",
       "      <td>...</td>\n",
       "      <td>...</td>\n",
       "      <td>...</td>\n",
       "      <td>...</td>\n",
       "    </tr>\n",
       "    <tr>\n",
       "      <th>1571</th>\n",
       "      <td>F&amp;F</td>\n",
       "      <td>MLB, 중국인의 마음을 저격하다</td>\n",
       "      <td>200000</td>\n",
       "      <td>매수</td>\n",
       "      <td>하나금융투자</td>\n",
       "      <td>2021-04-22</td>\n",
       "    </tr>\n",
       "    <tr>\n",
       "      <th>1572</th>\n",
       "      <td>우리금융지주</td>\n",
       "      <td>경상 수익성을 레벨업 시킨 top-line 개선</td>\n",
       "      <td>12500</td>\n",
       "      <td>매수</td>\n",
       "      <td>하나금융투자</td>\n",
       "      <td>2021-04-22</td>\n",
       "    </tr>\n",
       "    <tr>\n",
       "      <th>1573</th>\n",
       "      <td>엔씨소프트</td>\n",
       "      <td>1Q21 Preview, 리니지M, 블소2</td>\n",
       "      <td>1200000</td>\n",
       "      <td>매수(유지)</td>\n",
       "      <td>유안타증권</td>\n",
       "      <td>2021-04-22</td>\n",
       "    </tr>\n",
       "    <tr>\n",
       "      <th>1574</th>\n",
       "      <td>NAVER</td>\n",
       "      <td>1Q21 Preview, 쿠팡, LINE, 제페토</td>\n",
       "      <td>550000</td>\n",
       "      <td>매수(유지)</td>\n",
       "      <td>유안타증권</td>\n",
       "      <td>2021-04-22</td>\n",
       "    </tr>\n",
       "    <tr>\n",
       "      <th>1575</th>\n",
       "      <td>카카오</td>\n",
       "      <td>1Q21 preview, 카카오 모빌리티, 두나무</td>\n",
       "      <td>135000</td>\n",
       "      <td>매수(유지)</td>\n",
       "      <td>유안타증권</td>\n",
       "      <td>2021-04-22</td>\n",
       "    </tr>\n",
       "  </tbody>\n",
       "</table>\n",
       "<p>1088 rows × 6 columns</p>\n",
       "</div>"
      ],
      "text/plain": [
       "         종목명                        리포트제목     적정가격      의견       증권사  \\\n",
       "0     SK하이닉스            리스크 관리가 좀더 필요한 시점   120000  매수(유지)    하이투자증권   \n",
       "1        솔루엠                    수주잔고가 쌓인다    28000  매수(유지)    하이투자증권   \n",
       "2       유한양행        높아진 성공 가능성 할인보다 할증 요소    90000  매수(유지)      키움증권   \n",
       "4        넷마블   올해까지 실적으론 고평가, 내년 실적부턴 저평가   145000      매수  이베스트투자증권   \n",
       "5       현대해상          보험손익 개선이 호실적을 지속 견인    35000  매수(유지)  이베스트투자증권   \n",
       "...      ...                          ...      ...     ...       ...   \n",
       "1571     F&F           MLB, 중국인의 마음을 저격하다   200000      매수    하나금융투자   \n",
       "1572  우리금융지주   경상 수익성을 레벨업 시킨 top-line 개선    12500      매수    하나금융투자   \n",
       "1573   엔씨소프트     1Q21 Preview, 리니지M, 블소2   1200000  매수(유지)     유안타증권   \n",
       "1574   NAVER  1Q21 Preview, 쿠팡, LINE, 제페토   550000  매수(유지)     유안타증권   \n",
       "1575     카카오  1Q21 preview, 카카오 모빌리티, 두나무   135000  매수(유지)     유안타증권   \n",
       "\n",
       "              날짜  \n",
       "0     2021-10-15  \n",
       "1     2021-10-15  \n",
       "2     2021-10-15  \n",
       "4     2021-10-15  \n",
       "5     2021-10-15  \n",
       "...          ...  \n",
       "1571  2021-04-22  \n",
       "1572  2021-04-22  \n",
       "1573  2021-04-22  \n",
       "1574  2021-04-22  \n",
       "1575  2021-04-22  \n",
       "\n",
       "[1088 rows x 6 columns]"
      ]
     },
     "metadata": {},
     "output_type": "display_data"
    }
   ],
   "source": [
    "display(df.loc[df[\"의견\"].str.contains(\"매수\")])"
   ]
  },
  {
   "cell_type": "code",
   "execution_count": 21,
   "id": "65b59abc-27be-4bdd-b9f0-c60d01c14ce3",
   "metadata": {},
   "outputs": [
    {
     "data": {
      "text/plain": [
       "의견\n",
       "매수(유지)        707\n",
       "-             420\n",
       "매수            379\n",
       "Hold           31\n",
       "중립             29\n",
       "OutPerform      8\n",
       "신규매수            2\n",
       "시장수익률           1\n",
       "Name: count, dtype: int64"
      ]
     },
     "metadata": {},
     "output_type": "display_data"
    }
   ],
   "source": [
    "# replace 메서드는 문자열의 일부를 수정한다.\n",
    "df[\"의견\"] = df[\"의견\"].str.replace(\"Neutral\", \"중립\")\n",
    "display(df['의견'].value_counts())"
   ]
  },
  {
   "cell_type": "code",
   "execution_count": 32,
   "id": "7eacfc37-7a2c-432b-a965-a7d9b25c2183",
   "metadata": {},
   "outputs": [
    {
     "data": {
      "text/plain": [
       "0       2021\n",
       "1       2021\n",
       "2       2021\n",
       "3       2021\n",
       "4       2021\n",
       "        ... \n",
       "1572    2021\n",
       "1573    2021\n",
       "1574    2021\n",
       "1575    2021\n",
       "1576    2021\n",
       "Name: 날짜, Length: 1577, dtype: object"
      ]
     },
     "metadata": {},
     "output_type": "display_data"
    }
   ],
   "source": [
    "# \"날짜\" 칼럼의 모든 요소에 대해 0번째부터 4번째까지, 앞의 네 개 문자열을 슬라이싱.\n",
    "display(df[\"날짜\"].str.slice(0,4))"
   ]
  },
  {
   "cell_type": "code",
   "execution_count": 33,
   "id": "06b548e1-4aae-45fd-b11c-5c89cd686e02",
   "metadata": {},
   "outputs": [
    {
     "data": {
      "text/plain": [
       "0       [2021, 10, 15]\n",
       "1       [2021, 10, 15]\n",
       "2       [2021, 10, 15]\n",
       "3       [2021, 10, 15]\n",
       "4       [2021, 10, 15]\n",
       "             ...      \n",
       "1572    [2021, 04, 22]\n",
       "1573    [2021, 04, 22]\n",
       "1574    [2021, 04, 22]\n",
       "1575    [2021, 04, 22]\n",
       "1576    [2021, 04, 22]\n",
       "Name: 날짜, Length: 1577, dtype: object"
      ]
     },
     "metadata": {},
     "output_type": "display_data"
    }
   ],
   "source": [
    "# split 메서드는 문자열을 입력한 구분자로 나누어 리스트로 변환한다.\n",
    "display(df[\"날짜\"].str.split(\"-\"))"
   ]
  },
  {
   "cell_type": "code",
   "execution_count": 34,
   "id": "fed774d1-63f2-477b-8b2c-72166728b674",
   "metadata": {},
   "outputs": [
    {
     "data": {
      "text/html": [
       "<div>\n",
       "<style scoped>\n",
       "    .dataframe tbody tr th:only-of-type {\n",
       "        vertical-align: middle;\n",
       "    }\n",
       "\n",
       "    .dataframe tbody tr th {\n",
       "        vertical-align: top;\n",
       "    }\n",
       "\n",
       "    .dataframe thead th {\n",
       "        text-align: right;\n",
       "    }\n",
       "</style>\n",
       "<table border=\"1\" class=\"dataframe\">\n",
       "  <thead>\n",
       "    <tr style=\"text-align: right;\">\n",
       "      <th></th>\n",
       "      <th>0</th>\n",
       "      <th>1</th>\n",
       "      <th>2</th>\n",
       "    </tr>\n",
       "  </thead>\n",
       "  <tbody>\n",
       "    <tr>\n",
       "      <th>0</th>\n",
       "      <td>2021</td>\n",
       "      <td>10</td>\n",
       "      <td>15</td>\n",
       "    </tr>\n",
       "    <tr>\n",
       "      <th>1</th>\n",
       "      <td>2021</td>\n",
       "      <td>10</td>\n",
       "      <td>15</td>\n",
       "    </tr>\n",
       "    <tr>\n",
       "      <th>2</th>\n",
       "      <td>2021</td>\n",
       "      <td>10</td>\n",
       "      <td>15</td>\n",
       "    </tr>\n",
       "    <tr>\n",
       "      <th>3</th>\n",
       "      <td>2021</td>\n",
       "      <td>10</td>\n",
       "      <td>15</td>\n",
       "    </tr>\n",
       "    <tr>\n",
       "      <th>4</th>\n",
       "      <td>2021</td>\n",
       "      <td>10</td>\n",
       "      <td>15</td>\n",
       "    </tr>\n",
       "    <tr>\n",
       "      <th>...</th>\n",
       "      <td>...</td>\n",
       "      <td>...</td>\n",
       "      <td>...</td>\n",
       "    </tr>\n",
       "    <tr>\n",
       "      <th>1572</th>\n",
       "      <td>2021</td>\n",
       "      <td>04</td>\n",
       "      <td>22</td>\n",
       "    </tr>\n",
       "    <tr>\n",
       "      <th>1573</th>\n",
       "      <td>2021</td>\n",
       "      <td>04</td>\n",
       "      <td>22</td>\n",
       "    </tr>\n",
       "    <tr>\n",
       "      <th>1574</th>\n",
       "      <td>2021</td>\n",
       "      <td>04</td>\n",
       "      <td>22</td>\n",
       "    </tr>\n",
       "    <tr>\n",
       "      <th>1575</th>\n",
       "      <td>2021</td>\n",
       "      <td>04</td>\n",
       "      <td>22</td>\n",
       "    </tr>\n",
       "    <tr>\n",
       "      <th>1576</th>\n",
       "      <td>2021</td>\n",
       "      <td>04</td>\n",
       "      <td>22</td>\n",
       "    </tr>\n",
       "  </tbody>\n",
       "</table>\n",
       "<p>1577 rows × 3 columns</p>\n",
       "</div>"
      ],
      "text/plain": [
       "         0   1   2\n",
       "0     2021  10  15\n",
       "1     2021  10  15\n",
       "2     2021  10  15\n",
       "3     2021  10  15\n",
       "4     2021  10  15\n",
       "...    ...  ..  ..\n",
       "1572  2021  04  22\n",
       "1573  2021  04  22\n",
       "1574  2021  04  22\n",
       "1575  2021  04  22\n",
       "1576  2021  04  22\n",
       "\n",
       "[1577 rows x 3 columns]"
      ]
     },
     "metadata": {},
     "output_type": "display_data"
    }
   ],
   "source": [
    "# split으로 얻은 리스트를 데이터프레임으로.\n",
    "display(df[\"날짜\"].str.split(\"-\", expand = True))"
   ]
  },
  {
   "cell_type": "code",
   "execution_count": 36,
   "id": "01caa6b5-0614-4203-8d83-144488436a09",
   "metadata": {},
   "outputs": [
    {
     "data": {
      "text/html": [
       "<div>\n",
       "<style scoped>\n",
       "    .dataframe tbody tr th:only-of-type {\n",
       "        vertical-align: middle;\n",
       "    }\n",
       "\n",
       "    .dataframe tbody tr th {\n",
       "        vertical-align: top;\n",
       "    }\n",
       "\n",
       "    .dataframe thead th {\n",
       "        text-align: right;\n",
       "    }\n",
       "</style>\n",
       "<table border=\"1\" class=\"dataframe\">\n",
       "  <thead>\n",
       "    <tr style=\"text-align: right;\">\n",
       "      <th></th>\n",
       "      <th>종목명</th>\n",
       "      <th>리포트제목</th>\n",
       "      <th>적정가격</th>\n",
       "      <th>의견</th>\n",
       "      <th>증권사</th>\n",
       "      <th>날짜</th>\n",
       "      <th>연</th>\n",
       "      <th>월</th>\n",
       "      <th>일</th>\n",
       "    </tr>\n",
       "  </thead>\n",
       "  <tbody>\n",
       "    <tr>\n",
       "      <th>0</th>\n",
       "      <td>SK하이닉스</td>\n",
       "      <td>리스크 관리가 좀더 필요한 시점</td>\n",
       "      <td>120000</td>\n",
       "      <td>매수(유지)</td>\n",
       "      <td>하이투자증권</td>\n",
       "      <td>2021-10-15</td>\n",
       "      <td>2021</td>\n",
       "      <td>10</td>\n",
       "      <td>15</td>\n",
       "    </tr>\n",
       "    <tr>\n",
       "      <th>1</th>\n",
       "      <td>솔루엠</td>\n",
       "      <td>수주잔고가 쌓인다</td>\n",
       "      <td>28000</td>\n",
       "      <td>매수(유지)</td>\n",
       "      <td>하이투자증권</td>\n",
       "      <td>2021-10-15</td>\n",
       "      <td>2021</td>\n",
       "      <td>10</td>\n",
       "      <td>15</td>\n",
       "    </tr>\n",
       "    <tr>\n",
       "      <th>2</th>\n",
       "      <td>유한양행</td>\n",
       "      <td>높아진 성공 가능성 할인보다 할증 요소</td>\n",
       "      <td>90000</td>\n",
       "      <td>매수(유지)</td>\n",
       "      <td>키움증권</td>\n",
       "      <td>2021-10-15</td>\n",
       "      <td>2021</td>\n",
       "      <td>10</td>\n",
       "      <td>15</td>\n",
       "    </tr>\n",
       "    <tr>\n",
       "      <th>3</th>\n",
       "      <td>코스모신소재</td>\n",
       "      <td>증설은 곧 성장이다</td>\n",
       "      <td>-</td>\n",
       "      <td>-</td>\n",
       "      <td>키움증권</td>\n",
       "      <td>2021-10-15</td>\n",
       "      <td>2021</td>\n",
       "      <td>10</td>\n",
       "      <td>15</td>\n",
       "    </tr>\n",
       "    <tr>\n",
       "      <th>4</th>\n",
       "      <td>넷마블</td>\n",
       "      <td>올해까지 실적으론 고평가, 내년 실적부턴 저평가</td>\n",
       "      <td>145000</td>\n",
       "      <td>매수</td>\n",
       "      <td>이베스트투자증권</td>\n",
       "      <td>2021-10-15</td>\n",
       "      <td>2021</td>\n",
       "      <td>10</td>\n",
       "      <td>15</td>\n",
       "    </tr>\n",
       "  </tbody>\n",
       "</table>\n",
       "</div>"
      ],
      "text/plain": [
       "      종목명                       리포트제목    적정가격      의견       증권사          날짜  \\\n",
       "0  SK하이닉스           리스크 관리가 좀더 필요한 시점  120000  매수(유지)    하이투자증권  2021-10-15   \n",
       "1     솔루엠                   수주잔고가 쌓인다   28000  매수(유지)    하이투자증권  2021-10-15   \n",
       "2    유한양행       높아진 성공 가능성 할인보다 할증 요소   90000  매수(유지)      키움증권  2021-10-15   \n",
       "3  코스모신소재                  증설은 곧 성장이다       -       -      키움증권  2021-10-15   \n",
       "4     넷마블  올해까지 실적으론 고평가, 내년 실적부턴 저평가  145000      매수  이베스트투자증권  2021-10-15   \n",
       "\n",
       "      연   월   일  \n",
       "0  2021  10  15  \n",
       "1  2021  10  15  \n",
       "2  2021  10  15  \n",
       "3  2021  10  15  \n",
       "4  2021  10  15  "
      ]
     },
     "metadata": {},
     "output_type": "display_data"
    }
   ],
   "source": [
    "df[[\"연\",\"월\",\"일\"]] = df[\"날짜\"].str.split(\"-\", expand = True)\n",
    "display(df.head())\n",
    "\n",
    "# 우변: 단순히 3개의 칼럼으로 쪼갠 새로운 Dataframe를 일시적으로 만든 것.\n",
    "# 좌변: 우변의 것을, 원래 df의 [\"연\"], [\"월\"], [\"일\"] 자리에 끼워넣은 것이다. 그리고 df 내부에 새 칼럼으로 저장해버림.\n",
    "# df.head(): DataFrame의 앞부분 N개의 행(row)을 출력하는 메서드. 기본값은 5."
   ]
  },
  {
   "cell_type": "code",
   "execution_count": 41,
   "id": "d717beae-f8db-4ec7-b322-42d6b86efe84",
   "metadata": {},
   "outputs": [
    {
     "name": "stdout",
     "output_type": "stream",
     "text": [
      "2025-01-01 00:00:00\n",
      "2025-03-01 00:00:00\n",
      "2025-03-17 00:00:00\n",
      "2025-03-17 13:00:00\n",
      "2025-03-17 13:30:00\n",
      "2025-03-17 13:30:20\n"
     ]
    }
   ],
   "source": [
    "a = pd.to_datetime(\"2025\")\n",
    "b = pd.to_datetime(\"2025-03\")\n",
    "c = pd.to_datetime(\"2025-03-17\")\n",
    "d = pd.to_datetime(\"2025-03-17 13\")\n",
    "e = pd.to_datetime(\"2025-03-17 13:30\")\n",
    "f = pd.to_datetime(\"2025-03-17 13:30:20\")\n",
    "print(a)\n",
    "print(b)\n",
    "print(c)\n",
    "print(d)\n",
    "print(e)\n",
    "print(f)"
   ]
  },
  {
   "cell_type": "code",
   "execution_count": 42,
   "id": "56bd0d8c-e1b7-45d3-8cf9-b12df63e197e",
   "metadata": {},
   "outputs": [
    {
     "name": "stdout",
     "output_type": "stream",
     "text": [
      "2025\n",
      "3\n",
      "17\n",
      "0\n",
      "0\n",
      "0\n"
     ]
    }
   ],
   "source": [
    "print(c.year)\n",
    "print(c.month)\n",
    "print(c.day)\n",
    "print(c.hour)\n",
    "print(c.minute)\n",
    "print(c.second)"
   ]
  },
  {
   "cell_type": "code",
   "execution_count": 43,
   "id": "d44f91fa-f9b8-472a-8c73-bcc417ab058c",
   "metadata": {},
   "outputs": [
    {
     "name": "stdout",
     "output_type": "stream",
     "text": [
      "2 days 00:00:00\n"
     ]
    }
   ],
   "source": [
    "a = pd.to_datetime(\"2020-01-03\")\n",
    "b = pd.to_datetime(\"2020-01-05\")\n",
    "print(b-a)"
   ]
  },
  {
   "cell_type": "code",
   "execution_count": 51,
   "id": "3f933b9a-3aae-4163-8e80-c92baf03b831",
   "metadata": {},
   "outputs": [],
   "source": [
    "# 한 날짜를 기준으로 특정 기간 혹은 이후의 날짜를 구하려면, Timedelta 자료형으로 연산.\n",
    "five_day = pd.to_timedelta(5, \"D\")\n",
    "five_hours = pd.to_timedelta(5, \"h\")\n",
    "five_minutes = pd.to_timedelta(5, \"m\")\n",
    "five_seconds = pd.to_timedelta(5, \"s\")\n",
    "\n",
    "# 월과 년은 기간이 고정적이지 않기에(1달은 30, 31일. 1년은 365, 366일) Timedelta로 만들 수 없다."
   ]
  },
  {
   "cell_type": "code",
   "execution_count": 52,
   "id": "bdb06eed-e11d-4226-ad71-121143439d49",
   "metadata": {},
   "outputs": [
    {
     "name": "stdout",
     "output_type": "stream",
     "text": [
      "2019-12-29 00:00:00\n",
      "2020-01-02 19:00:00\n",
      "2020-01-02 23:55:00\n",
      "2020-01-02 23:59:55\n"
     ]
    }
   ],
   "source": [
    "print(a - five_day)\n",
    "print(a - five_hours)\n",
    "print(a - five_minutes)\n",
    "print(a - five_seconds)"
   ]
  },
  {
   "cell_type": "code",
   "execution_count": 55,
   "id": "07080144-b6eb-4aff-9a41-1c796d18fb65",
   "metadata": {},
   "outputs": [
    {
     "name": "stdout",
     "output_type": "stream",
     "text": [
      "object\n",
      "datetime64[ns]\n"
     ]
    }
   ],
   "source": [
    "print(df[\"날짜\"].dtype)\n",
    "df[\"날짜\"] = pd.to_datetime(df[\"날짜\"]) # 날짜 자료형으로 변경\n",
    "print(df[\"날짜\"].dtype)"
   ]
  },
  {
   "cell_type": "code",
   "execution_count": 61,
   "id": "d4c65144-7999-40aa-af35-3457989dac11",
   "metadata": {},
   "outputs": [
    {
     "data": {
      "text/html": [
       "<div>\n",
       "<style scoped>\n",
       "    .dataframe tbody tr th:only-of-type {\n",
       "        vertical-align: middle;\n",
       "    }\n",
       "\n",
       "    .dataframe tbody tr th {\n",
       "        vertical-align: top;\n",
       "    }\n",
       "\n",
       "    .dataframe thead th {\n",
       "        text-align: right;\n",
       "    }\n",
       "</style>\n",
       "<table border=\"1\" class=\"dataframe\">\n",
       "  <thead>\n",
       "    <tr style=\"text-align: right;\">\n",
       "      <th></th>\n",
       "      <th>연</th>\n",
       "      <th>월</th>\n",
       "      <th>일</th>\n",
       "      <th>dt_년</th>\n",
       "      <th>dt_월</th>\n",
       "      <th>dt_일</th>\n",
       "    </tr>\n",
       "  </thead>\n",
       "  <tbody>\n",
       "    <tr>\n",
       "      <th>0</th>\n",
       "      <td>2021</td>\n",
       "      <td>10</td>\n",
       "      <td>15</td>\n",
       "      <td>2021</td>\n",
       "      <td>10</td>\n",
       "      <td>15</td>\n",
       "    </tr>\n",
       "    <tr>\n",
       "      <th>1</th>\n",
       "      <td>2021</td>\n",
       "      <td>10</td>\n",
       "      <td>15</td>\n",
       "      <td>2021</td>\n",
       "      <td>10</td>\n",
       "      <td>15</td>\n",
       "    </tr>\n",
       "    <tr>\n",
       "      <th>2</th>\n",
       "      <td>2021</td>\n",
       "      <td>10</td>\n",
       "      <td>15</td>\n",
       "      <td>2021</td>\n",
       "      <td>10</td>\n",
       "      <td>15</td>\n",
       "    </tr>\n",
       "    <tr>\n",
       "      <th>3</th>\n",
       "      <td>2021</td>\n",
       "      <td>10</td>\n",
       "      <td>15</td>\n",
       "      <td>2021</td>\n",
       "      <td>10</td>\n",
       "      <td>15</td>\n",
       "    </tr>\n",
       "    <tr>\n",
       "      <th>4</th>\n",
       "      <td>2021</td>\n",
       "      <td>10</td>\n",
       "      <td>15</td>\n",
       "      <td>2021</td>\n",
       "      <td>10</td>\n",
       "      <td>15</td>\n",
       "    </tr>\n",
       "  </tbody>\n",
       "</table>\n",
       "</div>"
      ],
      "text/plain": [
       "      연   월   일  dt_년  dt_월  dt_일\n",
       "0  2021  10  15  2021    10    15\n",
       "1  2021  10  15  2021    10    15\n",
       "2  2021  10  15  2021    10    15\n",
       "3  2021  10  15  2021    10    15\n",
       "4  2021  10  15  2021    10    15"
      ]
     },
     "metadata": {},
     "output_type": "display_data"
    },
    {
     "data": {
      "text/plain": [
       "연       object\n",
       "월       object\n",
       "일       object\n",
       "dt_년     int32\n",
       "dt_월     int32\n",
       "dt_일     int32\n",
       "dtype: object"
      ]
     },
     "metadata": {},
     "output_type": "display_data"
    }
   ],
   "source": [
    "df[\"dt_년\"] = df[\"날짜\"].dt.year # dt 접근자로 year 가져오기\n",
    "df[\"dt_월\"] = df[\"날짜\"].dt.month # dt 접근자로 month 가져오기\n",
    "df[\"dt_일\"] = df[\"날짜\"].dt.day # dt 접근자로 day 가져오기\n",
    "display(df[[\"연\", \"월\", \"일\", \"dt_년\", \"dt_월\", \"dt_일\"]].head())\n",
    "\n",
    "display(df[[\"연\", \"월\", \"일\", \"dt_년\", \"dt_월\", \"dt_일\"]].dtypes)"
   ]
  },
  {
   "cell_type": "code",
   "execution_count": 62,
   "id": "f77f8f8c-a49c-4fda-b08e-32bed98cab4a",
   "metadata": {},
   "outputs": [
    {
     "data": {
      "text/plain": [
       "0   2021-10-15\n",
       "1   2021-10-15\n",
       "2   2021-10-15\n",
       "3   2021-10-15\n",
       "4   2021-10-15\n",
       "Name: 날짜, dtype: datetime64[ns]"
      ]
     },
     "metadata": {},
     "output_type": "display_data"
    },
    {
     "data": {
      "text/plain": [
       "0   2021-10-16\n",
       "1   2021-10-16\n",
       "2   2021-10-16\n",
       "3   2021-10-16\n",
       "4   2021-10-16\n",
       "Name: 날짜, dtype: datetime64[ns]"
      ]
     },
     "metadata": {},
     "output_type": "display_data"
    }
   ],
   "source": [
    "display(df['날짜'].head())\n",
    "df[\"날짜\"] = df[\"날짜\"] + pd.to_timedelta(1, \"D\")\n",
    "display(df['날짜'].head())\n",
    "\n",
    "# time"
   ]
  }
 ],
 "metadata": {
  "kernelspec": {
   "display_name": "Python 3 (ipykernel)",
   "language": "python",
   "name": "python3"
  },
  "language_info": {
   "codemirror_mode": {
    "name": "ipython",
    "version": 3
   },
   "file_extension": ".py",
   "mimetype": "text/x-python",
   "name": "python",
   "nbconvert_exporter": "python",
   "pygments_lexer": "ipython3",
   "version": "3.12.3"
  }
 },
 "nbformat": 4,
 "nbformat_minor": 5
}
