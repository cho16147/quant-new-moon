{
 "cells": [
  {
   "cell_type": "code",
   "execution_count": 9,
   "id": "220968e8-26c3-46f8-8c5f-26e5b8353777",
   "metadata": {},
   "outputs": [
    {
     "data": {
      "text/html": [
       "<div>\n",
       "<style scoped>\n",
       "    .dataframe tbody tr th:only-of-type {\n",
       "        vertical-align: middle;\n",
       "    }\n",
       "\n",
       "    .dataframe tbody tr th {\n",
       "        vertical-align: top;\n",
       "    }\n",
       "\n",
       "    .dataframe thead th {\n",
       "        text-align: right;\n",
       "    }\n",
       "</style>\n",
       "<table border=\"1\" class=\"dataframe\">\n",
       "  <thead>\n",
       "    <tr style=\"text-align: right;\">\n",
       "      <th></th>\n",
       "      <th>A</th>\n",
       "      <th>B</th>\n",
       "      <th>C</th>\n",
       "    </tr>\n",
       "  </thead>\n",
       "  <tbody>\n",
       "    <tr>\n",
       "      <th>0</th>\n",
       "      <td>1</td>\n",
       "      <td>2</td>\n",
       "      <td>3</td>\n",
       "    </tr>\n",
       "    <tr>\n",
       "      <th>1</th>\n",
       "      <td>4</td>\n",
       "      <td>5</td>\n",
       "      <td>6</td>\n",
       "    </tr>\n",
       "  </tbody>\n",
       "</table>\n",
       "</div>"
      ],
      "text/plain": [
       "   A  B  C\n",
       "0  1  2  3\n",
       "1  4  5  6"
      ]
     },
     "metadata": {},
     "output_type": "display_data"
    }
   ],
   "source": [
    "import pandas as pd\n",
    "path = r\"C:\\Users\\cho16\\Desktop\\my_quant\\data\\판다스\\base_sample.csv\"\n",
    "df = pd.read_csv(path)\n",
    "display(df)"
   ]
  },
  {
   "cell_type": "code",
   "execution_count": 11,
   "id": "8e71f17a-b9d2-4766-89bd-6781d949d930",
   "metadata": {},
   "outputs": [],
   "source": [
    "import os\n",
    "os.chdir(r\"C:\\Users\\cho16\\Desktop\\my_quant\\data\\판다스\") # os.chdir 함수로 현재 경로를 설정 \n",
    "df=pd.read_csv(\"base_sample.csv\") # 파일명만 입력해서 불러오기"
   ]
  },
  {
   "cell_type": "code",
   "execution_count": 13,
   "id": "c956c01c-eb74-45cb-8bb9-14539a2a8b30",
   "metadata": {},
   "outputs": [
    {
     "name": "stdout",
     "output_type": "stream",
     "text": [
      "C:\\Users\\cho16\\Desktop\\my_quant\n"
     ]
    }
   ],
   "source": [
    "os.chdir(r\"C:\\Users\\cho16\\Desktop\\my_quant\") # os.chdir는 디렉토리(폴더)로만 이동 가능하다.\n",
    "print(os.getcwd())"
   ]
  },
  {
   "cell_type": "code",
   "execution_count": 15,
   "id": "69a511ab-e6a5-4ea2-bd86-5b510b27bc9c",
   "metadata": {},
   "outputs": [
    {
     "name": "stdout",
     "output_type": "stream",
     "text": [
      "C:\\Users\\cho16\\Desktop\n"
     ]
    }
   ],
   "source": [
    "os.chdir(\"..\")\n",
    "print(os.getcwd())"
   ]
  },
  {
   "cell_type": "code",
   "execution_count": 29,
   "id": "58f14bdf-70e3-4711-90e3-ba82045fb5d4",
   "metadata": {},
   "outputs": [
    {
     "name": "stdout",
     "output_type": "stream",
     "text": [
      "C:\\Users\\cho16\\Desktop\\my_quant\\Ch03-Pandas\n"
     ]
    },
    {
     "data": {
      "text/html": [
       "<div>\n",
       "<style scoped>\n",
       "    .dataframe tbody tr th:only-of-type {\n",
       "        vertical-align: middle;\n",
       "    }\n",
       "\n",
       "    .dataframe tbody tr th {\n",
       "        vertical-align: top;\n",
       "    }\n",
       "\n",
       "    .dataframe thead th {\n",
       "        text-align: right;\n",
       "    }\n",
       "</style>\n",
       "<table border=\"1\" class=\"dataframe\">\n",
       "  <thead>\n",
       "    <tr style=\"text-align: right;\">\n",
       "      <th></th>\n",
       "      <th>A</th>\n",
       "      <th>B</th>\n",
       "      <th>C</th>\n",
       "    </tr>\n",
       "  </thead>\n",
       "  <tbody>\n",
       "    <tr>\n",
       "      <th>0</th>\n",
       "      <td>1</td>\n",
       "      <td>2</td>\n",
       "      <td>3</td>\n",
       "    </tr>\n",
       "    <tr>\n",
       "      <th>1</th>\n",
       "      <td>4</td>\n",
       "      <td>5</td>\n",
       "      <td>6</td>\n",
       "    </tr>\n",
       "  </tbody>\n",
       "</table>\n",
       "</div>"
      ],
      "text/plain": [
       "   A  B  C\n",
       "0  1  2  3\n",
       "1  4  5  6"
      ]
     },
     "metadata": {},
     "output_type": "display_data"
    }
   ],
   "source": [
    "os.chdir(r\"C:\\Users\\cho16\\Desktop\\my_quant\\Ch03-Pandas\")\n",
    "print(os.getcwd())\n",
    "\n",
    "df=pd.read_csv(r\"C:\\Users\\cho16\\Desktop\\my_quant\\data\\판다스\\base_sample.csv\")\n",
    "display(df)"
   ]
  },
  {
   "cell_type": "code",
   "execution_count": 32,
   "id": "8b7b072e-f160-4661-a9a0-ac48e627025d",
   "metadata": {},
   "outputs": [
    {
     "data": {
      "text/html": [
       "<div>\n",
       "<style scoped>\n",
       "    .dataframe tbody tr th:only-of-type {\n",
       "        vertical-align: middle;\n",
       "    }\n",
       "\n",
       "    .dataframe tbody tr th {\n",
       "        vertical-align: top;\n",
       "    }\n",
       "\n",
       "    .dataframe thead th {\n",
       "        text-align: right;\n",
       "    }\n",
       "</style>\n",
       "<table border=\"1\" class=\"dataframe\">\n",
       "  <thead>\n",
       "    <tr style=\"text-align: right;\">\n",
       "      <th></th>\n",
       "      <th>한글이</th>\n",
       "      <th>포함되어</th>\n",
       "      <th>있어요</th>\n",
       "    </tr>\n",
       "  </thead>\n",
       "  <tbody>\n",
       "    <tr>\n",
       "      <th>0</th>\n",
       "      <td>1</td>\n",
       "      <td>2</td>\n",
       "      <td>3</td>\n",
       "    </tr>\n",
       "    <tr>\n",
       "      <th>1</th>\n",
       "      <td>4</td>\n",
       "      <td>5</td>\n",
       "      <td>6</td>\n",
       "    </tr>\n",
       "  </tbody>\n",
       "</table>\n",
       "</div>"
      ],
      "text/plain": [
       "   한글이  포함되어  있어요\n",
       "0    1     2    3\n",
       "1    4     5    6"
      ]
     },
     "metadata": {},
     "output_type": "display_data"
    }
   ],
   "source": [
    "os.chdir(r\"C:\\Users\\cho16\\Desktop\\my_quant\\data\\판다스\")\n",
    "\n",
    "df = pd.read_csv(r\"한글_샘플.csv\", encoding=\"euc-kr\")\n",
    "display(df)  # 인코딩 미설정시 오류 뜬다."
   ]
  },
  {
   "cell_type": "code",
   "execution_count": 33,
   "id": "36cb3224-e051-48a5-8b80-d8eefcba77b9",
   "metadata": {},
   "outputs": [
    {
     "data": {
      "text/plain": [
       "0    2021-01-01\n",
       "1    2021-01-02\n",
       "2    2021-01-03\n",
       "3    2021-01-04\n",
       "4    2021-01-05\n",
       "Name: Date, dtype: object"
      ]
     },
     "metadata": {},
     "output_type": "display_data"
    },
    {
     "data": {
      "text/plain": [
       "0   2021-01-01\n",
       "1   2021-01-02\n",
       "2   2021-01-03\n",
       "3   2021-01-04\n",
       "4   2021-01-05\n",
       "Name: Date, dtype: datetime64[ns]"
      ]
     },
     "metadata": {},
     "output_type": "display_data"
    }
   ],
   "source": [
    "df1 = pd.read_csv(\"날짜_샘플.csv\")\n",
    "df2 = pd.read_csv(\"날짜_샘플.csv\", parse_dates = [\"Date\"])\n",
    "display(df1[\"Date\"].head())\n",
    "display(df2[\"Date\"].head())\n",
    "# object 자료형은 문자 자료형. datetime64[ns]는 날짜 자료형."
   ]
  },
  {
   "cell_type": "code",
   "execution_count": 34,
   "id": "d0eaf6a6-9d04-4ed3-bc85-817f13ce7bba",
   "metadata": {},
   "outputs": [
    {
     "data": {
      "text/html": [
       "<div>\n",
       "<style scoped>\n",
       "    .dataframe tbody tr th:only-of-type {\n",
       "        vertical-align: middle;\n",
       "    }\n",
       "\n",
       "    .dataframe tbody tr th {\n",
       "        vertical-align: top;\n",
       "    }\n",
       "\n",
       "    .dataframe thead th {\n",
       "        text-align: right;\n",
       "    }\n",
       "</style>\n",
       "<table border=\"1\" class=\"dataframe\">\n",
       "  <thead>\n",
       "    <tr style=\"text-align: right;\">\n",
       "      <th></th>\n",
       "      <th>A</th>\n",
       "      <th>B</th>\n",
       "      <th>C</th>\n",
       "      <th>D</th>\n",
       "      <th>E</th>\n",
       "      <th>F</th>\n",
       "      <th>G</th>\n",
       "      <th>H</th>\n",
       "    </tr>\n",
       "  </thead>\n",
       "  <tbody>\n",
       "    <tr>\n",
       "      <th>0</th>\n",
       "      <td>58.38</td>\n",
       "      <td>86.05</td>\n",
       "      <td>47.82</td>\n",
       "      <td>24.14</td>\n",
       "      <td>50.39</td>\n",
       "      <td>19.72</td>\n",
       "      <td>56.29</td>\n",
       "      <td>99.61</td>\n",
       "    </tr>\n",
       "    <tr>\n",
       "      <th>1</th>\n",
       "      <td>87.27</td>\n",
       "      <td>15.92</td>\n",
       "      <td>11.76</td>\n",
       "      <td>8.59</td>\n",
       "      <td>12.33</td>\n",
       "      <td>78.19</td>\n",
       "      <td>13.33</td>\n",
       "      <td>39.17</td>\n",
       "    </tr>\n",
       "    <tr>\n",
       "      <th>2</th>\n",
       "      <td>25.26</td>\n",
       "      <td>8.21</td>\n",
       "      <td>46.60</td>\n",
       "      <td>33.13</td>\n",
       "      <td>93.67</td>\n",
       "      <td>94.66</td>\n",
       "      <td>15.37</td>\n",
       "      <td>12.02</td>\n",
       "    </tr>\n",
       "    <tr>\n",
       "      <th>3</th>\n",
       "      <td>15.39</td>\n",
       "      <td>36.19</td>\n",
       "      <td>21.99</td>\n",
       "      <td>53.12</td>\n",
       "      <td>35.38</td>\n",
       "      <td>83.65</td>\n",
       "      <td>59.07</td>\n",
       "      <td>88.22</td>\n",
       "    </tr>\n",
       "    <tr>\n",
       "      <th>4</th>\n",
       "      <td>36.38</td>\n",
       "      <td>70.75</td>\n",
       "      <td>55.47</td>\n",
       "      <td>78.35</td>\n",
       "      <td>33.54</td>\n",
       "      <td>34.72</td>\n",
       "      <td>43.31</td>\n",
       "      <td>38.36</td>\n",
       "    </tr>\n",
       "    <tr>\n",
       "      <th>5</th>\n",
       "      <td>2.48</td>\n",
       "      <td>29.26</td>\n",
       "      <td>12.51</td>\n",
       "      <td>38.20</td>\n",
       "      <td>32.43</td>\n",
       "      <td>53.43</td>\n",
       "      <td>70.00</td>\n",
       "      <td>37.99</td>\n",
       "    </tr>\n",
       "  </tbody>\n",
       "</table>\n",
       "</div>"
      ],
      "text/plain": [
       "       A      B      C      D      E      F      G      H\n",
       "0  58.38  86.05  47.82  24.14  50.39  19.72  56.29  99.61\n",
       "1  87.27  15.92  11.76   8.59  12.33  78.19  13.33  39.17\n",
       "2  25.26   8.21  46.60  33.13  93.67  94.66  15.37  12.02\n",
       "3  15.39  36.19  21.99  53.12  35.38  83.65  59.07  88.22\n",
       "4  36.38  70.75  55.47  78.35  33.54  34.72  43.31  38.36\n",
       "5   2.48  29.26  12.51  38.20  32.43  53.43  70.00  37.99"
      ]
     },
     "metadata": {},
     "output_type": "display_data"
    },
    {
     "data": {
      "text/plain": [
       "Index(['A', 'B', 'C', 'D', 'E', 'F', 'G', 'H'], dtype='object')"
      ]
     },
     "metadata": {},
     "output_type": "display_data"
    },
    {
     "data": {
      "text/plain": [
       "Index(['A', 'B', 'C'], dtype='object')"
      ]
     },
     "metadata": {},
     "output_type": "display_data"
    }
   ],
   "source": [
    "df1 = pd.read_csv(\"변수10개_샘플.csv\")\n",
    "df2 = pd.read_csv(\"변수10개_샘플.csv\", usecols = [\"A\", \"B\", \"C\"])\n",
    "# usecols 인자는 불러올 칼럼을 지정한다.\n",
    "display(df1)\n",
    "display(df1.columns)\n",
    "display(df2.columns)"
   ]
  },
  {
   "cell_type": "code",
   "execution_count": 145,
   "id": "b8103d96-1ffa-43dd-9a4d-b53ac6dd6fe4",
   "metadata": {},
   "outputs": [
    {
     "data": {
      "text/html": [
       "<div>\n",
       "<style scoped>\n",
       "    .dataframe tbody tr th:only-of-type {\n",
       "        vertical-align: middle;\n",
       "    }\n",
       "\n",
       "    .dataframe tbody tr th {\n",
       "        vertical-align: top;\n",
       "    }\n",
       "\n",
       "    .dataframe thead th {\n",
       "        text-align: right;\n",
       "    }\n",
       "</style>\n",
       "<table border=\"1\" class=\"dataframe\">\n",
       "  <thead>\n",
       "    <tr style=\"text-align: right;\">\n",
       "      <th></th>\n",
       "      <th>A\\tB\\tC\\tD</th>\n",
       "    </tr>\n",
       "  </thead>\n",
       "  <tbody>\n",
       "    <tr>\n",
       "      <th>0</th>\n",
       "      <td>58.38\\t86.05\\t47.82\\t24.14</td>\n",
       "    </tr>\n",
       "    <tr>\n",
       "      <th>1</th>\n",
       "      <td>87.27\\t15.92\\t11.76\\t8.59</td>\n",
       "    </tr>\n",
       "    <tr>\n",
       "      <th>2</th>\n",
       "      <td>25.26\\t8.21\\t46.6\\t33.13</td>\n",
       "    </tr>\n",
       "    <tr>\n",
       "      <th>3</th>\n",
       "      <td>15.39\\t36.19\\t21.99\\t53.12</td>\n",
       "    </tr>\n",
       "    <tr>\n",
       "      <th>4</th>\n",
       "      <td>36.38\\t70.75\\t55.47\\t78.35</td>\n",
       "    </tr>\n",
       "    <tr>\n",
       "      <th>5</th>\n",
       "      <td>2.48\\t29.26\\t12.51\\t38.2</td>\n",
       "    </tr>\n",
       "  </tbody>\n",
       "</table>\n",
       "</div>"
      ],
      "text/plain": [
       "                   A\\tB\\tC\\tD\n",
       "0  58.38\\t86.05\\t47.82\\t24.14\n",
       "1   87.27\\t15.92\\t11.76\\t8.59\n",
       "2    25.26\\t8.21\\t46.6\\t33.13\n",
       "3  15.39\\t36.19\\t21.99\\t53.12\n",
       "4  36.38\\t70.75\\t55.47\\t78.35\n",
       "5    2.48\\t29.26\\t12.51\\t38.2"
      ]
     },
     "metadata": {},
     "output_type": "display_data"
    },
    {
     "data": {
      "text/html": [
       "<div>\n",
       "<style scoped>\n",
       "    .dataframe tbody tr th:only-of-type {\n",
       "        vertical-align: middle;\n",
       "    }\n",
       "\n",
       "    .dataframe tbody tr th {\n",
       "        vertical-align: top;\n",
       "    }\n",
       "\n",
       "    .dataframe thead th {\n",
       "        text-align: right;\n",
       "    }\n",
       "</style>\n",
       "<table border=\"1\" class=\"dataframe\">\n",
       "  <thead>\n",
       "    <tr style=\"text-align: right;\">\n",
       "      <th></th>\n",
       "      <th>A\\tB\\tC\\tD</th>\n",
       "    </tr>\n",
       "  </thead>\n",
       "  <tbody>\n",
       "    <tr>\n",
       "      <th>0</th>\n",
       "      <td>58.38\\t86.05\\t47.82\\t24.14</td>\n",
       "    </tr>\n",
       "    <tr>\n",
       "      <th>1</th>\n",
       "      <td>87.27\\t15.92\\t11.76\\t8.59</td>\n",
       "    </tr>\n",
       "  </tbody>\n",
       "</table>\n",
       "</div>"
      ],
      "text/plain": [
       "                   A\\tB\\tC\\tD\n",
       "0  58.38\\t86.05\\t47.82\\t24.14\n",
       "1   87.27\\t15.92\\t11.76\\t8.59"
      ]
     },
     "metadata": {},
     "output_type": "display_data"
    },
    {
     "data": {
      "text/html": [
       "<div>\n",
       "<style scoped>\n",
       "    .dataframe tbody tr th:only-of-type {\n",
       "        vertical-align: middle;\n",
       "    }\n",
       "\n",
       "    .dataframe tbody tr th {\n",
       "        vertical-align: top;\n",
       "    }\n",
       "\n",
       "    .dataframe thead th {\n",
       "        text-align: right;\n",
       "    }\n",
       "</style>\n",
       "<table border=\"1\" class=\"dataframe\">\n",
       "  <thead>\n",
       "    <tr style=\"text-align: right;\">\n",
       "      <th></th>\n",
       "      <th>A</th>\n",
       "      <th>B</th>\n",
       "      <th>C</th>\n",
       "      <th>D</th>\n",
       "    </tr>\n",
       "  </thead>\n",
       "  <tbody>\n",
       "    <tr>\n",
       "      <th>0</th>\n",
       "      <td>58.38</td>\n",
       "      <td>86.05</td>\n",
       "      <td>47.82</td>\n",
       "      <td>24.14</td>\n",
       "    </tr>\n",
       "    <tr>\n",
       "      <th>1</th>\n",
       "      <td>87.27</td>\n",
       "      <td>15.92</td>\n",
       "      <td>11.76</td>\n",
       "      <td>8.59</td>\n",
       "    </tr>\n",
       "  </tbody>\n",
       "</table>\n",
       "</div>"
      ],
      "text/plain": [
       "       A      B      C      D\n",
       "0  58.38  86.05  47.82  24.14\n",
       "1  87.27  15.92  11.76   8.59"
      ]
     },
     "metadata": {},
     "output_type": "display_data"
    }
   ],
   "source": [
    "df1 = pd.read_csv(\"tsv_샘플.txt\")\n",
    "df2 = pd.read_csv(\"tsv_샘플.txt\", sep = \"\\t\")\n",
    "# sep 인자는 파일의 구분자를 설정한다.\n",
    "# sep 인자 미설정시 기본값인 콤마(,)로 설정됨.\n",
    "display(df1)\n",
    "display(df1.head(2))\n",
    "display(df2.head(2))"
   ]
  }
 ],
 "metadata": {
  "kernelspec": {
   "display_name": "Python 3 (ipykernel)",
   "language": "python",
   "name": "python3"
  },
  "language_info": {
   "codemirror_mode": {
    "name": "ipython",
    "version": 3
   },
   "file_extension": ".py",
   "mimetype": "text/x-python",
   "name": "python",
   "nbconvert_exporter": "python",
   "pygments_lexer": "ipython3",
   "version": "3.12.3"
  }
 },
 "nbformat": 4,
 "nbformat_minor": 5
}
