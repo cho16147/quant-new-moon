{
 "cells": [
  {
   "cell_type": "markdown",
   "id": "54f35d01-1d6b-4c22-bc44-686675f1d3b5",
   "metadata": {},
   "source": [
    "**판다스의 주요 자료형은 넘파이 자료형인 ndarray에 인덱스를 추가한 것이다.**<br>\n",
    "1차원 배열 시리즈(Series), 2차원 배열 데이터프레임(Dataframe) 두 자료형 모두 인덱스와 데이터로 구성된다."
   ]
  },
  {
   "cell_type": "code",
   "execution_count": 1,
   "id": "79fb33fd-a5ed-46ed-b50d-024814c3e688",
   "metadata": {},
   "outputs": [
    {
     "data": {
      "text/plain": [
       "A    1\n",
       "B    2\n",
       "C    3\n",
       "dtype: int64"
      ]
     },
     "metadata": {},
     "output_type": "display_data"
    },
    {
     "data": {
      "text/plain": [
       "A    1.0\n",
       "B    2.0\n",
       "C    3.0\n",
       "dtype: float64"
      ]
     },
     "metadata": {},
     "output_type": "display_data"
    }
   ],
   "source": [
    "import pandas as pd\n",
    "s1 = pd.Series([1,2,3], index = [\"A\", \"B\", \"C\"])\n",
    "display(s1)\n",
    "\n",
    "s1 = s1.astype(float)\n",
    "display(s1)"
   ]
  },
  {
   "cell_type": "code",
   "execution_count": 2,
   "id": "902df7d8-a09f-49fe-bcc3-21c2702f02d8",
   "metadata": {},
   "outputs": [
    {
     "data": {
      "text/plain": [
       "0    10\n",
       "1    20\n",
       "2    30\n",
       "dtype: int64"
      ]
     },
     "metadata": {},
     "output_type": "display_data"
    }
   ],
   "source": [
    "s2 = pd.Series([10, 20, 30]) # index를 입력하지 않는 경우\n",
    "display(s2)"
   ]
  },
  {
   "cell_type": "code",
   "execution_count": 3,
   "id": "14b98229-e087-4dec-a21c-d7e87610de72",
   "metadata": {},
   "outputs": [
    {
     "data": {
      "text/plain": [
       "A    1\n",
       "B    2\n",
       "C    3\n",
       "D    4\n",
       "dtype: int64"
      ]
     },
     "metadata": {},
     "output_type": "display_data"
    },
    {
     "data": {
      "text/plain": [
       "array([1, 2, 3, 4], dtype=int64)"
      ]
     },
     "metadata": {},
     "output_type": "display_data"
    },
    {
     "data": {
      "text/plain": [
       "Index(['A', 'B', 'C', 'D'], dtype='object')"
      ]
     },
     "metadata": {},
     "output_type": "display_data"
    },
    {
     "name": "stdout",
     "output_type": "stream",
     "text": [
      "<class 'pandas.core.indexes.base.Index'>\n"
     ]
    }
   ],
   "source": [
    "s3 = pd.Series({\"A\":1, \"B\":2, \"C\":3, \"D\":4})\n",
    "display(s3)\n",
    "display(s3.values)\n",
    "display(s3.index)\n",
    "print(type(s3.index))"
   ]
  },
  {
   "cell_type": "code",
   "execution_count": 4,
   "id": "fffc7d80-ec52-4ba0-9c8b-3512950c9b83",
   "metadata": {},
   "outputs": [
    {
     "name": "stdout",
     "output_type": "stream",
     "text": [
      "Index(['A', 'B', 'C'], dtype='object')\n",
      "Index(['A', 'B', 'C', 'D'], dtype='object')\n",
      "Index(['D'], dtype='object')\n"
     ]
    }
   ],
   "source": [
    "print(s1.index.intersection(s3.index))\n",
    "print(s1.index.union(s3.index))\n",
    "print(s3.index.difference(s1.index))  # dtype='object'는 모든 데이터타입을 포함할 수 있는 자료형"
   ]
  },
  {
   "cell_type": "code",
   "execution_count": 5,
   "id": "fb02be86-8bbb-4b37-afbb-fd67bcd1836d",
   "metadata": {},
   "outputs": [
    {
     "data": {
      "text/html": [
       "<div>\n",
       "<style scoped>\n",
       "    .dataframe tbody tr th:only-of-type {\n",
       "        vertical-align: middle;\n",
       "    }\n",
       "\n",
       "    .dataframe tbody tr th {\n",
       "        vertical-align: top;\n",
       "    }\n",
       "\n",
       "    .dataframe thead th {\n",
       "        text-align: right;\n",
       "    }\n",
       "</style>\n",
       "<table border=\"1\" class=\"dataframe\">\n",
       "  <thead>\n",
       "    <tr style=\"text-align: right;\">\n",
       "      <th></th>\n",
       "      <th>A</th>\n",
       "      <th>B</th>\n",
       "    </tr>\n",
       "  </thead>\n",
       "  <tbody>\n",
       "    <tr>\n",
       "      <th>x</th>\n",
       "      <td>1</td>\n",
       "      <td>2</td>\n",
       "    </tr>\n",
       "    <tr>\n",
       "      <th>y</th>\n",
       "      <td>3</td>\n",
       "      <td>4</td>\n",
       "    </tr>\n",
       "  </tbody>\n",
       "</table>\n",
       "</div>"
      ],
      "text/plain": [
       "   A  B\n",
       "x  1  2\n",
       "y  3  4"
      ]
     },
     "metadata": {},
     "output_type": "display_data"
    },
    {
     "data": {
      "text/html": [
       "<div>\n",
       "<style scoped>\n",
       "    .dataframe tbody tr th:only-of-type {\n",
       "        vertical-align: middle;\n",
       "    }\n",
       "\n",
       "    .dataframe tbody tr th {\n",
       "        vertical-align: top;\n",
       "    }\n",
       "\n",
       "    .dataframe thead th {\n",
       "        text-align: right;\n",
       "    }\n",
       "</style>\n",
       "<table border=\"1\" class=\"dataframe\">\n",
       "  <thead>\n",
       "    <tr style=\"text-align: right;\">\n",
       "      <th></th>\n",
       "      <th>0</th>\n",
       "      <th>1</th>\n",
       "    </tr>\n",
       "  </thead>\n",
       "  <tbody>\n",
       "    <tr>\n",
       "      <th>0</th>\n",
       "      <td>1</td>\n",
       "      <td>2</td>\n",
       "    </tr>\n",
       "    <tr>\n",
       "      <th>1</th>\n",
       "      <td>3</td>\n",
       "      <td>4</td>\n",
       "    </tr>\n",
       "  </tbody>\n",
       "</table>\n",
       "</div>"
      ],
      "text/plain": [
       "   0  1\n",
       "0  1  2\n",
       "1  3  4"
      ]
     },
     "metadata": {},
     "output_type": "display_data"
    }
   ],
   "source": [
    "df1 = pd.DataFrame([[1,2],[3,4]], columns=[\"A\", \"B\"], index=[\"x\", \"y\"])\n",
    "display(df1)\n",
    "# 데이터로는 [[1,2],[3,4]], 열 인덱스로는 [\"A\", \"B\"], 행 인덱스로는 [\"x\", \"y\"]를 입력해서 데이터프레임 생성\n",
    "df2 = pd.DataFrame([[1,2],[3,4]])\n",
    "display(df2)\n",
    "# 대개 칼럼은 직접 입력하지만 인덱스는 자동 설정된 값을 씀"
   ]
  },
  {
   "cell_type": "code",
   "execution_count": 6,
   "id": "058ec5f9-004b-4f39-933e-8a7f22cd50dc",
   "metadata": {},
   "outputs": [
    {
     "data": {
      "text/html": [
       "<div>\n",
       "<style scoped>\n",
       "    .dataframe tbody tr th:only-of-type {\n",
       "        vertical-align: middle;\n",
       "    }\n",
       "\n",
       "    .dataframe tbody tr th {\n",
       "        vertical-align: top;\n",
       "    }\n",
       "\n",
       "    .dataframe thead th {\n",
       "        text-align: right;\n",
       "    }\n",
       "</style>\n",
       "<table border=\"1\" class=\"dataframe\">\n",
       "  <thead>\n",
       "    <tr style=\"text-align: right;\">\n",
       "      <th></th>\n",
       "      <th>A</th>\n",
       "      <th>B</th>\n",
       "    </tr>\n",
       "  </thead>\n",
       "  <tbody>\n",
       "    <tr>\n",
       "      <th>x</th>\n",
       "      <td>1</td>\n",
       "      <td>4</td>\n",
       "    </tr>\n",
       "    <tr>\n",
       "      <th>y</th>\n",
       "      <td>2</td>\n",
       "      <td>5</td>\n",
       "    </tr>\n",
       "    <tr>\n",
       "      <th>z</th>\n",
       "      <td>3</td>\n",
       "      <td>6</td>\n",
       "    </tr>\n",
       "  </tbody>\n",
       "</table>\n",
       "</div>"
      ],
      "text/plain": [
       "   A  B\n",
       "x  1  4\n",
       "y  2  5\n",
       "z  3  6"
      ]
     },
     "metadata": {},
     "output_type": "display_data"
    }
   ],
   "source": [
    "df3 = pd.DataFrame({\"A\": [1,2,3], \"B\": [4,5,6]}, index=[\"x\", \"y\", \"z\"])\n",
    "display(df3)"
   ]
  },
  {
   "cell_type": "code",
   "execution_count": 7,
   "id": "ddc76877-ee0b-47fc-8651-0ed3ed911982",
   "metadata": {},
   "outputs": [
    {
     "data": {
      "text/plain": [
       "array([[1, 2],\n",
       "       [3, 4]], dtype=int64)"
      ]
     },
     "metadata": {},
     "output_type": "display_data"
    },
    {
     "data": {
      "text/plain": [
       "Index(['x', 'y'], dtype='object')"
      ]
     },
     "metadata": {},
     "output_type": "display_data"
    },
    {
     "data": {
      "text/plain": [
       "Index(['A', 'B'], dtype='object')"
      ]
     },
     "metadata": {},
     "output_type": "display_data"
    }
   ],
   "source": [
    "display(df1.values) # 데이터\n",
    "display(df1.index) # 인덱스\n",
    "display(df1.columns) # 칼럼"
   ]
  },
  {
   "cell_type": "code",
   "execution_count": 8,
   "id": "21163454-be1b-48ef-9079-7db404246e3c",
   "metadata": {},
   "outputs": [
    {
     "name": "stdout",
     "output_type": "stream",
     "text": [
      "<class 'pandas.core.series.Series'>\n",
      "<class 'pandas.core.series.Series'>\n"
     ]
    }
   ],
   "source": [
    "print(type(df1.loc[\"x\"])) # 인덱스가 x인 행의 자료형 출력\n",
    "print(type(df1.loc[:, \"A\"])) # 칼럼명이 A인 열의 자료형 출력"
   ]
  },
  {
   "cell_type": "code",
   "execution_count": 30,
   "id": "f0ac55b0-11d0-415d-87e6-02e26693df41",
   "metadata": {},
   "outputs": [
    {
     "data": {
      "text/html": [
       "<div>\n",
       "<style scoped>\n",
       "    .dataframe tbody tr th:only-of-type {\n",
       "        vertical-align: middle;\n",
       "    }\n",
       "\n",
       "    .dataframe tbody tr th {\n",
       "        vertical-align: top;\n",
       "    }\n",
       "\n",
       "    .dataframe thead th {\n",
       "        text-align: right;\n",
       "    }\n",
       "</style>\n",
       "<table border=\"1\" class=\"dataframe\">\n",
       "  <thead>\n",
       "    <tr style=\"text-align: right;\">\n",
       "      <th></th>\n",
       "      <th>message</th>\n",
       "      <th>a</th>\n",
       "      <th>p</th>\n",
       "      <th>n</th>\n",
       "    </tr>\n",
       "  </thead>\n",
       "  <tbody>\n",
       "    <tr>\n",
       "      <th>0</th>\n",
       "      <td>numpy</td>\n",
       "      <td>0</td>\n",
       "      <td>1</td>\n",
       "      <td>1</td>\n",
       "    </tr>\n",
       "    <tr>\n",
       "      <th>1</th>\n",
       "      <td>pandas</td>\n",
       "      <td>2</td>\n",
       "      <td>1</td>\n",
       "      <td>1</td>\n",
       "    </tr>\n",
       "    <tr>\n",
       "      <th>2</th>\n",
       "      <td>mayplotlib</td>\n",
       "      <td>1</td>\n",
       "      <td>1</td>\n",
       "      <td>0</td>\n",
       "    </tr>\n",
       "  </tbody>\n",
       "</table>\n",
       "</div>"
      ],
      "text/plain": [
       "      message  a  p  n\n",
       "0       numpy  0  1  1\n",
       "1      pandas  2  1  1\n",
       "2  mayplotlib  1  1  0"
      ]
     },
     "metadata": {},
     "output_type": "display_data"
    }
   ],
   "source": [
    "msg_list = [\"numpy\", \"pandas\", \"mayplotlib\"]  # 메시지 목록을 정의한다.\n",
    "data = []  # 연산 결과를 저장할 변수인 data를 빈 리스트로 초기화한다. \n",
    "for msg in msg_list:  # 이 외부 for문에서, msg라는 변수가 msg_list를 순회하며 결과 데이터프레임의 행을 만든다.\n",
    "    record = [msg]  # data의 행이 될 record를 정의한다. 새로운 행으로 초기화. \n",
    "    for x in [\"a\", \"p\", \"n\"]:  # 이 내부 for문에서, x라는 변수가 \"a\", \"p\", \"n\"을 순회하며 msg에 x가 몇 회 등장했는지 record에 추가한다.\n",
    "        record.append(msg.count(x))  \n",
    "    data.append(record)  \n",
    "data = pd.DataFrame(data, columns = ['message', 'a', 'p', 'n'])  # 중첩 리스트인 data를 데이터프레임으로 바꿔준다.\n",
    "display(data)"
   ]
  }
 ],
 "metadata": {
  "kernelspec": {
   "display_name": "Python 3 (ipykernel)",
   "language": "python",
   "name": "python3"
  },
  "language_info": {
   "codemirror_mode": {
    "name": "ipython",
    "version": 3
   },
   "file_extension": ".py",
   "mimetype": "text/x-python",
   "name": "python",
   "nbconvert_exporter": "python",
   "pygments_lexer": "ipython3",
   "version": "3.12.3"
  }
 },
 "nbformat": 4,
 "nbformat_minor": 5
}
