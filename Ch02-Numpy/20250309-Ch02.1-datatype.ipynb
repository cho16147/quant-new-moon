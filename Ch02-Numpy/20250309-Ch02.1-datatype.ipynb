{
 "cells": [
  {
   "cell_type": "markdown",
   "id": "ea75ea01-58c9-4aff-8e76-9a0b7f0b70c8",
   "metadata": {},
   "source": [
    "**ndarray는 수학의 벡터, 행렬을 위해 만들어진 자료형이다.**"
   ]
  },
  {
   "cell_type": "code",
   "execution_count": 3,
   "id": "42b00b29-54e2-4ee1-aed1-7034d6adeb41",
   "metadata": {},
   "outputs": [
    {
     "name": "stdout",
     "output_type": "stream",
     "text": [
      "[1 2 3] int32\n",
      "[1. 2. 3.] float64\n",
      "['1' '2' '3'] <U11\n"
     ]
    }
   ],
   "source": [
    "import numpy as np\n",
    "arr1 = np.array([1,2,3])\n",
    "arr2 = np.array([1,2,3.0])\n",
    "arr3 = np.array([1,2,\"3\"])\n",
    "\n",
    "print(arr1, arr1.dtype)\n",
    "print(arr2, arr2.dtype)\n",
    "print(arr3, arr3.dtype) # 모든 요소의 자료형이 하나로 통일됨"
   ]
  },
  {
   "cell_type": "code",
   "execution_count": 7,
   "id": "a7eca7d6-52b8-4368-8df8-ef047c435145",
   "metadata": {},
   "outputs": [
    {
     "name": "stdout",
     "output_type": "stream",
     "text": [
      "(3,)\n",
      "(2, 3)\n",
      "(2, 2, 2)\n"
     ]
    }
   ],
   "source": [
    "arr1 = np.array([1,2,3]) # 1차원\n",
    "arr2 = np.array([[1,2,3], [4,5,6]]) # 2차원\n",
    "arr3 = np.array([[[1,2],[3,4]],[[5,6], [7,8]]]) # 3차원\n",
    "\n",
    "print(arr1.shape) # 크기가 3인 벡터\n",
    "print(arr2.shape) # 크기가 2*3인 행렬\n",
    "print(arr3.shape) # 크기가 2*2*2인 텐서"
   ]
  },
  {
   "cell_type": "code",
   "execution_count": 12,
   "id": "26e61d73-b410-471f-b5c0-df5ddc1d54aa",
   "metadata": {},
   "outputs": [
    {
     "name": "stdout",
     "output_type": "stream",
     "text": [
      "np.arange(5):[0 1 2 3 4]\n",
      "np.arange(-1, 4.5, 1.5):[-1.   0.5  2.   3.5]\n",
      "np.arange(10, 1, -1):[10  9  8  7  6  5  4  3  2]\n",
      "np.linspace(0,1,11):[0.  0.1 0.2 0.3 0.4 0.5 0.6 0.7 0.8 0.9 1. ]\n"
     ]
    }
   ],
   "source": [
    "# arrange()와 linspace()는 연속하는 요소로 구성된 ndarray를 생성한다.\n",
    "arr1 = np.arange(5) # 0부터 5까지 1씩 증가\n",
    "arr2 = np.arange(-1, 4.5, 1.5) # -1부터 4.5까지 1.5씩 증가\n",
    "arr3 = np.arange(10, 1, -1) # 10부터 1까지 -1씩 증가\n",
    "arr4 = np.linspace(0, 1, 11) # 0부터 1까지 등간격의 11개 요소 생성, 시작점과 끝점 포함.\n",
    "\n",
    "print(\"np.arange(5):{}\".format(arr1))\n",
    "print(\"np.arange(-1, 4.5, 1.5):{}\".format(arr2))\n",
    "print(\"np.arange(10, 1, -1):{}\".format(arr3))\n",
    "print(\"np.linspace(0,1,11):{}\".format(arr4))"
   ]
  },
  {
   "cell_type": "code",
   "execution_count": 14,
   "id": "e7d489c6-e1a4-45d1-80bb-0654bd9c0b5f",
   "metadata": {},
   "outputs": [
    {
     "name": "stdout",
     "output_type": "stream",
     "text": [
      "[0. 0. 0. 0. 0.]\n",
      "[[0. 0.]\n",
      " [0. 0.]\n",
      " [0. 0.]]\n",
      "[[False False]\n",
      " [False False]]\n"
     ]
    }
   ],
   "source": [
    "arr1 = np.zeros(5) #크기: 5\n",
    "arr2 = np.zeros((3,2)) # 크기: (3,2)\n",
    "arr3 = np.zeros((2,2), dtype = bool) # 크기: (2,2), 자료형: bool\n",
    "\n",
    "print(arr1)\n",
    "print(arr2)\n",
    "print(arr3)"
   ]
  },
  {
   "cell_type": "code",
   "execution_count": 20,
   "id": "8c1a26cd-0847-4e00-87a9-d46b4d0431ef",
   "metadata": {},
   "outputs": [
    {
     "name": "stdout",
     "output_type": "stream",
     "text": [
      "[0.17343191 0.78997187 0.39721306 0.35523616 0.84870124]\n",
      "[[0.83953462 0.03384725]\n",
      " [0.49423896 0.76094123]]\n"
     ]
    }
   ],
   "source": [
    "arr1 = np.random.random(5) # 크기가 5인 1차원 난수 배열 생성\n",
    "arr2 = np.random.random((2,2)) # 크기가 (2,2)인 2차원 난수 배열 생성. 2차원 배열 = 행렬(Matrix)\n",
    "print(arr1)\n",
    "print(arr2)"
   ]
  },
  {
   "cell_type": "code",
   "execution_count": 21,
   "id": "5f818969-1f78-4abf-9bfa-d5c35ef41ae5",
   "metadata": {},
   "outputs": [
    {
     "name": "stdout",
     "output_type": "stream",
     "text": [
      "[ 0.21102285 -0.65355678 -0.39671271 -2.10085265  1.0779741 ]\n",
      "[[13.29893421 12.69001147  5.3198601 ]\n",
      " [ 9.85945469  4.15943159 12.22852784]\n",
      " [10.44241022 15.09326222  8.17216184]]\n"
     ]
    }
   ],
   "source": [
    "arr3= np.random.normal(0,1,5)  \n",
    "arr4= np.random.normal(10,3, (3,3)) # 평균 10, 표준편차 3인 정규분포를 따르는 크기 (3,3)의 2차원 배열 생성\n",
    "print(arr3)\n",
    "print(arr4)"
   ]
  },
  {
   "cell_type": "code",
   "execution_count": 27,
   "id": "20eca6a7-8f75-4d9e-9dff-4f9b0a9fb666",
   "metadata": {},
   "outputs": [
    {
     "name": "stdout",
     "output_type": "stream",
     "text": [
      "[[1 2]\n",
      " [3 4]\n",
      " [5 6]]\n",
      "[[1 2]\n",
      " [3 4]\n",
      " [5 6]]\n",
      "[[1]\n",
      " [2]\n",
      " [3]\n",
      " [4]\n",
      " [5]\n",
      " [6]]\n"
     ]
    }
   ],
   "source": [
    "arr1 = np.array([1, 2, 3, 4, 5, 6])\n",
    "arr2 = np.array([[1, 2, 3], [4, 5, 6]])\n",
    "\n",
    "print(arr1.reshape(3,2))  # (6,) → (3,2)\n",
    "print(arr2.reshape(-1,2)) # -1을 쓴건 알아서 계산하라는 것임. 즉, (2,3) → (?,2)\n",
    "print(arr1.reshape(-1,1)) # 행벡터를 열벡터로 바꿀 때, (-1,1). 즉, (6,) → (?,1)"
   ]
  }
 ],
 "metadata": {
  "kernelspec": {
   "display_name": "Python 3 (ipykernel)",
   "language": "python",
   "name": "python3"
  },
  "language_info": {
   "codemirror_mode": {
    "name": "ipython",
    "version": 3
   },
   "file_extension": ".py",
   "mimetype": "text/x-python",
   "name": "python",
   "nbconvert_exporter": "python",
   "pygments_lexer": "ipython3",
   "version": "3.12.3"
  }
 },
 "nbformat": 4,
 "nbformat_minor": 5
}
