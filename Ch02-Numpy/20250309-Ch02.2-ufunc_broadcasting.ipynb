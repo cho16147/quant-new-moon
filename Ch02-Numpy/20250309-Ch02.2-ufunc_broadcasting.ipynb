{
 "cells": [
  {
   "cell_type": "code",
   "execution_count": 6,
   "id": "c7d20e94-eb39-4e23-8473-f9942c3e3e52",
   "metadata": {},
   "outputs": [],
   "source": [
    "import numpy as np\n",
    "\n",
    "x1 = np.random.random(10 ** 6)\n",
    "x2 = np.random.random(10 ** 6)"
   ]
  },
  {
   "cell_type": "code",
   "execution_count": 5,
   "id": "788c2874-5a35-47f5-b912-3923389a0349",
   "metadata": {},
   "outputs": [
    {
     "name": "stdout",
     "output_type": "stream",
     "text": [
      "2.04 ms ± 203 μs per loop (mean ± std. dev. of 7 runs, 100 loops each)\n"
     ]
    }
   ],
   "source": [
    "%%timeit\n",
    "s=x1+x2"
   ]
  },
  {
   "cell_type": "code",
   "execution_count": 7,
   "id": "e20b84e9-1be2-4130-a13e-146b104580bc",
   "metadata": {},
   "outputs": [
    {
     "name": "stdout",
     "output_type": "stream",
     "text": [
      "122 ms ± 7.27 ms per loop (mean ± std. dev. of 7 runs, 10 loops each)\n"
     ]
    }
   ],
   "source": [
    "%%timeit\n",
    "s=[]\n",
    "for e1, e2 in zip(x1, x2):\n",
    "    s.append(e1 + e2)"
   ]
  },
  {
   "cell_type": "code",
   "execution_count": 8,
   "id": "2b257b12-7450-4fae-8d34-889ddaf6fa8c",
   "metadata": {},
   "outputs": [
    {
     "name": "stdout",
     "output_type": "stream",
     "text": [
      "x = [0 1 2 3]\n",
      "y = [ 1.  4.  7. 10.]\n",
      "x+5= [5 6 7 8]\n",
      "x+y= [ 1.  5.  9. 13.]\n",
      "x-5= [-5 -4 -3 -2]\n",
      "x*2= [0 2 4 6]\n",
      "x*y= [ 0.  4. 14. 30.]\n",
      "x/2= [0.  0.5 1.  1.5]\n",
      "-x = [ 0 -1 -2 -3]\n",
      "x**2= [0 1 4 9]\n",
      "x%2= [0 1 0 1]\n"
     ]
    }
   ],
   "source": [
    "x=np.arange(4)\n",
    "y=np.linspace(1, 10, 4)\n",
    "print(\"x =\", x)\n",
    "print(\"y =\", y)\n",
    "print(\"x+5=\", x+5)\n",
    "print(\"x+y=\", x+y)\n",
    "print(\"x-5=\", x-5)\n",
    "print(\"x*2=\", x*2)\n",
    "print(\"x*y=\", x*y)\n",
    "print(\"x/2=\", x/2)\n",
    "print(\"-x =\", -x)\n",
    "print(\"x**2=\", x**2)\n",
    "print(\"x%2=\", x%2)"
   ]
  },
  {
   "cell_type": "code",
   "execution_count": 9,
   "id": "59947fef-fb3d-482a-beb5-e5f00987fe63",
   "metadata": {},
   "outputs": [
    {
     "name": "stdout",
     "output_type": "stream",
     "text": [
      "abs(x)= [2 1 0 1 2 3]\n"
     ]
    }
   ],
   "source": [
    "x=np.array([-2, -1, 0, 1, 2, 3])\n",
    "print(\"abs(x)=\", np.abs(x))"
   ]
  },
  {
   "cell_type": "code",
   "execution_count": 10,
   "id": "db7ebd0b-eea6-4327-a13b-d9fcbbc5a8b0",
   "metadata": {},
   "outputs": [
    {
     "name": "stdout",
     "output_type": "stream",
     "text": [
      "x= [1 2 3]\n",
      "e^x= [ 2.71828183  7.3890561  20.08553692]\n",
      "2^x= [2. 4. 8.]\n",
      "3^x= [ 3  9 27]\n",
      "4^x= [ 4 16 64]\n",
      "ln(x)= [0.         0.69314718 1.09861229]\n",
      "log2(x)= [0.        1.        1.5849625]\n",
      "log10(x)= [0.         0.30103    0.47712125]\n"
     ]
    }
   ],
   "source": [
    "x=np.array([1,2,3])\n",
    "print(\"x=\", x)\n",
    "print(\"e^x=\", np.exp(x))\n",
    "print(\"2^x=\", np.exp2(x))\n",
    "print(\"3^x=\", np.power(3,x))\n",
    "print(\"4^x=\", np.power(4,x))\n",
    "print(\"ln(x)=\", np.log(x))\n",
    "print(\"log2(x)=\", np.log2(x))\n",
    "print(\"log10(x)=\", np.log10(x))"
   ]
  },
  {
   "cell_type": "code",
   "execution_count": 11,
   "id": "1268e9d7-0d63-461e-8b17-0a43b71aa9bf",
   "metadata": {},
   "outputs": [
    {
     "name": "stdout",
     "output_type": "stream",
     "text": [
      "x==y:  [ True False False]\n",
      "x>y:  [False False  True]\n",
      "x>=1:  [ True  True  True]\n",
      "2\n"
     ]
    }
   ],
   "source": [
    "x=np.array([1,2,3])\n",
    "y=np.array([1,3,-2])\n",
    "\n",
    "print(\"x==y: \", x==y)\n",
    "print(\"x>y: \", x>y)\n",
    "print(\"x>=1: \", x>=1) # 대응 요소끼리 비교결과가 부울로 반환\n",
    "print(sum(x>=2)) # x >= 2의 결과가 True인 원소의 개수를 반환"
   ]
  },
  {
   "cell_type": "code",
   "execution_count": 12,
   "id": "4616302a-a9eb-4be9-b681-0d6ee0a17638",
   "metadata": {},
   "outputs": [
    {
     "name": "stdout",
     "output_type": "stream",
     "text": [
      "[0 1 2 3]\n",
      "[4 5 6 7]\n"
     ]
    }
   ],
   "source": [
    "x=np.arange(4)\n",
    "print(x)\n",
    "print(x+4)"
   ]
  }
 ],
 "metadata": {
  "kernelspec": {
   "display_name": "Python 3 (ipykernel)",
   "language": "python",
   "name": "python3"
  },
  "language_info": {
   "codemirror_mode": {
    "name": "ipython",
    "version": 3
   },
   "file_extension": ".py",
   "mimetype": "text/x-python",
   "name": "python",
   "nbconvert_exporter": "python",
   "pygments_lexer": "ipython3",
   "version": "3.12.3"
  }
 },
 "nbformat": 4,
 "nbformat_minor": 5
}
