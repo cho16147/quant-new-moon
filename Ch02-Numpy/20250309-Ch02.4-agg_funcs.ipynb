{
 "cells": [
  {
   "cell_type": "code",
   "execution_count": 2,
   "id": "c3fb68a1-9241-48d6-a778-031ee2949ee9",
   "metadata": {},
   "outputs": [
    {
     "data": {
      "text/plain": [
       "array([[ 0,  1,  2],\n",
       "       [ 3,  4,  5],\n",
       "       [ 6,  7,  8],\n",
       "       [ 9, 10, 11],\n",
       "       [12, 13, 14]])"
      ]
     },
     "metadata": {},
     "output_type": "display_data"
    },
    {
     "name": "stdout",
     "output_type": "stream",
     "text": [
      "105\n",
      "105\n"
     ]
    }
   ],
   "source": [
    "import numpy as np\n",
    "\n",
    "x=np.arange(15).reshape(5,3)\n",
    "display(x)  # 표나 그림 등 원래 모양을 유지한 채로 출력해야 할 때 display를 사용.\n",
    "print(np.sum(x)) # 넘파이 라이브러리가 제공하는 독립적인 함수이다. ndarray가 아닌 배열 자료형(튜플, 리스트 등)에도 사용 가능.\n",
    "print(x.sum()) # 우리가 만든 넘파일 배열 x 자체가 갖는 메서드다. 그러므로 리스트에는 사용 불가능."
   ]
  },
  {
   "cell_type": "code",
   "execution_count": 3,
   "id": "f5c5a15c-c73f-430c-9005-e9a4b7371f11",
   "metadata": {},
   "outputs": [
    {
     "name": "stdout",
     "output_type": "stream",
     "text": [
      "[30 35 40]\n",
      "[30 35 40]\n",
      "[ 3 12 21 30 39]\n",
      "[ 3 12 21 30 39]\n"
     ]
    }
   ],
   "source": [
    "x=np.arange(15).reshape(5,3)\n",
    "# 행을 따라 위에서 아래로 계산한다. axis = 0\n",
    "print(np.sum(x, axis = 0))\n",
    "print(x.sum(axis = 0))\n",
    "\n",
    "# 열을 따라 왼쪽에서 오른쪽으로 계산한다. axis = 1\n",
    "print(np.sum(x, axis = 1))\n",
    "print(x.sum(axis = 1))"
   ]
  },
  {
   "cell_type": "code",
   "execution_count": 5,
   "id": "2855ad52-2082-4aa2-9ed4-82434ea38856",
   "metadata": {},
   "outputs": [
    {
     "name": "stdout",
     "output_type": "stream",
     "text": [
      "열별 합계: [30 35 40]\n",
      "전체 합계: 105\n",
      "행별 최솟값: [ 0  3  6  9 12]\n",
      "열 방향 최솟값: [0 1 2]\n",
      "전체 최솟값: 0\n",
      "전체 최댓값: 14\n",
      "열별 표준편차: [4.24264069 4.24264069 4.24264069]\n",
      "전체 중위수: 7.0\n",
      "전체 상위 20%: 2.8000000000000003\n",
      "유니크한 값 목록: [ 0  1  2  3  4  5  6  7  8  9 10 11 12 13 14]\n"
     ]
    }
   ],
   "source": [
    "x=np.arange(15).reshape(5,3)\n",
    "print(\"열별 합계: {}\".format(np.sum(x, axis=0)))\n",
    "print(\"전체 합계: {}\".format(np.sum(x)))\n",
    "print(\"행별 최솟값: {}\".format(x.min(axis = 1)))\n",
    "print(\"열 방향 최솟값: {}\".format(x.min(axis = 0)))\n",
    "print(\"전체 최솟값: {}\".format(x.min()))\n",
    "print(\"전체 최댓값: {}\".format(x.max()))\n",
    "print(\"열별 표준편차: {}\".format(np.std(x, axis=0)))\n",
    "print(\"전체 중위수: {}\".format(np.median(x)))\n",
    "print(\"전체 상위 20%: {}\".format(np.quantile(x, 0.2)))\n",
    "print(\"유니크한 값 목록: {}\".format(np.unique(x)))"
   ]
  }
 ],
 "metadata": {
  "kernelspec": {
   "display_name": "Python 3 (ipykernel)",
   "language": "python",
   "name": "python3"
  },
  "language_info": {
   "codemirror_mode": {
    "name": "ipython",
    "version": 3
   },
   "file_extension": ".py",
   "mimetype": "text/x-python",
   "name": "python",
   "nbconvert_exporter": "python",
   "pygments_lexer": "ipython3",
   "version": "3.12.3"
  }
 },
 "nbformat": 4,
 "nbformat_minor": 5
}
