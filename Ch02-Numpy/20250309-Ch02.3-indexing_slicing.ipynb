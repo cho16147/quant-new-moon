{
 "cells": [
  {
   "cell_type": "code",
   "execution_count": 2,
   "id": "9e2f7e33-7d35-4d54-97c2-dc988218ee5c",
   "metadata": {},
   "outputs": [
    {
     "name": "stdout",
     "output_type": "stream",
     "text": [
      "[[0 0]\n",
      " [2 2]]\n"
     ]
    }
   ],
   "source": [
    "import numpy as np\n",
    "\n",
    "a=np.array([[1,2],[3,4]])\n",
    "b=np.array([-1, -2])\n",
    "print(a+b)\n",
    "# 크기가 다른 배열 간 연산이 가능한 이유는 브로드캐스팅 때문임. \n",
    "# 브로드캐스팅이란 다른 크기의 배열에 유니버설 함수를 적용하는 규칙의 집합.\n",
    "# 브로드캐스팅 대상이 되는 배열은 특정 차원의 크기가 반드시 1이어야만 한다."
   ]
  },
  {
   "cell_type": "code",
   "execution_count": 3,
   "id": "29ca7ef4-88ef-4fd1-856a-78a93962ce71",
   "metadata": {},
   "outputs": [
    {
     "name": "stdout",
     "output_type": "stream",
     "text": [
      "2\n",
      "2\n"
     ]
    }
   ],
   "source": [
    "x=[[1,2], [3,4]]\n",
    "print(x[0][1]) # 리스트 안에 리스트가 있는 구조. 두 번 인덱싱해서 접근한다.\n",
    "\n",
    "x=np.array(x)\n",
    "print(x[0,1]) # 넘파이 배열은 행렬이라고 했다. 즉 0행 2열을 인덱싱."
   ]
  },
  {
   "cell_type": "code",
   "execution_count": 4,
   "id": "bd1702e1-fd50-49c1-928e-b6a8533bd378",
   "metadata": {},
   "outputs": [
    {
     "name": "stdout",
     "output_type": "stream",
     "text": [
      "[1 4]\n",
      "2\n",
      "[[1 2]\n",
      " [3 4]]\n"
     ]
    }
   ],
   "source": [
    "x=np.arange(1,10)\n",
    "print(x[[0,3]]) # [0,3]이 x의 인덱스로 사용되어, 0번째와 3번째 요소인 1과 4가 반환되었다.\n",
    "\n",
    "y=np.array([[1,2],[3,4],[5,6]])\n",
    "print(y[0,1]) # 0행 1열에 있는 값 출력\n",
    "print(y[[0,1]]) # 0번째 요소, 1번째 요소 출력"
   ]
  },
  {
   "cell_type": "code",
   "execution_count": 5,
   "id": "47ea67f7-b2a3-4e6a-8b42-59863753cb69",
   "metadata": {},
   "outputs": [
    {
     "name": "stdout",
     "output_type": "stream",
     "text": [
      "[ 0  1  2  3  4  5  6  7  8  9 10 11 12 13 14 15 16 17 18 19]\n",
      "[[ 0  1  2  3  4]\n",
      " [ 5  6  7  8  9]\n",
      " [10 11 12 13 14]\n",
      " [15 16 17 18 19]]\n",
      "[6 9]\n",
      "[0 1 2]\n",
      "[2 8]\n"
     ]
    }
   ],
   "source": [
    "x=np.arange(20)\n",
    "print(x)\n",
    "x=np.arange(20).reshape(4,5)\n",
    "print(x)\n",
    "print(x[1, [1,-1]]) # 1번째 행의 1번째 열과 -1번째 열 인덱싱\n",
    "print(x[0, 0:3]) # 0번째 행의 0번째 열부터 3번째 열까지 슬라이싱\n",
    "print(x[[0,1],[2,3]]) # (0,2), (1,3) 셀 인덱싱. 팬시 인덱싱은 (행, 열) 쌍을 개별적으로 지정한다."
   ]
  },
  {
   "cell_type": "code",
   "execution_count": 6,
   "id": "07615be0-6d44-497f-b704-b1277081f72c",
   "metadata": {},
   "outputs": [
    {
     "name": "stdout",
     "output_type": "stream",
     "text": [
      "[1 3 4]\n"
     ]
    }
   ],
   "source": [
    "x=np.array([1,2,3,4,5])\n",
    "b=[True, False, True, True, False]\n",
    "print(x[b])"
   ]
  },
  {
   "cell_type": "code",
   "execution_count": 8,
   "id": "a6f3a7b4-30aa-4b10-a2fa-53dac254802f",
   "metadata": {},
   "outputs": [
    {
     "name": "stdout",
     "output_type": "stream",
     "text": [
      "[False False  True  True  True]\n",
      "[3 4 5]\n"
     ]
    }
   ],
   "source": [
    "x=np.array([1,2,3,4,5])\n",
    "cond= x >= 3  # x의 요소가 3보다 크거나 같은지를 나타내는 부울 배열을 cond에 저장한다.\n",
    "print(cond)\n",
    "print(x[cond]) # x를 cond로 필터링한 결과를 출력한다. cond의 True와 같은 위치에 있는 3,4,5가 출력됨."
   ]
  }
 ],
 "metadata": {
  "kernelspec": {
   "display_name": "Python 3 (ipykernel)",
   "language": "python",
   "name": "python3"
  },
  "language_info": {
   "codemirror_mode": {
    "name": "ipython",
    "version": 3
   },
   "file_extension": ".py",
   "mimetype": "text/x-python",
   "name": "python",
   "nbconvert_exporter": "python",
   "pygments_lexer": "ipython3",
   "version": "3.12.3"
  }
 },
 "nbformat": 4,
 "nbformat_minor": 5
}
