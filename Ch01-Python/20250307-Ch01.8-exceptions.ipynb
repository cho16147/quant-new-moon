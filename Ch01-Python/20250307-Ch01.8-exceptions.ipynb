{
 "cells": [
  {
   "cell_type": "markdown",
   "id": "d4b85e3b-70e9-4f21-afa4-1ee45ad70db0",
   "metadata": {},
   "source": [
    "예외 처리.<br>**상황에 따라 프로그램을 중단하지 않고, 다음 코드가 실행되거나 오류가 발생한 부분을 재실행하는게 더 나을 수 있다.**<br>만약 프로그램을 중단해버리면 데이터 수집을 처음부터 해야 하는 경우에 예외 처리가 유용하다."
   ]
  },
  {
   "cell_type": "code",
   "execution_count": 1,
   "id": "42a4cbf8-f1a8-4dfb-8e0c-de7d71859b14",
   "metadata": {},
   "outputs": [
    {
     "name": "stdout",
     "output_type": "stream",
     "text": [
      "0으로 나눌 수 없습니다.\n"
     ]
    }
   ],
   "source": [
    "try:\n",
    "    a= 5/0\n",
    "    print(a)\n",
    "except:\n",
    "    print(\"0으로 나눌 수 없습니다.\")\n"
   ]
  }
 ],
 "metadata": {
  "kernelspec": {
   "display_name": "Python 3 (ipykernel)",
   "language": "python",
   "name": "python3"
  },
  "language_info": {
   "codemirror_mode": {
    "name": "ipython",
    "version": 3
   },
   "file_extension": ".py",
   "mimetype": "text/x-python",
   "name": "python",
   "nbconvert_exporter": "python",
   "pygments_lexer": "ipython3",
   "version": "3.12.3"
  }
 },
 "nbformat": 4,
 "nbformat_minor": 5
}
