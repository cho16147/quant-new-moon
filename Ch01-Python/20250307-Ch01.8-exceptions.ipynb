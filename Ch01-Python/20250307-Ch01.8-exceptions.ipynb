


try:
    a= 5/0
    print(a)
except:
    print("0으로 나눌 수 없습니다.")

