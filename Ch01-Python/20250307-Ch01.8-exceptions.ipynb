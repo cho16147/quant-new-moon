{
 "cells": [
  {
   "cell_type": "raw",
   "id": "1f25131e-66a0-4095-8b27-4b038fd0503a",
   "metadata": {},
   "source": [
    "예외 처리. \n",
    "상황에 따라 프로그램을 중단하지 않고, 다음 코드가 실행되거나 오류가 발생한 부분을 재실행하는게 더 나을 수 있다.\n",
    "만약 프로그램을 중단해버리면 데이터 수집을 처음부터 해야 하는 경우."
   ]
  },
  {
   "cell_type": "code",
   "execution_count": 20,
   "id": "42a4cbf8-f1a8-4dfb-8e0c-de7d71859b14",
   "metadata": {},
   "outputs": [
    {
     "name": "stdout",
     "output_type": "stream",
     "text": [
      "0으로 나눌 수 없습니다.\n"
     ]
    }
   ],
   "source": [
    "try:\n",
    "    a= 5/0\n",
    "    print(a)\n",
    "except:\n",
    "    print(\"0으로 나눌 수 없습니다.\")\n"
   ]
  }
 ],
 "metadata": {
  "kernelspec": {
   "display_name": "Python 3 (ipykernel)",
   "language": "python",
   "name": "python3"
  },
  "language_info": {
   "codemirror_mode": {
    "name": "ipython",
    "version": 3
   },
   "file_extension": ".py",
   "mimetype": "text/x-python",
   "name": "python",
   "nbconvert_exporter": "python",
   "pygments_lexer": "ipython3",
   "version": "3.12.3"
  }
 },
 "nbformat": 4,
 "nbformat_minor": 5
}
