def f(x):
    y=2*x-1
    return y

print(f(1))

def minus(a,b):
    return a-b

print(minus(3,6))
print(minus(b=3, a=5))


def print_n_times(msg, n=2): 
    for _ in range(n):
        print(msg)
print_n_times("안녕하세요") # n을 입력받지 못한 경우 기본값으로 n=2 사용.
print_n_times("안녕..", 1)

result = print_n_times("출력이 없는 함수", n=1)
print(result) # 만약 함수가 출력을 반환하게 만들고 싶다면, return을 추가해주기.


L=[1,2,3]
print(L.append(4))
print(L)


minus = lambda x, y: x-y
minus(5,3)
