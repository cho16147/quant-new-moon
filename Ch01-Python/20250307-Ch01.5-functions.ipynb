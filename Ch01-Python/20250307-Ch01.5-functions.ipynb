{
 "cells": [
  {
   "cell_type": "code",
   "execution_count": 4,
   "id": "c9c768ba-4058-4c3f-b60d-3488fe4c2791",
   "metadata": {},
   "outputs": [
    {
     "name": "stdout",
     "output_type": "stream",
     "text": [
      "1\n",
      "-3\n",
      "2\n"
     ]
    }
   ],
   "source": [
    "def f(x):\n",
    "    y=2*x-1\n",
    "    return y\n",
    "\n",
    "print(f(1))\n",
    "\n",
    "def minus(a,b):\n",
    "    return a-b\n",
    "\n",
    "print(minus(3,6))\n",
    "print(minus(b=3, a=5))"
   ]
  },
  {
   "cell_type": "code",
   "execution_count": 9,
   "id": "5a20828c-8b0e-4b89-ae65-c3473cdcc9ad",
   "metadata": {},
   "outputs": [
    {
     "name": "stdout",
     "output_type": "stream",
     "text": [
      "안녕하세요\n",
      "안녕하세요\n",
      "안녕..\n",
      "출력이 없는 함수\n",
      "None\n"
     ]
    }
   ],
   "source": [
    "def print_n_times(msg, n=2): \n",
    "    for _ in range(n):\n",
    "        print(msg)\n",
    "print_n_times(\"안녕하세요\") # n을 입력받지 못한 경우 기본값으로 n=2 사용.\n",
    "print_n_times(\"안녕..\", 1)\n",
    "\n",
    "result = print_n_times(\"출력이 없는 함수\", n=1)\n",
    "print(result) # 만약 함수가 출력을 반환하게 만들고 싶다면, return을 추가해주기."
   ]
  },
  {
   "cell_type": "code",
   "execution_count": 10,
   "id": "6ea1b695-bbe6-4840-a7ea-f5d6e4b3776e",
   "metadata": {},
   "outputs": [
    {
     "name": "stdout",
     "output_type": "stream",
     "text": [
      "None\n",
      "[1, 2, 3, 4]\n"
     ]
    }
   ],
   "source": [
    "L=[1,2,3]\n",
    "print(L.append(4))\n",
    "print(L)"
   ]
  },
  {
   "cell_type": "code",
   "execution_count": 12,
   "id": "97a6671b-924b-4399-a9e0-a683ec5576cd",
   "metadata": {},
   "outputs": [
    {
     "data": {
      "text/plain": [
       "2"
      ]
     },
     "execution_count": 12,
     "metadata": {},
     "output_type": "execute_result"
    }
   ],
   "source": [
    "minus = lambda x, y: x-y\n",
    "minus(5,3)"
   ]
  }
 ],
 "metadata": {
  "kernelspec": {
   "display_name": "Python 3 (ipykernel)",
   "language": "python",
   "name": "python3"
  },
  "language_info": {
   "codemirror_mode": {
    "name": "ipython",
    "version": 3
   },
   "file_extension": ".py",
   "mimetype": "text/x-python",
   "name": "python",
   "nbconvert_exporter": "python",
   "pygments_lexer": "ipython3",
   "version": "3.12.3"
  }
 },
 "nbformat": 4,
 "nbformat_minor": 5
}
