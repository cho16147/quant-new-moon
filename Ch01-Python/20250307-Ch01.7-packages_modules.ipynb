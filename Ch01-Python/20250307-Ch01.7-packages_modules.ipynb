


import math # math 불러오기
print(math.sqrt(4)) # math 내 squrt 함수 사용


import math as M
print(M.sqrt(4))


from math import sqrt, sin
print(sqrt(4))
print(sin(0))


from scipy.spatial.distance import cdist
cdist


from scipy import spatial
spatial.distance.cdist
