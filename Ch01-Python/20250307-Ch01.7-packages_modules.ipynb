{
 "cells": [
  {
   "cell_type": "raw",
   "id": "5780f897-ff6a-4fc1-a914-b37a2f6cff46",
   "metadata": {},
   "source": [
    "모듈은 클래스와 함수의 집합인 파이썬 파일이다.\n",
    "패키지는 여러 모듈의 집합이다."
   ]
  },
  {
   "cell_type": "code",
   "execution_count": 10,
   "id": "cbcea863-6cc4-4a8c-ac85-10801901421a",
   "metadata": {},
   "outputs": [
    {
     "name": "stdout",
     "output_type": "stream",
     "text": [
      "2.0\n"
     ]
    }
   ],
   "source": [
    "import math # math 불러오기\n",
    "print(math.sqrt(4)) # math 내 squrt 함수 사용"
   ]
  },
  {
   "cell_type": "code",
   "execution_count": 11,
   "id": "67003b0e-af3d-408b-96d0-b5bdb61d55ae",
   "metadata": {},
   "outputs": [
    {
     "name": "stdout",
     "output_type": "stream",
     "text": [
      "2.0\n"
     ]
    }
   ],
   "source": [
    "import math as M\n",
    "print(M.sqrt(4))"
   ]
  },
  {
   "cell_type": "code",
   "execution_count": 16,
   "id": "b0637be8-8ffc-477e-9609-b9a002601e4f",
   "metadata": {},
   "outputs": [
    {
     "name": "stdout",
     "output_type": "stream",
     "text": [
      "2.0\n",
      "0.0\n"
     ]
    }
   ],
   "source": [
    "from math import sqrt, sin\n",
    "print(sqrt(4))\n",
    "print(sin(0))"
   ]
  },
  {
   "cell_type": "code",
   "execution_count": 17,
   "id": "490d4d70-c7af-4ffd-a210-b44b9487962c",
   "metadata": {},
   "outputs": [
    {
     "data": {
      "text/plain": [
       "<function scipy.spatial.distance.cdist(XA, XB, metric='euclidean', *, out=None, **kwargs)>"
      ]
     },
     "execution_count": 17,
     "metadata": {},
     "output_type": "execute_result"
    }
   ],
   "source": [
    "from scipy.spatial.distance import cdist\n",
    "cdist"
   ]
  },
  {
   "cell_type": "code",
   "execution_count": 18,
   "id": "4b654df9-0b0d-43dc-b72f-449172c80255",
   "metadata": {},
   "outputs": [
    {
     "data": {
      "text/plain": [
       "<function scipy.spatial.distance.cdist(XA, XB, metric='euclidean', *, out=None, **kwargs)>"
      ]
     },
     "execution_count": 18,
     "metadata": {},
     "output_type": "execute_result"
    }
   ],
   "source": [
    "from scipy import spatial\n",
    "spatial.distance.cdist"
   ]
  }
 ],
 "metadata": {
  "kernelspec": {
   "display_name": "Python 3 (ipykernel)",
   "language": "python",
   "name": "python3"
  },
  "language_info": {
   "codemirror_mode": {
    "name": "ipython",
    "version": 3
   },
   "file_extension": ".py",
   "mimetype": "text/x-python",
   "name": "python",
   "nbconvert_exporter": "python",
   "pygments_lexer": "ipython3",
   "version": "3.12.3"
  }
 },
 "nbformat": 4,
 "nbformat_minor": 5
}
