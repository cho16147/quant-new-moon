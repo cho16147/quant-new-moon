


class Ourclass:
    pass
a = Ourclass()
b = Ourclass()
print(type(a))
print(type(b))  # 클래스가 만들어내는 인스턴스는 모두 그 클래스의 자료형이 된다.


import pandas as pd
df = pd.DataFrame() # DataFrame이라는 클래스를 이용해서 생성한 인스턴스를 df라는 변수에 저장함.
x=1

print(type(df))
print(type(x))


class Stock: # 클래스 선언
    def __init__(self, name, market = "코스피"): # 객체의 특성, 즉 속성(attribute)를 만드는 생성자가 __init__함수이다. 단 클래스 내부의 함수를 메서드라 함.
        self.name = name # 속성 정의 1
        self.market = market # 속성 정의 2, 입력값 없으면 기본값 코스피 입력됨.
# self는 클래스에서 생성하는 인스턴스 자기 자신을 가리킴.

samsung = Stock("삼성전자", "코스피") # 객체 생성
print(samsung.name, samsung.market)


class Calculator: # add_ver1과 add_ver2라는 메서드를 갖는 Calculator라는 클래스 정의. 메서드란 클래스 내부에서 정의된 함수.
    def __init__(self, value): # 객체가 생성될 때 자동으로 실행되는 함수(생성자).
        self.value = value
    def add_ver1(self, input_value): # 메서드 정의 1
        self.value += input_value
    def add_ver2(self, input_value): # 메서드 정의 2 
        return self.value + input_value

a= Calculator(10)
b= Calculator(10)
print(a.add_ver1(5)) # ver1 메서드는 return이 없으므로 None이 반환됨.
print(b.add_ver2(5)) # ver2 메서드는 10+5를 반환한다.
print(a.value) # ver1 메서드는 속성을 업데이트한다.
print(b.value) # ver2 메서드는 속성 업데이트 없이 합을 반환하고 끝.
