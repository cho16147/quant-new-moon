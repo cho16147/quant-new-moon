{
 "cells": [
  {
   "cell_type": "raw",
   "id": "61e39478-bf24-4b67-ace3-a8c6ef7775b3",
   "metadata": {},
   "source": [
    "클래스는 이해하기 어렵다. 클래스를 안쓰고도 프로그램 개발 가능하며, 이 개념이 아예 없는 언어도 있음(C).\n",
    "다만 클래스를 활용하면 규모가 큰 프로그램을 효율적으로 구현하는데 도움이 됨. \n",
    "특히 데이터 분석에 필요한 패키지(넘파이, 판다스 등)은 클래스를 사용한다.\n",
    "\n",
    "클래스는 객체를 만드는 틀이며, 클래스라는 틀로 만든 객체를 인스턴스라고 한다."
   ]
  },
  {
   "cell_type": "code",
   "execution_count": 3,
   "id": "2a65dc68-ba17-46f2-a3db-96f5b36cb679",
   "metadata": {},
   "outputs": [
    {
     "name": "stdout",
     "output_type": "stream",
     "text": [
      "<class '__main__.Ourclass'>\n",
      "<class '__main__.Ourclass'>\n"
     ]
    }
   ],
   "source": [
    "class Ourclass:\n",
    "    pass\n",
    "a = Ourclass()\n",
    "b = Ourclass()\n",
    "print(type(a))\n",
    "print(type(b))  # 클래스가 만들어내는 인스턴스는 모두 그 클래스의 자료형이 된다."
   ]
  },
  {
   "cell_type": "code",
   "execution_count": 4,
   "id": "2e066d49-f65b-4d12-9d82-773f8f5f5363",
   "metadata": {},
   "outputs": [
    {
     "name": "stdout",
     "output_type": "stream",
     "text": [
      "<class 'pandas.core.frame.DataFrame'>\n",
      "<class 'int'>\n"
     ]
    }
   ],
   "source": [
    "import pandas as pd\n",
    "df = pd.DataFrame() # DataFrame이라는 클래스를 이용해서 생성한 인스턴스를 df라는 변수에 저장함.\n",
    "x=1\n",
    "\n",
    "print(type(df))\n",
    "print(type(x))"
   ]
  },
  {
   "cell_type": "code",
   "execution_count": 6,
   "id": "bf94f6e4-a334-47ae-9cea-edc3350836d1",
   "metadata": {},
   "outputs": [
    {
     "name": "stdout",
     "output_type": "stream",
     "text": [
      "삼성전자 코스피\n"
     ]
    }
   ],
   "source": [
    "class Stock: # 클래스 선언\n",
    "    def __init__(self, name, market = \"코스피\"): # 객체의 특성, 즉 속성(attribute)를 만드는 생성자가 __init__함수이다. 단 클래스 내부의 함수를 메서드라 함.\n",
    "        self.name = name # 속성 정의 1\n",
    "        self.market = market # 속성 정의 2, 입력값 없으면 기본값 코스피 입력됨.\n",
    "# self는 클래스에서 생성하는 인스턴스 자기 자신을 가리킴.\n",
    "\n",
    "samsung = Stock(\"삼성전자\", \"코스피\") # 객체 생성\n",
    "print(samsung.name, samsung.market)"
   ]
  },
  {
   "cell_type": "code",
   "execution_count": 8,
   "id": "f75e209e-16f6-422f-8b15-8abd728d5028",
   "metadata": {},
   "outputs": [
    {
     "name": "stdout",
     "output_type": "stream",
     "text": [
      "None\n",
      "15\n",
      "15\n",
      "10\n"
     ]
    }
   ],
   "source": [
    "class Calculator: # add_ver1과 add_ver2라는 메서드를 갖는 Calculator라는 클래스 정의. 메서드란 클래스 내부에서 정의된 함수.\n",
    "    def __init__(self, value): # 객체가 생성될 때 자동으로 실행되는 함수(생성자).\n",
    "        self.value = value\n",
    "    def add_ver1(self, input_value): # 메서드 정의 1\n",
    "        self.value += input_value\n",
    "    def add_ver2(self, input_value): # 메서드 정의 2 \n",
    "        return self.value + input_value\n",
    "\n",
    "a= Calculator(10)\n",
    "b= Calculator(10)\n",
    "print(a.add_ver1(5)) # ver1 메서드는 return이 없으므로 None이 반환됨.\n",
    "print(b.add_ver2(5)) # ver2 메서드는 10+5를 반환한다.\n",
    "print(a.value) # ver1 메서드는 속성을 업데이트한다.\n",
    "print(b.value) # ver2 메서드는 속성 업데이트 없이 합을 반환하고 끝."
   ]
  }
 ],
 "metadata": {
  "kernelspec": {
   "display_name": "Python 3 (ipykernel)",
   "language": "python",
   "name": "python3"
  },
  "language_info": {
   "codemirror_mode": {
    "name": "ipython",
    "version": 3
   },
   "file_extension": ".py",
   "mimetype": "text/x-python",
   "name": "python",
   "nbconvert_exporter": "python",
   "pygments_lexer": "ipython3",
   "version": "3.12.3"
  }
 },
 "nbformat": 4,
 "nbformat_minor": 5
}
