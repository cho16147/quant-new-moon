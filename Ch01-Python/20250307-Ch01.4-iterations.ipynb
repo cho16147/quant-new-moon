# for문은 한 변수가 순회 가능(iterable)한 객체를 순회하면서 코드 블록을 반복적으로 실행한다.
L=["A", "B", "C"]
for i in L: # i가 L을 순회하며, print(i)를 수행한다.
    print(i)


T = (1,2,3,4,5)
for a in T:
    x = a **2
    y = a **3
    print(a,x,y)


X=[[1, "A"], [2, "B"], [3, "C"]]
for a, b in X:
    print(a, b)


A= [1,2,3]
B= ["A", "B", "C"]
for a, b in zip(A,B):
    print(a,b)

A=[1,2]
B=["A", "B", "C"]
for a, b in zip(A,B):
    print(a,b)


# range는 연속된 숫자 시퀀스를 생성하는 함수이다. 
for i in range(5):
    print(i)

print(list(range(5)))
print(tuple(range(5)))


a=[1,2,3]
b=["A", "B", "C"]

for i in range(len(a)):
    print(a[i], b[i])


L = ["A", "B", "C"]
for idx, value in enumerate(L):
    print(idx, value)
# 인덱스와 요소를 동시에 순회해야 하는 경우 enumerate(열거하다)함수


for i in ["A", "B"]:
    print("첫번째 반복문")
    for j in [1,2]:
        print(i, j)


A=[1,2,3]
B=["A", "B", "C"]
L=[]
for a in A:
    for b in B:
        L.append((a,b)) # (a,b)를 L에 추가
print(L)


even_sum=0
for number in range(1,101):
    if number % 2 == 0:
        even_sum += number # +=는 우변에 있는 값만큼 좌변을 증가시키는 것.

print(even_sum) # 짝수의 총합을 보여줌.


x=1
while x <= 5:
    print(x)
    x += 1


for i in range(1,6):
    print(i)


# 2의 n제곱이 언제 처음으로 1억보다 커지는가?
n = 1 
while 2**n < 10**8:
    n += 1
print(n)


# 코드가 길어질수록,무한루프를 걸고 break문을 활용하는것이 더 직관적임.
n=1
while True:
    if 2**n >= 10**8:
        break
    n +=1
print(n)



