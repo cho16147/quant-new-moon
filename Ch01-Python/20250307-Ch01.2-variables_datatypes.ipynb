{
 "cells": [
  {
   "cell_type": "code",
   "execution_count": 1,
   "id": "eaad8ab8-39bf-44d2-9d0a-1e57be3bd5db",
   "metadata": {},
   "outputs": [
    {
     "name": "stdout",
     "output_type": "stream",
     "text": [
      "Hello World\n"
     ]
    }
   ],
   "source": [
    "print(\"Hello World\")"
   ]
  },
  {
   "cell_type": "code",
   "execution_count": 2,
   "id": "7854a324-51ff-4ae4-a2ae-3b7e6e3862a4",
   "metadata": {},
   "outputs": [
    {
     "name": "stdout",
     "output_type": "stream",
     "text": [
      "1 5 안녕하세요\n"
     ]
    }
   ],
   "source": [
    "a=1\n",
    "b=5\n",
    "c=\"안녕하세요\"\n",
    "\n",
    "print(a,b,c)"
   ]
  },
  {
   "cell_type": "code",
   "execution_count": 3,
   "id": "4b0de434-d6dd-47eb-88ef-a73281c68de5",
   "metadata": {},
   "outputs": [
    {
     "name": "stdout",
     "output_type": "stream",
     "text": [
      "<class 'int'> <class 'float'>\n",
      "1.0 4\n"
     ]
    }
   ],
   "source": [
    "a=1\n",
    "b=4.5\n",
    "\n",
    "print(type(a), type(b))\n",
    "\n",
    "a= float(a)\n",
    "b= int(b)\n",
    "print(a,b)"
   ]
  },
  {
   "cell_type": "code",
   "execution_count": 4,
   "id": "4e336355-5e9d-4ea9-9f7c-78ce7545d7e1",
   "metadata": {},
   "outputs": [
    {
     "name": "stdout",
     "output_type": "stream",
     "text": [
      "7.5\n",
      "2.5\n",
      "12.5\n",
      "2.0\n"
     ]
    }
   ],
   "source": [
    "a=5\n",
    "b=2.5\n",
    "\n",
    "print(a+b)\n",
    "print(a-b)\n",
    "print(a*b)\n",
    "print(a/b)"
   ]
  },
  {
   "cell_type": "code",
   "execution_count": 5,
   "id": "2ab7696d-16e8-4453-9e43-038752e86943",
   "metadata": {},
   "outputs": [
    {
     "name": "stdout",
     "output_type": "stream",
     "text": [
      "8 3 1\n"
     ]
    }
   ],
   "source": [
    "a=2**3\n",
    "b=7%4 #나머지\n",
    "c=7//4 #몫\n",
    "print(a,b,c)"
   ]
  },
  {
   "cell_type": "code",
   "execution_count": 6,
   "id": "4f64c579-ae80-40a6-8ca3-28982f0944a2",
   "metadata": {},
   "outputs": [
    {
     "name": "stdout",
     "output_type": "stream",
     "text": [
      "python 안녕하세요 12345\n"
     ]
    }
   ],
   "source": [
    "x=\"python\"\n",
    "y=\"안녕하세요\"\n",
    "z=\"12345\"\n",
    "print(x,y,z)"
   ]
  },
  {
   "cell_type": "code",
   "execution_count": 7,
   "id": "5f259d9a-9814-461c-9062-7dccd3513127",
   "metadata": {},
   "outputs": [
    {
     "name": "stdout",
     "output_type": "stream",
     "text": [
      "\"큰따옴표가 포함\" '작은따옴표가 포함'\n"
     ]
    }
   ],
   "source": [
    "a='\"큰따옴표가 포함\"'\n",
    "b=\"'작은따옴표가 포함'\"\n",
    "print(a,b)"
   ]
  },
  {
   "cell_type": "code",
   "execution_count": 8,
   "id": "05987b9c-99d0-4336-bfce-356b9cb7b672",
   "metadata": {},
   "outputs": [
    {
     "name": "stdout",
     "output_type": "stream",
     "text": [
      "Life is short.\n",
      "You need Python.\n",
      "금융\t데이터\t분석해보려고...\n",
      "이것이 역슬래시 입니다: \\\n",
      "r로 이스케이프 문자 \\n \\t 무시하기\n"
     ]
    }
   ],
   "source": [
    "a=\"Life is short.\\nYou need Python.\"\n",
    "print(a)\n",
    "b=\"금융\\t데이터\\t분석해보려고...\"\n",
    "print(b)\n",
    "c=\"이것이 역슬래시 입니다: \\\\\"\n",
    "print(c)\n",
    "print(r\"r로 이스케이프 문자 \\n \\t 무시하기\")"
   ]
  },
  {
   "cell_type": "code",
   "execution_count": 9,
   "id": "0f0f1774-dc82-416d-9b01-cc270dd3e3bf",
   "metadata": {},
   "outputs": [
    {
     "name": "stdout",
     "output_type": "stream",
     "text": [
      "파이썬을 활용한금융 데이터 분석\n",
      "파이아파이아파이아\n"
     ]
    }
   ],
   "source": [
    "a= \"파이썬을 활용한\"\n",
    "b= \"금융 데이터 분석\"\n",
    "print(a+b)\n",
    "\n",
    "a=\"파이아\"\n",
    "print(a*3)"
   ]
  },
  {
   "cell_type": "code",
   "execution_count": 10,
   "id": "97cd6ae3-d3a6-489b-b641-56ac8df31e24",
   "metadata": {},
   "outputs": [
    {
     "name": "stdout",
     "output_type": "stream",
     "text": [
      "H\n",
      "o\n",
      "l\n",
      "Hell\n",
      "ell\n",
      "Hell\n",
      "el!Wrd\n",
      "ello! World\n"
     ]
    }
   ],
   "source": [
    "s=\"Hello! World\"\n",
    "print(s[0]) #+인덱스 카운트는 0부터\n",
    "print(s[4])\n",
    "print(s[-2])\n",
    "print(s[0:4:1])\n",
    "print(s[1:4])\n",
    "print(s[:4])\n",
    "print(s[1::2]) # 시작=1, 종료=길이+1, 증가폭=2\n",
    "print(s[1::])"
   ]
  },
  {
   "cell_type": "code",
   "execution_count": 11,
   "id": "f4663449-a571-468a-9cc4-21b10bcdd600",
   "metadata": {},
   "outputs": [
    {
     "name": "stdout",
     "output_type": "stream",
     "text": [
      "3\n",
      "5\n"
     ]
    }
   ],
   "source": [
    "x=len(\"ABC\")\n",
    "print(x)\n",
    "\n",
    "y=len(\"hello\")\n",
    "print(y)"
   ]
  },
  {
   "cell_type": "code",
   "execution_count": 12,
   "id": "0b559749-3fd7-4e56-943e-2174467861cf",
   "metadata": {},
   "outputs": [
    {
     "name": "stdout",
     "output_type": "stream",
     "text": [
      "1\n",
      "1\n",
      "2\n",
      "2\n",
      "2\n"
     ]
    }
   ],
   "source": [
    "s=\"Hello\"\n",
    "print(s.find(\"e\"))\n",
    "print(s.index(\"e\"))\n",
    "print(s.find(\"l\"))\n",
    "print(s.index(\"l\"))\n",
    "print(s.find(\"ll\"))"
   ]
  },
  {
   "cell_type": "code",
   "execution_count": 13,
   "id": "2ba0ab34-78ba-43d7-a9d9-3bae72137c44",
   "metadata": {},
   "outputs": [
    {
     "name": "stdout",
     "output_type": "stream",
     "text": [
      "파이썬은 배우기 쉬운 언어입니다\n",
      "A\tB\tC\n",
      "['A', 'B', 'C']\n"
     ]
    }
   ],
   "source": [
    "a=\"C언어는 배우기 쉬운 언어입니다\"\n",
    "print(a.replace(\"C언어는\", \"파이썬은\"))\n",
    "x=\"A\\tB\\tC\"\n",
    "print(x)\n",
    "print(x.split(\"\\t\")) #탭 문자열 기준으로 분할하고 리스트로 변환"
   ]
  },
  {
   "cell_type": "code",
   "execution_count": 14,
   "id": "fb06195f-c481-4b28-820c-6afa6e11ec84",
   "metadata": {},
   "outputs": [
    {
     "name": "stdout",
     "output_type": "stream",
     "text": [
      "a=10, b=20, c=30\n",
      "a=13, b=40, c=25\n"
     ]
    }
   ],
   "source": [
    "a=10\n",
    "b=20\n",
    "c=30\n",
    "print(\"a={}, b={}, c={}\".format(a,b,c))\n",
    "print(\"a={A}, b={B}, c={C}\".format(B=40, C=25, A=13))"
   ]
  },
  {
   "cell_type": "code",
   "execution_count": 15,
   "id": "b287d343-22ef-4c7b-8adc-c1b0fbdc0c7a",
   "metadata": {},
   "outputs": [
    {
     "name": "stdout",
     "output_type": "stream",
     "text": [
      "['abc', 10, ['A, B'], (1, 2, 3)]\n"
     ]
    }
   ],
   "source": [
    "L=[1,2,3,4] #리스트\n",
    "T=(1,2,3,4) #튜플\n",
    "L1=[\"abc\", 10, [\"A, B\"], (1,2,3)]\n",
    "print(L1)"
   ]
  },
  {
   "cell_type": "code",
   "execution_count": 16,
   "id": "3ec95095-f9cb-4b33-ac65-6909849a23d5",
   "metadata": {},
   "outputs": [
    {
     "name": "stdout",
     "output_type": "stream",
     "text": [
      "0번째 요소: A, 3번째 요소: D\n",
      "0번째 요소: A, -1번째 요소:E\n",
      "['B', 'C']\n",
      "('B', 'C', 'D')\n"
     ]
    }
   ],
   "source": [
    "L=[\"A\", \"B\", \"C\", \"D\", \"E\"]\n",
    "print(\"0번째 요소: {}, 3번째 요소: {}\".format(L[0], L[3]))\n",
    "T=(\"A\", \"B\", \"C\", \"D\", \"E\")\n",
    "print(\"0번째 요소: {}, -1번째 요소:{}\".format(T[0], T[-1]))\n",
    "\n",
    "print(L[1:3])\n",
    "print(T[1:4])"
   ]
  },
  {
   "cell_type": "code",
   "execution_count": 17,
   "id": "765ab55b-26af-43a7-8e67-39641cba085c",
   "metadata": {},
   "outputs": [
    {
     "name": "stdout",
     "output_type": "stream",
     "text": [
      "2\n"
     ]
    }
   ],
   "source": [
    "A=[[1,2,3], [4,5,6]]\n",
    "print(A[0][1])"
   ]
  },
  {
   "cell_type": "code",
   "execution_count": 18,
   "id": "16c771dc-2925-4887-96b7-968d4f351fba",
   "metadata": {},
   "outputs": [
    {
     "name": "stdout",
     "output_type": "stream",
     "text": [
      "(1, 2, 3, 4, 5)\n",
      "[5, 6, 7, 8, 9]\n"
     ]
    }
   ],
   "source": [
    "print((1,2,3)+(4,5))\n",
    "print([5,6,7]+[8,9])"
   ]
  },
  {
   "cell_type": "code",
   "execution_count": 19,
   "id": "acb69372-e145-4c64-9cc5-641a21f007b7",
   "metadata": {},
   "outputs": [
    {
     "name": "stdout",
     "output_type": "stream",
     "text": [
      "['X', 'B', 'C', 'D', 'E']\n"
     ]
    }
   ],
   "source": [
    "L=[\"A\",\"B\",\"C\",\"D\",\"E\"]\n",
    "L[0]=\"X\"\n",
    "print(L)"
   ]
  },
  {
   "cell_type": "code",
   "execution_count": 20,
   "id": "95b98c05-29de-458c-aa29-9a9bce378892",
   "metadata": {},
   "outputs": [
    {
     "name": "stdout",
     "output_type": "stream",
     "text": [
      "None\n",
      "파이썬은 배우기 쉬운 언어입니다.\n"
     ]
    }
   ],
   "source": [
    "X=[1,2,3]\n",
    "print(X.append(4)) #입력을 바꾸는 destructive method\n",
    "\n",
    "a=\"C언어는 배우기 쉬운 언어입니다.\"\n",
    "print(a.replace(\"C언어는\", '파이썬은')) #입력을 바꾸지 않는 non-destructive method"
   ]
  },
  {
   "cell_type": "code",
   "execution_count": 21,
   "id": "98deae92-2f56-4335-aa3f-48fa656b7655",
   "metadata": {},
   "outputs": [
    {
     "name": "stdout",
     "output_type": "stream",
     "text": [
      "['B', 'C', 'D']\n",
      "[1, 2, 3, 4, 5]\n",
      "[1, 3]\n"
     ]
    }
   ],
   "source": [
    "L=[\"A\", \"B\", \"C\", \"D\"]\n",
    "L.remove(\"A\")\n",
    "print(L)\n",
    "L=[3,1,2,3,4,5]\n",
    "L.remove(3)\n",
    "print(L)\n",
    "L=[1,2,3]\n",
    "L.pop(1)\n",
    "print(L)"
   ]
  },
  {
   "cell_type": "code",
   "execution_count": 22,
   "id": "244442bc-8bc8-4574-a4c2-96df8d0a4356",
   "metadata": {},
   "outputs": [
    {
     "name": "stdout",
     "output_type": "stream",
     "text": [
      "['A']\n",
      "['C', 'D']\n",
      "['A', 'C', 'D']\n"
     ]
    }
   ],
   "source": [
    "A=[\"A\", \"B\", \"C\", \"D\"]\n",
    "i=1\n",
    "print(A[:i])\n",
    "print(A[i+1:])\n",
    "print(A[:i] + A[i+1:])"
   ]
  },
  {
   "cell_type": "code",
   "execution_count": 23,
   "id": "ac5af8fb-3987-4ceb-bd46-46231af5d7c3",
   "metadata": {},
   "outputs": [
    {
     "name": "stdout",
     "output_type": "stream",
     "text": [
      "4 3\n",
      "2\n"
     ]
    }
   ],
   "source": [
    "L=[\"A\", \"B\", \"C\", \"D\"]\n",
    "T=(1,2,3)\n",
    "print(len(L), len(T))\n",
    "L=[[1,2,3], [2,3,4]]\n",
    "print(len(L))"
   ]
  },
  {
   "cell_type": "code",
   "execution_count": 24,
   "id": "625fe07e-e3b6-4800-a60a-c1b3bb607cd0",
   "metadata": {},
   "outputs": [
    {
     "name": "stdout",
     "output_type": "stream",
     "text": [
      "1 2\n",
      "2 1\n",
      "(1, 2, 3)\n",
      "1 2\n"
     ]
    }
   ],
   "source": [
    "(a,b)=(1,2)\n",
    "print(a,b)\n",
    "(a,b) = (b,a)\n",
    "print(a,b)\n",
    "T=1,2,3\n",
    "print(T)\n",
    "a,b=1,2\n",
    "print(a,b)"
   ]
  },
  {
   "cell_type": "code",
   "execution_count": 25,
   "id": "b44410f4-1c2f-4df4-98fe-0be243cab469",
   "metadata": {},
   "outputs": [
    {
     "name": "stdout",
     "output_type": "stream",
     "text": [
      "{1, 2, 3} {1, 2, 3}\n"
     ]
    }
   ],
   "source": [
    "s1 = {1,2,3,2,1} #집합 자료형 set은 순서 없고 중복 허용 안함.\n",
    "s2 = set([1,2,3,2,1])\n",
    "print(s1, s2)"
   ]
  },
  {
   "cell_type": "code",
   "execution_count": 26,
   "id": "e749761d-35d8-4336-b5b8-65034a543acf",
   "metadata": {},
   "outputs": [
    {
     "name": "stdout",
     "output_type": "stream",
     "text": [
      "[1, 2, 3]\n"
     ]
    }
   ],
   "source": [
    "L=[1,2,3,1,2,3]\n",
    "L=list(set(L))\n",
    "print(L)"
   ]
  },
  {
   "cell_type": "code",
   "execution_count": 27,
   "id": "90542c89-52ee-4af6-842c-cf1b04d2592e",
   "metadata": {},
   "outputs": [
    {
     "name": "stdout",
     "output_type": "stream",
     "text": [
      "{3, 4}\n",
      "{3, 4}\n",
      "{1, 2, 3, 4, 5, 6}\n",
      "{1, 2, 3, 4, 5, 6}\n",
      "{1, 2}\n",
      "{1, 2}\n"
     ]
    }
   ],
   "source": [
    "s1={1,2,3,4}\n",
    "s2={3,4,5,6}\n",
    "print(s1 & s2)\n",
    "print(s1.intersection(s2)) #교집합\n",
    "print(s1 | s2)\n",
    "print(s1.union(s2)) #합집합\n",
    "print(s1 - s2)\n",
    "print(s1.difference(s2)) #차집합"
   ]
  },
  {
   "cell_type": "code",
   "execution_count": 28,
   "id": "9555b96a-3a03-4825-b17b-4cfd360ac6b8",
   "metadata": {},
   "outputs": [
    {
     "name": "stdout",
     "output_type": "stream",
     "text": [
      "1\n",
      "{'A': 1, 'B': 20, 'C': 3, 'D': 4}\n",
      "{'B': 20, 'C': 3, 'D': 4}\n"
     ]
    }
   ],
   "source": [
    "X={\"A\":1, \"B\":2, \"C\":3}\n",
    "print(X[\"A\"])\n",
    "X[\"D\"]=4\n",
    "X[\"B\"]=20\n",
    "print(X)\n",
    "del(X[\"A\"])\n",
    "print(X)"
   ]
  },
  {
   "cell_type": "code",
   "execution_count": 29,
   "id": "77fbcd76-d6fc-4299-923e-013611070751",
   "metadata": {},
   "outputs": [
    {
     "name": "stdout",
     "output_type": "stream",
     "text": [
      "dict_keys(['A', 'B', 'C'])\n",
      "dict_values([1, 2, 3])\n",
      "dict_items([('A', 1), ('B', 2), ('C', 3)])\n"
     ]
    }
   ],
   "source": [
    "X={\"A\":1, \"B\":2, \"C\":3}\n",
    "print(X.keys())\n",
    "print(X.values())\n",
    "print(X.items())"
   ]
  },
  {
   "cell_type": "code",
   "execution_count": 30,
   "id": "c1b09e7b-8ba4-4043-804e-f8e69247d8e7",
   "metadata": {},
   "outputs": [
    {
     "name": "stdout",
     "output_type": "stream",
     "text": [
      "True False\n",
      "<class 'bool'> <class 'bool'>\n"
     ]
    }
   ],
   "source": [
    "a=True\n",
    "b=False\n",
    "print(a,b)\n",
    "print(type(a), type(b))"
   ]
  },
  {
   "cell_type": "code",
   "execution_count": 31,
   "id": "ef2236be-8384-4a06-9505-4cc913f25014",
   "metadata": {},
   "outputs": [
    {
     "name": "stdout",
     "output_type": "stream",
     "text": [
      "True\n",
      "False\n",
      "False\n",
      "False\n"
     ]
    }
   ],
   "source": [
    "print(True and True)\n",
    "print(True and False)\n",
    "print(True & False )\n",
    "print(False & False)"
   ]
  },
  {
   "cell_type": "code",
   "execution_count": 32,
   "id": "09370495-d7e0-4d74-b13e-a8cb4c0c481f",
   "metadata": {},
   "outputs": [
    {
     "name": "stdout",
     "output_type": "stream",
     "text": [
      "True\n",
      "True\n",
      "False\n"
     ]
    }
   ],
   "source": [
    "print(True or False)\n",
    "print(True | False)\n",
    "print(False | False | False)"
   ]
  },
  {
   "cell_type": "code",
   "execution_count": 33,
   "id": "ac881ee2-db06-4437-9ca7-9b790bba9cfa",
   "metadata": {},
   "outputs": [
    {
     "name": "stdout",
     "output_type": "stream",
     "text": [
      "2\n",
      "0\n",
      "-1\n",
      "1.0\n"
     ]
    }
   ],
   "source": [
    "print(True + True)\n",
    "print(True * False)\n",
    "print(False - True)\n",
    "print(True / True)"
   ]
  }
 ],
 "metadata": {
  "kernelspec": {
   "display_name": "Python 3 (ipykernel)",
   "language": "python",
   "name": "python3"
  },
  "language_info": {
   "codemirror_mode": {
    "name": "ipython",
    "version": 3
   },
   "file_extension": ".py",
   "mimetype": "text/x-python",
   "name": "python",
   "nbconvert_exporter": "python",
   "pygments_lexer": "ipython3",
   "version": "3.12.3"
  }
 },
 "nbformat": 4,
 "nbformat_minor": 5
}
