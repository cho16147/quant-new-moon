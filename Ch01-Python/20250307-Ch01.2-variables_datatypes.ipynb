print("Hello World")


a=1
b=5
c="안녕하세요"

print(a,b,c)


a=1
b=4.5

print(type(a), type(b))

a= float(a)
b= int(b)
print(a,b)


a=5
b=2.5

print(a+b)
print(a-b)
print(a*b)
print(a/b)


a=2**3
b=7%4 #나머지
c=7//4 #몫
print(a,b,c)


x="python"
y="안녕하세요"
z="12345"
print(x,y,z)


a='"큰따옴표가 포함"'
b="'작은따옴표가 포함'"
print(a,b)


a="Life is short.\nYou need Python."
print(a)
b="금융\t데이터\t분석해보려고..."
print(b)
c="이것이 역슬래시 입니다: \\"
print(c)
print(r"r로 이스케이프 문자 \n \t 무시하기")


a= "파이썬을 활용한"
b= "금융 데이터 분석"
print(a+b)

a="파이아"
print(a*3)


s="Hello! World"
print(s[0]) #+인덱스 카운트는 0부터
print(s[4])
print(s[-2])
print(s[0:4:1])
print(s[1:4])
print(s[:4])
print(s[1::2]) # 시작=1, 종료=길이+1, 증가폭=2
print(s[1::])


x=len("ABC")
print(x)

y=len("hello")
print(y)


s="Hello"
print(s.find("e"))
print(s.index("e"))
print(s.find("l"))
print(s.index("l"))
print(s.find("ll"))


a="C언어는 배우기 쉬운 언어입니다"
print(a.replace("C언어는", "파이썬은"))
x="A\tB\tC"
print(x)
print(x.split("\t")) #탭 문자열 기준으로 분할하고 리스트로 변환


a=10
b=20
c=30
print("a={}, b={}, c={}".format(a,b,c))
print("a={A}, b={B}, c={C}".format(B=40, C=25, A=13))


L=[1,2,3,4] #리스트
T=(1,2,3,4) #튜플
L1=["abc", 10, ["A, B"], (1,2,3)]
print(L1)


L=["A", "B", "C", "D", "E"]
print("0번째 요소: {}, 3번째 요소: {}".format(L[0], L[3]))
T=("A", "B", "C", "D", "E")
print("0번째 요소: {}, -1번째 요소:{}".format(T[0], T[-1]))

print(L[1:3])
print(T[1:4])


A=[[1,2,3], [4,5,6]]
print(A[0][1])


print((1,2,3)+(4,5))
print([5,6,7]+[8,9])


L=["A","B","C","D","E"]
L[0]="X"
print(L)


X=[1,2,3]
print(X.append(4)) #입력을 바꾸는 destructive method

a="C언어는 배우기 쉬운 언어입니다."
print(a.replace("C언어는", '파이썬은')) #입력을 바꾸지 않는 non-destructive method


L=["A", "B", "C", "D"]
L.remove("A")
print(L)
L=[3,1,2,3,4,5]
L.remove(3)
print(L)
L=[1,2,3]
L.pop(1)
print(L)


A=["A", "B", "C", "D"]
i=1
print(A[:i])
print(A[i+1:])
print(A[:i] + A[i+1:])


L=["A", "B", "C", "D"]
T=(1,2,3)
print(len(L), len(T))
L=[[1,2,3], [2,3,4]]
print(len(L))


(a,b)=(1,2)
print(a,b)
(a,b) = (b,a)
print(a,b)
T=1,2,3
print(T)
a,b=1,2
print(a,b)


s1 = {1,2,3,2,1} #집합 자료형 set은 순서 없고 중복 허용 안함.
s2 = set([1,2,3,2,1])
print(s1, s2)


L=[1,2,3,1,2,3]
L=list(set(L))
print(L)


s1={1,2,3,4}
s2={3,4,5,6}
print(s1 & s2)
print(s1.intersection(s2)) #교집합
print(s1 | s2)
print(s1.union(s2)) #합집합
print(s1 - s2)
print(s1.difference(s2)) #차집합


X={"A":1, "B":2, "C":3}
print(X["A"])
X["D"]=4
X["B"]=20
print(X)
del(X["A"])
print(X)


X={"A":1, "B":2, "C":3}
print(X.keys())
print(X.values())
print(X.items())


a=True
b=False
print(a,b)
print(type(a), type(b))


print(True and True)
print(True and False)
print(True & False )
print(False & False)


print(True or False)
print(True | False)
print(False | False | False)


print(True + True)
print(True * False)
print(False - True)
print(True / True)
