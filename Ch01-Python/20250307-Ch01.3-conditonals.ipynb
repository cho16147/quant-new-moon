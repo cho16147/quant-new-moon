{
 "cells": [
  {
   "cell_type": "code",
   "execution_count": 1,
   "id": "afbe9103-9510-4299-986f-a914baf115c7",
   "metadata": {},
   "outputs": [
    {
     "name": "stdout",
     "output_type": "stream",
     "text": [
      "참\n"
     ]
    }
   ],
   "source": [
    "cond=True\n",
    "if cond:\n",
    "    print(\"참\")\n",
    "else:\n",
    "    print(\"거짓\")"
   ]
  },
  {
   "cell_type": "code",
   "execution_count": 2,
   "id": "c26fcd9d-ebb5-4810-bffc-502359a448f6",
   "metadata": {},
   "outputs": [
    {
     "name": "stdout",
     "output_type": "stream",
     "text": [
      "False\n",
      "True\n",
      "True\n",
      "True\n"
     ]
    }
   ],
   "source": [
    "print(3<2)\n",
    "print(3==3)\n",
    "print(2+2 != 5)\n",
    "print(len(\"ABC\") >=2)"
   ]
  },
  {
   "cell_type": "code",
   "execution_count": 3,
   "id": "09dc799d-2eb0-40f2-8ebb-6c562f7c13a6",
   "metadata": {},
   "outputs": [
    {
     "name": "stdout",
     "output_type": "stream",
     "text": [
      "True\n",
      "False\n",
      "True\n",
      "False\n",
      "True\n"
     ]
    }
   ],
   "source": [
    "L=[1,2,3]\n",
    "S=\"abcde\"\n",
    "D={\"A\":1, \"B\":2, \"C\":3}\n",
    "\n",
    "print(1 in L)\n",
    "print(2 not in L) #2가 L안에 없으면 True\n",
    "print(\"abc\" in S) \n",
    "print(\"ac\" in S) \n",
    "print(\"A\" in D.keys()) #A가 D의 키에 있으면 True"
   ]
  },
  {
   "cell_type": "code",
   "execution_count": 4,
   "id": "a8707c78-5ad8-49b4-971b-de5f22b16bc3",
   "metadata": {},
   "outputs": [
    {
     "name": "stdout",
     "output_type": "stream",
     "text": [
      "6은 없지만, 1은 L 안에 있습니다.\n"
     ]
    }
   ],
   "source": [
    "L=[1,2,3,4,5]\n",
    "if 1 in L and 6 in L:\n",
    "    print(\"1과 6 모두 L 안에 있습니다.\")\n",
    "elif 1 in L:\n",
    "    print(\"6은 없지만, 1은 L 안에 있습니다.\")\n",
    "elif 6 in L:\n",
    "    print(\"1은 없지만, 6은 L 안에 있습니다.\")\n",
    "else:\n",
    "    print(\"1과 6 모두 L 안에 없습니다.\")"
   ]
  },
  {
   "cell_type": "code",
   "execution_count": 5,
   "id": "b078317d-617f-447d-95a6-e04665588e35",
   "metadata": {},
   "outputs": [
    {
     "name": "stdout",
     "output_type": "stream",
     "text": [
      "{'B': 30, 'A': 0, 'C': 0}\n"
     ]
    }
   ],
   "source": [
    "D={\"B\":30}\n",
    "if \"A\" not in D.keys():\n",
    "    D[\"A\"]=0\n",
    "if \"B\" not in D.keys():\n",
    "    D[\"B\"]=0\n",
    "if \"C\" not in D.keys():\n",
    "    D[\"C\"]=0\n",
    "# 조건문이 서로 독립적이므로 여러번의 if 사용\n",
    "print(D)  "
   ]
  }
 ],
 "metadata": {
  "kernelspec": {
   "display_name": "Python 3 (ipykernel)",
   "language": "python",
   "name": "python3"
  },
  "language_info": {
   "codemirror_mode": {
    "name": "ipython",
    "version": 3
   },
   "file_extension": ".py",
   "mimetype": "text/x-python",
   "name": "python",
   "nbconvert_exporter": "python",
   "pygments_lexer": "ipython3",
   "version": "3.12.3"
  }
 },
 "nbformat": 4,
 "nbformat_minor": 5
}
