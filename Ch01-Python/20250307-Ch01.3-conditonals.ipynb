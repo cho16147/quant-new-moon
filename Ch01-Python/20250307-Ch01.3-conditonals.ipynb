cond=True
if cond:
    print("참")
else:
    print("거짓")


print(3<2)
print(3==3)
print(2+2 != 5)
print(len("ABC") >=2)


L=[1,2,3]
S="abcde"
D={"A":1, "B":2, "C":3}

print(1 in L)
print(2 not in L) #2가 L안에 없으면 True
print("abc" in S) 
print("ac" in S) 
print("A" in D.keys()) #A가 D의 키에 있으면 True


L=[1,2,3,4,5]
if 1 in L and 6 in L:
    print("1과 6 모두 L 안에 있습니다.")
elif 1 in L:
    print("6은 없지만, 1은 L 안에 있습니다.")
elif 6 in L:
    print("1은 없지만, 6은 L 안에 있습니다.")
else:
    print("1과 6 모두 L 안에 없습니다.")


D={"B":30}
if "A" not in D.keys():
    D["A"]=0
if "B" not in D.keys():
    D["B"]=0
if "C" not in D.keys():
    D["C"]=0
# 조건문이 서로 독립적이므로 여러번의 if 사용
print(D)  
