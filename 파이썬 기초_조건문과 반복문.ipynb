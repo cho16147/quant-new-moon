{
 "cells": [
  {
   "cell_type": "code",
   "execution_count": 1,
   "id": "afbe9103-9510-4299-986f-a914baf115c7",
   "metadata": {},
   "outputs": [
    {
     "name": "stdout",
     "output_type": "stream",
     "text": [
      "참\n"
     ]
    }
   ],
   "source": [
    "cond=True\n",
    "if cond:\n",
    "    print(\"참\")\n",
    "else:\n",
    "    print(\"거짓\")"
   ]
  },
  {
   "cell_type": "code",
   "execution_count": 1,
   "id": "c26fcd9d-ebb5-4810-bffc-502359a448f6",
   "metadata": {},
   "outputs": [
    {
     "name": "stdout",
     "output_type": "stream",
     "text": [
      "False\n",
      "True\n",
      "True\n",
      "True\n"
     ]
    }
   ],
   "source": [
    "print(3<2)\n",
    "print(3==3)\n",
    "print(2+2 != 5)\n",
    "print(len(\"ABC\") >=2)"
   ]
  },
  {
   "cell_type": "code",
   "execution_count": 3,
   "id": "09dc799d-2eb0-40f2-8ebb-6c562f7c13a6",
   "metadata": {},
   "outputs": [
    {
     "name": "stdout",
     "output_type": "stream",
     "text": [
      "True\n",
      "False\n",
      "True\n",
      "False\n",
      "True\n"
     ]
    }
   ],
   "source": [
    "L=[1,2,3]\n",
    "S=\"abcde\"\n",
    "D={\"A\":1, \"B\":2, \"C\":3}\n",
    "\n",
    "print(1 in L)\n",
    "print(2 not in L) #2가 L안에 없으면 True\n",
    "print(\"abc\" in S) \n",
    "print(\"ac\" in S) \n",
    "print(\"A\" in D.keys()) #A가 D의 키에 있으면 True"
   ]
  },
  {
   "cell_type": "code",
   "execution_count": 5,
   "id": "a8707c78-5ad8-49b4-971b-de5f22b16bc3",
   "metadata": {},
   "outputs": [
    {
     "name": "stdout",
     "output_type": "stream",
     "text": [
      "6은 없지만, 1은 L 안에 있습니다.\n"
     ]
    }
   ],
   "source": [
    "L=[1,2,3,4,5]\n",
    "if 1 in L and 6 in L:\n",
    "    print(\"1과 6 모두 L 안에 있습니다.\")\n",
    "elif 1 in L:\n",
    "    print(\"6은 없지만, 1은 L 안에 있습니다.\")\n",
    "elif 6 in L:\n",
    "    print(\"1은 없지만, 6은 L 안에 있습니다.\")\n",
    "else:\n",
    "    print(\"1과 6 모두 L 안에 없습니다.\")"
   ]
  },
  {
   "cell_type": "code",
   "execution_count": 7,
   "id": "b078317d-617f-447d-95a6-e04665588e35",
   "metadata": {},
   "outputs": [
    {
     "name": "stdout",
     "output_type": "stream",
     "text": [
      "{'B': 30, 'A': 0, 'C': 0}\n"
     ]
    }
   ],
   "source": [
    "D={\"B\":30}\n",
    "if \"A\" not in D.keys():\n",
    "    D[\"A\"]=0\n",
    "if \"B\" not in D.keys():\n",
    "    D[\"B\"]=0\n",
    "if \"C\" not in D.keys():\n",
    "    D[\"C\"]=0\n",
    "# 조건문이 서로 독립적이므로 여러번의 if 사용\n",
    "print(D)  "
   ]
  },
  {
   "cell_type": "code",
   "execution_count": 8,
   "id": "0b3fcdf3-8103-4a73-b4e7-6eb5cf68ad06",
   "metadata": {},
   "outputs": [
    {
     "name": "stdout",
     "output_type": "stream",
     "text": [
      "A\n",
      "B\n",
      "C\n"
     ]
    }
   ],
   "source": [
    "# for문은 한 변수가 순회 가능(iterable)한 객체를 순회하면서 코드 블록을 반복적으로 실행한다.\n",
    "L=[\"A\", \"B\", \"C\"]\n",
    "for i in L: # i가 L을 순회하며, print(i)를 수행한다.\n",
    "    print(i)"
   ]
  },
  {
   "cell_type": "code",
   "execution_count": 9,
   "id": "2d97afd8-d81d-424e-8e7a-8559c3e14f3a",
   "metadata": {},
   "outputs": [
    {
     "name": "stdout",
     "output_type": "stream",
     "text": [
      "1 1 1\n",
      "2 4 8\n",
      "3 9 27\n",
      "4 16 64\n",
      "5 25 125\n"
     ]
    }
   ],
   "source": [
    "T = (1,2,3,4,5)\n",
    "for a in T:\n",
    "    x = a **2\n",
    "    y = a **3\n",
    "    print(a,x,y)"
   ]
  },
  {
   "cell_type": "code",
   "execution_count": 10,
   "id": "38ed09a9-5d5e-4344-acf5-2239dc54d6d6",
   "metadata": {},
   "outputs": [
    {
     "name": "stdout",
     "output_type": "stream",
     "text": [
      "1 A\n",
      "2 B\n",
      "3 C\n"
     ]
    }
   ],
   "source": [
    "X=[[1, \"A\"], [2, \"B\"], [3, \"C\"]]\n",
    "for a, b in X:\n",
    "    print(a, b)"
   ]
  },
  {
   "cell_type": "code",
   "execution_count": 13,
   "id": "00fbe333-291d-4326-bbae-e7d8102bf35a",
   "metadata": {},
   "outputs": [
    {
     "name": "stdout",
     "output_type": "stream",
     "text": [
      "1 A\n",
      "2 B\n",
      "3 C\n",
      "1 A\n",
      "2 B\n"
     ]
    }
   ],
   "source": [
    "A= [1,2,3]\n",
    "B= [\"A\", \"B\", \"C\"]\n",
    "for a, b in zip(A,B):\n",
    "    print(a,b)\n",
    "\n",
    "A=[1,2]\n",
    "B=[\"A\", \"B\", \"C\"]\n",
    "for a, b in zip(A,B):\n",
    "    print(a,b)"
   ]
  },
  {
   "cell_type": "code",
   "execution_count": 21,
   "id": "93fac48b-1f89-4293-9e90-7cf42f721f6c",
   "metadata": {},
   "outputs": [
    {
     "name": "stdout",
     "output_type": "stream",
     "text": [
      "0\n",
      "1\n",
      "2\n",
      "3\n",
      "4\n",
      "[0, 1, 2, 3, 4]\n",
      "(0, 1, 2, 3, 4)\n"
     ]
    }
   ],
   "source": [
    "# range는 연속된 숫자 시퀀스를 생성하는 함수이다. \n",
    "for i in range(5):\n",
    "    print(i)\n",
    "\n",
    "print(list(range(5)))\n",
    "print(tuple(range(5)))"
   ]
  },
  {
   "cell_type": "code",
   "execution_count": 20,
   "id": "c1191730-60b0-41bc-aa29-5368b56d19b3",
   "metadata": {},
   "outputs": [
    {
     "name": "stdout",
     "output_type": "stream",
     "text": [
      "1 A\n",
      "2 B\n",
      "3 C\n"
     ]
    }
   ],
   "source": [
    "a=[1,2,3]\n",
    "b=[\"A\", \"B\", \"C\"]\n",
    "\n",
    "for i in range(len(a)):\n",
    "    print(a[i], b[i])"
   ]
  },
  {
   "cell_type": "code",
   "execution_count": 23,
   "id": "1719f72a-6221-4dd5-9238-80dc94ba22f4",
   "metadata": {},
   "outputs": [
    {
     "name": "stdout",
     "output_type": "stream",
     "text": [
      "0 A\n",
      "1 B\n",
      "2 C\n"
     ]
    }
   ],
   "source": [
    "L = [\"A\", \"B\", \"C\"]\n",
    "for idx, value in enumerate(L):\n",
    "    print(idx, value)\n",
    "# 인덱스와 요소를 동시에 순회해야 하는 경우 enumerate(열거하다)함수"
   ]
  },
  {
   "cell_type": "code",
   "execution_count": 25,
   "id": "e180d8ef-0cd6-4e8f-b33e-c72df929cada",
   "metadata": {},
   "outputs": [
    {
     "name": "stdout",
     "output_type": "stream",
     "text": [
      "첫번째 반복문\n",
      "A 1\n",
      "A 2\n",
      "첫번째 반복문\n",
      "B 1\n",
      "B 2\n"
     ]
    }
   ],
   "source": [
    "for i in [\"A\", \"B\"]:\n",
    "    print(\"첫번째 반복문\")\n",
    "    for j in [1,2]:\n",
    "        print(i, j)"
   ]
  },
  {
   "cell_type": "code",
   "execution_count": 26,
   "id": "9c8a290f-747e-4458-8054-f82319e02484",
   "metadata": {},
   "outputs": [
    {
     "name": "stdout",
     "output_type": "stream",
     "text": [
      "[(1, 'A'), (1, 'B'), (1, 'C'), (2, 'A'), (2, 'B'), (2, 'C'), (3, 'A'), (3, 'B'), (3, 'C')]\n"
     ]
    }
   ],
   "source": [
    "A=[1,2,3]\n",
    "B=[\"A\", \"B\", \"C\"]\n",
    "L=[]\n",
    "for a in A:\n",
    "    for b in B:\n",
    "        L.append((a,b)) # (a,b)를 L에 추가\n",
    "print(L)"
   ]
  },
  {
   "cell_type": "code",
   "execution_count": 29,
   "id": "8a76b3fc-1812-49cd-8a93-90a006cde202",
   "metadata": {},
   "outputs": [
    {
     "name": "stdout",
     "output_type": "stream",
     "text": [
      "2550\n"
     ]
    }
   ],
   "source": [
    "even_sum=0\n",
    "for number in range(1,101):\n",
    "    if number % 2 == 0:\n",
    "        even_sum += number # +=는 우변에 있는 값만큼 좌변을 증가시키는 것.\n",
    "\n",
    "print(even_sum) # 짝수의 총합을 보여줌."
   ]
  },
  {
   "cell_type": "code",
   "execution_count": 30,
   "id": "b93ba921-5cf3-4590-ab39-2d21b01855da",
   "metadata": {},
   "outputs": [
    {
     "name": "stdout",
     "output_type": "stream",
     "text": [
      "1\n",
      "2\n",
      "3\n",
      "4\n",
      "5\n"
     ]
    }
   ],
   "source": [
    "x=1\n",
    "while x <= 5:\n",
    "    print(x)\n",
    "    x += 1"
   ]
  },
  {
   "cell_type": "code",
   "execution_count": 31,
   "id": "8a540adf-c72d-40e6-8ef8-8d98605cb482",
   "metadata": {},
   "outputs": [
    {
     "name": "stdout",
     "output_type": "stream",
     "text": [
      "1\n",
      "2\n",
      "3\n",
      "4\n",
      "5\n"
     ]
    }
   ],
   "source": [
    "for i in range(1,6):\n",
    "    print(i)"
   ]
  },
  {
   "cell_type": "code",
   "execution_count": 33,
   "id": "59437ada-3136-4b1a-8ec2-c3200a10c166",
   "metadata": {},
   "outputs": [
    {
     "name": "stdout",
     "output_type": "stream",
     "text": [
      "27\n"
     ]
    }
   ],
   "source": [
    "# 2의 n제곱이 언제 처음으로 1억보다 커지는가?\n",
    "n = 1 \n",
    "while 2**n < 10**8:\n",
    "    n += 1\n",
    "print(n)"
   ]
  },
  {
   "cell_type": "code",
   "execution_count": 37,
   "id": "6e9b9955-d0bc-4473-b35b-2f64f38bd552",
   "metadata": {},
   "outputs": [
    {
     "name": "stdout",
     "output_type": "stream",
     "text": [
      "27\n"
     ]
    }
   ],
   "source": [
    "# 코드가 길어질수록,무한루프를 걸고 break문을 활용하는것이 더 직관적임.\n",
    "n=1\n",
    "while True:\n",
    "    if 2**n >= 10**8:\n",
    "        break\n",
    "    n +=1\n",
    "print(n)"
   ]
  },
  {
   "cell_type": "code",
   "execution_count": null,
   "id": "966b8b9d-97f5-4191-ac9a-cdb868c41256",
   "metadata": {},
   "outputs": [],
   "source": []
  }
 ],
 "metadata": {
  "kernelspec": {
   "display_name": "Python 3 (ipykernel)",
   "language": "python",
   "name": "python3"
  },
  "language_info": {
   "codemirror_mode": {
    "name": "ipython",
    "version": 3
   },
   "file_extension": ".py",
   "mimetype": "text/x-python",
   "name": "python",
   "nbconvert_exporter": "python",
   "pygments_lexer": "ipython3",
   "version": "3.12.7"
  }
 },
 "nbformat": 4,
 "nbformat_minor": 5
}
