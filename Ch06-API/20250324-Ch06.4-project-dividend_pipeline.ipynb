{
 "cells": [
  {
   "cell_type": "markdown",
   "id": "0c012351-ce53-4c1d-836e-852d6eef1dab",
   "metadata": {},
   "source": [
    "코스피, 코스닥 상장 기업의 사업보고서로부터 연도별 배당 정보를 수집해서 가공해보자."
   ]
  },
  {
   "cell_type": "code",
   "execution_count": 4,
   "id": "99ea3a57-a73f-43e6-84a3-3486caf7816e",
   "metadata": {},
   "outputs": [],
   "source": [
    "import OpenDartReader\n",
    "import os\n",
    "from dotenv import load_dotenv\n",
    "# .env 파일 로드\n",
    "load_dotenv()\n",
    "api = os.getenv(\"API_KEY\")\n",
    "dart = OpenDartReader(api)"
   ]
  },
  {
   "cell_type": "code",
   "execution_count": 5,
   "id": "c687fc8e-335b-4539-89e5-95d4b4872a66",
   "metadata": {},
   "outputs": [
    {
     "data": {
      "text/html": [
       "<div>\n",
       "<style scoped>\n",
       "    .dataframe tbody tr th:only-of-type {\n",
       "        vertical-align: middle;\n",
       "    }\n",
       "\n",
       "    .dataframe tbody tr th {\n",
       "        vertical-align: top;\n",
       "    }\n",
       "\n",
       "    .dataframe thead th {\n",
       "        text-align: right;\n",
       "    }\n",
       "</style>\n",
       "<table border=\"1\" class=\"dataframe\">\n",
       "  <thead>\n",
       "    <tr style=\"text-align: right;\">\n",
       "      <th></th>\n",
       "      <th>rcept_no</th>\n",
       "      <th>corp_cls</th>\n",
       "      <th>corp_code</th>\n",
       "      <th>corp_name</th>\n",
       "      <th>se</th>\n",
       "      <th>thstrm</th>\n",
       "      <th>frmtrm</th>\n",
       "      <th>lwfr</th>\n",
       "      <th>stlm_dt</th>\n",
       "    </tr>\n",
       "  </thead>\n",
       "  <tbody>\n",
       "    <tr>\n",
       "      <th>0</th>\n",
       "      <td>20250314001704</td>\n",
       "      <td>Y</td>\n",
       "      <td>00688996</td>\n",
       "      <td>KB금융</td>\n",
       "      <td>주당액면가액(원)</td>\n",
       "      <td>5,000</td>\n",
       "      <td>5,000</td>\n",
       "      <td>5,000</td>\n",
       "      <td>2024-12-31</td>\n",
       "    </tr>\n",
       "    <tr>\n",
       "      <th>1</th>\n",
       "      <td>20250314001704</td>\n",
       "      <td>Y</td>\n",
       "      <td>00688996</td>\n",
       "      <td>KB금융</td>\n",
       "      <td>(연결)당기순이익(백만원)</td>\n",
       "      <td>5,078,221</td>\n",
       "      <td>4,631,932</td>\n",
       "      <td>4,394,830</td>\n",
       "      <td>2024-12-31</td>\n",
       "    </tr>\n",
       "    <tr>\n",
       "      <th>2</th>\n",
       "      <td>20250314001704</td>\n",
       "      <td>Y</td>\n",
       "      <td>00688996</td>\n",
       "      <td>KB금융</td>\n",
       "      <td>(별도)당기순이익(백만원)</td>\n",
       "      <td>2,170,597</td>\n",
       "      <td>2,121,244</td>\n",
       "      <td>1,684,512</td>\n",
       "      <td>2024-12-31</td>\n",
       "    </tr>\n",
       "    <tr>\n",
       "      <th>3</th>\n",
       "      <td>20250314001704</td>\n",
       "      <td>Y</td>\n",
       "      <td>00688996</td>\n",
       "      <td>KB금융</td>\n",
       "      <td>(연결)주당순이익(원)</td>\n",
       "      <td>13,407</td>\n",
       "      <td>11,580</td>\n",
       "      <td>10,955</td>\n",
       "      <td>2024-12-31</td>\n",
       "    </tr>\n",
       "    <tr>\n",
       "      <th>4</th>\n",
       "      <td>20250314001704</td>\n",
       "      <td>Y</td>\n",
       "      <td>00688996</td>\n",
       "      <td>KB금융</td>\n",
       "      <td>현금배당금총액(백만원)</td>\n",
       "      <td>1,198,257</td>\n",
       "      <td>1,173,937</td>\n",
       "      <td>1,149,421</td>\n",
       "      <td>2024-12-31</td>\n",
       "    </tr>\n",
       "    <tr>\n",
       "      <th>5</th>\n",
       "      <td>20250314001704</td>\n",
       "      <td>Y</td>\n",
       "      <td>00688996</td>\n",
       "      <td>KB금융</td>\n",
       "      <td>주식배당금총액(백만원)</td>\n",
       "      <td>-</td>\n",
       "      <td>-</td>\n",
       "      <td>-</td>\n",
       "      <td>2024-12-31</td>\n",
       "    </tr>\n",
       "    <tr>\n",
       "      <th>6</th>\n",
       "      <td>20250314001704</td>\n",
       "      <td>Y</td>\n",
       "      <td>00688996</td>\n",
       "      <td>KB금융</td>\n",
       "      <td>(연결)현금배당성향(%)</td>\n",
       "      <td>23.60</td>\n",
       "      <td>25.30</td>\n",
       "      <td>26.00</td>\n",
       "      <td>2024-12-31</td>\n",
       "    </tr>\n",
       "    <tr>\n",
       "      <th>7</th>\n",
       "      <td>20250314001704</td>\n",
       "      <td>Y</td>\n",
       "      <td>00688996</td>\n",
       "      <td>KB금융</td>\n",
       "      <td>현금배당수익률(%)</td>\n",
       "      <td>3.50</td>\n",
       "      <td>4.90</td>\n",
       "      <td>5.80</td>\n",
       "      <td>2024-12-31</td>\n",
       "    </tr>\n",
       "    <tr>\n",
       "      <th>8</th>\n",
       "      <td>20250314001704</td>\n",
       "      <td>Y</td>\n",
       "      <td>00688996</td>\n",
       "      <td>KB금융</td>\n",
       "      <td>현금배당수익률(%)</td>\n",
       "      <td>-</td>\n",
       "      <td>-</td>\n",
       "      <td>-</td>\n",
       "      <td>2024-12-31</td>\n",
       "    </tr>\n",
       "    <tr>\n",
       "      <th>9</th>\n",
       "      <td>20250314001704</td>\n",
       "      <td>Y</td>\n",
       "      <td>00688996</td>\n",
       "      <td>KB금융</td>\n",
       "      <td>주식배당수익률(%)</td>\n",
       "      <td>-</td>\n",
       "      <td>-</td>\n",
       "      <td>-</td>\n",
       "      <td>2024-12-31</td>\n",
       "    </tr>\n",
       "    <tr>\n",
       "      <th>10</th>\n",
       "      <td>20250314001704</td>\n",
       "      <td>Y</td>\n",
       "      <td>00688996</td>\n",
       "      <td>KB금융</td>\n",
       "      <td>주식배당수익률(%)</td>\n",
       "      <td>-</td>\n",
       "      <td>-</td>\n",
       "      <td>-</td>\n",
       "      <td>2024-12-31</td>\n",
       "    </tr>\n",
       "    <tr>\n",
       "      <th>11</th>\n",
       "      <td>20250314001704</td>\n",
       "      <td>Y</td>\n",
       "      <td>00688996</td>\n",
       "      <td>KB금융</td>\n",
       "      <td>주당 현금배당금(원)</td>\n",
       "      <td>3,174</td>\n",
       "      <td>3,060</td>\n",
       "      <td>2,950</td>\n",
       "      <td>2024-12-31</td>\n",
       "    </tr>\n",
       "    <tr>\n",
       "      <th>12</th>\n",
       "      <td>20250314001704</td>\n",
       "      <td>Y</td>\n",
       "      <td>00688996</td>\n",
       "      <td>KB금융</td>\n",
       "      <td>주당 현금배당금(원)</td>\n",
       "      <td>-</td>\n",
       "      <td>-</td>\n",
       "      <td>-</td>\n",
       "      <td>2024-12-31</td>\n",
       "    </tr>\n",
       "    <tr>\n",
       "      <th>13</th>\n",
       "      <td>20250314001704</td>\n",
       "      <td>Y</td>\n",
       "      <td>00688996</td>\n",
       "      <td>KB금융</td>\n",
       "      <td>주당 주식배당(주)</td>\n",
       "      <td>-</td>\n",
       "      <td>-</td>\n",
       "      <td>-</td>\n",
       "      <td>2024-12-31</td>\n",
       "    </tr>\n",
       "    <tr>\n",
       "      <th>14</th>\n",
       "      <td>20250314001704</td>\n",
       "      <td>Y</td>\n",
       "      <td>00688996</td>\n",
       "      <td>KB금융</td>\n",
       "      <td>주당 주식배당(주)</td>\n",
       "      <td>-</td>\n",
       "      <td>-</td>\n",
       "      <td>-</td>\n",
       "      <td>2024-12-31</td>\n",
       "    </tr>\n",
       "  </tbody>\n",
       "</table>\n",
       "</div>"
      ],
      "text/plain": [
       "          rcept_no corp_cls corp_code corp_name              se     thstrm  \\\n",
       "0   20250314001704        Y  00688996      KB금융       주당액면가액(원)      5,000   \n",
       "1   20250314001704        Y  00688996      KB금융  (연결)당기순이익(백만원)  5,078,221   \n",
       "2   20250314001704        Y  00688996      KB금융  (별도)당기순이익(백만원)  2,170,597   \n",
       "3   20250314001704        Y  00688996      KB금융    (연결)주당순이익(원)     13,407   \n",
       "4   20250314001704        Y  00688996      KB금융    현금배당금총액(백만원)  1,198,257   \n",
       "5   20250314001704        Y  00688996      KB금융    주식배당금총액(백만원)          -   \n",
       "6   20250314001704        Y  00688996      KB금융   (연결)현금배당성향(%)      23.60   \n",
       "7   20250314001704        Y  00688996      KB금융      현금배당수익률(%)       3.50   \n",
       "8   20250314001704        Y  00688996      KB금융      현금배당수익률(%)          -   \n",
       "9   20250314001704        Y  00688996      KB금융      주식배당수익률(%)          -   \n",
       "10  20250314001704        Y  00688996      KB금융      주식배당수익률(%)          -   \n",
       "11  20250314001704        Y  00688996      KB금융     주당 현금배당금(원)      3,174   \n",
       "12  20250314001704        Y  00688996      KB금융     주당 현금배당금(원)          -   \n",
       "13  20250314001704        Y  00688996      KB금융      주당 주식배당(주)          -   \n",
       "14  20250314001704        Y  00688996      KB금융      주당 주식배당(주)          -   \n",
       "\n",
       "       frmtrm       lwfr     stlm_dt  \n",
       "0       5,000      5,000  2024-12-31  \n",
       "1   4,631,932  4,394,830  2024-12-31  \n",
       "2   2,121,244  1,684,512  2024-12-31  \n",
       "3      11,580     10,955  2024-12-31  \n",
       "4   1,173,937  1,149,421  2024-12-31  \n",
       "5           -          -  2024-12-31  \n",
       "6       25.30      26.00  2024-12-31  \n",
       "7        4.90       5.80  2024-12-31  \n",
       "8           -          -  2024-12-31  \n",
       "9           -          -  2024-12-31  \n",
       "10          -          -  2024-12-31  \n",
       "11      3,060      2,950  2024-12-31  \n",
       "12          -          -  2024-12-31  \n",
       "13          -          -  2024-12-31  \n",
       "14          -          -  2024-12-31  "
      ]
     },
     "metadata": {},
     "output_type": "display_data"
    }
   ],
   "source": [
    "# KB금융 배당 보고서 탐색\n",
    "KB_report = dart.report(\"105560\", \"배당\", 2024, \"11011\")\n",
    "display(KB_report)\n",
    "# lwfr: 전년동기값, corp_cls = \n",
    "# 우리가 원하는건 (연결)주당순이익(원), 주당 현금배당금(원). 칼럼 인덱스 3, 11"
   ]
  },
  {
   "cell_type": "code",
   "execution_count": 6,
   "id": "632405dc-ed12-4ecc-862a-2651de2851b6",
   "metadata": {},
   "outputs": [
    {
     "data": {
      "text/html": [
       "<div>\n",
       "<style scoped>\n",
       "    .dataframe tbody tr th:only-of-type {\n",
       "        vertical-align: middle;\n",
       "    }\n",
       "\n",
       "    .dataframe tbody tr th {\n",
       "        vertical-align: top;\n",
       "    }\n",
       "\n",
       "    .dataframe thead th {\n",
       "        text-align: right;\n",
       "    }\n",
       "</style>\n",
       "<table border=\"1\" class=\"dataframe\">\n",
       "  <thead>\n",
       "    <tr style=\"text-align: right;\">\n",
       "      <th></th>\n",
       "      <th>rcept_no</th>\n",
       "      <th>corp_cls</th>\n",
       "      <th>corp_code</th>\n",
       "      <th>corp_name</th>\n",
       "      <th>se</th>\n",
       "      <th>thstrm</th>\n",
       "      <th>frmtrm</th>\n",
       "      <th>lwfr</th>\n",
       "      <th>stlm_dt</th>\n",
       "      <th>stock_knd</th>\n",
       "    </tr>\n",
       "  </thead>\n",
       "  <tbody>\n",
       "    <tr>\n",
       "      <th>0</th>\n",
       "      <td>20250311001085</td>\n",
       "      <td>Y</td>\n",
       "      <td>00126380</td>\n",
       "      <td>삼성전자</td>\n",
       "      <td>주당액면가액(원)</td>\n",
       "      <td>100</td>\n",
       "      <td>100</td>\n",
       "      <td>100</td>\n",
       "      <td>2024-12-31</td>\n",
       "      <td>NaN</td>\n",
       "    </tr>\n",
       "    <tr>\n",
       "      <th>1</th>\n",
       "      <td>20250311001085</td>\n",
       "      <td>Y</td>\n",
       "      <td>00126380</td>\n",
       "      <td>삼성전자</td>\n",
       "      <td>(연결)당기순이익(백만원)</td>\n",
       "      <td>33,621,363</td>\n",
       "      <td>14,473,401</td>\n",
       "      <td>54,730,018</td>\n",
       "      <td>2024-12-31</td>\n",
       "      <td>NaN</td>\n",
       "    </tr>\n",
       "    <tr>\n",
       "      <th>2</th>\n",
       "      <td>20250311001085</td>\n",
       "      <td>Y</td>\n",
       "      <td>00126380</td>\n",
       "      <td>삼성전자</td>\n",
       "      <td>(별도)당기순이익(백만원)</td>\n",
       "      <td>23,582,565</td>\n",
       "      <td>25,397,099</td>\n",
       "      <td>25,418,778</td>\n",
       "      <td>2024-12-31</td>\n",
       "      <td>NaN</td>\n",
       "    </tr>\n",
       "    <tr>\n",
       "      <th>3</th>\n",
       "      <td>20250311001085</td>\n",
       "      <td>Y</td>\n",
       "      <td>00126380</td>\n",
       "      <td>삼성전자</td>\n",
       "      <td>(연결)주당순이익(원)</td>\n",
       "      <td>4,950</td>\n",
       "      <td>2,131</td>\n",
       "      <td>8,057</td>\n",
       "      <td>2024-12-31</td>\n",
       "      <td>NaN</td>\n",
       "    </tr>\n",
       "    <tr>\n",
       "      <th>4</th>\n",
       "      <td>20250311001085</td>\n",
       "      <td>Y</td>\n",
       "      <td>00126380</td>\n",
       "      <td>삼성전자</td>\n",
       "      <td>현금배당금총액(백만원)</td>\n",
       "      <td>9,810,767</td>\n",
       "      <td>9,809,438</td>\n",
       "      <td>9,809,438</td>\n",
       "      <td>2024-12-31</td>\n",
       "      <td>NaN</td>\n",
       "    </tr>\n",
       "    <tr>\n",
       "      <th>5</th>\n",
       "      <td>20250311001085</td>\n",
       "      <td>Y</td>\n",
       "      <td>00126380</td>\n",
       "      <td>삼성전자</td>\n",
       "      <td>주식배당금총액(백만원)</td>\n",
       "      <td>-</td>\n",
       "      <td>-</td>\n",
       "      <td>-</td>\n",
       "      <td>2024-12-31</td>\n",
       "      <td>NaN</td>\n",
       "    </tr>\n",
       "    <tr>\n",
       "      <th>6</th>\n",
       "      <td>20250311001085</td>\n",
       "      <td>Y</td>\n",
       "      <td>00126380</td>\n",
       "      <td>삼성전자</td>\n",
       "      <td>(연결)현금배당성향(%)</td>\n",
       "      <td>29.20</td>\n",
       "      <td>67.80</td>\n",
       "      <td>17.90</td>\n",
       "      <td>2024-12-31</td>\n",
       "      <td>NaN</td>\n",
       "    </tr>\n",
       "    <tr>\n",
       "      <th>7</th>\n",
       "      <td>20250311001085</td>\n",
       "      <td>Y</td>\n",
       "      <td>00126380</td>\n",
       "      <td>삼성전자</td>\n",
       "      <td>현금배당수익률(%)</td>\n",
       "      <td>2.70</td>\n",
       "      <td>1.90</td>\n",
       "      <td>2.50</td>\n",
       "      <td>2024-12-31</td>\n",
       "      <td>보통주</td>\n",
       "    </tr>\n",
       "    <tr>\n",
       "      <th>8</th>\n",
       "      <td>20250311001085</td>\n",
       "      <td>Y</td>\n",
       "      <td>00126380</td>\n",
       "      <td>삼성전자</td>\n",
       "      <td>현금배당수익률(%)</td>\n",
       "      <td>3.30</td>\n",
       "      <td>2.40</td>\n",
       "      <td>2.70</td>\n",
       "      <td>2024-12-31</td>\n",
       "      <td>우선주</td>\n",
       "    </tr>\n",
       "    <tr>\n",
       "      <th>9</th>\n",
       "      <td>20250311001085</td>\n",
       "      <td>Y</td>\n",
       "      <td>00126380</td>\n",
       "      <td>삼성전자</td>\n",
       "      <td>주식배당수익률(%)</td>\n",
       "      <td>-</td>\n",
       "      <td>-</td>\n",
       "      <td>-</td>\n",
       "      <td>2024-12-31</td>\n",
       "      <td>보통주</td>\n",
       "    </tr>\n",
       "    <tr>\n",
       "      <th>10</th>\n",
       "      <td>20250311001085</td>\n",
       "      <td>Y</td>\n",
       "      <td>00126380</td>\n",
       "      <td>삼성전자</td>\n",
       "      <td>주식배당수익률(%)</td>\n",
       "      <td>-</td>\n",
       "      <td>-</td>\n",
       "      <td>-</td>\n",
       "      <td>2024-12-31</td>\n",
       "      <td>우선주</td>\n",
       "    </tr>\n",
       "    <tr>\n",
       "      <th>11</th>\n",
       "      <td>20250311001085</td>\n",
       "      <td>Y</td>\n",
       "      <td>00126380</td>\n",
       "      <td>삼성전자</td>\n",
       "      <td>주당 현금배당금(원)</td>\n",
       "      <td>1,446</td>\n",
       "      <td>1,444</td>\n",
       "      <td>1,444</td>\n",
       "      <td>2024-12-31</td>\n",
       "      <td>보통주</td>\n",
       "    </tr>\n",
       "    <tr>\n",
       "      <th>12</th>\n",
       "      <td>20250311001085</td>\n",
       "      <td>Y</td>\n",
       "      <td>00126380</td>\n",
       "      <td>삼성전자</td>\n",
       "      <td>주당 현금배당금(원)</td>\n",
       "      <td>1,447</td>\n",
       "      <td>1,445</td>\n",
       "      <td>1,445</td>\n",
       "      <td>2024-12-31</td>\n",
       "      <td>우선주</td>\n",
       "    </tr>\n",
       "    <tr>\n",
       "      <th>13</th>\n",
       "      <td>20250311001085</td>\n",
       "      <td>Y</td>\n",
       "      <td>00126380</td>\n",
       "      <td>삼성전자</td>\n",
       "      <td>주당 주식배당(주)</td>\n",
       "      <td>-</td>\n",
       "      <td>-</td>\n",
       "      <td>-</td>\n",
       "      <td>2024-12-31</td>\n",
       "      <td>보통주</td>\n",
       "    </tr>\n",
       "    <tr>\n",
       "      <th>14</th>\n",
       "      <td>20250311001085</td>\n",
       "      <td>Y</td>\n",
       "      <td>00126380</td>\n",
       "      <td>삼성전자</td>\n",
       "      <td>주당 주식배당(주)</td>\n",
       "      <td>-</td>\n",
       "      <td>-</td>\n",
       "      <td>-</td>\n",
       "      <td>2024-12-31</td>\n",
       "      <td>우선주</td>\n",
       "    </tr>\n",
       "  </tbody>\n",
       "</table>\n",
       "</div>"
      ],
      "text/plain": [
       "          rcept_no corp_cls corp_code corp_name              se      thstrm  \\\n",
       "0   20250311001085        Y  00126380      삼성전자       주당액면가액(원)         100   \n",
       "1   20250311001085        Y  00126380      삼성전자  (연결)당기순이익(백만원)  33,621,363   \n",
       "2   20250311001085        Y  00126380      삼성전자  (별도)당기순이익(백만원)  23,582,565   \n",
       "3   20250311001085        Y  00126380      삼성전자    (연결)주당순이익(원)       4,950   \n",
       "4   20250311001085        Y  00126380      삼성전자    현금배당금총액(백만원)   9,810,767   \n",
       "5   20250311001085        Y  00126380      삼성전자    주식배당금총액(백만원)           -   \n",
       "6   20250311001085        Y  00126380      삼성전자   (연결)현금배당성향(%)       29.20   \n",
       "7   20250311001085        Y  00126380      삼성전자      현금배당수익률(%)        2.70   \n",
       "8   20250311001085        Y  00126380      삼성전자      현금배당수익률(%)        3.30   \n",
       "9   20250311001085        Y  00126380      삼성전자      주식배당수익률(%)           -   \n",
       "10  20250311001085        Y  00126380      삼성전자      주식배당수익률(%)           -   \n",
       "11  20250311001085        Y  00126380      삼성전자     주당 현금배당금(원)       1,446   \n",
       "12  20250311001085        Y  00126380      삼성전자     주당 현금배당금(원)       1,447   \n",
       "13  20250311001085        Y  00126380      삼성전자      주당 주식배당(주)           -   \n",
       "14  20250311001085        Y  00126380      삼성전자      주당 주식배당(주)           -   \n",
       "\n",
       "        frmtrm        lwfr     stlm_dt stock_knd  \n",
       "0          100         100  2024-12-31       NaN  \n",
       "1   14,473,401  54,730,018  2024-12-31       NaN  \n",
       "2   25,397,099  25,418,778  2024-12-31       NaN  \n",
       "3        2,131       8,057  2024-12-31       NaN  \n",
       "4    9,809,438   9,809,438  2024-12-31       NaN  \n",
       "5            -           -  2024-12-31       NaN  \n",
       "6        67.80       17.90  2024-12-31       NaN  \n",
       "7         1.90        2.50  2024-12-31       보통주  \n",
       "8         2.40        2.70  2024-12-31       우선주  \n",
       "9            -           -  2024-12-31       보통주  \n",
       "10           -           -  2024-12-31       우선주  \n",
       "11       1,444       1,444  2024-12-31       보통주  \n",
       "12       1,445       1,445  2024-12-31       우선주  \n",
       "13           -           -  2024-12-31       보통주  \n",
       "14           -           -  2024-12-31       우선주  "
      ]
     },
     "metadata": {},
     "output_type": "display_data"
    }
   ],
   "source": [
    "# 삼성전자 배당 보고서 탐색\n",
    "Samsung_report = dart.report(\"삼성전자\", \"배당\", 2024, \"11011\")\n",
    "display(Samsung_report)\n",
    "# 삼전의 경우 stock_knd 가 있고 NaN, 보통주, 우선주로 구분됨."
   ]
  },
  {
   "cell_type": "code",
   "execution_count": 7,
   "id": "d556b460-1b2d-49bb-92c1-1c429ad0ffd3",
   "metadata": {},
   "outputs": [
    {
     "data": {
      "text/html": [
       "<div>\n",
       "<style scoped>\n",
       "    .dataframe tbody tr th:only-of-type {\n",
       "        vertical-align: middle;\n",
       "    }\n",
       "\n",
       "    .dataframe tbody tr th {\n",
       "        vertical-align: top;\n",
       "    }\n",
       "\n",
       "    .dataframe thead th {\n",
       "        text-align: right;\n",
       "    }\n",
       "</style>\n",
       "<table border=\"1\" class=\"dataframe\">\n",
       "  <thead>\n",
       "    <tr style=\"text-align: right;\">\n",
       "      <th></th>\n",
       "      <th>rcept_no</th>\n",
       "      <th>corp_cls</th>\n",
       "      <th>corp_code</th>\n",
       "      <th>corp_name</th>\n",
       "      <th>se</th>\n",
       "      <th>thstrm</th>\n",
       "      <th>frmtrm</th>\n",
       "      <th>lwfr</th>\n",
       "      <th>stlm_dt</th>\n",
       "    </tr>\n",
       "  </thead>\n",
       "  <tbody>\n",
       "    <tr>\n",
       "      <th>0</th>\n",
       "      <td>20240619000239</td>\n",
       "      <td>K</td>\n",
       "      <td>00378363</td>\n",
       "      <td>3S</td>\n",
       "      <td>주당액면가액(원)</td>\n",
       "      <td>500</td>\n",
       "      <td>500</td>\n",
       "      <td>500</td>\n",
       "      <td>2024-03-31</td>\n",
       "    </tr>\n",
       "    <tr>\n",
       "      <th>1</th>\n",
       "      <td>20240619000239</td>\n",
       "      <td>K</td>\n",
       "      <td>00378363</td>\n",
       "      <td>3S</td>\n",
       "      <td>(연결)당기순이익(백만원)</td>\n",
       "      <td>2,605</td>\n",
       "      <td>1,431</td>\n",
       "      <td>1,171</td>\n",
       "      <td>2024-03-31</td>\n",
       "    </tr>\n",
       "    <tr>\n",
       "      <th>2</th>\n",
       "      <td>20240619000239</td>\n",
       "      <td>K</td>\n",
       "      <td>00378363</td>\n",
       "      <td>3S</td>\n",
       "      <td>(별도)당기순이익(백만원)</td>\n",
       "      <td>3,413</td>\n",
       "      <td>2,097</td>\n",
       "      <td>482</td>\n",
       "      <td>2024-03-31</td>\n",
       "    </tr>\n",
       "    <tr>\n",
       "      <th>3</th>\n",
       "      <td>20240619000239</td>\n",
       "      <td>K</td>\n",
       "      <td>00378363</td>\n",
       "      <td>3S</td>\n",
       "      <td>(연결)주당순이익(원)</td>\n",
       "      <td>54</td>\n",
       "      <td>30</td>\n",
       "      <td>33</td>\n",
       "      <td>2024-03-31</td>\n",
       "    </tr>\n",
       "    <tr>\n",
       "      <th>4</th>\n",
       "      <td>20240619000239</td>\n",
       "      <td>K</td>\n",
       "      <td>00378363</td>\n",
       "      <td>3S</td>\n",
       "      <td>현금배당금총액(백만원)</td>\n",
       "      <td>-</td>\n",
       "      <td>-</td>\n",
       "      <td>-</td>\n",
       "      <td>2024-03-31</td>\n",
       "    </tr>\n",
       "    <tr>\n",
       "      <th>5</th>\n",
       "      <td>20240619000239</td>\n",
       "      <td>K</td>\n",
       "      <td>00378363</td>\n",
       "      <td>3S</td>\n",
       "      <td>주식배당금총액(백만원)</td>\n",
       "      <td>-</td>\n",
       "      <td>-</td>\n",
       "      <td>-</td>\n",
       "      <td>2024-03-31</td>\n",
       "    </tr>\n",
       "    <tr>\n",
       "      <th>6</th>\n",
       "      <td>20240619000239</td>\n",
       "      <td>K</td>\n",
       "      <td>00378363</td>\n",
       "      <td>3S</td>\n",
       "      <td>(연결)현금배당성향(%)</td>\n",
       "      <td>-</td>\n",
       "      <td>-</td>\n",
       "      <td>-</td>\n",
       "      <td>2024-03-31</td>\n",
       "    </tr>\n",
       "    <tr>\n",
       "      <th>7</th>\n",
       "      <td>20240619000239</td>\n",
       "      <td>K</td>\n",
       "      <td>00378363</td>\n",
       "      <td>3S</td>\n",
       "      <td>현금배당수익률(%)</td>\n",
       "      <td>-</td>\n",
       "      <td>-</td>\n",
       "      <td>-</td>\n",
       "      <td>2024-03-31</td>\n",
       "    </tr>\n",
       "    <tr>\n",
       "      <th>8</th>\n",
       "      <td>20240619000239</td>\n",
       "      <td>K</td>\n",
       "      <td>00378363</td>\n",
       "      <td>3S</td>\n",
       "      <td>현금배당수익률(%)</td>\n",
       "      <td>-</td>\n",
       "      <td>-</td>\n",
       "      <td>-</td>\n",
       "      <td>2024-03-31</td>\n",
       "    </tr>\n",
       "    <tr>\n",
       "      <th>9</th>\n",
       "      <td>20240619000239</td>\n",
       "      <td>K</td>\n",
       "      <td>00378363</td>\n",
       "      <td>3S</td>\n",
       "      <td>주식배당수익률(%)</td>\n",
       "      <td>-</td>\n",
       "      <td>-</td>\n",
       "      <td>-</td>\n",
       "      <td>2024-03-31</td>\n",
       "    </tr>\n",
       "    <tr>\n",
       "      <th>10</th>\n",
       "      <td>20240619000239</td>\n",
       "      <td>K</td>\n",
       "      <td>00378363</td>\n",
       "      <td>3S</td>\n",
       "      <td>주식배당수익률(%)</td>\n",
       "      <td>-</td>\n",
       "      <td>-</td>\n",
       "      <td>-</td>\n",
       "      <td>2024-03-31</td>\n",
       "    </tr>\n",
       "    <tr>\n",
       "      <th>11</th>\n",
       "      <td>20240619000239</td>\n",
       "      <td>K</td>\n",
       "      <td>00378363</td>\n",
       "      <td>3S</td>\n",
       "      <td>주당 현금배당금(원)</td>\n",
       "      <td>-</td>\n",
       "      <td>-</td>\n",
       "      <td>-</td>\n",
       "      <td>2024-03-31</td>\n",
       "    </tr>\n",
       "    <tr>\n",
       "      <th>12</th>\n",
       "      <td>20240619000239</td>\n",
       "      <td>K</td>\n",
       "      <td>00378363</td>\n",
       "      <td>3S</td>\n",
       "      <td>주당 현금배당금(원)</td>\n",
       "      <td>-</td>\n",
       "      <td>-</td>\n",
       "      <td>-</td>\n",
       "      <td>2024-03-31</td>\n",
       "    </tr>\n",
       "    <tr>\n",
       "      <th>13</th>\n",
       "      <td>20240619000239</td>\n",
       "      <td>K</td>\n",
       "      <td>00378363</td>\n",
       "      <td>3S</td>\n",
       "      <td>주당 주식배당(주)</td>\n",
       "      <td>-</td>\n",
       "      <td>-</td>\n",
       "      <td>-</td>\n",
       "      <td>2024-03-31</td>\n",
       "    </tr>\n",
       "    <tr>\n",
       "      <th>14</th>\n",
       "      <td>20240619000239</td>\n",
       "      <td>K</td>\n",
       "      <td>00378363</td>\n",
       "      <td>3S</td>\n",
       "      <td>주당 주식배당(주)</td>\n",
       "      <td>-</td>\n",
       "      <td>-</td>\n",
       "      <td>-</td>\n",
       "      <td>2024-03-31</td>\n",
       "    </tr>\n",
       "  </tbody>\n",
       "</table>\n",
       "</div>"
      ],
      "text/plain": [
       "          rcept_no corp_cls corp_code corp_name              se thstrm frmtrm  \\\n",
       "0   20240619000239        K  00378363        3S       주당액면가액(원)    500    500   \n",
       "1   20240619000239        K  00378363        3S  (연결)당기순이익(백만원)  2,605  1,431   \n",
       "2   20240619000239        K  00378363        3S  (별도)당기순이익(백만원)  3,413  2,097   \n",
       "3   20240619000239        K  00378363        3S    (연결)주당순이익(원)     54     30   \n",
       "4   20240619000239        K  00378363        3S    현금배당금총액(백만원)      -      -   \n",
       "5   20240619000239        K  00378363        3S    주식배당금총액(백만원)      -      -   \n",
       "6   20240619000239        K  00378363        3S   (연결)현금배당성향(%)      -      -   \n",
       "7   20240619000239        K  00378363        3S      현금배당수익률(%)      -      -   \n",
       "8   20240619000239        K  00378363        3S      현금배당수익률(%)      -      -   \n",
       "9   20240619000239        K  00378363        3S      주식배당수익률(%)      -      -   \n",
       "10  20240619000239        K  00378363        3S      주식배당수익률(%)      -      -   \n",
       "11  20240619000239        K  00378363        3S     주당 현금배당금(원)      -      -   \n",
       "12  20240619000239        K  00378363        3S     주당 현금배당금(원)      -      -   \n",
       "13  20240619000239        K  00378363        3S      주당 주식배당(주)      -      -   \n",
       "14  20240619000239        K  00378363        3S      주당 주식배당(주)      -      -   \n",
       "\n",
       "     lwfr     stlm_dt  \n",
       "0     500  2024-03-31  \n",
       "1   1,171  2024-03-31  \n",
       "2     482  2024-03-31  \n",
       "3      33  2024-03-31  \n",
       "4       -  2024-03-31  \n",
       "5       -  2024-03-31  \n",
       "6       -  2024-03-31  \n",
       "7       -  2024-03-31  \n",
       "8       -  2024-03-31  \n",
       "9       -  2024-03-31  \n",
       "10      -  2024-03-31  \n",
       "11      -  2024-03-31  \n",
       "12      -  2024-03-31  \n",
       "13      -  2024-03-31  \n",
       "14      -  2024-03-31  "
      ]
     },
     "metadata": {},
     "output_type": "display_data"
    }
   ],
   "source": [
    "# 삼에스 \n",
    "threeS_report = dart.report(\"3S\", \"배당\", 2024, \"11011\")\n",
    "display(threeS_report)\n",
    "# 삼에스의 경우 배당하지 않은 년도가 있어, 하이픈이 존재함. \n",
    "# \"주당 현금배당금(원)\"인 행 가운데 가장 위의 행을 가져와야 함."
   ]
  },
  {
   "cell_type": "code",
   "execution_count": 34,
   "id": "7b178dc6-62f0-49f6-b16a-af3fdc48e3da",
   "metadata": {},
   "outputs": [
    {
     "name": "stdout",
     "output_type": "stream",
     "text": [
      "{'주당배당금': (2950, 3060, 3174), '주당순이익': (10955, 11580, 13407)}\n"
     ]
    },
    {
     "data": {
      "text/plain": [
       "{'주당배당금': (7000, 11400, 12000), '주당순이익': (28521, 45703, 47615)}"
      ]
     },
     "metadata": {},
     "output_type": "display_data"
    }
   ],
   "source": [
    "import numpy as np\n",
    "def find_div_and_EPS(stock, year):\n",
    "    report = dart.report(stock, \"배당\", year, \"11011\") # 사업보고서에서 배당과 관련된 데이터를 가져와 report에 저장한다.\n",
    "    output = dict() # 출력 초기화\n",
    "    if report is None: # 사업보고서가 없으므로 결측으로 둔다.\n",
    "        output['주당배당금'] = np.nan, np.nan, np.nan\n",
    "        output['주당순이익'] = np.nan, np.nan, np.nan\n",
    "        return output\n",
    "\n",
    "    try:\n",
    "        # se 칼럼이 \"주당 현금배당금(원)\"인 0번째 행을 div_row에 저장한다.\n",
    "        div_row = report.loc[(report['se'] == '주당 현금배당금(원)')].iloc[0]\n",
    "\n",
    "        # 전전기(second previous: spre), 전기(pre), 당기(cur)\n",
    "        # 각 인덱스의 하이픈은 0으로 변환, 콤마 제거한 뒤, int64로 만들어 저장한다. \n",
    "        cur_div = int(div_row['thstrm'].replace('-', '0').replace(',', \"\"))\n",
    "        pre_div = int(div_row['frmtrm'].replace('-', '0').replace(',', \"\"))\n",
    "        spre_div = int(div_row['lwfr'].replace('-', '0').replace(',', \"\"))\n",
    "        output['주당배당금'] = spre_div, pre_div, cur_div\n",
    "    except Exception as e:\n",
    "        print(f\"{stock} - {year} 배당 처리 중 에러 발생: {e}\")\n",
    "        output['주당배당금'] = (np.nan, np.nan, np.nan)\n",
    "\n",
    "    try:\n",
    "        # 주당순이익(EPS) 관련 행 필터링\n",
    "        EPS_row = report.loc[(report['se'].str.contains('주당순이익'))].iloc[0]\n",
    "\n",
    "        # 하이픈은 0으로 변호나, 콤마 제거\n",
    "        cur_EPS = int(EPS_row['thstrm'].replace('-', '0').replace(',', \"\"))\n",
    "        pre_EPS = int(EPS_row['frmtrm'].replace('-', '0').replace(',', \"\"))\n",
    "        spre_EPS = int(EPS_row['lwfr'].replace('-', '0').replace(',', \"\"))\n",
    "        output['주당순이익'] = spre_EPS, pre_EPS, cur_EPS\n",
    "    except Exception as e:\n",
    "        print(f\"{stock} - {year} EPS 처리 중 에러 발생: {e}\")\n",
    "        output['주당순이익'] = (np.nan, np.nan, np.nan)\n",
    "\n",
    "    return output\n",
    "\n",
    "print(find_div_and_EPS(\"105560\", \"2024\"))\n",
    "display(find_div_and_EPS(\"현대자동차\", \"2024\"))"
   ]
  },
  {
   "cell_type": "code",
   "execution_count": 44,
   "id": "c234eb74-2f5e-43e1-9021-949b5de16f1a",
   "metadata": {},
   "outputs": [
    {
     "name": "stdout",
     "output_type": "stream",
     "text": [
      "   Symbol Market     Name           Sector             Industry ListingDate  \\\n",
      "1   95570  KOSPI   AJ네트웍스  산업용 기계 및 장비 임대업  렌탈(파렛트, OA장비, 건설장비)  2015-08-21   \n",
      "2    6840  KOSPI    AK홀딩스           기타 금융업                 지주사업  1999-08-11   \n",
      "6   27410  KOSPI      BGF           기타 금융업                 지주회사  2014-05-19   \n",
      "7  282330  KOSPI   BGF리테일           종합 소매업              체인화 편의점  2017-12-08   \n",
      "9  138930  KOSPI  BNK금융지주           기타 금융업               금융지주회사  2011-03-30   \n",
      "\n",
      "  SettleMonth     Representative                       HomePage Region  \n",
      "1         12월                박대현         http://www.ajnet.co.kr  서울특별시  \n",
      "2         12월  채형석, 이석주(각자 대표이사)  http://www.aekyunggroup.co.kr  서울특별시  \n",
      "6         12월                홍정국           http://www.bgf.co.kr  서울특별시  \n",
      "7         12월                이건준       http://www.bgfretail.com  서울특별시  \n",
      "9         12월                김지완           http://www.bnkfg.com  부산광역시  \n",
      "KOSPI 종목 수: 823개\n"
     ]
    },
    {
     "name": "stderr",
     "output_type": "stream",
     "text": [
      "진행 상황:   2%|▋                            | 20/823 [00:28<18:33,  1.39s/it, Stock=DL이앤씨, Index=21]]9]"
     ]
    },
    {
     "name": "stdout",
     "output_type": "stream",
     "text": [
      "{'status': '013', 'message': '조회된 데이타가 없습니다.'}\n",
      "375500 - 2018 배당 처리 중 에러 발생: 'se'\n",
      "375500 - 2018 EPS 처리 중 에러 발생: 'se'\n"
     ]
    },
    {
     "name": "stderr",
     "output_type": "stream",
     "text": [
      "진행 상황:   3%|▌                   | 25/823 [00:35<18:39,  1.40s/it, Stock=ESR켄달스퀘어리츠, Index=26]dex=25]"
     ]
    },
    {
     "name": "stdout",
     "output_type": "stream",
     "text": [
      "{'status': '013', 'message': '조회된 데이타가 없습니다.'}\n",
      "365550 - 2018 배당 처리 중 에러 발생: 'se'\n",
      "365550 - 2018 EPS 처리 중 에러 발생: 'se'\n"
     ]
    },
    {
     "name": "stderr",
     "output_type": "stream",
     "text": [
      "진행 상황:   3%|█                                 | 26/823 [00:36<18:17,  1.38s/it, Stock=F&F, Index=27]"
     ]
    },
    {
     "name": "stdout",
     "output_type": "stream",
     "text": [
      "{'status': '013', 'message': '조회된 데이타가 없습니다.'}\n",
      "383220 - 2018 배당 처리 중 에러 발생: 'se'\n",
      "383220 - 2018 EPS 처리 중 에러 발생: 'se'\n"
     ]
    },
    {
     "name": "stderr",
     "output_type": "stream",
     "text": [
      "진행 상황:   6%|█▌                          | 46/823 [01:04<17:36,  1.36s/it, Stock=KCC글라스, Index=47]46]"
     ]
    },
    {
     "name": "stdout",
     "output_type": "stream",
     "text": [
      "{'status': '013', 'message': '조회된 데이타가 없습니다.'}\n",
      "344820 - 2018 배당 처리 중 에러 발생: 'se'\n",
      "344820 - 2018 EPS 처리 중 에러 발생: 'se'\n"
     ]
    },
    {
     "name": "stderr",
     "output_type": "stream",
     "text": [
      "진행 상황:  10%|██▊                          | 80/823 [01:52<16:42,  1.35s/it, Stock=LX홀딩스, Index=81]76]"
     ]
    },
    {
     "name": "stdout",
     "output_type": "stream",
     "text": [
      "{'status': '013', 'message': '조회된 데이타가 없습니다.'}\n",
      "383800 - 2018 배당 처리 중 에러 발생: 'se'\n",
      "383800 - 2018 EPS 처리 중 에러 발생: 'se'\n"
     ]
    },
    {
     "name": "stderr",
     "output_type": "stream",
     "text": [
      "진행 상황:  10%|██▊                        | 84/823 [01:58<17:02,  1.38s/it, Stock=NH올원리츠, Index=85]=84]"
     ]
    },
    {
     "name": "stdout",
     "output_type": "stream",
     "text": [
      "{'status': '013', 'message': '조회된 데이타가 없습니다.'}\n",
      "400760 - 2018 배당 처리 중 에러 발생: 'se'\n",
      "400760 - 2018 EPS 처리 중 에러 발생: 'se'\n"
     ]
    },
    {
     "name": "stderr",
     "output_type": "stream",
     "text": [
      "진행 상황:  10%|██▌                      | 86/823 [02:01<17:40,  1.44s/it, Stock=NH프라임리츠, Index=87]]"
     ]
    },
    {
     "name": "stdout",
     "output_type": "stream",
     "text": [
      "{'status': '013', 'message': '조회된 데이타가 없습니다.'}\n",
      "338100 - 2018 배당 처리 중 에러 발생: 'se'\n",
      "338100 - 2018 EPS 처리 중 에러 발생: 'se'\n"
     ]
    },
    {
     "name": "stderr",
     "output_type": "stream",
     "text": [
      "진행 상황:  12%|██▌                   | 95/823 [02:13<16:59,  1.40s/it, Stock=SBS미디어홀딩스, Index=96]ex=95]"
     ]
    },
    {
     "name": "stdout",
     "output_type": "stream",
     "text": [
      "{'status': '013', 'message': '조회된 데이타가 없습니다.'}\n",
      "101060 - 2021 배당 처리 중 에러 발생: 'se'\n",
      "101060 - 2021 EPS 처리 중 에러 발생: 'se'\n",
      "{'status': '013', 'message': '조회된 데이타가 없습니다.'}\n",
      "101060 - 2024 배당 처리 중 에러 발생: 'se'\n",
      "101060 - 2024 EPS 처리 중 에러 발생: 'se'\n"
     ]
    },
    {
     "name": "stderr",
     "output_type": "stream",
     "text": [
      "진행 상황:  13%|███▌                       | 110/823 [02:33<15:39,  1.32s/it, Stock=SK렌터카, Index=111]]6]"
     ]
    },
    {
     "name": "stdout",
     "output_type": "stream",
     "text": [
      "{'status': '013', 'message': '조회된 데이타가 없습니다.'}\n",
      "068400 - 2024 배당 처리 중 에러 발생: 'se'\n",
      "068400 - 2024 EPS 처리 중 에러 발생: 'se'\n"
     ]
    },
    {
     "name": "stderr",
     "output_type": "stream",
     "text": [
      "진행 상황:  13%|███▉                         | 111/823 [02:34<15:22,  1.30s/it, Stock=SK리츠, Index=112]"
     ]
    },
    {
     "name": "stdout",
     "output_type": "stream",
     "text": [
      "{'status': '013', 'message': '조회된 데이타가 없습니다.'}\n",
      "395400 - 2018 배당 처리 중 에러 발생: 'se'\n",
      "395400 - 2018 EPS 처리 중 에러 발생: 'se'\n"
     ]
    },
    {
     "name": "stderr",
     "output_type": "stream",
     "text": [
      "진행 상황:  14%|███▍                     | 113/823 [02:38<16:59,  1.44s/it, Stock=SK바이오팜, Index=114]2]"
     ]
    },
    {
     "name": "stdout",
     "output_type": "stream",
     "text": [
      "{'status': '013', 'message': '조회된 데이타가 없습니다.'}\n",
      "326030 - 2018 배당 처리 중 에러 발생: 'se'\n",
      "326030 - 2018 EPS 처리 중 에러 발생: 'se'\n"
     ]
    },
    {
     "name": "stderr",
     "output_type": "stream",
     "text": [
      "진행 상황:  14%|███▋                       | 114/823 [02:39<16:27,  1.39s/it, Stock=SK스퀘어, Index=115]"
     ]
    },
    {
     "name": "stdout",
     "output_type": "stream",
     "text": [
      "{'status': '013', 'message': '조회된 데이타가 없습니다.'}\n",
      "402340 - 2018 배당 처리 중 에러 발생: 'se'\n",
      "402340 - 2018 EPS 처리 중 에러 발생: 'se'\n"
     ]
    },
    {
     "name": "stderr",
     "output_type": "stream",
     "text": [
      "진행 상황:  14%|██▍              | 115/823 [02:40<16:06,  1.37s/it, Stock=SK아이이테크놀로지, Index=116]=115]"
     ]
    },
    {
     "name": "stdout",
     "output_type": "stream",
     "text": [
      "{'status': '013', 'message': '조회된 데이타가 없습니다.'}\n",
      "361610 - 2018 배당 처리 중 에러 발생: 'se'\n",
      "361610 - 2018 EPS 처리 중 에러 발생: 'se'\n"
     ]
    },
    {
     "name": "stderr",
     "output_type": "stream",
     "text": [
      "진행 상황:  19%|████▍                  | 157/823 [03:37<15:55,  1.43s/it, Stock=교촌에프앤비, Index=158]7]]]5]"
     ]
    },
    {
     "name": "stdout",
     "output_type": "stream",
     "text": [
      "{'status': '013', 'message': '조회된 데이타가 없습니다.'}\n",
      "339770 - 2018 배당 처리 중 에러 발생: 'se'\n",
      "339770 - 2018 EPS 처리 중 에러 발생: 'se'\n"
     ]
    },
    {
     "name": "stderr",
     "output_type": "stream",
     "text": [
      "진행 상황:  24%|██████▍                    | 198/823 [04:33<15:00,  1.44s/it, Stock=대덕전자, Index=199]8]"
     ]
    },
    {
     "name": "stdout",
     "output_type": "stream",
     "text": [
      "{'status': '013', 'message': '조회된 데이타가 없습니다.'}\n",
      "353200 - 2018 배당 처리 중 에러 발생: 'se'\n",
      "353200 - 2018 EPS 처리 중 에러 발생: 'se'\n"
     ]
    },
    {
     "name": "stderr",
     "output_type": "stream",
     "text": [
      "진행 상황:  27%|██████▋                  | 221/823 [05:05<13:35,  1.35s/it, Stock=대유플러스, Index=222]]5]"
     ]
    },
    {
     "name": "stdout",
     "output_type": "stream",
     "text": [
      "{'status': '013', 'message': '조회된 데이타가 없습니다.'}\n",
      "000300 - 2024 배당 처리 중 에러 발생: 'se'\n",
      "000300 - 2024 EPS 처리 중 에러 발생: 'se'\n"
     ]
    },
    {
     "name": "stderr",
     "output_type": "stream",
     "text": [
      "진행 상황:  31%|███████▋                 | 252/823 [05:53<16:41,  1.75s/it, Stock=동아타이어, Index=253]]7]"
     ]
    },
    {
     "name": "stdout",
     "output_type": "stream",
     "text": [
      "{'status': '013', 'message': '조회된 데이타가 없습니다.'}\n",
      "282690 - 2024 배당 처리 중 에러 발생: 'se'\n",
      "282690 - 2024 EPS 처리 중 에러 발생: 'se'\n"
     ]
    },
    {
     "name": "stderr",
     "output_type": "stream",
     "text": [
      "진행 상황:  33%|████████▏                | 270/823 [06:17<12:34,  1.36s/it, Stock=두산퓨얼셀, Index=271]]8]"
     ]
    },
    {
     "name": "stdout",
     "output_type": "stream",
     "text": [
      "{'status': '013', 'message': '조회된 데이타가 없습니다.'}\n",
      "336260 - 2018 배당 처리 중 에러 발생: 'se'\n",
      "336260 - 2018 EPS 처리 중 에러 발생: 'se'\n"
     ]
    },
    {
     "name": "stderr",
     "output_type": "stream",
     "text": [
      "진행 상황:  34%|██████▎            | 276/823 [06:25<11:27,  1.26s/it, Stock=디앤디플랫폼리츠, Index=277]276]]]"
     ]
    },
    {
     "name": "stdout",
     "output_type": "stream",
     "text": [
      "{'status': '013', 'message': '조회된 데이타가 없습니다.'}\n",
      "377190 - 2018 배당 처리 중 에러 발생: 'se'\n",
      "377190 - 2018 EPS 처리 중 에러 발생: 'se'\n"
     ]
    },
    {
     "name": "stderr",
     "output_type": "stream",
     "text": [
      "진행 상황:  35%|█████████▎                 | 284/823 [06:35<11:04,  1.23s/it, Stock=롯데리츠, Index=285]]"
     ]
    },
    {
     "name": "stdout",
     "output_type": "stream",
     "text": [
      "{'status': '013', 'message': '조회된 데이타가 없습니다.'}\n",
      "330590 - 2018 배당 처리 중 에러 발생: 'se'\n",
      "330590 - 2018 EPS 처리 중 에러 발생: 'se'\n"
     ]
    },
    {
     "name": "stderr",
     "output_type": "stream",
     "text": [
      "진행 상황:  36%|█████████▌                 | 293/823 [06:46<11:13,  1.27s/it, Stock=롯데푸드, Index=294]"
     ]
    },
    {
     "name": "stdout",
     "output_type": "stream",
     "text": [
      "{'status': '013', 'message': '조회된 데이타가 없습니다.'}\n",
      "002270 - 2024 배당 처리 중 에러 발생: 'se'\n",
      "002270 - 2024 EPS 처리 중 에러 발생: 'se'\n"
     ]
    },
    {
     "name": "stderr",
     "output_type": "stream",
     "text": [
      "진행 상황:  36%|████████▎              | 298/823 [06:53<11:18,  1.29s/it, Stock=맥쿼리인프라, Index=299]8]7]"
     ]
    },
    {
     "name": "stdout",
     "output_type": "stream",
     "text": [
      "{'status': '013', 'message': '조회된 데이타가 없습니다.'}\n",
      "088980 - 2018 배당 처리 중 에러 발생: 'se'\n",
      "088980 - 2018 EPS 처리 중 에러 발생: 'se'\n",
      "{'status': '013', 'message': '조회된 데이타가 없습니다.'}\n",
      "088980 - 2021 배당 처리 중 에러 발생: 'se'\n",
      "088980 - 2021 EPS 처리 중 에러 발생: 'se'\n",
      "{'status': '013', 'message': '조회된 데이타가 없습니다.'}\n",
      "088980 - 2024 배당 처리 중 에러 발생: 'se'\n",
      "088980 - 2024 EPS 처리 중 에러 발생: 'se'\n"
     ]
    },
    {
     "name": "stderr",
     "output_type": "stream",
     "text": [
      "진행 상황:  36%|████████▋               | 299/823 [06:54<11:14,  1.29s/it, Stock=맵스리얼티1, Index=300]"
     ]
    },
    {
     "name": "stdout",
     "output_type": "stream",
     "text": [
      "{'status': '013', 'message': '조회된 데이타가 없습니다.'}\n",
      "094800 - 2018 배당 처리 중 에러 발생: 'se'\n",
      "094800 - 2018 EPS 처리 중 에러 발생: 'se'\n",
      "{'status': '013', 'message': '조회된 데이타가 없습니다.'}\n",
      "094800 - 2021 배당 처리 중 에러 발생: 'se'\n",
      "094800 - 2021 EPS 처리 중 에러 발생: 'se'\n",
      "{'status': '013', 'message': '조회된 데이타가 없습니다.'}\n",
      "094800 - 2024 배당 처리 중 에러 발생: 'se'\n",
      "094800 - 2024 EPS 처리 중 에러 발생: 'se'\n"
     ]
    },
    {
     "name": "stderr",
     "output_type": "stream",
     "text": [
      "진행 상황:  37%|█████████▏               | 301/823 [06:56<11:19,  1.30s/it, Stock=메리츠증권, Index=302]"
     ]
    },
    {
     "name": "stdout",
     "output_type": "stream",
     "text": [
      "{'status': '013', 'message': '조회된 데이타가 없습니다.'}\n",
      "008560 - 2024 배당 처리 중 에러 발생: 'se'\n",
      "008560 - 2024 EPS 처리 중 에러 발생: 'se'\n"
     ]
    },
    {
     "name": "stderr",
     "output_type": "stream",
     "text": [
      "진행 상황:  37%|█████████▏               | 302/823 [06:58<11:28,  1.32s/it, Stock=메리츠화재, Index=303]"
     ]
    },
    {
     "name": "stdout",
     "output_type": "stream",
     "text": [
      "{'status': '013', 'message': '조회된 데이타가 없습니다.'}\n",
      "000060 - 2024 배당 처리 중 에러 발생: 'se'\n",
      "000060 - 2024 EPS 처리 중 에러 발생: 'se'\n"
     ]
    },
    {
     "name": "stderr",
     "output_type": "stream",
     "text": [
      "진행 상황:  37%|██████████                 | 305/823 [07:02<11:31,  1.33s/it, Stock=명신산업, Index=306]"
     ]
    },
    {
     "name": "stdout",
     "output_type": "stream",
     "text": [
      "{'status': '013', 'message': '조회된 데이타가 없습니다.'}\n",
      "009900 - 2018 배당 처리 중 에러 발생: 'se'\n",
      "009900 - 2018 EPS 처리 중 에러 발생: 'se'\n"
     ]
    },
    {
     "name": "stderr",
     "output_type": "stream",
     "text": [
      "진행 상황:  37%|████████▌              | 308/823 [07:06<11:19,  1.32s/it, Stock=모두투어리츠, Index=309]08]"
     ]
    },
    {
     "name": "stdout",
     "output_type": "stream",
     "text": [
      "{'status': '013', 'message': '조회된 데이타가 없습니다.'}\n",
      "204210 - 2024 배당 처리 중 에러 발생: 'se'\n",
      "204210 - 2024 EPS 처리 중 에러 발생: 'se'\n"
     ]
    },
    {
     "name": "stderr",
     "output_type": "stream",
     "text": [
      "진행 상황:  38%|██████▌          | 316/823 [07:17<12:57,  1.53s/it, Stock=미래에셋글로벌리츠, Index=317]16]5]3]"
     ]
    },
    {
     "name": "stdout",
     "output_type": "stream",
     "text": [
      "{'status': '013', 'message': '조회된 데이타가 없습니다.'}\n",
      "396690 - 2018 배당 처리 중 에러 발생: 'se'\n",
      "396690 - 2018 EPS 처리 중 에러 발생: 'se'\n",
      "{'status': '013', 'message': '조회된 데이타가 없습니다.'}\n",
      "396690 - 2021 배당 처리 중 에러 발생: 'se'\n",
      "396690 - 2021 EPS 처리 중 에러 발생: 'se'\n"
     ]
    },
    {
     "name": "stderr",
     "output_type": "stream",
     "text": [
      "진행 상황:  39%|███████▎           | 317/823 [07:19<13:29,  1.60s/it, Stock=미래에셋맵스리츠, Index=318]"
     ]
    },
    {
     "name": "stdout",
     "output_type": "stream",
     "text": [
      "{'status': '013', 'message': '조회된 데이타가 없습니다.'}\n",
      "357250 - 2018 배당 처리 중 에러 발생: 'se'\n",
      "357250 - 2018 EPS 처리 중 에러 발생: 'se'\n"
     ]
    },
    {
     "name": "stderr",
     "output_type": "stream",
     "text": [
      "진행 상황:  39%|█████████▊               | 325/823 [07:31<11:32,  1.39s/it, Stock=바다로19호, Index=326]"
     ]
    },
    {
     "name": "stdout",
     "output_type": "stream",
     "text": [
      "{'status': '013', 'message': '조회된 데이타가 없습니다.'}\n",
      "155900 - 2024 배당 처리 중 에러 발생: 'se'\n",
      "155900 - 2024 EPS 처리 중 에러 발생: 'se'\n"
     ]
    },
    {
     "name": "stderr",
     "output_type": "stream",
     "text": [
      "진행 상황:  40%|█████████▌              | 330/823 [07:38<11:37,  1.41s/it, Stock=베트남개발1, Index=331]]9]"
     ]
    },
    {
     "name": "stdout",
     "output_type": "stream",
     "text": [
      "{'status': '013', 'message': '조회된 데이타가 없습니다.'}\n",
      "096300 - 2018 배당 처리 중 에러 발생: 'se'\n",
      "096300 - 2018 EPS 처리 중 에러 발생: 'se'\n",
      "{'status': '013', 'message': '조회된 데이타가 없습니다.'}\n",
      "096300 - 2021 배당 처리 중 에러 발생: 'se'\n",
      "096300 - 2021 EPS 처리 중 에러 발생: 'se'\n",
      "{'status': '013', 'message': '조회된 데이타가 없습니다.'}\n",
      "096300 - 2024 배당 처리 중 에러 발생: 'se'\n",
      "096300 - 2024 EPS 처리 중 에러 발생: 'se'\n"
     ]
    },
    {
     "name": "stderr",
     "output_type": "stream",
     "text": [
      "진행 상황:  41%|███████████                | 338/823 [07:50<11:40,  1.44s/it, Stock=부산가스, Index=339]3]"
     ]
    },
    {
     "name": "stdout",
     "output_type": "stream",
     "text": [
      "{'status': '013', 'message': '조회된 데이타가 없습니다.'}\n",
      "015350 - 2024 배당 처리 중 에러 발생: 'se'\n",
      "015350 - 2024 EPS 처리 중 에러 발생: 'se'\n"
     ]
    },
    {
     "name": "stderr",
     "output_type": "stream",
     "text": [
      "진행 상황:  42%|██████████▍              | 343/823 [07:56<11:00,  1.38s/it, Stock=비케이탑스, Index=344]]]"
     ]
    },
    {
     "name": "stdout",
     "output_type": "stream",
     "text": [
      "{'status': '013', 'message': '조회된 데이타가 없습니다.'}\n",
      "030790 - 2024 배당 처리 중 에러 발생: 'se'\n",
      "030790 - 2024 EPS 처리 중 에러 발생: 'se'\n"
     ]
    },
    {
     "name": "stderr",
     "output_type": "stream",
     "text": [
      "진행 상황:  43%|███████████▍               | 350/823 [08:06<10:57,  1.39s/it, Stock=삼부토건, Index=351]]"
     ]
    },
    {
     "name": "stdout",
     "output_type": "stream",
     "text": [
      "{'status': '013', 'message': '조회된 데이타가 없습니다.'}\n",
      "001470 - 2024 배당 처리 중 에러 발생: 'se'\n",
      "001470 - 2024 EPS 처리 중 에러 발생: 'se'\n"
     ]
    },
    {
     "name": "stderr",
     "output_type": "stream",
     "text": [
      "진행 상황:  46%|████████████▍              | 380/823 [08:48<10:21,  1.40s/it, Stock=삼정펄프, Index=381]7]"
     ]
    },
    {
     "name": "stdout",
     "output_type": "stream",
     "text": [
      "{'status': '013', 'message': '조회된 데이타가 없습니다.'}\n",
      "009770 - 2024 배당 처리 중 에러 발생: 'se'\n",
      "009770 - 2024 EPS 처리 중 에러 발생: 'se'\n"
     ]
    },
    {
     "name": "stderr",
     "output_type": "stream",
     "text": [
      "진행 상황:  51%|████████████▊            | 422/823 [09:47<10:00,  1.50s/it, Stock=센트랄모텍, Index=423]22]"
     ]
    },
    {
     "name": "stdout",
     "output_type": "stream",
     "text": [
      "{'status': '013', 'message': '조회된 데이타가 없습니다.'}\n",
      "308170 - 2018 배당 처리 중 에러 발생: 'se'\n",
      "308170 - 2018 EPS 처리 중 에러 발생: 'se'\n"
     ]
    },
    {
     "name": "stderr",
     "output_type": "stream",
     "text": [
      "진행 상황:  52%|██████████▊          | 425/823 [09:51<09:16,  1.40s/it, Stock=솔루스첨단소재, Index=426]25]"
     ]
    },
    {
     "name": "stdout",
     "output_type": "stream",
     "text": [
      "{'status': '013', 'message': '조회된 데이타가 없습니다.'}\n",
      "336370 - 2018 배당 처리 중 에러 발생: 'se'\n",
      "336370 - 2018 EPS 처리 중 에러 발생: 'se'\n"
     ]
    },
    {
     "name": "stderr",
     "output_type": "stream",
     "text": [
      "진행 상황:  52%|███████████████              | 426/823 [09:53<09:00,  1.36s/it, Stock=솔루엠, Index=427]"
     ]
    },
    {
     "name": "stdout",
     "output_type": "stream",
     "text": [
      "{'status': '013', 'message': '조회된 데이타가 없습니다.'}\n",
      "248070 - 2018 배당 처리 중 에러 발생: 'se'\n",
      "248070 - 2018 EPS 처리 중 에러 발생: 'se'\n"
     ]
    },
    {
     "name": "stderr",
     "output_type": "stream",
     "text": [
      "진행 상황:  55%|███████████████▍            | 452/823 [10:28<08:02,  1.30s/it, Stock=쌍용C&E, Index=453]"
     ]
    },
    {
     "name": "stdout",
     "output_type": "stream",
     "text": [
      "{'status': '013', 'message': '조회된 데이타가 없습니다.'}\n",
      "003410 - 2024 배당 처리 중 에러 발생: 'se'\n",
      "003410 - 2024 EPS 처리 중 에러 발생: 'se'\n"
     ]
    },
    {
     "name": "stderr",
     "output_type": "stream",
     "text": [
      "진행 상황:  55%|███████████▌         | 455/823 [10:32<08:05,  1.32s/it, Stock=쎌마테라퓨틱스, Index=456]55]]]"
     ]
    },
    {
     "name": "stdout",
     "output_type": "stream",
     "text": [
      "{'status': '013', 'message': '조회된 데이타가 없습니다.'}\n",
      "015540 - 2024 배당 처리 중 에러 발생: 'se'\n",
      "015540 - 2024 EPS 처리 중 에러 발생: 'se'\n"
     ]
    },
    {
     "name": "stderr",
     "output_type": "stream",
     "text": [
      "진행 상황:  57%|███████████████▍           | 469/823 [10:53<08:00,  1.36s/it, Stock=아주스틸, Index=470]]"
     ]
    },
    {
     "name": "stdout",
     "output_type": "stream",
     "text": [
      "{'status': '013', 'message': '조회된 데이타가 없습니다.'}\n",
      "139990 - 2018 배당 처리 중 에러 발생: 'se'\n",
      "139990 - 2018 EPS 처리 중 에러 발생: 'se'\n"
     ]
    },
    {
     "name": "stderr",
     "output_type": "stream",
     "text": [
      "진행 상황:  58%|██████████▉        | 474/823 [11:01<09:29,  1.63s/it, Stock=에스디바이오센서, Index=475]=474]"
     ]
    },
    {
     "name": "stdout",
     "output_type": "stream",
     "text": [
      "{'status': '013', 'message': '조회된 데이타가 없습니다.'}\n",
      "137310 - 2018 배당 처리 중 에러 발생: 'se'\n",
      "137310 - 2018 EPS 처리 중 에러 발생: 'se'\n"
     ]
    },
    {
     "name": "stderr",
     "output_type": "stream",
     "text": [
      "진행 상황:  59%|██████████████▊          | 486/823 [11:17<07:48,  1.39s/it, Stock=엔에스쇼핑, Index=487]]]"
     ]
    },
    {
     "name": "stdout",
     "output_type": "stream",
     "text": [
      "{'status': '013', 'message': '조회된 데이타가 없습니다.'}\n",
      "138250 - 2024 배당 처리 중 에러 발생: 'se'\n",
      "138250 - 2024 EPS 처리 중 에러 발생: 'se'\n"
     ]
    },
    {
     "name": "stderr",
     "output_type": "stream",
     "text": [
      "진행 상황:  59%|███████████▏       | 487/823 [11:19<08:04,  1.44s/it, Stock=엔에이치스팩19호, Index=488]7]"
     ]
    },
    {
     "name": "stdout",
     "output_type": "stream",
     "text": [
      "{'status': '013', 'message': '조회된 데이타가 없습니다.'}\n",
      "380440 - 2018 배당 처리 중 에러 발생: 'se'\n",
      "380440 - 2018 EPS 처리 중 에러 발생: 'se'\n",
      "{'status': '013', 'message': '조회된 데이타가 없습니다.'}\n",
      "380440 - 2024 배당 처리 중 에러 발생: 'se'\n",
      "380440 - 2024 EPS 처리 중 에러 발생: 'se'\n"
     ]
    },
    {
     "name": "stderr",
     "output_type": "stream",
     "text": [
      "진행 상황:  59%|███████████▎       | 489/823 [11:22<08:17,  1.49s/it, Stock=엘브이엠씨홀딩스, Index=490]=489]"
     ]
    },
    {
     "name": "stdout",
     "output_type": "stream",
     "text": [
      "{'status': '013', 'message': '조회된 데이타가 없습니다.'}\n",
      "900140 - 2024 배당 처리 중 에러 발생: 'se'\n",
      "900140 - 2024 EPS 처리 중 에러 발생: 'se'\n"
     ]
    },
    {
     "name": "stderr",
     "output_type": "stream",
     "text": [
      "진행 상황:  61%|██████████████▏        | 506/823 [11:45<07:01,  1.33s/it, Stock=우리금융지주, Index=507]]3]]"
     ]
    },
    {
     "name": "stdout",
     "output_type": "stream",
     "text": [
      "{'status': '013', 'message': '조회된 데이타가 없습니다.'}\n",
      "316140 - 2018 배당 처리 중 에러 발생: 'se'\n",
      "316140 - 2018 EPS 처리 중 에러 발생: 'se'\n"
     ]
    },
    {
     "name": "stderr",
     "output_type": "stream",
     "text": [
      "진행 상황:  62%|████████████████▋          | 508/823 [11:48<07:31,  1.43s/it, Stock=우리종금, Index=509]"
     ]
    },
    {
     "name": "stdout",
     "output_type": "stream",
     "text": [
      "{'status': '013', 'message': '조회된 데이타가 없습니다.'}\n",
      "010050 - 2024 배당 처리 중 에러 발생: 'se'\n",
      "010050 - 2024 EPS 처리 중 에러 발생: 'se'\n"
     ]
    },
    {
     "name": "stderr",
     "output_type": "stream",
     "text": [
      "진행 상황:  63%|███████████████▋         | 517/823 [12:01<06:56,  1.36s/it, Stock=웰바이오텍, Index=518]17]"
     ]
    },
    {
     "name": "stdout",
     "output_type": "stream",
     "text": [
      "{'status': '013', 'message': '조회된 데이타가 없습니다.'}\n",
      "010600 - 2024 배당 처리 중 에러 발생: 'se'\n",
      "010600 - 2024 EPS 처리 중 에러 발생: 'se'\n"
     ]
    },
    {
     "name": "stderr",
     "output_type": "stream",
     "text": [
      "진행 상황:  63%|██████████████████▎          | 518/823 [12:02<07:12,  1.42s/it, Stock=윌비스, Index=519]"
     ]
    },
    {
     "name": "stdout",
     "output_type": "stream",
     "text": [
      "{'status': '013', 'message': '조회된 데이타가 없습니다.'}\n",
      "008600 - 2024 배당 처리 중 에러 발생: 'se'\n",
      "008600 - 2024 EPS 처리 중 에러 발생: 'se'\n"
     ]
    },
    {
     "name": "stderr",
     "output_type": "stream",
     "text": [
      "진행 상황:  66%|████████████████▍        | 543/823 [12:37<06:20,  1.36s/it, Stock=이엔플러스, Index=544]]]"
     ]
    },
    {
     "name": "stdout",
     "output_type": "stream",
     "text": [
      "{'status': '013', 'message': '조회된 데이타가 없습니다.'}\n",
      "074610 - 2024 배당 처리 중 에러 발생: 'se'\n",
      "074610 - 2024 EPS 처리 중 에러 발생: 'se'\n"
     ]
    },
    {
     "name": "stderr",
     "output_type": "stream",
     "text": [
      "진행 상황:  66%|███████████▎     | 546/823 [12:40<05:58,  1.29s/it, Stock=이지스레지던스리츠, Index=547]x=546]"
     ]
    },
    {
     "name": "stdout",
     "output_type": "stream",
     "text": [
      "{'status': '013', 'message': '조회된 데이타가 없습니다.'}\n",
      "350520 - 2018 배당 처리 중 에러 발생: 'se'\n",
      "350520 - 2018 EPS 처리 중 에러 발생: 'se'\n"
     ]
    },
    {
     "name": "stderr",
     "output_type": "stream",
     "text": [
      "진행 상황:  66%|█████████████▉       | 547/823 [12:42<05:54,  1.28s/it, Stock=이지스밸류리츠, Index=548]"
     ]
    },
    {
     "name": "stdout",
     "output_type": "stream",
     "text": [
      "{'status': '013', 'message': '조회된 데이타가 없습니다.'}\n",
      "334890 - 2018 배당 처리 중 에러 발생: 'se'\n",
      "334890 - 2018 EPS 처리 중 에러 발생: 'se'\n"
     ]
    },
    {
     "name": "stderr",
     "output_type": "stream",
     "text": [
      "진행 상황:  67%|█████████████████▉         | 548/823 [12:43<05:57,  1.30s/it, Stock=이화산업, Index=549]"
     ]
    },
    {
     "name": "stdout",
     "output_type": "stream",
     "text": [
      "{'status': '013', 'message': '조회된 데이타가 없습니다.'}\n",
      "000760 - 2018 배당 처리 중 에러 발생: 'se'\n",
      "000760 - 2018 EPS 처리 중 에러 발생: 'se'\n"
     ]
    },
    {
     "name": "stderr",
     "output_type": "stream",
     "text": [
      "진행 상황:  68%|██████████████████▍        | 562/823 [13:02<06:17,  1.45s/it, Stock=일양약품, Index=563]6]"
     ]
    },
    {
     "name": "stdout",
     "output_type": "stream",
     "text": [
      "{'status': '013', 'message': '조회된 데이타가 없습니다.'}\n",
      "007570 - 2024 배당 처리 중 에러 발생: 'se'\n",
      "007570 - 2024 EPS 처리 중 에러 발생: 'se'\n"
     ]
    },
    {
     "name": "stderr",
     "output_type": "stream",
     "text": [
      "진행 상황:  69%|██████████████▍      | 568/823 [13:10<05:49,  1.37s/it, Stock=일진하이솔루스, Index=569]68]"
     ]
    },
    {
     "name": "stdout",
     "output_type": "stream",
     "text": [
      "{'status': '013', 'message': '조회된 데이타가 없습니다.'}\n",
      "271940 - 2018 배당 처리 중 에러 발생: 'se'\n",
      "271940 - 2018 EPS 처리 중 에러 발생: 'se'\n"
     ]
    },
    {
     "name": "stderr",
     "output_type": "stream",
     "text": [
      "진행 상황:  69%|███████████████▉       | 571/823 [13:14<05:40,  1.35s/it, Stock=자이에스앤디, Index=572]1]"
     ]
    },
    {
     "name": "stdout",
     "output_type": "stream",
     "text": [
      "{'status': '013', 'message': '조회된 데이타가 없습니다.'}\n",
      "317400 - 2018 배당 처리 중 에러 발생: 'se'\n",
      "317400 - 2018 EPS 처리 중 에러 발생: 'se'\n"
     ]
    },
    {
     "name": "stderr",
     "output_type": "stream",
     "text": [
      "진행 상황:  70%|█████████████▎     | 574/823 [13:19<05:46,  1.39s/it, Stock=제이알글로벌리츠, Index=575]x=574]"
     ]
    },
    {
     "name": "stdout",
     "output_type": "stream",
     "text": [
      "{'status': '013', 'message': '조회된 데이타가 없습니다.'}\n",
      "348950 - 2018 배당 처리 중 에러 발생: 'se'\n",
      "348950 - 2018 EPS 처리 중 에러 발생: 'se'\n"
     ]
    },
    {
     "name": "stderr",
     "output_type": "stream",
     "text": [
      "진행 상황:  74%|██████████████████▌      | 612/823 [14:14<06:08,  1.75s/it, Stock=카카오뱅크, Index=613]2]]"
     ]
    },
    {
     "name": "stdout",
     "output_type": "stream",
     "text": [
      "{'status': '013', 'message': '조회된 데이타가 없습니다.'}\n",
      "323410 - 2018 배당 처리 중 에러 발생: 'se'\n",
      "323410 - 2018 EPS 처리 중 에러 발생: 'se'\n"
     ]
    },
    {
     "name": "stderr",
     "output_type": "stream",
     "text": [
      "진행 상황:  74%|██████████████████▌      | 613/823 [14:15<05:39,  1.62s/it, Stock=카카오페이, Index=614]"
     ]
    },
    {
     "name": "stdout",
     "output_type": "stream",
     "text": [
      "{'status': '013', 'message': '조회된 데이타가 없습니다.'}\n",
      "377300 - 2018 배당 처리 중 에러 발생: 'se'\n",
      "377300 - 2018 EPS 처리 중 에러 발생: 'se'\n"
     ]
    },
    {
     "name": "stderr",
     "output_type": "stream",
     "text": [
      "진행 상황:  75%|█████████████████████▊       | 619/823 [14:23<04:53,  1.44s/it, Stock=케이카, Index=620]"
     ]
    },
    {
     "name": "stdout",
     "output_type": "stream",
     "text": [
      "{'status': '013', 'message': '조회된 데이타가 없습니다.'}\n",
      "381970 - 2018 배당 처리 중 에러 발생: 'se'\n",
      "381970 - 2018 EPS 처리 중 에러 발생: 'se'\n"
     ]
    },
    {
     "name": "stderr",
     "output_type": "stream",
     "text": [
      "진행 상황:  75%|██████████████▎    | 621/823 [14:26<04:35,  1.36s/it, Stock=코람코에너지리츠, Index=622]21]0]"
     ]
    },
    {
     "name": "stdout",
     "output_type": "stream",
     "text": [
      "{'status': '013', 'message': '조회된 데이타가 없습니다.'}\n",
      "357120 - 2018 배당 처리 중 에러 발생: 'se'\n",
      "357120 - 2018 EPS 처리 중 에러 발생: 'se'\n"
     ]
    },
    {
     "name": "stderr",
     "output_type": "stream",
     "text": [
      "진행 상황:  80%|██████████████████▎    | 656/823 [15:14<03:37,  1.30s/it, Stock=티와이홀딩스, Index=657]]]8]"
     ]
    },
    {
     "name": "stdout",
     "output_type": "stream",
     "text": [
      "{'status': '013', 'message': '조회된 데이타가 없습니다.'}\n",
      "363280 - 2018 배당 처리 중 에러 발생: 'se'\n",
      "363280 - 2018 EPS 처리 중 에러 발생: 'se'\n"
     ]
    },
    {
     "name": "stderr",
     "output_type": "stream",
     "text": [
      "진행 상황:  82%|█████████████████    | 671/823 [15:38<03:51,  1.52s/it, Stock=폴루스바이오팜, Index=672]]]]]"
     ]
    },
    {
     "name": "stdout",
     "output_type": "stream",
     "text": [
      "{'status': '013', 'message': '조회된 데이타가 없습니다.'}\n",
      "007630 - 2024 배당 처리 중 에러 발생: 'se'\n",
      "007630 - 2024 EPS 처리 중 에러 발생: 'se'\n"
     ]
    },
    {
     "name": "stderr",
     "output_type": "stream",
     "text": [
      "진행 상황:  82%|████████████▎  | 675/823 [15:45<04:10,  1.70s/it, Stock=프레스티지바이오파마, Index=676]=675]74]"
     ]
    },
    {
     "name": "stdout",
     "output_type": "stream",
     "text": [
      "{'status': '013', 'message': '조회된 데이타가 없습니다.'}\n",
      "950210 - 2018 배당 처리 중 에러 발생: 'se'\n",
      "950210 - 2018 EPS 처리 중 에러 발생: 'se'\n"
     ]
    },
    {
     "name": "stderr",
     "output_type": "stream",
     "text": [
      "진행 상황:  83%|███████████████████    | 680/823 [15:54<04:03,  1.71s/it, Stock=하이골드12호, Index=681]]"
     ]
    },
    {
     "name": "stdout",
     "output_type": "stream",
     "text": [
      "{'status': '013', 'message': '조회된 데이타가 없습니다.'}\n",
      "172580 - 2021 배당 처리 중 에러 발생: 'se'\n",
      "172580 - 2021 EPS 처리 중 에러 발생: 'se'\n",
      "{'status': '013', 'message': '조회된 데이타가 없습니다.'}\n",
      "172580 - 2024 배당 처리 중 에러 발생: 'se'\n",
      "172580 - 2024 EPS 처리 중 에러 발생: 'se'\n"
     ]
    },
    {
     "name": "stderr",
     "output_type": "stream",
     "text": [
      "진행 상황:  83%|███████████████████▊    | 681/823 [15:55<03:45,  1.59s/it, Stock=하이골드3호, Index=682]"
     ]
    },
    {
     "name": "stdout",
     "output_type": "stream",
     "text": [
      "{'status': '013', 'message': '조회된 데이타가 없습니다.'}\n",
      "153360 - 2024 배당 처리 중 에러 발생: 'se'\n",
      "153360 - 2024 EPS 처리 중 에러 발생: 'se'\n"
     ]
    },
    {
     "name": "stderr",
     "output_type": "stream",
     "text": [
      "진행 상황:  83%|████████████████████████     | 682/823 [15:56<03:33,  1.51s/it, Stock=하이브, Index=683]"
     ]
    },
    {
     "name": "stdout",
     "output_type": "stream",
     "text": [
      "{'status': '013', 'message': '조회된 데이타가 없습니다.'}\n",
      "352820 - 2018 배당 처리 중 에러 발생: 'se'\n",
      "352820 - 2018 EPS 처리 중 에러 발생: 'se'\n"
     ]
    },
    {
     "name": "stderr",
     "output_type": "stream",
     "text": [
      "진행 상황:  83%|██████████████████▎   | 687/823 [16:03<03:12,  1.42s/it, Stock=한국ANKOR유전, Index=688]]"
     ]
    },
    {
     "name": "stdout",
     "output_type": "stream",
     "text": [
      "{'status': '013', 'message': '조회된 데이타가 없습니다.'}\n",
      "152550 - 2018 배당 처리 중 에러 발생: 'se'\n",
      "152550 - 2018 EPS 처리 중 에러 발생: 'se'\n",
      "{'status': '013', 'message': '조회된 데이타가 없습니다.'}\n",
      "152550 - 2021 배당 처리 중 에러 발생: 'se'\n",
      "152550 - 2021 EPS 처리 중 에러 발생: 'se'\n",
      "{'status': '013', 'message': '조회된 데이타가 없습니다.'}\n",
      "152550 - 2024 배당 처리 중 에러 발생: 'se'\n",
      "152550 - 2024 EPS 처리 중 에러 발생: 'se'\n"
     ]
    },
    {
     "name": "stderr",
     "output_type": "stream",
     "text": [
      "진행 상황:  86%|█████████████████████▌   | 711/823 [16:37<02:28,  1.33s/it, Stock=한국패러랠, Index=712]]"
     ]
    },
    {
     "name": "stdout",
     "output_type": "stream",
     "text": [
      "{'status': '013', 'message': '조회된 데이타가 없습니다.'}\n",
      "168490 - 2018 배당 처리 중 에러 발생: 'se'\n",
      "168490 - 2018 EPS 처리 중 에러 발생: 'se'\n",
      "{'status': '013', 'message': '조회된 데이타가 없습니다.'}\n",
      "168490 - 2021 배당 처리 중 에러 발생: 'se'\n",
      "168490 - 2021 EPS 처리 중 에러 발생: 'se'\n",
      "{'status': '013', 'message': '조회된 데이타가 없습니다.'}\n",
      "168490 - 2024 배당 처리 중 에러 발생: 'se'\n",
      "168490 - 2024 EPS 처리 중 에러 발생: 'se'\n"
     ]
    },
    {
     "name": "stderr",
     "output_type": "stream",
     "text": [
      "진행 상황:  92%|████████████████████████████▍  | 754/823 [17:37<01:37,  1.42s/it, Stock=한창, Index=755]"
     ]
    },
    {
     "name": "stdout",
     "output_type": "stream",
     "text": [
      "{'status': '013', 'message': '조회된 데이타가 없습니다.'}\n",
      "005110 - 2024 배당 처리 중 에러 발생: 'se'\n",
      "005110 - 2024 EPS 처리 중 에러 발생: 'se'\n"
     ]
    },
    {
     "name": "stderr",
     "output_type": "stream",
     "text": [
      "진행 상황:  92%|███████████████████▎ | 756/823 [17:40<01:31,  1.37s/it, Stock=한컴라이프케어, Index=757]56]5]"
     ]
    },
    {
     "name": "stdout",
     "output_type": "stream",
     "text": [
      "{'status': '013', 'message': '조회된 데이타가 없습니다.'}\n",
      "372910 - 2018 배당 처리 중 에러 발생: 'se'\n",
      "372910 - 2018 EPS 처리 중 에러 발생: 'se'\n"
     ]
    },
    {
     "name": "stderr",
     "output_type": "stream",
     "text": [
      "진행 상황:  92%|███████████████████████  | 761/823 [17:47<01:30,  1.46s/it, Stock=한화시스템, Index=762]]8]"
     ]
    },
    {
     "name": "stdout",
     "output_type": "stream",
     "text": [
      "{'status': '013', 'message': '조회된 데이타가 없습니다.'}\n",
      "272210 - 2018 배당 처리 중 에러 발생: 'se'\n",
      "272210 - 2018 EPS 처리 중 에러 발생: 'se'\n"
     ]
    },
    {
     "name": "stderr",
     "output_type": "stream",
     "text": [
      "진행 상황:  95%|█████████████████▉ | 779/823 [18:12<00:59,  1.34s/it, Stock=현대에너지솔루션, Index=780]779]"
     ]
    },
    {
     "name": "stdout",
     "output_type": "stream",
     "text": [
      "{'status': '013', 'message': '조회된 데이타가 없습니다.'}\n",
      "322000 - 2018 배당 처리 중 에러 발생: 'se'\n",
      "322000 - 2018 EPS 처리 중 에러 발생: 'se'\n"
     ]
    },
    {
     "name": "stderr",
     "output_type": "stream",
     "text": [
      "진행 상황:  95%|███████████████████████▊ | 785/823 [18:21<00:59,  1.56s/it, Stock=현대중공업, Index=786]]"
     ]
    },
    {
     "name": "stdout",
     "output_type": "stream",
     "text": [
      "{'status': '013', 'message': '조회된 데이타가 없습니다.'}\n",
      "329180 - 2018 배당 처리 중 에러 발생: 'se'\n",
      "329180 - 2018 EPS 처리 중 에러 발생: 'se'\n"
     ]
    },
    {
     "name": "stderr",
     "output_type": "stream",
     "text": [
      "진행 상황:  97%|██████████████████████▎| 799/823 [18:40<00:30,  1.27s/it, Stock=화승알앤에이, Index=800]9]6]"
     ]
    },
    {
     "name": "stdout",
     "output_type": "stream",
     "text": [
      "{'status': '013', 'message': '조회된 데이타가 없습니다.'}\n",
      "378850 - 2018 배당 처리 중 에러 발생: 'se'\n",
      "378850 - 2018 EPS 처리 중 에러 발생: 'se'\n"
     ]
    },
    {
     "name": "stderr",
     "output_type": "stream",
     "text": [
      "진행 상황: 100%|███████████████████████████| 823/823 [19:10<00:00,  1.40s/it, Stock=흥아해운, Index=823]]]\n"
     ]
    }
   ],
   "source": [
    "import time \n",
    "import pandas as pd \n",
    "import os\n",
    "from tqdm import tqdm\n",
    "\n",
    "base_dir = os.path.dirname(os.getcwd())\n",
    "file_path = os.path.join(base_dir, \"data\", \"종목정보.txt\") # \"종목정보.txt\"를 불러와 stock_list에 저장한다.\n",
    "\n",
    "stock_list = pd.read_csv(file_path, sep=\"\\t\", encoding = \"euc-kr\")\n",
    "kospi_df = stock_list[stock_list['Market'] == 'KOSPI'] # 종목이 너무 많으니 코스피만 다루기.\n",
    "print(kospi_df.head())\n",
    "print(f\"KOSPI 종목 수: {len(kospi_df)}개\")\n",
    "stock_name_list = kospi_df[[\"Name\", \"Symbol\"]].astype(str).values # stock_list의 \"Name\", \"Symbol\" 칼럼의 데이터를 다시 stock_name_list에 저장함.\n",
    "\n",
    "div_data =[] # 주당배당금, 주당순이익 데이터를 담을 빈 리스트 준비.\n",
    "EPS_data = []\n",
    "\n",
    "pbar = tqdm(stock_name_list, desc=\"진행 상황\")\n",
    "for idx, (stock_name, stock_code) in enumerate(pbar): # enumerate(리스트)는 리스트를 반복하면서 (인덱스, 값) 형태로 쌍을 반환한다.\n",
    "    stock_code = str(stock_code).zfill(6) # DART는 종목코드 6자리 형식임. 앞에 0이 빠지면 0을 채워주자.\n",
    "    pbar.set_postfix({\"Stock\": stock_name, \"Index\": idx + 1})\n",
    "    \n",
    "    # 레코드 초기화\n",
    "    div_record = [stock_name]\n",
    "    EPS_record = [stock_name]\n",
    "    for year in [2018, 2021, 2024]: # 전기와 전전기 데이터도 파싱하기에, 3년 텀을 두고 설정. OpenDart의 일 최대 호출 가능 횟수는 1만회이다.\n",
    "        while True:\n",
    "            try: \n",
    "                output = find_div_and_EPS(stock_code, year) # 배당 정보 가져오기\n",
    "                time.sleep(0.3) # 0.3초씩 재우기\n",
    "                break\n",
    "            except Exception as e:\n",
    "                print(f\"{stock_name} - {year} 에서 에러 발생: {e}\")\n",
    "                time.sleep(5)\n",
    "\n",
    "        spre_divs, pre_divs, cur_divs = output[\"주당배당금\"]\n",
    "        spre_EPS, pre_EPS, cur_EPS = output[\"주당순이익\"]\n",
    "    \n",
    "        # 👉 2024년에는 pre, cur만 추가하자\n",
    "        if year != 2024:\n",
    "            div_record += [spre_divs, pre_divs, cur_divs]\n",
    "            EPS_record += [spre_EPS, pre_EPS, cur_EPS]\n",
    "        else:\n",
    "            div_record += [spre_divs, pre_divs, cur_divs]\n",
    "            EPS_record += [spre_EPS, pre_EPS, cur_EPS]\n",
    "\n",
    "    \n",
    "    div_data.append(div_record)\n",
    "    EPS_data.append(EPS_record)"
   ]
  },
  {
   "cell_type": "code",
   "execution_count": 46,
   "id": "4c708359-5712-4b8e-9caa-0fb3c3586612",
   "metadata": {},
   "outputs": [
    {
     "name": "stdout",
     "output_type": "stream",
     "text": [
      "10\n",
      "10 ['AJ네트웍스', 60, 86, 100, 300, 210, 270, 270, 270, 270]\n",
      "10 ['AK홀딩스', 550, 650, 750, 750, 400, 200, 200, 200, 400]\n",
      "10 ['BGF', 800, 200, 35, 110, 110, 110, 110, 120, 130]\n"
     ]
    }
   ],
   "source": [
    "# 10개 맞는지 테스트용\n",
    "print(len(div_data[0]))\n",
    "for record in div_data[:3]: \n",
    "    print(len(record), record)"
   ]
  },
  {
   "cell_type": "code",
   "execution_count": 52,
   "id": "5952dd37-7a90-4b39-bf6f-d862a8827d02",
   "metadata": {},
   "outputs": [
    {
     "data": {
      "text/html": [
       "<div>\n",
       "<style scoped>\n",
       "    .dataframe tbody tr th:only-of-type {\n",
       "        vertical-align: middle;\n",
       "    }\n",
       "\n",
       "    .dataframe tbody tr th {\n",
       "        vertical-align: top;\n",
       "    }\n",
       "\n",
       "    .dataframe thead th {\n",
       "        text-align: right;\n",
       "    }\n",
       "</style>\n",
       "<table border=\"1\" class=\"dataframe\">\n",
       "  <thead>\n",
       "    <tr style=\"text-align: right;\">\n",
       "      <th></th>\n",
       "      <th>stock_name</th>\n",
       "      <th>2018_spre(2016)</th>\n",
       "      <th>2018_pre(2017)</th>\n",
       "      <th>2018_cur</th>\n",
       "      <th>2021_spre(2019)</th>\n",
       "      <th>2021_pre(2020)</th>\n",
       "      <th>2021_cur</th>\n",
       "      <th>2024_spre(2022</th>\n",
       "      <th>2024_pre(2023)</th>\n",
       "      <th>2024_cur</th>\n",
       "    </tr>\n",
       "  </thead>\n",
       "  <tbody>\n",
       "    <tr>\n",
       "      <th>0</th>\n",
       "      <td>AJ네트웍스</td>\n",
       "      <td>60.0</td>\n",
       "      <td>86.0</td>\n",
       "      <td>100.0</td>\n",
       "      <td>300.0</td>\n",
       "      <td>210.0</td>\n",
       "      <td>270.0</td>\n",
       "      <td>270.0</td>\n",
       "      <td>270.0</td>\n",
       "      <td>270.0</td>\n",
       "    </tr>\n",
       "    <tr>\n",
       "      <th>1</th>\n",
       "      <td>AK홀딩스</td>\n",
       "      <td>550.0</td>\n",
       "      <td>650.0</td>\n",
       "      <td>750.0</td>\n",
       "      <td>750.0</td>\n",
       "      <td>400.0</td>\n",
       "      <td>200.0</td>\n",
       "      <td>200.0</td>\n",
       "      <td>200.0</td>\n",
       "      <td>400.0</td>\n",
       "    </tr>\n",
       "    <tr>\n",
       "      <th>2</th>\n",
       "      <td>BGF</td>\n",
       "      <td>800.0</td>\n",
       "      <td>200.0</td>\n",
       "      <td>35.0</td>\n",
       "      <td>110.0</td>\n",
       "      <td>110.0</td>\n",
       "      <td>110.0</td>\n",
       "      <td>110.0</td>\n",
       "      <td>120.0</td>\n",
       "      <td>130.0</td>\n",
       "    </tr>\n",
       "    <tr>\n",
       "      <th>3</th>\n",
       "      <td>BGF리테일</td>\n",
       "      <td>0.0</td>\n",
       "      <td>1000.0</td>\n",
       "      <td>2680.0</td>\n",
       "      <td>2700.0</td>\n",
       "      <td>2400.0</td>\n",
       "      <td>3000.0</td>\n",
       "      <td>4100.0</td>\n",
       "      <td>4100.0</td>\n",
       "      <td>4100.0</td>\n",
       "    </tr>\n",
       "    <tr>\n",
       "      <th>4</th>\n",
       "      <td>BNK금융지주</td>\n",
       "      <td>230.0</td>\n",
       "      <td>230.0</td>\n",
       "      <td>300.0</td>\n",
       "      <td>360.0</td>\n",
       "      <td>320.0</td>\n",
       "      <td>560.0</td>\n",
       "      <td>625.0</td>\n",
       "      <td>510.0</td>\n",
       "      <td>650.0</td>\n",
       "    </tr>\n",
       "    <tr>\n",
       "      <th>...</th>\n",
       "      <td>...</td>\n",
       "      <td>...</td>\n",
       "      <td>...</td>\n",
       "      <td>...</td>\n",
       "      <td>...</td>\n",
       "      <td>...</td>\n",
       "      <td>...</td>\n",
       "      <td>...</td>\n",
       "      <td>...</td>\n",
       "      <td>...</td>\n",
       "    </tr>\n",
       "    <tr>\n",
       "      <th>818</th>\n",
       "      <td>휴비스</td>\n",
       "      <td>300.0</td>\n",
       "      <td>300.0</td>\n",
       "      <td>300.0</td>\n",
       "      <td>150.0</td>\n",
       "      <td>300.0</td>\n",
       "      <td>300.0</td>\n",
       "      <td>0.0</td>\n",
       "      <td>0.0</td>\n",
       "      <td>0.0</td>\n",
       "    </tr>\n",
       "    <tr>\n",
       "      <th>819</th>\n",
       "      <td>휴스틸</td>\n",
       "      <td>500.0</td>\n",
       "      <td>500.0</td>\n",
       "      <td>400.0</td>\n",
       "      <td>300.0</td>\n",
       "      <td>200.0</td>\n",
       "      <td>800.0</td>\n",
       "      <td>350.0</td>\n",
       "      <td>250.0</td>\n",
       "      <td>150.0</td>\n",
       "    </tr>\n",
       "    <tr>\n",
       "      <th>820</th>\n",
       "      <td>휴켐스</td>\n",
       "      <td>500.0</td>\n",
       "      <td>1500.0</td>\n",
       "      <td>1200.0</td>\n",
       "      <td>1000.0</td>\n",
       "      <td>1000.0</td>\n",
       "      <td>1000.0</td>\n",
       "      <td>1000.0</td>\n",
       "      <td>1000.0</td>\n",
       "      <td>1000.0</td>\n",
       "    </tr>\n",
       "    <tr>\n",
       "      <th>821</th>\n",
       "      <td>흥국화재</td>\n",
       "      <td>0.0</td>\n",
       "      <td>0.0</td>\n",
       "      <td>0.0</td>\n",
       "      <td>0.0</td>\n",
       "      <td>0.0</td>\n",
       "      <td>0.0</td>\n",
       "      <td>0.0</td>\n",
       "      <td>0.0</td>\n",
       "      <td>0.0</td>\n",
       "    </tr>\n",
       "    <tr>\n",
       "      <th>822</th>\n",
       "      <td>흥아해운</td>\n",
       "      <td>5.0</td>\n",
       "      <td>0.0</td>\n",
       "      <td>0.0</td>\n",
       "      <td>0.0</td>\n",
       "      <td>0.0</td>\n",
       "      <td>0.0</td>\n",
       "      <td>0.0</td>\n",
       "      <td>0.0</td>\n",
       "      <td>0.0</td>\n",
       "    </tr>\n",
       "  </tbody>\n",
       "</table>\n",
       "<p>823 rows × 10 columns</p>\n",
       "</div>"
      ],
      "text/plain": [
       "    stock_name  2018_spre(2016)  2018_pre(2017)  2018_cur  2021_spre(2019)  \\\n",
       "0       AJ네트웍스             60.0            86.0     100.0            300.0   \n",
       "1        AK홀딩스            550.0           650.0     750.0            750.0   \n",
       "2          BGF            800.0           200.0      35.0            110.0   \n",
       "3       BGF리테일              0.0          1000.0    2680.0           2700.0   \n",
       "4      BNK금융지주            230.0           230.0     300.0            360.0   \n",
       "..         ...              ...             ...       ...              ...   \n",
       "818        휴비스            300.0           300.0     300.0            150.0   \n",
       "819        휴스틸            500.0           500.0     400.0            300.0   \n",
       "820        휴켐스            500.0          1500.0    1200.0           1000.0   \n",
       "821       흥국화재              0.0             0.0       0.0              0.0   \n",
       "822       흥아해운              5.0             0.0       0.0              0.0   \n",
       "\n",
       "     2021_pre(2020)  2021_cur  2024_spre(2022  2024_pre(2023)  2024_cur  \n",
       "0             210.0     270.0           270.0           270.0     270.0  \n",
       "1             400.0     200.0           200.0           200.0     400.0  \n",
       "2             110.0     110.0           110.0           120.0     130.0  \n",
       "3            2400.0    3000.0          4100.0          4100.0    4100.0  \n",
       "4             320.0     560.0           625.0           510.0     650.0  \n",
       "..              ...       ...             ...             ...       ...  \n",
       "818           300.0     300.0             0.0             0.0       0.0  \n",
       "819           200.0     800.0           350.0           250.0     150.0  \n",
       "820          1000.0    1000.0          1000.0          1000.0    1000.0  \n",
       "821             0.0       0.0             0.0             0.0       0.0  \n",
       "822             0.0       0.0             0.0             0.0       0.0  \n",
       "\n",
       "[823 rows x 10 columns]"
      ]
     },
     "metadata": {},
     "output_type": "display_data"
    },
    {
     "data": {
      "text/html": [
       "<div>\n",
       "<style scoped>\n",
       "    .dataframe tbody tr th:only-of-type {\n",
       "        vertical-align: middle;\n",
       "    }\n",
       "\n",
       "    .dataframe tbody tr th {\n",
       "        vertical-align: top;\n",
       "    }\n",
       "\n",
       "    .dataframe thead th {\n",
       "        text-align: right;\n",
       "    }\n",
       "</style>\n",
       "<table border=\"1\" class=\"dataframe\">\n",
       "  <thead>\n",
       "    <tr style=\"text-align: right;\">\n",
       "      <th></th>\n",
       "      <th>stock_name</th>\n",
       "      <th>2018_spre(2016)</th>\n",
       "      <th>2018_pre(2017)</th>\n",
       "      <th>2018_cur</th>\n",
       "      <th>2021_spre(2019)</th>\n",
       "      <th>2021_pre(2020)</th>\n",
       "      <th>2021_cur</th>\n",
       "      <th>2024_spre(2022</th>\n",
       "      <th>2024_pre(2023)</th>\n",
       "      <th>2024_cur</th>\n",
       "    </tr>\n",
       "  </thead>\n",
       "  <tbody>\n",
       "    <tr>\n",
       "      <th>0</th>\n",
       "      <td>AJ네트웍스</td>\n",
       "      <td>288.0</td>\n",
       "      <td>320.0</td>\n",
       "      <td>24.0</td>\n",
       "      <td>982.0</td>\n",
       "      <td>86.0</td>\n",
       "      <td>1707.0</td>\n",
       "      <td>199.0</td>\n",
       "      <td>368.0</td>\n",
       "      <td>485.0</td>\n",
       "    </tr>\n",
       "    <tr>\n",
       "      <th>1</th>\n",
       "      <td>AK홀딩스</td>\n",
       "      <td>5585.0</td>\n",
       "      <td>7727.0</td>\n",
       "      <td>8224.0</td>\n",
       "      <td>2273.0</td>\n",
       "      <td>10720.0</td>\n",
       "      <td>6583.0</td>\n",
       "      <td>4878.0</td>\n",
       "      <td>2635.0</td>\n",
       "      <td>2229.0</td>\n",
       "    </tr>\n",
       "    <tr>\n",
       "      <th>2</th>\n",
       "      <td>BGF</td>\n",
       "      <td>3704.0</td>\n",
       "      <td>239.0</td>\n",
       "      <td>575.0</td>\n",
       "      <td>281.0</td>\n",
       "      <td>285.0</td>\n",
       "      <td>684.0</td>\n",
       "      <td>247.0</td>\n",
       "      <td>813.0</td>\n",
       "      <td>963.0</td>\n",
       "    </tr>\n",
       "    <tr>\n",
       "      <th>3</th>\n",
       "      <td>BGF리테일</td>\n",
       "      <td>0.0</td>\n",
       "      <td>1619.0</td>\n",
       "      <td>8925.0</td>\n",
       "      <td>8763.0</td>\n",
       "      <td>7103.0</td>\n",
       "      <td>8547.0</td>\n",
       "      <td>11203.0</td>\n",
       "      <td>11337.0</td>\n",
       "      <td>11301.0</td>\n",
       "    </tr>\n",
       "    <tr>\n",
       "      <th>4</th>\n",
       "      <td>BNK금융지주</td>\n",
       "      <td>1522.0</td>\n",
       "      <td>1200.0</td>\n",
       "      <td>1475.0</td>\n",
       "      <td>1647.0</td>\n",
       "      <td>1498.0</td>\n",
       "      <td>2341.0</td>\n",
       "      <td>2327.0</td>\n",
       "      <td>1905.0</td>\n",
       "      <td>2174.0</td>\n",
       "    </tr>\n",
       "    <tr>\n",
       "      <th>...</th>\n",
       "      <td>...</td>\n",
       "      <td>...</td>\n",
       "      <td>...</td>\n",
       "      <td>...</td>\n",
       "      <td>...</td>\n",
       "      <td>...</td>\n",
       "      <td>...</td>\n",
       "      <td>...</td>\n",
       "      <td>...</td>\n",
       "      <td>...</td>\n",
       "    </tr>\n",
       "    <tr>\n",
       "      <th>818</th>\n",
       "      <td>휴비스</td>\n",
       "      <td>267.0</td>\n",
       "      <td>681.0</td>\n",
       "      <td>561.0</td>\n",
       "      <td>9.0</td>\n",
       "      <td>2497.0</td>\n",
       "      <td>111.0</td>\n",
       "      <td>2448.0</td>\n",
       "      <td>3281.0</td>\n",
       "      <td>4029.0</td>\n",
       "    </tr>\n",
       "    <tr>\n",
       "      <th>819</th>\n",
       "      <td>휴스틸</td>\n",
       "      <td>80.0</td>\n",
       "      <td>533.0</td>\n",
       "      <td>2362.0</td>\n",
       "      <td>1648.0</td>\n",
       "      <td>1134.0</td>\n",
       "      <td>4934.0</td>\n",
       "      <td>5675.0</td>\n",
       "      <td>1285.0</td>\n",
       "      <td>397.0</td>\n",
       "    </tr>\n",
       "    <tr>\n",
       "      <th>820</th>\n",
       "      <td>휴켐스</td>\n",
       "      <td>1118.0</td>\n",
       "      <td>2985.0</td>\n",
       "      <td>2693.0</td>\n",
       "      <td>1812.0</td>\n",
       "      <td>1292.0</td>\n",
       "      <td>1972.0</td>\n",
       "      <td>2129.0</td>\n",
       "      <td>3512.0</td>\n",
       "      <td>2024.0</td>\n",
       "    </tr>\n",
       "    <tr>\n",
       "      <th>821</th>\n",
       "      <td>흥국화재</td>\n",
       "      <td>484.0</td>\n",
       "      <td>1231.0</td>\n",
       "      <td>695.0</td>\n",
       "      <td>510.0</td>\n",
       "      <td>268.0</td>\n",
       "      <td>873.0</td>\n",
       "      <td>3060.0</td>\n",
       "      <td>4664.0</td>\n",
       "      <td>1459.0</td>\n",
       "    </tr>\n",
       "    <tr>\n",
       "      <th>822</th>\n",
       "      <td>흥아해운</td>\n",
       "      <td>170.0</td>\n",
       "      <td>490.0</td>\n",
       "      <td>514.0</td>\n",
       "      <td>391.0</td>\n",
       "      <td>440.0</td>\n",
       "      <td>118.0</td>\n",
       "      <td>94.0</td>\n",
       "      <td>142.0</td>\n",
       "      <td>165.0</td>\n",
       "    </tr>\n",
       "  </tbody>\n",
       "</table>\n",
       "<p>823 rows × 10 columns</p>\n",
       "</div>"
      ],
      "text/plain": [
       "    stock_name  2018_spre(2016)  2018_pre(2017)  2018_cur  2021_spre(2019)  \\\n",
       "0       AJ네트웍스            288.0           320.0      24.0            982.0   \n",
       "1        AK홀딩스           5585.0          7727.0    8224.0           2273.0   \n",
       "2          BGF           3704.0           239.0     575.0            281.0   \n",
       "3       BGF리테일              0.0          1619.0    8925.0           8763.0   \n",
       "4      BNK금융지주           1522.0          1200.0    1475.0           1647.0   \n",
       "..         ...              ...             ...       ...              ...   \n",
       "818        휴비스            267.0           681.0     561.0              9.0   \n",
       "819        휴스틸             80.0           533.0    2362.0           1648.0   \n",
       "820        휴켐스           1118.0          2985.0    2693.0           1812.0   \n",
       "821       흥국화재            484.0          1231.0     695.0            510.0   \n",
       "822       흥아해운            170.0           490.0     514.0            391.0   \n",
       "\n",
       "     2021_pre(2020)  2021_cur  2024_spre(2022  2024_pre(2023)  2024_cur  \n",
       "0              86.0    1707.0           199.0           368.0     485.0  \n",
       "1           10720.0    6583.0          4878.0          2635.0    2229.0  \n",
       "2             285.0     684.0           247.0           813.0     963.0  \n",
       "3            7103.0    8547.0         11203.0         11337.0   11301.0  \n",
       "4            1498.0    2341.0          2327.0          1905.0    2174.0  \n",
       "..              ...       ...             ...             ...       ...  \n",
       "818          2497.0     111.0          2448.0          3281.0    4029.0  \n",
       "819          1134.0    4934.0          5675.0          1285.0     397.0  \n",
       "820          1292.0    1972.0          2129.0          3512.0    2024.0  \n",
       "821           268.0     873.0          3060.0          4664.0    1459.0  \n",
       "822           440.0     118.0            94.0           142.0     165.0  \n",
       "\n",
       "[823 rows x 10 columns]"
      ]
     },
     "metadata": {},
     "output_type": "display_data"
    }
   ],
   "source": [
    "columns = [\"stock_name\", \"2018_spre(2016)\", \"2018_pre(2017)\", \"2018_cur\",\n",
    "           \"2021_spre(2019)\", \"2021_pre(2020)\", \"2021_cur\", \"2024_spre(2022\",\n",
    "           \"2024_pre(2023)\", \"2024_cur\"]\n",
    "div_data = pd.DataFrame(div_data, columns = columns)\n",
    "EPS_data = pd.DataFrame(EPS_data, columns = columns)\n",
    "\n",
    "display(div_data)\n",
    "display(EPS_data)\n",
    "\n",
    "import os\n",
    "\n",
    "base_dir = os.path.dirname(os.getcwd())\n",
    "div_csv_path = os.path.join(base_dir, \"div_data.csv\")\n",
    "eps_csv_path = os.path.join(base_dir, \"EPS_data.csv\")\n",
    "\n",
    "div_data.to_csv(div_csv_path, encoding=\"euc-kr\", index=False)\n",
    "EPS_data.to_csv(eps_csv_path, encoding=\"euc-kr\", index=False)"
   ]
  },
  {
   "cell_type": "raw",
   "id": "422c84ff-b1b3-43ae-bd41-a0807ff7c62f",
   "metadata": {},
   "source": [
    "# 데이터프레임에서 조건을 만족하는 행이 하나일 때의 인덱싱 방법\n",
    "\n",
    ".loc은 label-based indexing이다. 즉 행(label)의 \"이름\"이나 조건을 기준으로 데이터를 가져옴. \n",
    ".iloc은 index-location이다. 숫자 인덱스의 우치 기반으로 데이터를 가져온다. \n",
    "\n",
    "df.loc[0]이면 label이 0인 행을 의미함.\n",
    "df.iloc[0]이면 첫 번째 행을 의미함."
   ]
  },
  {
   "cell_type": "markdown",
   "id": "14d5d082-2818-42c0-810a-78b54a80c58e",
   "metadata": {},
   "source": [
    "=============="
   ]
  },
  {
   "cell_type": "markdown",
   "id": "3558c7f3-8ffe-49ad-8042-660e1f49790f",
   "metadata": {},
   "source": [
    "퀀트 투자 전략 검증시에는, 어느 시점의 데이터를 사용할지가 매우 중요하다.<br>사업보고서의 제출 시점은 사업연도 경과 후 기준일 이후 90일째가 되는 날이다.<br>그러므로 결산 월이 12월인 기업의 2019년 PER은, 2020년 4월 1일의 종가를 2019년 사업보고서의 EPS로 나눈 값으로 계산하겠다."
   ]
  },
  {
   "cell_type": "code",
   "execution_count": 91,
   "id": "3b27eb83-aca5-4fd4-980c-feff90fb5bb9",
   "metadata": {},
   "outputs": [
    {
     "data": {
      "text/html": [
       "<div>\n",
       "<style scoped>\n",
       "    .dataframe tbody tr th:only-of-type {\n",
       "        vertical-align: middle;\n",
       "    }\n",
       "\n",
       "    .dataframe tbody tr th {\n",
       "        vertical-align: top;\n",
       "    }\n",
       "\n",
       "    .dataframe thead th {\n",
       "        text-align: right;\n",
       "    }\n",
       "</style>\n",
       "<table border=\"1\" class=\"dataframe\">\n",
       "  <thead>\n",
       "    <tr style=\"text-align: right;\">\n",
       "      <th></th>\n",
       "      <th>결산 월</th>\n",
       "      <th>사업연도</th>\n",
       "      <th>제출마감일</th>\n",
       "    </tr>\n",
       "  </thead>\n",
       "  <tbody>\n",
       "    <tr>\n",
       "      <th>0</th>\n",
       "      <td>1</td>\n",
       "      <td>2016</td>\n",
       "      <td>2016-05-01</td>\n",
       "    </tr>\n",
       "    <tr>\n",
       "      <th>1</th>\n",
       "      <td>1</td>\n",
       "      <td>2017</td>\n",
       "      <td>2017-05-02</td>\n",
       "    </tr>\n",
       "    <tr>\n",
       "      <th>2</th>\n",
       "      <td>1</td>\n",
       "      <td>2018</td>\n",
       "      <td>2018-05-02</td>\n",
       "    </tr>\n",
       "    <tr>\n",
       "      <th>3</th>\n",
       "      <td>1</td>\n",
       "      <td>2019</td>\n",
       "      <td>2019-05-02</td>\n",
       "    </tr>\n",
       "    <tr>\n",
       "      <th>4</th>\n",
       "      <td>1</td>\n",
       "      <td>2020</td>\n",
       "      <td>2020-05-01</td>\n",
       "    </tr>\n",
       "    <tr>\n",
       "      <th>...</th>\n",
       "      <td>...</td>\n",
       "      <td>...</td>\n",
       "      <td>...</td>\n",
       "    </tr>\n",
       "    <tr>\n",
       "      <th>103</th>\n",
       "      <td>12</td>\n",
       "      <td>2020</td>\n",
       "      <td>2021-04-01</td>\n",
       "    </tr>\n",
       "    <tr>\n",
       "      <th>104</th>\n",
       "      <td>12</td>\n",
       "      <td>2021</td>\n",
       "      <td>2022-04-01</td>\n",
       "    </tr>\n",
       "    <tr>\n",
       "      <th>105</th>\n",
       "      <td>12</td>\n",
       "      <td>2022</td>\n",
       "      <td>2023-04-01</td>\n",
       "    </tr>\n",
       "    <tr>\n",
       "      <th>106</th>\n",
       "      <td>12</td>\n",
       "      <td>2023</td>\n",
       "      <td>2024-03-31</td>\n",
       "    </tr>\n",
       "    <tr>\n",
       "      <th>107</th>\n",
       "      <td>12</td>\n",
       "      <td>2024</td>\n",
       "      <td>2025-04-01</td>\n",
       "    </tr>\n",
       "  </tbody>\n",
       "</table>\n",
       "<p>108 rows × 3 columns</p>\n",
       "</div>"
      ],
      "text/plain": [
       "     결산 월  사업연도      제출마감일\n",
       "0       1  2016 2016-05-01\n",
       "1       1  2017 2017-05-02\n",
       "2       1  2018 2018-05-02\n",
       "3       1  2019 2019-05-02\n",
       "4       1  2020 2020-05-01\n",
       "..    ...   ...        ...\n",
       "103    12  2020 2021-04-01\n",
       "104    12  2021 2022-04-01\n",
       "105    12  2022 2023-04-01\n",
       "106    12  2023 2024-03-31\n",
       "107    12  2024 2025-04-01\n",
       "\n",
       "[108 rows x 3 columns]"
      ]
     },
     "metadata": {},
     "output_type": "display_data"
    }
   ],
   "source": [
    "# 결산 월에 따른 사업보고서의 제출 시점 계산\n",
    "sub_due_data = [] # 제출 마감일을 담을 데이터\n",
    "for settle_month in range(1, 13): # 결산 월\n",
    "    for year in range (2016, 2025): # 사업연도\n",
    "        # 사업연도 경과 후 기준일 계산\n",
    "        if settle_month < 12:\n",
    "            after_bs_year_day = pd.to_datetime(\"{}-{}-1\".format(year, settle_month+1))\n",
    "        else:\n",
    "            after_bs_year_day = pd.to_datetime(\"{}-1-1\".format(year+1))\n",
    "        due_date = after_bs_year_day + pd.to_timedelta(90, \"D\")\n",
    "        sub_due_data.append([settle_month, year, due_date])\n",
    "sub_due_data = pd.DataFrame(sub_due_data, columns = [\"결산 월\", \"사업연도\", \"제출마감일\"])\n",
    "display(sub_due_data)\n",
    "\n",
    "subdue_csv_path = os.path.join(base_dir, \"사업보고서_제출마감일.csv\")\n",
    "sub_due_data.to_csv(subdue_csv_path, encoding = \"euc-kr\", index = False)"
   ]
  },
  {
   "cell_type": "code",
   "execution_count": 92,
   "id": "b8818bc2-671c-48d0-8882-5c2a2d7cef4f",
   "metadata": {},
   "outputs": [],
   "source": [
    "# 장이 열리는 가장 가까운 날짜의 주가 찾기\n",
    "def find_closest_stock_price(sp_data, date):\n",
    "    date = pd.to_datetime(date) # 날짜 자료형으로 변환\n",
    "    # 주가 데이터를 벗어나는 범위의 날짜가 있다면 결측을 반환.\n",
    "    if sp_data['Date'].max() < date:\n",
    "        return np.nan\n",
    "    else:\n",
    "        while True:\n",
    "            # date와 같은 날짜가 Date에 있다면\n",
    "            if sum(sp_data['Date'] == date) > 0:\n",
    "                # 해당 날짜의 종가를 저장.\n",
    "                value = sp_data.loc[sp_data['Date'] == date, 'Close'].iloc[0]\n",
    "                break\n",
    "            else: # date와 같은 날짜의 Date가 없으면 하루 증가\n",
    "                date += pd.to_timedelta(1, 'D')\n",
    "        return value"
   ]
  },
  {
   "cell_type": "code",
   "execution_count": 93,
   "id": "dde7c8e0-7ec0-423a-8631-1113d6755079",
   "metadata": {},
   "outputs": [
    {
     "name": "stdout",
     "output_type": "stream",
     "text": [
      "32900\n"
     ]
    }
   ],
   "source": [
    "sp_data_path = os.path.join(base_dir, \"data\", \"주가데이터\", \"KB금융.csv\")\n",
    "sp_data = pd.read_csv(sp_data_path)\n",
    "sp_data[\"Date\"] = pd.to_datetime(sp_data[\"Date\"])\n",
    "date = \"2020-03-26\"\n",
    "print(find_closest_stock_price(sp_data, date))\n",
    "\n",
    "# 32,900원 실제로 맞음."
   ]
  },
  {
   "cell_type": "code",
   "execution_count": 94,
   "id": "80a9c5a8-4156-4c2e-accd-874224c39542",
   "metadata": {},
   "outputs": [
    {
     "data": {
      "text/html": [
       "<div>\n",
       "<style scoped>\n",
       "    .dataframe tbody tr th:only-of-type {\n",
       "        vertical-align: middle;\n",
       "    }\n",
       "\n",
       "    .dataframe tbody tr th {\n",
       "        vertical-align: top;\n",
       "    }\n",
       "\n",
       "    .dataframe thead th {\n",
       "        text-align: right;\n",
       "    }\n",
       "</style>\n",
       "<table border=\"1\" class=\"dataframe\">\n",
       "  <thead>\n",
       "    <tr style=\"text-align: right;\">\n",
       "      <th></th>\n",
       "      <th>stock_name</th>\n",
       "      <th>2018_spre(2016)</th>\n",
       "      <th>2018_pre(2017)</th>\n",
       "      <th>2018_cur</th>\n",
       "      <th>2021_spre(2019)</th>\n",
       "      <th>2021_pre(2020)</th>\n",
       "      <th>2021_cur</th>\n",
       "      <th>2024_spre(2022</th>\n",
       "      <th>2024_pre(2023)</th>\n",
       "      <th>2024_cur</th>\n",
       "    </tr>\n",
       "  </thead>\n",
       "  <tbody>\n",
       "    <tr>\n",
       "      <th>0</th>\n",
       "      <td>AJ네트웍스</td>\n",
       "      <td>288.0</td>\n",
       "      <td>320.0</td>\n",
       "      <td>24.0</td>\n",
       "      <td>982.0</td>\n",
       "      <td>86.0</td>\n",
       "      <td>1707.0</td>\n",
       "      <td>199.0</td>\n",
       "      <td>368.0</td>\n",
       "      <td>485.0</td>\n",
       "    </tr>\n",
       "    <tr>\n",
       "      <th>1</th>\n",
       "      <td>AK홀딩스</td>\n",
       "      <td>5585.0</td>\n",
       "      <td>7727.0</td>\n",
       "      <td>8224.0</td>\n",
       "      <td>2273.0</td>\n",
       "      <td>10720.0</td>\n",
       "      <td>6583.0</td>\n",
       "      <td>4878.0</td>\n",
       "      <td>2635.0</td>\n",
       "      <td>2229.0</td>\n",
       "    </tr>\n",
       "    <tr>\n",
       "      <th>2</th>\n",
       "      <td>BGF</td>\n",
       "      <td>3704.0</td>\n",
       "      <td>239.0</td>\n",
       "      <td>575.0</td>\n",
       "      <td>281.0</td>\n",
       "      <td>285.0</td>\n",
       "      <td>684.0</td>\n",
       "      <td>247.0</td>\n",
       "      <td>813.0</td>\n",
       "      <td>963.0</td>\n",
       "    </tr>\n",
       "    <tr>\n",
       "      <th>3</th>\n",
       "      <td>BGF리테일</td>\n",
       "      <td>0.0</td>\n",
       "      <td>1619.0</td>\n",
       "      <td>8925.0</td>\n",
       "      <td>8763.0</td>\n",
       "      <td>7103.0</td>\n",
       "      <td>8547.0</td>\n",
       "      <td>11203.0</td>\n",
       "      <td>11337.0</td>\n",
       "      <td>11301.0</td>\n",
       "    </tr>\n",
       "    <tr>\n",
       "      <th>4</th>\n",
       "      <td>BNK금융지주</td>\n",
       "      <td>1522.0</td>\n",
       "      <td>1200.0</td>\n",
       "      <td>1475.0</td>\n",
       "      <td>1647.0</td>\n",
       "      <td>1498.0</td>\n",
       "      <td>2341.0</td>\n",
       "      <td>2327.0</td>\n",
       "      <td>1905.0</td>\n",
       "      <td>2174.0</td>\n",
       "    </tr>\n",
       "    <tr>\n",
       "      <th>...</th>\n",
       "      <td>...</td>\n",
       "      <td>...</td>\n",
       "      <td>...</td>\n",
       "      <td>...</td>\n",
       "      <td>...</td>\n",
       "      <td>...</td>\n",
       "      <td>...</td>\n",
       "      <td>...</td>\n",
       "      <td>...</td>\n",
       "      <td>...</td>\n",
       "    </tr>\n",
       "    <tr>\n",
       "      <th>818</th>\n",
       "      <td>휴비스</td>\n",
       "      <td>267.0</td>\n",
       "      <td>681.0</td>\n",
       "      <td>561.0</td>\n",
       "      <td>9.0</td>\n",
       "      <td>2497.0</td>\n",
       "      <td>111.0</td>\n",
       "      <td>2448.0</td>\n",
       "      <td>3281.0</td>\n",
       "      <td>4029.0</td>\n",
       "    </tr>\n",
       "    <tr>\n",
       "      <th>819</th>\n",
       "      <td>휴스틸</td>\n",
       "      <td>80.0</td>\n",
       "      <td>533.0</td>\n",
       "      <td>2362.0</td>\n",
       "      <td>1648.0</td>\n",
       "      <td>1134.0</td>\n",
       "      <td>4934.0</td>\n",
       "      <td>5675.0</td>\n",
       "      <td>1285.0</td>\n",
       "      <td>397.0</td>\n",
       "    </tr>\n",
       "    <tr>\n",
       "      <th>820</th>\n",
       "      <td>휴켐스</td>\n",
       "      <td>1118.0</td>\n",
       "      <td>2985.0</td>\n",
       "      <td>2693.0</td>\n",
       "      <td>1812.0</td>\n",
       "      <td>1292.0</td>\n",
       "      <td>1972.0</td>\n",
       "      <td>2129.0</td>\n",
       "      <td>3512.0</td>\n",
       "      <td>2024.0</td>\n",
       "    </tr>\n",
       "    <tr>\n",
       "      <th>821</th>\n",
       "      <td>흥국화재</td>\n",
       "      <td>484.0</td>\n",
       "      <td>1231.0</td>\n",
       "      <td>695.0</td>\n",
       "      <td>510.0</td>\n",
       "      <td>268.0</td>\n",
       "      <td>873.0</td>\n",
       "      <td>3060.0</td>\n",
       "      <td>4664.0</td>\n",
       "      <td>1459.0</td>\n",
       "    </tr>\n",
       "    <tr>\n",
       "      <th>822</th>\n",
       "      <td>흥아해운</td>\n",
       "      <td>170.0</td>\n",
       "      <td>490.0</td>\n",
       "      <td>514.0</td>\n",
       "      <td>391.0</td>\n",
       "      <td>440.0</td>\n",
       "      <td>118.0</td>\n",
       "      <td>94.0</td>\n",
       "      <td>142.0</td>\n",
       "      <td>165.0</td>\n",
       "    </tr>\n",
       "  </tbody>\n",
       "</table>\n",
       "<p>823 rows × 10 columns</p>\n",
       "</div>"
      ],
      "text/plain": [
       "    stock_name  2018_spre(2016)  2018_pre(2017)  2018_cur  2021_spre(2019)  \\\n",
       "0       AJ네트웍스            288.0           320.0      24.0            982.0   \n",
       "1        AK홀딩스           5585.0          7727.0    8224.0           2273.0   \n",
       "2          BGF           3704.0           239.0     575.0            281.0   \n",
       "3       BGF리테일              0.0          1619.0    8925.0           8763.0   \n",
       "4      BNK금융지주           1522.0          1200.0    1475.0           1647.0   \n",
       "..         ...              ...             ...       ...              ...   \n",
       "818        휴비스            267.0           681.0     561.0              9.0   \n",
       "819        휴스틸             80.0           533.0    2362.0           1648.0   \n",
       "820        휴켐스           1118.0          2985.0    2693.0           1812.0   \n",
       "821       흥국화재            484.0          1231.0     695.0            510.0   \n",
       "822       흥아해운            170.0           490.0     514.0            391.0   \n",
       "\n",
       "     2021_pre(2020)  2021_cur  2024_spre(2022  2024_pre(2023)  2024_cur  \n",
       "0              86.0    1707.0           199.0           368.0     485.0  \n",
       "1           10720.0    6583.0          4878.0          2635.0    2229.0  \n",
       "2             285.0     684.0           247.0           813.0     963.0  \n",
       "3            7103.0    8547.0         11203.0         11337.0   11301.0  \n",
       "4            1498.0    2341.0          2327.0          1905.0    2174.0  \n",
       "..              ...       ...             ...             ...       ...  \n",
       "818          2497.0     111.0          2448.0          3281.0    4029.0  \n",
       "819          1134.0    4934.0          5675.0          1285.0     397.0  \n",
       "820          1292.0    1972.0          2129.0          3512.0    2024.0  \n",
       "821           268.0     873.0          3060.0          4664.0    1459.0  \n",
       "822           440.0     118.0            94.0           142.0     165.0  \n",
       "\n",
       "[823 rows x 10 columns]"
      ]
     },
     "metadata": {},
     "output_type": "display_data"
    }
   ],
   "source": [
    "display(EPS_data)"
   ]
  },
  {
   "cell_type": "code",
   "execution_count": 95,
   "id": "5e7c6934-d9a2-4a30-96c6-f4863304a1a4",
   "metadata": {},
   "outputs": [
    {
     "name": "stdout",
     "output_type": "stream",
     "text": [
      "12월\n"
     ]
    },
    {
     "data": {
      "text/plain": [
       "결산 월                      12\n",
       "사업연도                    2017\n",
       "제출마감일    2018-04-01 00:00:00\n",
       "Name: 100, dtype: object"
      ]
     },
     "metadata": {},
     "output_type": "display_data"
    }
   ],
   "source": [
    "print(stock_list.loc[stock_list['Name'] == \"KB금융\", \"SettleMonth\"].iloc[0])\n",
    "display(sub_due_data[(sub_due_data['결산 월'] == 12) & (sub_due_data['사업연도'] == 2017)].iloc[0])"
   ]
  },
  {
   "cell_type": "code",
   "execution_count": 96,
   "id": "cb81d698-6e55-4af0-a6e7-42676b4eeaba",
   "metadata": {},
   "outputs": [],
   "source": [
    "settle_month_dict = stock_list.set_index('Name')['SettleMonth']\n",
    "settle_month_dict = settle_month_dict.apply(lambda x:int(x[:-1])).to_dict()\n",
    "sub_due_dict = sub_due_data.set_index(['결산 월', '사업연도'])['제출마감일'].to_dict()"
   ]
  },
  {
   "cell_type": "code",
   "execution_count": 97,
   "id": "038bee52-2318-4448-8f12-ec08f2699e14",
   "metadata": {},
   "outputs": [
    {
     "name": "stdout",
     "output_type": "stream",
     "text": [
      "12\n",
      "2018-04-01 00:00:00\n"
     ]
    }
   ],
   "source": [
    "print(settle_month_dict['KB금융'])\n",
    "print(sub_due_dict[12, 2017])"
   ]
  },
  {
   "cell_type": "code",
   "execution_count": 101,
   "id": "55e13a52-9fbf-4d08-b2ab-6a2466d56ba4",
   "metadata": {},
   "outputs": [
    {
     "data": {
      "text/html": [
       "<div>\n",
       "<style scoped>\n",
       "    .dataframe tbody tr th:only-of-type {\n",
       "        vertical-align: middle;\n",
       "    }\n",
       "\n",
       "    .dataframe tbody tr th {\n",
       "        vertical-align: top;\n",
       "    }\n",
       "\n",
       "    .dataframe thead th {\n",
       "        text-align: right;\n",
       "    }\n",
       "</style>\n",
       "<table border=\"1\" class=\"dataframe\">\n",
       "  <thead>\n",
       "    <tr style=\"text-align: right;\">\n",
       "      <th></th>\n",
       "      <th>stock_name</th>\n",
       "      <th>2018_spre(2016)</th>\n",
       "      <th>2018_pre(2017)</th>\n",
       "      <th>2018_cur</th>\n",
       "      <th>2021_spre(2019)</th>\n",
       "      <th>2021_pre(2020)</th>\n",
       "      <th>2021_cur</th>\n",
       "      <th>2024_spre(2022</th>\n",
       "      <th>2024_pre(2023)</th>\n",
       "      <th>2024_cur</th>\n",
       "    </tr>\n",
       "  </thead>\n",
       "  <tbody>\n",
       "    <tr>\n",
       "      <th>0</th>\n",
       "      <td>AJ네트웍스</td>\n",
       "      <td>5800</td>\n",
       "      <td>7170</td>\n",
       "      <td>4810</td>\n",
       "      <td>2950</td>\n",
       "      <td>4620</td>\n",
       "      <td>NaN</td>\n",
       "      <td>NaN</td>\n",
       "      <td>NaN</td>\n",
       "      <td>NaN</td>\n",
       "    </tr>\n",
       "    <tr>\n",
       "      <th>1</th>\n",
       "      <td>AK홀딩스</td>\n",
       "      <td>61200</td>\n",
       "      <td>74600</td>\n",
       "      <td>52400</td>\n",
       "      <td>18000</td>\n",
       "      <td>26900</td>\n",
       "      <td>NaN</td>\n",
       "      <td>NaN</td>\n",
       "      <td>NaN</td>\n",
       "      <td>NaN</td>\n",
       "    </tr>\n",
       "    <tr>\n",
       "      <th>2</th>\n",
       "      <td>BGF</td>\n",
       "      <td>54351</td>\n",
       "      <td>13250</td>\n",
       "      <td>8110</td>\n",
       "      <td>3680</td>\n",
       "      <td>7270</td>\n",
       "      <td>NaN</td>\n",
       "      <td>NaN</td>\n",
       "      <td>NaN</td>\n",
       "      <td>NaN</td>\n",
       "    </tr>\n",
       "    <tr>\n",
       "      <th>3</th>\n",
       "      <td>BGF리테일</td>\n",
       "      <td>194000</td>\n",
       "      <td>169500</td>\n",
       "      <td>211000</td>\n",
       "      <td>132000</td>\n",
       "      <td>162500</td>\n",
       "      <td>NaN</td>\n",
       "      <td>NaN</td>\n",
       "      <td>NaN</td>\n",
       "      <td>NaN</td>\n",
       "    </tr>\n",
       "    <tr>\n",
       "      <th>4</th>\n",
       "      <td>BNK금융지주</td>\n",
       "      <td>9260</td>\n",
       "      <td>10400</td>\n",
       "      <td>6900</td>\n",
       "      <td>4435</td>\n",
       "      <td>6690</td>\n",
       "      <td>NaN</td>\n",
       "      <td>NaN</td>\n",
       "      <td>NaN</td>\n",
       "      <td>NaN</td>\n",
       "    </tr>\n",
       "  </tbody>\n",
       "</table>\n",
       "</div>"
      ],
      "text/plain": [
       "  stock_name  2018_spre(2016)  2018_pre(2017)  2018_cur  2021_spre(2019)  \\\n",
       "0     AJ네트웍스             5800            7170      4810             2950   \n",
       "1      AK홀딩스            61200           74600     52400            18000   \n",
       "2        BGF            54351           13250      8110             3680   \n",
       "3     BGF리테일           194000          169500    211000           132000   \n",
       "4    BNK금융지주             9260           10400      6900             4435   \n",
       "\n",
       "   2021_pre(2020)  2021_cur  2024_spre(2022  2024_pre(2023)  2024_cur  \n",
       "0            4620       NaN             NaN             NaN       NaN  \n",
       "1           26900       NaN             NaN             NaN       NaN  \n",
       "2            7270       NaN             NaN             NaN       NaN  \n",
       "3          162500       NaN             NaN             NaN       NaN  \n",
       "4            6690       NaN             NaN             NaN       NaN  "
      ]
     },
     "metadata": {},
     "output_type": "display_data"
    }
   ],
   "source": [
    "import os\n",
    "sp_data = []\n",
    "sp_data_path2 = os.path.join(base_dir, \"data\", \"주가데이터\")\n",
    "\n",
    "for sn in EPS_data[\"stock_name\"].values: # EPS_data의 종목명을 순회하면서\n",
    "    record = [sn]\n",
    "    if sn + \".csv\" not in os.listdir(sp_data_path2):\n",
    "    # 주가 데이터 폴더 내에 해당 파일이 없으면 모두 결측으로 채움\n",
    "        record += [np.nan] * (len(EPS_data.columns) - 1)\n",
    "    \n",
    "    else:\n",
    "        # 주가 데이터 풀러오기\n",
    "        sn_sp_data = pd.read_csv(\n",
    "    os.path.join(sp_data_path2, f\"{sn}.csv\"),\n",
    "    parse_dates=[\"Date\"])\n",
    "        settle_month = settle_month_dict[sn]\n",
    "        for year in range (2016, 2025):\n",
    "            #제출 마감일의 주가 찾기\n",
    "            sub_date = sub_due_dict[settle_month, year]\n",
    "            sp = find_closest_stock_price(sn_sp_data, sub_date)\n",
    "            record.append(sp)\n",
    "        sp_data.append(record)\n",
    "        \n",
    "sp_data = pd.DataFrame(sp_data, columns=EPS_data.columns)\n",
    "# 공통 종목명만 추출\n",
    "common_stocks = sp_data[\"stock_name\"].isin(EPS_data[\"stock_name\"])\n",
    "sp_data_filtered = sp_data[common_stocks]\n",
    "\n",
    "common_stocks = EPS_data[\"stock_name\"].isin(sp_data_filtered[\"stock_name\"])\n",
    "EPS_data_filtered = EPS_data[common_stocks]display(sp_data.head())"
   ]
  },
  {
   "cell_type": "code",
   "execution_count": 106,
   "id": "3e42aa63-45be-4881-a7de-56fc8b251b25",
   "metadata": {},
   "outputs": [
    {
     "data": {
      "text/html": [
       "<div>\n",
       "<style scoped>\n",
       "    .dataframe tbody tr th:only-of-type {\n",
       "        vertical-align: middle;\n",
       "    }\n",
       "\n",
       "    .dataframe tbody tr th {\n",
       "        vertical-align: top;\n",
       "    }\n",
       "\n",
       "    .dataframe thead th {\n",
       "        text-align: right;\n",
       "    }\n",
       "</style>\n",
       "<table border=\"1\" class=\"dataframe\">\n",
       "  <thead>\n",
       "    <tr style=\"text-align: right;\">\n",
       "      <th></th>\n",
       "      <th>2018_spre(2016)</th>\n",
       "      <th>2018_pre(2017)</th>\n",
       "      <th>2018_cur</th>\n",
       "      <th>2021_spre(2019)</th>\n",
       "      <th>2021_pre(2020)</th>\n",
       "      <th>2021_cur</th>\n",
       "      <th>2024_spre(2022</th>\n",
       "      <th>2024_pre(2023)</th>\n",
       "      <th>2024_cur</th>\n",
       "    </tr>\n",
       "    <tr>\n",
       "      <th>stock_name</th>\n",
       "      <th></th>\n",
       "      <th></th>\n",
       "      <th></th>\n",
       "      <th></th>\n",
       "      <th></th>\n",
       "      <th></th>\n",
       "      <th></th>\n",
       "      <th></th>\n",
       "      <th></th>\n",
       "    </tr>\n",
       "  </thead>\n",
       "  <tbody>\n",
       "    <tr>\n",
       "      <th>AJ네트웍스</th>\n",
       "      <td>20.138889</td>\n",
       "      <td>22.40625</td>\n",
       "      <td>200.416667</td>\n",
       "      <td>3.004073</td>\n",
       "      <td>53.72093</td>\n",
       "      <td>NaN</td>\n",
       "      <td>NaN</td>\n",
       "      <td>NaN</td>\n",
       "      <td>NaN</td>\n",
       "    </tr>\n",
       "    <tr>\n",
       "      <th>AK홀딩스</th>\n",
       "      <td>10.957923</td>\n",
       "      <td>9.654458</td>\n",
       "      <td>6.371595</td>\n",
       "      <td>7.91905</td>\n",
       "      <td>2.509328</td>\n",
       "      <td>NaN</td>\n",
       "      <td>NaN</td>\n",
       "      <td>NaN</td>\n",
       "      <td>NaN</td>\n",
       "    </tr>\n",
       "    <tr>\n",
       "      <th>BGF</th>\n",
       "      <td>14.673596</td>\n",
       "      <td>55.439331</td>\n",
       "      <td>14.104348</td>\n",
       "      <td>13.096085</td>\n",
       "      <td>25.508772</td>\n",
       "      <td>NaN</td>\n",
       "      <td>NaN</td>\n",
       "      <td>NaN</td>\n",
       "      <td>NaN</td>\n",
       "    </tr>\n",
       "    <tr>\n",
       "      <th>BGF리테일</th>\n",
       "      <td>NaN</td>\n",
       "      <td>104.694256</td>\n",
       "      <td>23.641457</td>\n",
       "      <td>15.063334</td>\n",
       "      <td>22.877657</td>\n",
       "      <td>NaN</td>\n",
       "      <td>NaN</td>\n",
       "      <td>NaN</td>\n",
       "      <td>NaN</td>\n",
       "    </tr>\n",
       "    <tr>\n",
       "      <th>BNK금융지주</th>\n",
       "      <td>6.0841</td>\n",
       "      <td>8.666667</td>\n",
       "      <td>4.677966</td>\n",
       "      <td>2.692775</td>\n",
       "      <td>4.465955</td>\n",
       "      <td>NaN</td>\n",
       "      <td>NaN</td>\n",
       "      <td>NaN</td>\n",
       "      <td>NaN</td>\n",
       "    </tr>\n",
       "    <tr>\n",
       "      <th>...</th>\n",
       "      <td>...</td>\n",
       "      <td>...</td>\n",
       "      <td>...</td>\n",
       "      <td>...</td>\n",
       "      <td>...</td>\n",
       "      <td>...</td>\n",
       "      <td>...</td>\n",
       "      <td>...</td>\n",
       "      <td>...</td>\n",
       "    </tr>\n",
       "    <tr>\n",
       "      <th>휴비스</th>\n",
       "      <td>28.127341</td>\n",
       "      <td>16.81351</td>\n",
       "      <td>14.349376</td>\n",
       "      <td>474.444444</td>\n",
       "      <td>3.504205</td>\n",
       "      <td>NaN</td>\n",
       "      <td>NaN</td>\n",
       "      <td>NaN</td>\n",
       "      <td>NaN</td>\n",
       "    </tr>\n",
       "    <tr>\n",
       "      <th>휴스틸</th>\n",
       "      <td>205.0</td>\n",
       "      <td>25.046904</td>\n",
       "      <td>5.101609</td>\n",
       "      <td>3.337379</td>\n",
       "      <td>9.435626</td>\n",
       "      <td>NaN</td>\n",
       "      <td>NaN</td>\n",
       "      <td>NaN</td>\n",
       "      <td>NaN</td>\n",
       "    </tr>\n",
       "    <tr>\n",
       "      <th>휴켐스</th>\n",
       "      <td>21.332737</td>\n",
       "      <td>8.358459</td>\n",
       "      <td>8.317861</td>\n",
       "      <td>8.140177</td>\n",
       "      <td>17.182663</td>\n",
       "      <td>NaN</td>\n",
       "      <td>NaN</td>\n",
       "      <td>NaN</td>\n",
       "      <td>NaN</td>\n",
       "    </tr>\n",
       "    <tr>\n",
       "      <th>흥국화재</th>\n",
       "      <td>8.047521</td>\n",
       "      <td>4.792851</td>\n",
       "      <td>7.100719</td>\n",
       "      <td>4.421569</td>\n",
       "      <td>15.093284</td>\n",
       "      <td>NaN</td>\n",
       "      <td>NaN</td>\n",
       "      <td>NaN</td>\n",
       "      <td>NaN</td>\n",
       "    </tr>\n",
       "    <tr>\n",
       "      <th>흥아해운</th>\n",
       "      <td>114.470588</td>\n",
       "      <td>16.518367</td>\n",
       "      <td>6.854086</td>\n",
       "      <td>3.976982</td>\n",
       "      <td>3.534091</td>\n",
       "      <td>NaN</td>\n",
       "      <td>NaN</td>\n",
       "      <td>NaN</td>\n",
       "      <td>NaN</td>\n",
       "    </tr>\n",
       "  </tbody>\n",
       "</table>\n",
       "<p>788 rows × 9 columns</p>\n",
       "</div>"
      ],
      "text/plain": [
       "           2018_spre(2016) 2018_pre(2017)    2018_cur 2021_spre(2019)  \\\n",
       "stock_name                                                              \n",
       "AJ네트웍스           20.138889       22.40625  200.416667        3.004073   \n",
       "AK홀딩스            10.957923       9.654458    6.371595         7.91905   \n",
       "BGF              14.673596      55.439331   14.104348       13.096085   \n",
       "BGF리테일                 NaN     104.694256   23.641457       15.063334   \n",
       "BNK금융지주             6.0841       8.666667    4.677966        2.692775   \n",
       "...                    ...            ...         ...             ...   \n",
       "휴비스              28.127341       16.81351   14.349376      474.444444   \n",
       "휴스틸                  205.0      25.046904    5.101609        3.337379   \n",
       "휴켐스              21.332737       8.358459    8.317861        8.140177   \n",
       "흥국화재              8.047521       4.792851    7.100719        4.421569   \n",
       "흥아해운            114.470588      16.518367    6.854086        3.976982   \n",
       "\n",
       "           2021_pre(2020) 2021_cur 2024_spre(2022 2024_pre(2023) 2024_cur  \n",
       "stock_name                                                                 \n",
       "AJ네트웍스           53.72093      NaN            NaN            NaN      NaN  \n",
       "AK홀딩스            2.509328      NaN            NaN            NaN      NaN  \n",
       "BGF             25.508772      NaN            NaN            NaN      NaN  \n",
       "BGF리테일          22.877657      NaN            NaN            NaN      NaN  \n",
       "BNK금융지주          4.465955      NaN            NaN            NaN      NaN  \n",
       "...                   ...      ...            ...            ...      ...  \n",
       "휴비스              3.504205      NaN            NaN            NaN      NaN  \n",
       "휴스틸              9.435626      NaN            NaN            NaN      NaN  \n",
       "휴켐스             17.182663      NaN            NaN            NaN      NaN  \n",
       "흥국화재            15.093284      NaN            NaN            NaN      NaN  \n",
       "흥아해운             3.534091      NaN            NaN            NaN      NaN  \n",
       "\n",
       "[788 rows x 9 columns]"
      ]
     },
     "metadata": {},
     "output_type": "display_data"
    }
   ],
   "source": [
    "# 공통 종목명만 추출\n",
    "common_stocks = sp_data[\"stock_name\"].isin(EPS_data[\"stock_name\"])\n",
    "sp_data_filtered = sp_data[common_stocks]\n",
    "\n",
    "common_stocks = EPS_data[\"stock_name\"].isin(sp_data_filtered[\"stock_name\"])\n",
    "EPS_data_filtered = EPS_data[common_stocks]\n",
    "\n",
    "# PER 계산\n",
    "PER_data = sp_data_filtered.values[:, 1:] / EPS_data_filtered.replace(0, np.nan).values[:, 1:]\n",
    "PER_data = pd.DataFrame(PER_data, columns=EPS_data_filtered.columns[1:])\n",
    "PER_data[\"stock_name\"] = EPS_data_filtered[\"stock_name\"].values\n",
    "PER_data.set_index(\"stock_name\", inplace=True)\n",
    "display(PER_data)"
   ]
  }
 ],
 "metadata": {
  "kernelspec": {
   "display_name": "Python 3 (ipykernel)",
   "language": "python",
   "name": "python3"
  },
  "language_info": {
   "codemirror_mode": {
    "name": "ipython",
    "version": 3
   },
   "file_extension": ".py",
   "mimetype": "text/x-python",
   "name": "python",
   "nbconvert_exporter": "python",
   "pygments_lexer": "ipython3",
   "version": "3.12.3"
  }
 },
 "nbformat": 4,
 "nbformat_minor": 5
}
