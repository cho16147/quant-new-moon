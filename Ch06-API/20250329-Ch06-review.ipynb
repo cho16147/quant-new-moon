{
 "cells": [
  {
   "cell_type": "code",
   "execution_count": null,
   "id": "6ed94437-958e-4e72-b602-da8ab9d40dcc",
   "metadata": {},
   "outputs": [],
   "source": []
  },
  {
   "cell_type": "code",
   "execution_count": 142,
   "id": "f7b77f7f-3f0a-430c-82ad-8f9b72a176a6",
   "metadata": {},
   "outputs": [
    {
     "name": "stdout",
     "output_type": "stream",
     "text": [
      "0    10\n",
      "1    20\n",
      "2    -5\n",
      "3    30\n",
      "Name: 가나다, dtype: int64\n",
      "[10 20 -5 30]\n"
     ]
    }
   ],
   "source": [
    "import pandas as pd\n",
    "data = pd.DataFrame({\"가나다\": [10, 20, -5, 30]})\n",
    "\n",
    "\n",
    "s = data[\"가나다\"] # Pandas Series\n",
    "v = data[\"가나다\"].values # Numpy Array\n",
    "\n",
    "print(s)\n",
    "# 0 10\n",
    "# 1 20\n",
    "# 2 -5\n",
    "# 3 30\n",
    "\n",
    "print(v)\n",
    "# array([10, 20, -5, 30])"
   ]
  },
  {
   "cell_type": "raw",
   "id": "446b40b7-903d-4a05-8a52-57d695c91b01",
   "metadata": {},
   "source": [
    "첫째, value = data[col].values\n",
    "이건 Pandas Series를 Numpy 배열로 바꾸는 것이다.\n",
    "\n",
    "예컨대, \n",
    "\n",
    "import pandas as pd\n",
    "data = pd.DataFrame({\"당기순이익\": [10, 20, -5, 30]})\n",
    "\n",
    "s = data[\"당기순이익\"] # Pandas Series\n",
    "v = data[\"당기순이익\"].values # Numpy Array\n",
    "\n",
    "print(s)\n",
    "# 0 10\n",
    "# 1 20\n",
    "# 2 -5\n",
    "# 3 30\n",
    "\n",
    "print(v)\n",
    "# array([10, 20, -5, 30])\n",
    "\n",
    "즉, .values를 쓰면 그 열의 값들만 추출한 넘파이 배열이 나오는 것임.\n",
    "\n",
    "둘째, 슬라이싱 문법은 arr[start:end] 이다.\n",
    "이건 start 이상, end 미만이다. end는 포함되지 않는다.\n",
    "\n",
    "셋째, (), {}, []\n",
    "() 소괄호: 함수 호출할때, 튜플 생성할때.\n",
    "{} 중괄호: 딕셔너리 만들때, 집합(set) 만들때.\n",
    "[] 대괄호: 리스트 만들때, 인덱싱/슬라이싱 할때."
   ]
  }
 ],
 "metadata": {
  "kernelspec": {
   "display_name": "Python 3 (ipykernel)",
   "language": "python",
   "name": "python3"
  },
  "language_info": {
   "codemirror_mode": {
    "name": "ipython",
    "version": 3
   },
   "file_extension": ".py",
   "mimetype": "text/x-python",
   "name": "python",
   "nbconvert_exporter": "python",
   "pygments_lexer": "ipython3",
   "version": "3.12.3"
  }
 },
 "nbformat": 4,
 "nbformat_minor": 5
}
