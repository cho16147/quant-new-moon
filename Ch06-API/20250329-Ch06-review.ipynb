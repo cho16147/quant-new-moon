{
 "cells": [
  {
   "cell_type": "code",
   "execution_count": 142,
   "id": "f7b77f7f-3f0a-430c-82ad-8f9b72a176a6",
   "metadata": {},
   "outputs": [
    {
     "name": "stdout",
     "output_type": "stream",
     "text": [
      "0    10\n",
      "1    20\n",
      "2    -5\n",
      "3    30\n",
      "Name: 가나다, dtype: int64\n",
      "[10 20 -5 30]\n"
     ]
    }
   ],
   "source": [
    "import pandas as pd\n",
    "data = pd.DataFrame({\"가나다\": [10, 20, -5, 30]})\n",
    "\n",
    "s = data[\"가나다\"] # Pandas Series\n",
    "v = data[\"가나다\"].values # Numpy Array\n",
    "\n",
    "print(s)\n",
    "# 0 10\n",
    "# 1 20\n",
    "# 2 -5\n",
    "# 3 30\n",
    "\n",
    "print(v)\n",
    "# array([10, 20, -5, 30])"
   ]
  },
  {
   "cell_type": "raw",
   "id": "446b40b7-903d-4a05-8a52-57d695c91b01",
   "metadata": {},
   "source": [
    "value = data[col].values\n",
    "이건 Pandas Series를 Numpy 배열로 바꾸는 것이다.\n",
    "\n",
    "예컨대, \n",
    "\n",
    "import pandas as pd\n",
    "data = pd.DataFrame({\"당기순이익\": [10, 20, -5, 30]})\n",
    "\n",
    "s = data[\"당기순이익\"] # Pandas Series\n",
    "v = data[\"당기순이익\"].values # Numpy Array\n",
    "\n",
    "print(s)\n",
    "# 0 10\n",
    "# 1 20\n",
    "# 2 -5\n",
    "# 3 30\n",
    "\n",
    "print(v)\n",
    "# array([10, 20, -5, 30])\n",
    "\n",
    "즉, .values를 쓰면 그 열의 값들만 추출한 넘파이 배열이 나오는 것임."
   ]
  },
  {
   "cell_type": "raw",
   "id": "050c242e-057c-4883-9872-0eb5de35d217",
   "metadata": {},
   "source": [
    "슬라이싱 문법은 arr[start:end] 이다.\n",
    "이건 start 이상, end 미만이다. end는 포함되지 않는다."
   ]
  },
  {
   "cell_type": "raw",
   "id": "b2249bc2-6a77-4758-aaa0-d8300a0be37c",
   "metadata": {},
   "source": [
    "리스트 [ ]\n",
    "순서 O, 변경 가능, 중복 가능. \n",
    "데이터를 순서대로 저장하고 조작할 때 사용.\n",
    "my_list = [1,2,3]\n",
    "my_list[0] # 1\n",
    "my_list.append(4) # [1,2,3,4]\n",
    "\n",
    "튜플 ( )\n",
    "순서 O, 변경 불가능, 중복 가능.\n",
    "값이 바뀌면 안되는 자료, 함수에서 여러 값을 리턴할 때 사용.\n",
    "my_tuple = (1,2,3)\n",
    "t = 10, 20 # unpacking, 쉼표료만 선언 가능\n",
    "\n",
    "딕셔너리 { }\n",
    "{\"key\" : \"value\"} 모양임.\n",
    "순서 O, key로 접근, 변경 가능, 중복 불가능.\n",
    "키-값 쌍으로 데이터를 저장할 때 사용.\n",
    "my_dict = {\"name\": \"CHO\", \"age\": 25}\n",
    "my_dict = [\"name\"] # \"CHO\"\n",
    "\n",
    "셋 { }\n",
    "순서 X, 변경 가능, 중복 불가능\n",
    "중복 제거, 합집합/교집합 등 집합 연산에 사용.\n",
    "my_set = {1,2,2,3}\n",
    "print(my_set) # {1,2,3}\n",
    "\n",
    "어레이\n",
    "numpy에서 쓰는 np.array.\n",
    "수치 계산에 특화된 리스트 느낌.\n",
    "import numpy as np\n",
    "arr = np.array([1,2,3])"
   ]
  },
  {
   "cell_type": "raw",
   "id": "d05ab92f-7daf-4cfb-9e11-2bd9490d0a1c",
   "metadata": {},
   "source": [
    "data[col]은 Pandas Series이다. \n",
    "시리즈는 판다스의 1차원 자료형임. 인덱스와 값(value)을 함께 갖고 있다.\n",
    "순서 있음, 변경 가능, 원하는대로 인덱스 지정 가능, 데이터타입 혼합 가능.\n",
    "시리즈의 주 목적은 데이터 분석 및 해석(시계열, 통계, 결측치 처리)\n",
    "\n",
    "시리즈 정의방법도 여러가지이다.\n",
    "pd.Series([10, 20, 30]) # 인덱스 자동 부여\n",
    "pd.Series([10, 20, 30], index=[\"A\", \"B\", \"C\"]) # 인덱스 직접 지정\n",
    "pd.Series({\"A\": 10, \"B\": 20, \"C\": 30}) # 딕셔너리로부터 생성\n",
    "\n",
    "\n",
    "data[col].values 는 Numpy Array이다. \n",
    ".values를 붙이면, 인덱스는 삭제하고 오직 값(value)만 추출해서 넘파이 배열로 반환한다.\n",
    "데이터타입 혼합 불가능. \n",
    "\n",
    "왜 이렇게 하냐면, 넘파이에서만 가능한 수학적 연산 및 보다 최적화된 연산을 하기 위해서임.\n",
    "어레이의 목적은 수치 계산 및 수학 연산(고속 선형대수)\n",
    "\n",
    "참고로 Pandas 공식 문서 상에서는, .values보다 .to_numpy()를 권장함."
   ]
  }
 ],
 "metadata": {
  "kernelspec": {
   "display_name": "Python 3 (ipykernel)",
   "language": "python",
   "name": "python3"
  },
  "language_info": {
   "codemirror_mode": {
    "name": "ipython",
    "version": 3
   },
   "file_extension": ".py",
   "mimetype": "text/x-python",
   "name": "python",
   "nbconvert_exporter": "python",
   "pygments_lexer": "ipython3",
   "version": "3.12.3"
  }
 },
 "nbformat": 4,
 "nbformat_minor": 5
}
